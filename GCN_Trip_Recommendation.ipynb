{
  "nbformat": 4,
  "nbformat_minor": 0,
  "metadata": {
    "colab": {
      "provenance": [],
      "collapsed_sections": [],
      "authorship_tag": "ABX9TyPgkTxAFrBzpp5Zg9ImiXXT",
      "include_colab_link": true
    },
    "kernelspec": {
      "name": "python3",
      "display_name": "Python 3"
    },
    "language_info": {
      "name": "python"
    },
    "accelerator": "GPU",
    "gpuClass": "standard"
  },
  "cells": [
    {
      "cell_type": "markdown",
      "metadata": {
        "id": "view-in-github",
        "colab_type": "text"
      },
      "source": [
        "<a href=\"https://colab.research.google.com/github/SravaniPrakki/TravelRecommendation_ML/blob/main/GCN_Trip_Recommendation.ipynb\" target=\"_parent\"><img src=\"https://colab.research.google.com/assets/colab-badge.svg\" alt=\"Open In Colab\"/></a>"
      ]
    },
    {
      "cell_type": "markdown",
      "source": [
        "# **Yelp review dataset**"
      ],
      "metadata": {
        "id": "134Xt4o_FnPj"
      }
    },
    {
      "cell_type": "code",
      "execution_count": null,
      "metadata": {
        "id": "qkOlXvvk-_eX"
      },
      "outputs": [],
      "source": [
        "import pandas as pd\n",
        "path=\"/content/yelp_training_set_review.csv\"\n",
        "\n",
        "df=pd.read_csv(path)"
      ]
    },
    {
      "cell_type": "code",
      "source": [
        "df.describe"
      ],
      "metadata": {
        "colab": {
          "base_uri": "https://localhost:8080/"
        },
        "id": "9g3TNOqCFg-h",
        "outputId": "82be905f-c800-4a9d-9ac9-fd3c0b3247f3"
      },
      "execution_count": null,
      "outputs": [
        {
          "output_type": "execute_result",
          "data": {
            "text/plain": [
              "<bound method NDFrame.describe of         Unnamed: 0  business_blank  \\\n",
              "0                0           False   \n",
              "1                1           False   \n",
              "2                2           False   \n",
              "3                3           False   \n",
              "4                4           False   \n",
              "...            ...             ...   \n",
              "229902      229902           False   \n",
              "229903      229903           False   \n",
              "229904      229904           False   \n",
              "229905      229905           False   \n",
              "229906      229906           False   \n",
              "\n",
              "                                      business_categories business_city  \\\n",
              "0                         Breakfast & Brunch; Restaurants       Phoenix   \n",
              "1                             Italian; Pizza; Restaurants       Phoenix   \n",
              "2                             Middle Eastern; Restaurants         Tempe   \n",
              "3                           Active Life; Dog Parks; Parks    Scottsdale   \n",
              "4                                       Tires; Automotive          Mesa   \n",
              "...                                                   ...           ...   \n",
              "229902                            Gastropubs; Restaurants         Tempe   \n",
              "229903  Hotels & Travel; Event Planning & Services; Ho...        Peoria   \n",
              "229904  Pubs; Bars; American (Traditional); Nightlife;...         Tempe   \n",
              "229905     Wine Bars; Bars; Pizza; Nightlife; Restaurants         Tempe   \n",
              "229906                  Churches; Religious Organizations       Phoenix   \n",
              "\n",
              "                              business_full_address             business_id  \\\n",
              "0                 6106 S 32nd St\\nPhoenix, AZ 85042  9yKzy9PApeiPPOUJEtnvkg   \n",
              "1           4848 E Chandler Blvd\\nPhoenix, AZ 85044  ZRJwVLyzEJq1VAihDhYiow   \n",
              "2              1513 E  Apache Blvd\\nTempe, AZ 85281  6oRAC4uyJCsJl1X0WZpVSA   \n",
              "3            5401 N Hayden Rd\\nScottsdale, AZ 85250  _1QQZuf4zZOyFCvXc0o6Vg   \n",
              "4                 1357 S Power Road\\nMesa, AZ 85206  6ozycU1RpktNG2-1BroVtw   \n",
              "...                                             ...                     ...   \n",
              "229902     1706 E Warner Rd\\nSte 3\\nTempe, AZ 85284  vnffHkFJbmd-J3OaBbK2Eg   \n",
              "229903   27501 N Lake Pleasant Rd\\nPeoria, AZ 85383  l5oUrgQ190l8CcN8uzd_pA   \n",
              "229904              530 W Broadway\\nTempe, AZ 85281  -EctXOb3B7T177jGYUhjVA   \n",
              "229905              699 S Mill Ave\\nTempe, AZ 85281  YQvg0JCGRFUkb6reMMf3Iw   \n",
              "229906  15220 S 50th St\\nSte 101\\nPhoenix, AZ 85044  gKxOZvQTTd5hpFa3r5igGQ   \n",
              "\n",
              "        business_latitude  business_longitude  \\\n",
              "0               33.390792         -112.012504   \n",
              "1               33.305607         -111.978758   \n",
              "2               33.414345         -111.913031   \n",
              "3               33.522945         -111.907886   \n",
              "4               33.391027         -111.684482   \n",
              "...                   ...                 ...   \n",
              "229902          33.334616         -111.912060   \n",
              "229903          33.731766         -112.262864   \n",
              "229904          33.407561         -111.947525   \n",
              "229905          33.423441         -111.939622   \n",
              "229906          33.307950         -111.976067   \n",
              "\n",
              "                             business_name  business_neighborhoods  ...  \\\n",
              "0                       Morning Glory Cafe                     NaN  ...   \n",
              "1                       Spinato's Pizzeria                     NaN  ...   \n",
              "2                                Haji-Baba                     NaN  ...   \n",
              "3                       Chaparral Dog Park                     NaN  ...   \n",
              "4                            Discount Tire                     NaN  ...   \n",
              "...                                    ...                     ...  ...   \n",
              "229902             Spitfire Grill & Tavern                     NaN  ...   \n",
              "229903                 Cibola Vista Resort                     NaN  ...   \n",
              "229904                Boulders On Broadway                     NaN  ...   \n",
              "229905  La Bocca Urban Pizzeria + Wine Bar                     NaN  ...   \n",
              "229906                   New Valley Church                     NaN  ...   \n",
              "\n",
              "        reviewer_funny  reviewer_name  reviewer_review_count reviewer_type  \\\n",
              "0                  331          Jason                    376          user   \n",
              "1                    2           Paul                      2          user   \n",
              "2                    0         Nicole                      3          user   \n",
              "3                   18        lindsey                     31          user   \n",
              "4                    3          Roger                     28          user   \n",
              "...                ...            ...                    ...           ...   \n",
              "229902              18           Lisa                     82          user   \n",
              "229903              29        Jonquil                     47          user   \n",
              "229904               2         Amanda                      4          user   \n",
              "229905             378        Valerie                    196          user   \n",
              "229906               5           Jeff                     32          user   \n",
              "\n",
              "       reviewer_useful  stars  \\\n",
              "0                 1034      5   \n",
              "1                    0      5   \n",
              "2                    3      4   \n",
              "3                   75      5   \n",
              "4                   32      5   \n",
              "...                ...    ...   \n",
              "229902             111      2   \n",
              "229903              50      1   \n",
              "229904               2      4   \n",
              "229905             678      3   \n",
              "229906              15      5   \n",
              "\n",
              "                                                     text    type useful  \\\n",
              "0       My wife took me here on my birthday for breakf...  review      5   \n",
              "1       I have no idea why some people give bad review...  review      0   \n",
              "2       love the gyro plate. Rice is so good and I als...  review      1   \n",
              "3       Rosie, Dakota, and I LOVE Chaparral Dog Park!!...  review      2   \n",
              "4       General Manager Scott Petello is a good egg!!!...  review      0   \n",
              "...                                                   ...     ...    ...   \n",
              "229902  I really wanted to like this place because it'...  review      0   \n",
              "229903  My husband I stayed here for two nights.  Of c...  review      2   \n",
              "229904  Cool atmosphere. A lot of beers on tap and goo...  review      0   \n",
              "229905  I have to take a star off for the spotty servi...  review      2   \n",
              "229906                                       So cool, yo.  review      0   \n",
              "\n",
              "                       user_id  \n",
              "0       rLtl8ZkDX5vH5nAx9C3q5Q  \n",
              "1       0a2KyEL0d3Yb1V6aivbIuQ  \n",
              "2       0hT2KtfLiobPvh6cDC8JQg  \n",
              "3       uZetl9T0NcROGOyFfughhg  \n",
              "4       vYmM4KTsC8ZfQBg-j5MWkw  \n",
              "...                        ...  \n",
              "229902  6e7pZofhDuIlD_rX2oYirQ  \n",
              "229903  dDNfSFT0VApxPmURclX6_g  \n",
              "229904  M5wHt6Odh1k5v0tIjqd8DQ  \n",
              "229905  jopndPrv-H5KW2CfScnw9A  \n",
              "229906  mbRUG6h0Mgb2XIJvscIoMg  \n",
              "\n",
              "[229907 rows x 32 columns]>"
            ]
          },
          "metadata": {},
          "execution_count": 14
        }
      ]
    },
    {
      "cell_type": "code",
      "source": [
        "print(df.head(5))"
      ],
      "metadata": {
        "colab": {
          "base_uri": "https://localhost:8080/"
        },
        "id": "uRsojjQ0F3sw",
        "outputId": "a5131aff-21d1-4cc7-b9e2-611e0a821ca5"
      },
      "execution_count": null,
      "outputs": [
        {
          "output_type": "stream",
          "name": "stdout",
          "text": [
            "   Unnamed: 0  business_blank              business_categories business_city  \\\n",
            "0           0           False  Breakfast & Brunch; Restaurants       Phoenix   \n",
            "1           1           False      Italian; Pizza; Restaurants       Phoenix   \n",
            "2           2           False      Middle Eastern; Restaurants         Tempe   \n",
            "3           3           False    Active Life; Dog Parks; Parks    Scottsdale   \n",
            "4           4           False                Tires; Automotive          Mesa   \n",
            "\n",
            "                     business_full_address             business_id  \\\n",
            "0        6106 S 32nd St\\nPhoenix, AZ 85042  9yKzy9PApeiPPOUJEtnvkg   \n",
            "1  4848 E Chandler Blvd\\nPhoenix, AZ 85044  ZRJwVLyzEJq1VAihDhYiow   \n",
            "2     1513 E  Apache Blvd\\nTempe, AZ 85281  6oRAC4uyJCsJl1X0WZpVSA   \n",
            "3   5401 N Hayden Rd\\nScottsdale, AZ 85250  _1QQZuf4zZOyFCvXc0o6Vg   \n",
            "4        1357 S Power Road\\nMesa, AZ 85206  6ozycU1RpktNG2-1BroVtw   \n",
            "\n",
            "   business_latitude  business_longitude       business_name  \\\n",
            "0          33.390792         -112.012504  Morning Glory Cafe   \n",
            "1          33.305607         -111.978758  Spinato's Pizzeria   \n",
            "2          33.414345         -111.913031           Haji-Baba   \n",
            "3          33.522945         -111.907886  Chaparral Dog Park   \n",
            "4          33.391027         -111.684482       Discount Tire   \n",
            "\n",
            "   business_neighborhoods  ...  reviewer_funny  reviewer_name  \\\n",
            "0                     NaN  ...             331          Jason   \n",
            "1                     NaN  ...               2           Paul   \n",
            "2                     NaN  ...               0         Nicole   \n",
            "3                     NaN  ...              18        lindsey   \n",
            "4                     NaN  ...               3          Roger   \n",
            "\n",
            "   reviewer_review_count reviewer_type reviewer_useful  stars  \\\n",
            "0                    376          user            1034      5   \n",
            "1                      2          user               0      5   \n",
            "2                      3          user               3      4   \n",
            "3                     31          user              75      5   \n",
            "4                     28          user              32      5   \n",
            "\n",
            "                                                text    type useful  \\\n",
            "0  My wife took me here on my birthday for breakf...  review      5   \n",
            "1  I have no idea why some people give bad review...  review      0   \n",
            "2  love the gyro plate. Rice is so good and I als...  review      1   \n",
            "3  Rosie, Dakota, and I LOVE Chaparral Dog Park!!...  review      2   \n",
            "4  General Manager Scott Petello is a good egg!!!...  review      0   \n",
            "\n",
            "                  user_id  \n",
            "0  rLtl8ZkDX5vH5nAx9C3q5Q  \n",
            "1  0a2KyEL0d3Yb1V6aivbIuQ  \n",
            "2  0hT2KtfLiobPvh6cDC8JQg  \n",
            "3  uZetl9T0NcROGOyFfughhg  \n",
            "4  vYmM4KTsC8ZfQBg-j5MWkw  \n",
            "\n",
            "[5 rows x 32 columns]\n"
          ]
        }
      ]
    },
    {
      "cell_type": "code",
      "source": [
        "print(\"Players: \", df.shape[0])\n",
        "df.head()"
      ],
      "metadata": {
        "colab": {
          "base_uri": "https://localhost:8080/",
          "height": 803
        },
        "id": "AL3TocCtMa-X",
        "outputId": "207b9dca-4faf-4cc6-b8de-fdceeaa3a460"
      },
      "execution_count": null,
      "outputs": [
        {
          "output_type": "stream",
          "name": "stdout",
          "text": [
            "Players:  229907\n"
          ]
        },
        {
          "output_type": "execute_result",
          "data": {
            "text/plain": [
              "   Unnamed: 0  business_blank              business_categories business_city  \\\n",
              "0           0           False  Breakfast & Brunch; Restaurants       Phoenix   \n",
              "1           1           False      Italian; Pizza; Restaurants       Phoenix   \n",
              "2           2           False      Middle Eastern; Restaurants         Tempe   \n",
              "3           3           False    Active Life; Dog Parks; Parks    Scottsdale   \n",
              "4           4           False                Tires; Automotive          Mesa   \n",
              "\n",
              "                     business_full_address             business_id  \\\n",
              "0        6106 S 32nd St\\nPhoenix, AZ 85042  9yKzy9PApeiPPOUJEtnvkg   \n",
              "1  4848 E Chandler Blvd\\nPhoenix, AZ 85044  ZRJwVLyzEJq1VAihDhYiow   \n",
              "2     1513 E  Apache Blvd\\nTempe, AZ 85281  6oRAC4uyJCsJl1X0WZpVSA   \n",
              "3   5401 N Hayden Rd\\nScottsdale, AZ 85250  _1QQZuf4zZOyFCvXc0o6Vg   \n",
              "4        1357 S Power Road\\nMesa, AZ 85206  6ozycU1RpktNG2-1BroVtw   \n",
              "\n",
              "   business_latitude  business_longitude       business_name  \\\n",
              "0          33.390792         -112.012504  Morning Glory Cafe   \n",
              "1          33.305607         -111.978758  Spinato's Pizzeria   \n",
              "2          33.414345         -111.913031           Haji-Baba   \n",
              "3          33.522945         -111.907886  Chaparral Dog Park   \n",
              "4          33.391027         -111.684482       Discount Tire   \n",
              "\n",
              "   business_neighborhoods  ...  reviewer_funny  reviewer_name  \\\n",
              "0                     NaN  ...             331          Jason   \n",
              "1                     NaN  ...               2           Paul   \n",
              "2                     NaN  ...               0         Nicole   \n",
              "3                     NaN  ...              18        lindsey   \n",
              "4                     NaN  ...               3          Roger   \n",
              "\n",
              "   reviewer_review_count reviewer_type reviewer_useful  stars  \\\n",
              "0                    376          user            1034      5   \n",
              "1                      2          user               0      5   \n",
              "2                      3          user               3      4   \n",
              "3                     31          user              75      5   \n",
              "4                     28          user              32      5   \n",
              "\n",
              "                                                text    type useful  \\\n",
              "0  My wife took me here on my birthday for breakf...  review      5   \n",
              "1  I have no idea why some people give bad review...  review      0   \n",
              "2  love the gyro plate. Rice is so good and I als...  review      1   \n",
              "3  Rosie, Dakota, and I LOVE Chaparral Dog Park!!...  review      2   \n",
              "4  General Manager Scott Petello is a good egg!!!...  review      0   \n",
              "\n",
              "                  user_id  \n",
              "0  rLtl8ZkDX5vH5nAx9C3q5Q  \n",
              "1  0a2KyEL0d3Yb1V6aivbIuQ  \n",
              "2  0hT2KtfLiobPvh6cDC8JQg  \n",
              "3  uZetl9T0NcROGOyFfughhg  \n",
              "4  vYmM4KTsC8ZfQBg-j5MWkw  \n",
              "\n",
              "[5 rows x 32 columns]"
            ],
            "text/html": [
              "\n",
              "  <div id=\"df-ba00fa60-1ebb-4074-bf84-52a87039f2bb\">\n",
              "    <div class=\"colab-df-container\">\n",
              "      <div>\n",
              "<style scoped>\n",
              "    .dataframe tbody tr th:only-of-type {\n",
              "        vertical-align: middle;\n",
              "    }\n",
              "\n",
              "    .dataframe tbody tr th {\n",
              "        vertical-align: top;\n",
              "    }\n",
              "\n",
              "    .dataframe thead th {\n",
              "        text-align: right;\n",
              "    }\n",
              "</style>\n",
              "<table border=\"1\" class=\"dataframe\">\n",
              "  <thead>\n",
              "    <tr style=\"text-align: right;\">\n",
              "      <th></th>\n",
              "      <th>Unnamed: 0</th>\n",
              "      <th>business_blank</th>\n",
              "      <th>business_categories</th>\n",
              "      <th>business_city</th>\n",
              "      <th>business_full_address</th>\n",
              "      <th>business_id</th>\n",
              "      <th>business_latitude</th>\n",
              "      <th>business_longitude</th>\n",
              "      <th>business_name</th>\n",
              "      <th>business_neighborhoods</th>\n",
              "      <th>...</th>\n",
              "      <th>reviewer_funny</th>\n",
              "      <th>reviewer_name</th>\n",
              "      <th>reviewer_review_count</th>\n",
              "      <th>reviewer_type</th>\n",
              "      <th>reviewer_useful</th>\n",
              "      <th>stars</th>\n",
              "      <th>text</th>\n",
              "      <th>type</th>\n",
              "      <th>useful</th>\n",
              "      <th>user_id</th>\n",
              "    </tr>\n",
              "  </thead>\n",
              "  <tbody>\n",
              "    <tr>\n",
              "      <th>0</th>\n",
              "      <td>0</td>\n",
              "      <td>False</td>\n",
              "      <td>Breakfast &amp; Brunch; Restaurants</td>\n",
              "      <td>Phoenix</td>\n",
              "      <td>6106 S 32nd St\\nPhoenix, AZ 85042</td>\n",
              "      <td>9yKzy9PApeiPPOUJEtnvkg</td>\n",
              "      <td>33.390792</td>\n",
              "      <td>-112.012504</td>\n",
              "      <td>Morning Glory Cafe</td>\n",
              "      <td>NaN</td>\n",
              "      <td>...</td>\n",
              "      <td>331</td>\n",
              "      <td>Jason</td>\n",
              "      <td>376</td>\n",
              "      <td>user</td>\n",
              "      <td>1034</td>\n",
              "      <td>5</td>\n",
              "      <td>My wife took me here on my birthday for breakf...</td>\n",
              "      <td>review</td>\n",
              "      <td>5</td>\n",
              "      <td>rLtl8ZkDX5vH5nAx9C3q5Q</td>\n",
              "    </tr>\n",
              "    <tr>\n",
              "      <th>1</th>\n",
              "      <td>1</td>\n",
              "      <td>False</td>\n",
              "      <td>Italian; Pizza; Restaurants</td>\n",
              "      <td>Phoenix</td>\n",
              "      <td>4848 E Chandler Blvd\\nPhoenix, AZ 85044</td>\n",
              "      <td>ZRJwVLyzEJq1VAihDhYiow</td>\n",
              "      <td>33.305607</td>\n",
              "      <td>-111.978758</td>\n",
              "      <td>Spinato's Pizzeria</td>\n",
              "      <td>NaN</td>\n",
              "      <td>...</td>\n",
              "      <td>2</td>\n",
              "      <td>Paul</td>\n",
              "      <td>2</td>\n",
              "      <td>user</td>\n",
              "      <td>0</td>\n",
              "      <td>5</td>\n",
              "      <td>I have no idea why some people give bad review...</td>\n",
              "      <td>review</td>\n",
              "      <td>0</td>\n",
              "      <td>0a2KyEL0d3Yb1V6aivbIuQ</td>\n",
              "    </tr>\n",
              "    <tr>\n",
              "      <th>2</th>\n",
              "      <td>2</td>\n",
              "      <td>False</td>\n",
              "      <td>Middle Eastern; Restaurants</td>\n",
              "      <td>Tempe</td>\n",
              "      <td>1513 E  Apache Blvd\\nTempe, AZ 85281</td>\n",
              "      <td>6oRAC4uyJCsJl1X0WZpVSA</td>\n",
              "      <td>33.414345</td>\n",
              "      <td>-111.913031</td>\n",
              "      <td>Haji-Baba</td>\n",
              "      <td>NaN</td>\n",
              "      <td>...</td>\n",
              "      <td>0</td>\n",
              "      <td>Nicole</td>\n",
              "      <td>3</td>\n",
              "      <td>user</td>\n",
              "      <td>3</td>\n",
              "      <td>4</td>\n",
              "      <td>love the gyro plate. Rice is so good and I als...</td>\n",
              "      <td>review</td>\n",
              "      <td>1</td>\n",
              "      <td>0hT2KtfLiobPvh6cDC8JQg</td>\n",
              "    </tr>\n",
              "    <tr>\n",
              "      <th>3</th>\n",
              "      <td>3</td>\n",
              "      <td>False</td>\n",
              "      <td>Active Life; Dog Parks; Parks</td>\n",
              "      <td>Scottsdale</td>\n",
              "      <td>5401 N Hayden Rd\\nScottsdale, AZ 85250</td>\n",
              "      <td>_1QQZuf4zZOyFCvXc0o6Vg</td>\n",
              "      <td>33.522945</td>\n",
              "      <td>-111.907886</td>\n",
              "      <td>Chaparral Dog Park</td>\n",
              "      <td>NaN</td>\n",
              "      <td>...</td>\n",
              "      <td>18</td>\n",
              "      <td>lindsey</td>\n",
              "      <td>31</td>\n",
              "      <td>user</td>\n",
              "      <td>75</td>\n",
              "      <td>5</td>\n",
              "      <td>Rosie, Dakota, and I LOVE Chaparral Dog Park!!...</td>\n",
              "      <td>review</td>\n",
              "      <td>2</td>\n",
              "      <td>uZetl9T0NcROGOyFfughhg</td>\n",
              "    </tr>\n",
              "    <tr>\n",
              "      <th>4</th>\n",
              "      <td>4</td>\n",
              "      <td>False</td>\n",
              "      <td>Tires; Automotive</td>\n",
              "      <td>Mesa</td>\n",
              "      <td>1357 S Power Road\\nMesa, AZ 85206</td>\n",
              "      <td>6ozycU1RpktNG2-1BroVtw</td>\n",
              "      <td>33.391027</td>\n",
              "      <td>-111.684482</td>\n",
              "      <td>Discount Tire</td>\n",
              "      <td>NaN</td>\n",
              "      <td>...</td>\n",
              "      <td>3</td>\n",
              "      <td>Roger</td>\n",
              "      <td>28</td>\n",
              "      <td>user</td>\n",
              "      <td>32</td>\n",
              "      <td>5</td>\n",
              "      <td>General Manager Scott Petello is a good egg!!!...</td>\n",
              "      <td>review</td>\n",
              "      <td>0</td>\n",
              "      <td>vYmM4KTsC8ZfQBg-j5MWkw</td>\n",
              "    </tr>\n",
              "  </tbody>\n",
              "</table>\n",
              "<p>5 rows × 32 columns</p>\n",
              "</div>\n",
              "      <button class=\"colab-df-convert\" onclick=\"convertToInteractive('df-ba00fa60-1ebb-4074-bf84-52a87039f2bb')\"\n",
              "              title=\"Convert this dataframe to an interactive table.\"\n",
              "              style=\"display:none;\">\n",
              "        \n",
              "  <svg xmlns=\"http://www.w3.org/2000/svg\" height=\"24px\"viewBox=\"0 0 24 24\"\n",
              "       width=\"24px\">\n",
              "    <path d=\"M0 0h24v24H0V0z\" fill=\"none\"/>\n",
              "    <path d=\"M18.56 5.44l.94 2.06.94-2.06 2.06-.94-2.06-.94-.94-2.06-.94 2.06-2.06.94zm-11 1L8.5 8.5l.94-2.06 2.06-.94-2.06-.94L8.5 2.5l-.94 2.06-2.06.94zm10 10l.94 2.06.94-2.06 2.06-.94-2.06-.94-.94-2.06-.94 2.06-2.06.94z\"/><path d=\"M17.41 7.96l-1.37-1.37c-.4-.4-.92-.59-1.43-.59-.52 0-1.04.2-1.43.59L10.3 9.45l-7.72 7.72c-.78.78-.78 2.05 0 2.83L4 21.41c.39.39.9.59 1.41.59.51 0 1.02-.2 1.41-.59l7.78-7.78 2.81-2.81c.8-.78.8-2.07 0-2.86zM5.41 20L4 18.59l7.72-7.72 1.47 1.35L5.41 20z\"/>\n",
              "  </svg>\n",
              "      </button>\n",
              "      \n",
              "  <style>\n",
              "    .colab-df-container {\n",
              "      display:flex;\n",
              "      flex-wrap:wrap;\n",
              "      gap: 12px;\n",
              "    }\n",
              "\n",
              "    .colab-df-convert {\n",
              "      background-color: #E8F0FE;\n",
              "      border: none;\n",
              "      border-radius: 50%;\n",
              "      cursor: pointer;\n",
              "      display: none;\n",
              "      fill: #1967D2;\n",
              "      height: 32px;\n",
              "      padding: 0 0 0 0;\n",
              "      width: 32px;\n",
              "    }\n",
              "\n",
              "    .colab-df-convert:hover {\n",
              "      background-color: #E2EBFA;\n",
              "      box-shadow: 0px 1px 2px rgba(60, 64, 67, 0.3), 0px 1px 3px 1px rgba(60, 64, 67, 0.15);\n",
              "      fill: #174EA6;\n",
              "    }\n",
              "\n",
              "    [theme=dark] .colab-df-convert {\n",
              "      background-color: #3B4455;\n",
              "      fill: #D2E3FC;\n",
              "    }\n",
              "\n",
              "    [theme=dark] .colab-df-convert:hover {\n",
              "      background-color: #434B5C;\n",
              "      box-shadow: 0px 1px 3px 1px rgba(0, 0, 0, 0.15);\n",
              "      filter: drop-shadow(0px 1px 2px rgba(0, 0, 0, 0.3));\n",
              "      fill: #FFFFFF;\n",
              "    }\n",
              "  </style>\n",
              "\n",
              "      <script>\n",
              "        const buttonEl =\n",
              "          document.querySelector('#df-ba00fa60-1ebb-4074-bf84-52a87039f2bb button.colab-df-convert');\n",
              "        buttonEl.style.display =\n",
              "          google.colab.kernel.accessAllowed ? 'block' : 'none';\n",
              "\n",
              "        async function convertToInteractive(key) {\n",
              "          const element = document.querySelector('#df-ba00fa60-1ebb-4074-bf84-52a87039f2bb');\n",
              "          const dataTable =\n",
              "            await google.colab.kernel.invokeFunction('convertToInteractive',\n",
              "                                                     [key], {});\n",
              "          if (!dataTable) return;\n",
              "\n",
              "          const docLinkHtml = 'Like what you see? Visit the ' +\n",
              "            '<a target=\"_blank\" href=https://colab.research.google.com/notebooks/data_table.ipynb>data table notebook</a>'\n",
              "            + ' to learn more about interactive tables.';\n",
              "          element.innerHTML = '';\n",
              "          dataTable['output_type'] = 'display_data';\n",
              "          await google.colab.output.renderOutput(dataTable, element);\n",
              "          const docLink = document.createElement('div');\n",
              "          docLink.innerHTML = docLinkHtml;\n",
              "          element.appendChild(docLink);\n",
              "        }\n",
              "      </script>\n",
              "    </div>\n",
              "  </div>\n",
              "  "
            ]
          },
          "metadata": {},
          "execution_count": 16
        }
      ]
    },
    {
      "cell_type": "code",
      "source": [
        "max(df[\"business_id\"].value_counts())\n",
        "# it means the table is heterogenous ?"
      ],
      "metadata": {
        "colab": {
          "base_uri": "https://localhost:8080/"
        },
        "id": "Pvm6PalTMqRN",
        "outputId": "2461f3b5-f15d-499e-9198-fe687090c6ed"
      },
      "execution_count": null,
      "outputs": [
        {
          "output_type": "execute_result",
          "data": {
            "text/plain": [
              "844"
            ]
          },
          "metadata": {},
          "execution_count": 17
        }
      ]
    },
    {
      "cell_type": "code",
      "source": [
        "x = df.to_numpy()\n",
        "x.shape # [num_movie_nodes x movie_node_feature_dim]"
      ],
      "metadata": {
        "colab": {
          "base_uri": "https://localhost:8080/"
        },
        "id": "fkdZ0wIANVey",
        "outputId": "4160a64a-cd93-4dd8-cd67-15389e3e756e"
      },
      "execution_count": null,
      "outputs": [
        {
          "output_type": "execute_result",
          "data": {
            "text/plain": [
              "(229907, 32)"
            ]
          },
          "metadata": {},
          "execution_count": 18
        }
      ]
    },
    {
      "cell_type": "code",
      "source": [],
      "metadata": {
        "id": "1HKKbWfrFfBN"
      },
      "execution_count": null,
      "outputs": []
    },
    {
      "cell_type": "markdown",
      "source": [
        "# **Kaggle dataset - indonesia reviews**"
      ],
      "metadata": {
        "id": "wF-tWJwgFf4O"
      }
    },
    {
      "cell_type": "code",
      "source": [
        "from matplotlib import pyplot as plt    \n",
        "\n",
        "fig = plt.figure()\n",
        "ax = df.stars.value_counts(True).sort_index().plot.bar(figsize=(8,6))\n",
        "vals = ax.get_yticks()\n",
        "ax.set_yticklabels(['{:,.0%}'.format(x) for x in vals])\n",
        "plt.xlabel('Rating', fontsize=12)\n",
        "plt.ylabel('Share of Ratings', fontsize=12)\n",
        "plt.xticks(fontsize=12)\n",
        "plt.yticks(fontsize=12)\n",
        "fig.savefig('Ratings_distribution.png')"
      ],
      "metadata": {
        "colab": {
          "base_uri": "https://localhost:8080/",
          "height": 389
        },
        "id": "IrNRQ67NhZVA",
        "outputId": "0fddf527-fdf7-478f-c76a-d8bd06f705e8"
      },
      "execution_count": null,
      "outputs": [
        {
          "output_type": "display_data",
          "data": {
            "text/plain": [
              "<Figure size 576x432 with 1 Axes>"
            ],
            "image/png": "[encoded data removed]"
          },
          "metadata": {
            "needs_background": "light"
          }
        }
      ]
    },
    {
      "cell_type": "markdown",
      "source": [
        "what kind of table it has to be heterogenous need to extract the user, edges, node features to represent it in a graph format."
      ],
      "metadata": {
        "id": "d6fG5SRjNnP1"
      }
    },
    {
      "cell_type": "code",
      "source": [
        "path=\"/content/sample_data/package_tourism.csv\""
      ],
      "metadata": {
        "id": "dFwVw8piGet_"
      },
      "execution_count": null,
      "outputs": []
    },
    {
      "cell_type": "code",
      "source": [
        "ff=pd.read_csv(path)"
      ],
      "metadata": {
        "id": "3miQEwVdGnhz"
      },
      "execution_count": null,
      "outputs": []
    },
    {
      "cell_type": "code",
      "source": [
        "#ff.describe\n",
        "\n",
        "#fifa_ff = ff.sort_values(by=\"useful\", ascending=False)\n",
        "# print(\"Players: \", df_user.shape[0])\n",
        "# df_user"
      ],
      "metadata": {
        "id": "K8ZCiQbEHPkl"
      },
      "execution_count": null,
      "outputs": []
    },
    {
      "cell_type": "code",
      "source": [
        "df_ratings = pd.read_csv('/content/sample_data/tourism_rating.csv')\n",
        "df_movies = pd.read_csv('/content/sample_data/tourism_with_id.csv')\n",
        "\n",
        "merged1 = pd.merge(df_ratings, df_movies, on='Place_Id', how='left')\n",
        "df_user=pd.read_csv('/content/sample_data/user.csv')\n",
        "merged2=pd.merge(merged1, df_user, on='User_Id', how='left')"
      ],
      "metadata": {
        "id": "2SB5-qByHeGQ"
      },
      "execution_count": null,
      "outputs": []
    },
    {
      "cell_type": "code",
      "source": [
        "merged2.describe"
      ],
      "metadata": {
        "colab": {
          "base_uri": "https://localhost:8080/"
        },
        "id": "RjqwcSKSH5Xp",
        "outputId": "53a654e3-4668-4b68-8244-638339c6fe9a"
      },
      "execution_count": null,
      "outputs": [
        {
          "output_type": "execute_result",
          "data": {
            "text/plain": [
              "<bound method NDFrame.describe of       User_Id  Place_Id  Place_Ratings                         Place_Name  \\\n",
              "0           1       179              3                    Candi Ratu Boko   \n",
              "1           1       344              2                      Pantai Marina   \n",
              "2           1         5              5           Atlantis Water Adventure   \n",
              "3           1       373              3             Museum Kereta Ambarawa   \n",
              "4           1       101              4      Kampung Wisata Sosro Menduran   \n",
              "...       ...       ...            ...                                ...   \n",
              "9995      300       425              2        Waterpark Kenjeran Surabaya   \n",
              "9996      300        64              4     Museum Sasmita Loka Ahmad Yani   \n",
              "9997      300       311              3                 The Lodge Maribaya   \n",
              "9998      300       279              4  Masjid Agung Trans Studio Bandung   \n",
              "9999      300       163              2                Watu Mabur Mangunan   \n",
              "\n",
              "                                            Description       Category  \\\n",
              "0     Situs Ratu Baka atau Candi Boko (Hanacaraka:ꦕꦤ...         Budaya   \n",
              "1     Pantai Marina (bahasa Jawa: ꦥꦱꦶꦱꦶꦂ​ꦩꦫꦶꦤ, trans...         Bahari   \n",
              "2     Atlantis Water Adventure atau dikenal dengan A...  Taman Hiburan   \n",
              "3     Museum Kereta Api Ambarawa (bahasa Inggris: In...         Budaya   \n",
              "4     Kampung wisata Sosromenduran merupakan kampung...         Budaya   \n",
              "...                                                 ...            ...   \n",
              "9995  Waterpark Kenjeran Surabaya merupakan wisata k...  Taman Hiburan   \n",
              "9996  Museum Sasmita Loka Ahmad Yani adalah salah sa...         Budaya   \n",
              "9997  The Lodge Maribaya adalah salah satu tempat wi...     Cagar Alam   \n",
              "9998  Masjid Agung Trans Studio Bandung (TSB) berdir...  Tempat Ibadah   \n",
              "9999  Kawasan Tebing Watu Mabur ini terbilang belum ...     Cagar Alam   \n",
              "\n",
              "            City  Price  Rating  Time_Minutes  \\\n",
              "0     Yogyakarta  75000     4.6          90.0   \n",
              "1       Semarang   3000     4.1           NaN   \n",
              "2        Jakarta  94000     4.5          60.0   \n",
              "3       Semarang  10000     4.5          60.0   \n",
              "4     Yogyakarta      0     4.0           NaN   \n",
              "...          ...    ...     ...           ...   \n",
              "9995    Surabaya  35000     4.1           NaN   \n",
              "9996     Jakarta   2000     4.7          45.0   \n",
              "9997     Bandung  25000     4.3         150.0   \n",
              "9998     Bandung      0     4.8           NaN   \n",
              "9999  Yogyakarta   2500     4.5          60.0   \n",
              "\n",
              "                                           Coordinate       Lat        Long  \\\n",
              "0             {'lat': -7.7705416, 'lng': 110.4894158} -7.770542  110.489416   \n",
              "1              {'lat': -6.948877, 'lng': 110.3893285} -6.948877  110.389329   \n",
              "2                {'lat': -6.12419, 'lng': 106.839134} -6.124190  106.839134   \n",
              "3     {'lat': -7.264598899999997, 'lng': 110.4046017} -7.264599  110.404602   \n",
              "4      {'lat': -7.792189999999999, 'lng': 110.362151} -7.792190  110.362151   \n",
              "...                                               ...       ...         ...   \n",
              "9995  {'lat': -7.247796300000002, 'lng': 112.7998235} -7.247796  112.799824   \n",
              "9996  {'lat': -6.204630300000001, 'lng': 106.8365324} -6.204630  106.836532   \n",
              "9997  {'lat': -6.829411199999999, 'lng': 107.6874666} -6.829411  107.687467   \n",
              "9998  {'lat': -6.925963500000001, 'lng': 107.6354278} -6.925963  107.635428   \n",
              "9999               {'lat': -7.947121, 'lng': 110.441} -7.947121  110.441000   \n",
              "\n",
              "      Unnamed: 11  Unnamed: 12               Location  Age  \n",
              "0             NaN          179  Semarang, Jawa Tengah   20  \n",
              "1             NaN          344  Semarang, Jawa Tengah   20  \n",
              "2             NaN            5  Semarang, Jawa Tengah   20  \n",
              "3             NaN          373  Semarang, Jawa Tengah   20  \n",
              "4             NaN          101  Semarang, Jawa Tengah   20  \n",
              "...           ...          ...                    ...  ...  \n",
              "9995          NaN          425   Ponorogo, Jawa Timur   26  \n",
              "9996          NaN           64   Ponorogo, Jawa Timur   26  \n",
              "9997          NaN          311   Ponorogo, Jawa Timur   26  \n",
              "9998          NaN          279   Ponorogo, Jawa Timur   26  \n",
              "9999          NaN          163   Ponorogo, Jawa Timur   26  \n",
              "\n",
              "[10000 rows x 17 columns]>"
            ]
          },
          "metadata": {},
          "execution_count": 24
        }
      ]
    },
    {
      "cell_type": "code",
      "source": [
        "fifa_df = merged2.sort_values(by=\"Rating\", ascending=False)\n",
        "print(\"Players: \", fifa_df.shape[0])\n",
        "fifa_df.Place_Ratings"
      ],
      "metadata": {
        "colab": {
          "base_uri": "https://localhost:8080/"
        },
        "id": "fK-Eq9EnK0vp",
        "outputId": "4cf573ac-f272-4972-bba4-cf7b599c90c3"
      },
      "execution_count": null,
      "outputs": [
        {
          "output_type": "stream",
          "name": "stdout",
          "text": [
            "Players:  10000\n"
          ]
        },
        {
          "output_type": "execute_result",
          "data": {
            "text/plain": [
              "6139    2\n",
              "6168    2\n",
              "9457    4\n",
              "9420    5\n",
              "9736    2\n",
              "       ..\n",
              "2379    1\n",
              "6872    3\n",
              "2326    4\n",
              "8421    4\n",
              "2466    3\n",
              "Name: Place_Ratings, Length: 10000, dtype: int64"
            ]
          },
          "metadata": {},
          "execution_count": 25
        }
      ]
    },
    {
      "cell_type": "code",
      "source": [
        "print(\"Players: \", fifa_df.shape[0])\n",
        "fifa_df.head()"
      ],
      "metadata": {
        "colab": {
          "base_uri": "https://localhost:8080/",
          "height": 653
        },
        "id": "kGsJyoZn_RoR",
        "outputId": "d529b7d4-c4f3-4654-84ab-af7cb53fd3bb"
      },
      "execution_count": null,
      "outputs": [
        {
          "output_type": "stream",
          "name": "stdout",
          "text": [
            "Players:  10000\n"
          ]
        },
        {
          "output_type": "execute_result",
          "data": {
            "text/plain": [
              "      User_Id  Place_Id  Place_Ratings                          Place_Name  \\\n",
              "6139      184        29              2           Wisata Kuliner Pecenongan   \n",
              "6168      185       124              2        Kauman Pakualaman Yogyakarta   \n",
              "9457      285        69              4                     Freedom Library   \n",
              "9420      283        29              5           Wisata Kuliner Pecenongan   \n",
              "9736      293        95              2  Desa Wisata Sungai Code Jogja Kota   \n",
              "\n",
              "                                            Description            Category  \\\n",
              "6139  Pecenongan merupakan salah satu surga kuliner ...  Pusat Perbelanjaan   \n",
              "6168  Pakualaman adalah sebuah kecamatan di Kota Yog...              Budaya   \n",
              "9457  Freedom Library adalah perpustakaan buku yang ...              Budaya   \n",
              "9420  Pecenongan merupakan salah satu surga kuliner ...  Pusat Perbelanjaan   \n",
              "9736  Kampung Code berada di Kelurahan Kotabaru, Kec...       Taman Hiburan   \n",
              "\n",
              "            City  Price  Rating  Time_Minutes  \\\n",
              "6139     Jakarta      0     5.0           NaN   \n",
              "6168  Yogyakarta      0     5.0           NaN   \n",
              "9457     Jakarta      0     5.0           NaN   \n",
              "9420     Jakarta      0     5.0           NaN   \n",
              "9736  Yogyakarta      0     5.0           NaN   \n",
              "\n",
              "                                           Coordinate       Lat        Long  \\\n",
              "6139  {'lat': -6.166788700000001, 'lng': 106.8265261} -6.166789  106.826526   \n",
              "6168  {'lat': -7.801034700000001, 'lng': 110.3751922} -7.801035  110.375192   \n",
              "9457  {'lat': -6.202248200000001, 'lng': 106.8451968} -6.202248  106.845197   \n",
              "9420  {'lat': -6.166788700000001, 'lng': 106.8265261} -6.166789  106.826526   \n",
              "9736  {'lat': -7.822908900000001, 'lng': 110.3756894} -7.822909  110.375689   \n",
              "\n",
              "      Unnamed: 11  Unnamed: 12                    Location  Age  \n",
              "6139          NaN           29              Serang, Banten   30  \n",
              "6168          NaN          124        Cilacap, Jawa Tengah   33  \n",
              "9457          NaN           69  Jakarta Pusat, DKI Jakarta   29  \n",
              "9420          NaN           29           Bogor, Jawa Barat   37  \n",
              "9736          NaN           95          Subang, Jawa Barat   34  "
            ],
            "text/html": [
              "\n",
              "  <div id=\"df-1d449b37-54d1-4915-a84a-c5c2555ae0ff\">\n",
              "    <div class=\"colab-df-container\">\n",
              "      <div>\n",
              "<style scoped>\n",
              "    .dataframe tbody tr th:only-of-type {\n",
              "        vertical-align: middle;\n",
              "    }\n",
              "\n",
              "    .dataframe tbody tr th {\n",
              "        vertical-align: top;\n",
              "    }\n",
              "\n",
              "    .dataframe thead th {\n",
              "        text-align: right;\n",
              "    }\n",
              "</style>\n",
              "<table border=\"1\" class=\"dataframe\">\n",
              "  <thead>\n",
              "    <tr style=\"text-align: right;\">\n",
              "      <th></th>\n",
              "      <th>User_Id</th>\n",
              "      <th>Place_Id</th>\n",
              "      <th>Place_Ratings</th>\n",
              "      <th>Place_Name</th>\n",
              "      <th>Description</th>\n",
              "      <th>Category</th>\n",
              "      <th>City</th>\n",
              "      <th>Price</th>\n",
              "      <th>Rating</th>\n",
              "      <th>Time_Minutes</th>\n",
              "      <th>Coordinate</th>\n",
              "      <th>Lat</th>\n",
              "      <th>Long</th>\n",
              "      <th>Unnamed: 11</th>\n",
              "      <th>Unnamed: 12</th>\n",
              "      <th>Location</th>\n",
              "      <th>Age</th>\n",
              "    </tr>\n",
              "  </thead>\n",
              "  <tbody>\n",
              "    <tr>\n",
              "      <th>6139</th>\n",
              "      <td>184</td>\n",
              "      <td>29</td>\n",
              "      <td>2</td>\n",
              "      <td>Wisata Kuliner Pecenongan</td>\n",
              "      <td>Pecenongan merupakan salah satu surga kuliner ...</td>\n",
              "      <td>Pusat Perbelanjaan</td>\n",
              "      <td>Jakarta</td>\n",
              "      <td>0</td>\n",
              "      <td>5.0</td>\n",
              "      <td>NaN</td>\n",
              "      <td>{'lat': -6.166788700000001, 'lng': 106.8265261}</td>\n",
              "      <td>-6.166789</td>\n",
              "      <td>106.826526</td>\n",
              "      <td>NaN</td>\n",
              "      <td>29</td>\n",
              "      <td>Serang, Banten</td>\n",
              "      <td>30</td>\n",
              "    </tr>\n",
              "    <tr>\n",
              "      <th>6168</th>\n",
              "      <td>185</td>\n",
              "      <td>124</td>\n",
              "      <td>2</td>\n",
              "      <td>Kauman Pakualaman Yogyakarta</td>\n",
              "      <td>Pakualaman adalah sebuah kecamatan di Kota Yog...</td>\n",
              "      <td>Budaya</td>\n",
              "      <td>Yogyakarta</td>\n",
              "      <td>0</td>\n",
              "      <td>5.0</td>\n",
              "      <td>NaN</td>\n",
              "      <td>{'lat': -7.801034700000001, 'lng': 110.3751922}</td>\n",
              "      <td>-7.801035</td>\n",
              "      <td>110.375192</td>\n",
              "      <td>NaN</td>\n",
              "      <td>124</td>\n",
              "      <td>Cilacap, Jawa Tengah</td>\n",
              "      <td>33</td>\n",
              "    </tr>\n",
              "    <tr>\n",
              "      <th>9457</th>\n",
              "      <td>285</td>\n",
              "      <td>69</td>\n",
              "      <td>4</td>\n",
              "      <td>Freedom Library</td>\n",
              "      <td>Freedom Library adalah perpustakaan buku yang ...</td>\n",
              "      <td>Budaya</td>\n",
              "      <td>Jakarta</td>\n",
              "      <td>0</td>\n",
              "      <td>5.0</td>\n",
              "      <td>NaN</td>\n",
              "      <td>{'lat': -6.202248200000001, 'lng': 106.8451968}</td>\n",
              "      <td>-6.202248</td>\n",
              "      <td>106.845197</td>\n",
              "      <td>NaN</td>\n",
              "      <td>69</td>\n",
              "      <td>Jakarta Pusat, DKI Jakarta</td>\n",
              "      <td>29</td>\n",
              "    </tr>\n",
              "    <tr>\n",
              "      <th>9420</th>\n",
              "      <td>283</td>\n",
              "      <td>29</td>\n",
              "      <td>5</td>\n",
              "      <td>Wisata Kuliner Pecenongan</td>\n",
              "      <td>Pecenongan merupakan salah satu surga kuliner ...</td>\n",
              "      <td>Pusat Perbelanjaan</td>\n",
              "      <td>Jakarta</td>\n",
              "      <td>0</td>\n",
              "      <td>5.0</td>\n",
              "      <td>NaN</td>\n",
              "      <td>{'lat': -6.166788700000001, 'lng': 106.8265261}</td>\n",
              "      <td>-6.166789</td>\n",
              "      <td>106.826526</td>\n",
              "      <td>NaN</td>\n",
              "      <td>29</td>\n",
              "      <td>Bogor, Jawa Barat</td>\n",
              "      <td>37</td>\n",
              "    </tr>\n",
              "    <tr>\n",
              "      <th>9736</th>\n",
              "      <td>293</td>\n",
              "      <td>95</td>\n",
              "      <td>2</td>\n",
              "      <td>Desa Wisata Sungai Code Jogja Kota</td>\n",
              "      <td>Kampung Code berada di Kelurahan Kotabaru, Kec...</td>\n",
              "      <td>Taman Hiburan</td>\n",
              "      <td>Yogyakarta</td>\n",
              "      <td>0</td>\n",
              "      <td>5.0</td>\n",
              "      <td>NaN</td>\n",
              "      <td>{'lat': -7.822908900000001, 'lng': 110.3756894}</td>\n",
              "      <td>-7.822909</td>\n",
              "      <td>110.375689</td>\n",
              "      <td>NaN</td>\n",
              "      <td>95</td>\n",
              "      <td>Subang, Jawa Barat</td>\n",
              "      <td>34</td>\n",
              "    </tr>\n",
              "  </tbody>\n",
              "</table>\n",
              "</div>\n",
              "      <button class=\"colab-df-convert\" onclick=\"convertToInteractive('df-1d449b37-54d1-4915-a84a-c5c2555ae0ff')\"\n",
              "              title=\"Convert this dataframe to an interactive table.\"\n",
              "              style=\"display:none;\">\n",
              "        \n",
              "  <svg xmlns=\"http://www.w3.org/2000/svg\" height=\"24px\"viewBox=\"0 0 24 24\"\n",
              "       width=\"24px\">\n",
              "    <path d=\"M0 0h24v24H0V0z\" fill=\"none\"/>\n",
              "    <path d=\"M18.56 5.44l.94 2.06.94-2.06 2.06-.94-2.06-.94-.94-2.06-.94 2.06-2.06.94zm-11 1L8.5 8.5l.94-2.06 2.06-.94-2.06-.94L8.5 2.5l-.94 2.06-2.06.94zm10 10l.94 2.06.94-2.06 2.06-.94-2.06-.94-.94-2.06-.94 2.06-2.06.94z\"/><path d=\"M17.41 7.96l-1.37-1.37c-.4-.4-.92-.59-1.43-.59-.52 0-1.04.2-1.43.59L10.3 9.45l-7.72 7.72c-.78.78-.78 2.05 0 2.83L4 21.41c.39.39.9.59 1.41.59.51 0 1.02-.2 1.41-.59l7.78-7.78 2.81-2.81c.8-.78.8-2.07 0-2.86zM5.41 20L4 18.59l7.72-7.72 1.47 1.35L5.41 20z\"/>\n",
              "  </svg>\n",
              "      </button>\n",
              "      \n",
              "  <style>\n",
              "    .colab-df-container {\n",
              "      display:flex;\n",
              "      flex-wrap:wrap;\n",
              "      gap: 12px;\n",
              "    }\n",
              "\n",
              "    .colab-df-convert {\n",
              "      background-color: #E8F0FE;\n",
              "      border: none;\n",
              "      border-radius: 50%;\n",
              "      cursor: pointer;\n",
              "      display: none;\n",
              "      fill: #1967D2;\n",
              "      height: 32px;\n",
              "      padding: 0 0 0 0;\n",
              "      width: 32px;\n",
              "    }\n",
              "\n",
              "    .colab-df-convert:hover {\n",
              "      background-color: #E2EBFA;\n",
              "      box-shadow: 0px 1px 2px rgba(60, 64, 67, 0.3), 0px 1px 3px 1px rgba(60, 64, 67, 0.15);\n",
              "      fill: #174EA6;\n",
              "    }\n",
              "\n",
              "    [theme=dark] .colab-df-convert {\n",
              "      background-color: #3B4455;\n",
              "      fill: #D2E3FC;\n",
              "    }\n",
              "\n",
              "    [theme=dark] .colab-df-convert:hover {\n",
              "      background-color: #434B5C;\n",
              "      box-shadow: 0px 1px 3px 1px rgba(0, 0, 0, 0.15);\n",
              "      filter: drop-shadow(0px 1px 2px rgba(0, 0, 0, 0.3));\n",
              "      fill: #FFFFFF;\n",
              "    }\n",
              "  </style>\n",
              "\n",
              "      <script>\n",
              "        const buttonEl =\n",
              "          document.querySelector('#df-1d449b37-54d1-4915-a84a-c5c2555ae0ff button.colab-df-convert');\n",
              "        buttonEl.style.display =\n",
              "          google.colab.kernel.accessAllowed ? 'block' : 'none';\n",
              "\n",
              "        async function convertToInteractive(key) {\n",
              "          const element = document.querySelector('#df-1d449b37-54d1-4915-a84a-c5c2555ae0ff');\n",
              "          const dataTable =\n",
              "            await google.colab.kernel.invokeFunction('convertToInteractive',\n",
              "                                                     [key], {});\n",
              "          if (!dataTable) return;\n",
              "\n",
              "          const docLinkHtml = 'Like what you see? Visit the ' +\n",
              "            '<a target=\"_blank\" href=https://colab.research.google.com/notebooks/data_table.ipynb>data table notebook</a>'\n",
              "            + ' to learn more about interactive tables.';\n",
              "          element.innerHTML = '';\n",
              "          dataTable['output_type'] = 'display_data';\n",
              "          await google.colab.output.renderOutput(dataTable, element);\n",
              "          const docLink = document.createElement('div');\n",
              "          docLink.innerHTML = docLinkHtml;\n",
              "          element.appendChild(docLink);\n",
              "        }\n",
              "      </script>\n",
              "    </div>\n",
              "  </div>\n",
              "  "
            ]
          },
          "metadata": {},
          "execution_count": 26
        }
      ]
    },
    {
      "cell_type": "code",
      "source": [],
      "metadata": {
        "id": "cijMAxVQ_XIN"
      },
      "execution_count": null,
      "outputs": []
    },
    {
      "cell_type": "code",
      "source": [
        "from matplotlib import pyplot as plt    \n",
        "\n",
        "fig = plt.figure()\n",
        "ax = fifa_df.Place_Ratings.value_counts(True).sort_index().plot.bar(figsize=(8,6))\n",
        "vals = ax.get_yticks()\n",
        "ax.set_yticklabels(['{:,.0%}'.format(x) for x in vals])\n",
        "plt.xlabel('Rating', fontsize=12)\n",
        "plt.ylabel('Share of Ratings', fontsize=12)\n",
        "plt.xticks(fontsize=12)\n",
        "plt.yticks(fontsize=12)\n",
        "fig.savefig('Ratings_distribution.png')"
      ],
      "metadata": {
        "colab": {
          "base_uri": "https://localhost:8080/",
          "height": 389
        },
        "id": "h_15EorkfdNt",
        "outputId": "6ed66d0f-c106-4199-8808-1defb78a07ed"
      },
      "execution_count": null,
      "outputs": [
        {
          "output_type": "display_data",
          "data": {
            "text/plain": [
              "<Figure size 576x432 with 1 Axes>"
            ],
            "image/png": "[encoded data removed]"
          },
          "metadata": {
            "needs_background": "light"
          }
        }
      ]
    },
    {
      "cell_type": "markdown",
      "source": [
        "** need to check if the rating is 1 to 5 similar to the movies dataset in indonesia dataset as well as in the yelp reviews stars field dataset"
      ],
      "metadata": {
        "id": "u7y4BOAhY5C7"
      }
    },
    {
      "cell_type": "markdown",
      "source": [
        "# **To implement Graph structure importing necessary packages**"
      ],
      "metadata": {
        "id": "erCzR8f1y0v_"
      }
    },
    {
      "cell_type": "code",
      "source": [
        "# Install required packages.\n",
        "import os\n",
        "import torch\n",
        "os.environ['TORCH'] = torch.__version__\n",
        "print(torch.__version__)"
      ],
      "metadata": {
        "colab": {
          "base_uri": "https://localhost:8080/"
        },
        "id": "YRp2XgkLyzeo",
        "outputId": "a9339557-ffb4-457f-94e8-4887bbd22fa4"
      },
      "execution_count": 2,
      "outputs": [
        {
          "output_type": "stream",
          "name": "stdout",
          "text": [
            "1.12.1+cu113\n"
          ]
        }
      ]
    },
    {
      "cell_type": "code",
      "source": [
        "!pip install -q torch-scatter -f https://data.pyg.org/whl/torch-${TORCH}.html\n",
        "!pip install -q torch-sparse -f https://data.pyg.org/whl/torch-${TORCH}.html\n",
        "!pip install -q git+https://github.com/pyg-team/pytorch_geometric.git"
      ],
      "metadata": {
        "colab": {
          "base_uri": "https://localhost:8080/"
        },
        "id": "0H4QIM0_8qeE",
        "outputId": "ea5739e8-d8b6-44ed-8128-21f0f3f0f371"
      },
      "execution_count": 4,
      "outputs": [
        {
          "output_type": "stream",
          "name": "stdout",
          "text": [
            "\u001b[K     |████████████████████████████████| 7.9 MB 27.8 MB/s \n",
            "\u001b[K     |████████████████████████████████| 3.5 MB 32.2 MB/s \n",
            "\u001b[?25h  Building wheel for torch-geometric (setup.py) ... \u001b[?25l\u001b[?25hdone\n"
          ]
        }
      ]
    },
    {
      "cell_type": "code",
      "source": [
        "!pip install -U -q PyDrive\n",
        "!pip install -q git+https://github.com/snap-stanford/deepsnap.git"
      ],
      "metadata": {
        "colab": {
          "base_uri": "https://localhost:8080/"
        },
        "id": "2oozwwGz9VMb",
        "outputId": "e361bd03-b3fd-4ade-97fe-72ab00c09ab1"
      },
      "execution_count": 5,
      "outputs": [
        {
          "output_type": "stream",
          "name": "stdout",
          "text": [
            "  Building wheel for deepsnap (setup.py) ... \u001b[?25l\u001b[?25hdone\n"
          ]
        }
      ]
    },
    {
      "cell_type": "markdown",
      "source": [
        "# **import required modules**"
      ],
      "metadata": {
        "id": "yqdRoAW27Unv"
      }
    },
    {
      "cell_type": "code",
      "source": [
        "import random\n",
        "from tqdm import tqdm\n",
        "import pandas as pd\n",
        "import numpy as np\n",
        "import matplotlib.pyplot as plt\n",
        "from sklearn.model_selection import train_test_split"
      ],
      "metadata": {
        "id": "x1NRAFq07Ncf"
      },
      "execution_count": 6,
      "outputs": []
    },
    {
      "cell_type": "code",
      "source": [
        "import torch\n",
        "from torch import nn, optim, Tensor"
      ],
      "metadata": {
        "id": "taTh_Rqn8PyR"
      },
      "execution_count": 7,
      "outputs": []
    },
    {
      "cell_type": "code",
      "source": [
        "import torch_geometric"
      ],
      "metadata": {
        "id": "X1e8yonl9lL9"
      },
      "execution_count": 8,
      "outputs": []
    },
    {
      "cell_type": "code",
      "source": [
        "from torch_sparse import SparseTensor, matmul"
      ],
      "metadata": {
        "id": "YiPQ_PtG8R8t"
      },
      "execution_count": 9,
      "outputs": []
    },
    {
      "cell_type": "code",
      "source": [
        "from torch_geometric.utils import structured_negative_sampling\n",
        "from torch_geometric.data import download_url, extract_zip\n",
        "from torch_geometric.nn.conv.gcn_conv import gcn_norm\n",
        "from torch_geometric.nn.conv import MessagePassing\n",
        "from torch_geometric.typing import Adj"
      ],
      "metadata": {
        "id": "2gV4B_qj8Vbb"
      },
      "execution_count": 10,
      "outputs": []
    },
    {
      "cell_type": "markdown",
      "source": [
        "# **Load the dataset**"
      ],
      "metadata": {
        "id": "i6AFURJ3AwQv"
      }
    },
    {
      "cell_type": "markdown",
      "source": [
        "We have two tables - one that contains information about the users (yelp_user.csv) and another one (yelp_review.csv) that describes how the users rated the business/trips."
      ],
      "metadata": {
        "id": "LYt68k_IC0ac"
      }
    },
    {
      "cell_type": "code",
      "source": [
        "path1= 'https://data.world/brianray/yelp-reviews/workspace/file?filename=yelp_training_set_review.csv'\n",
        "path2= 'https://www.kaggle.com/code/jagangupta/what-s-in-a-review-yelp-ratings-eda/data?select=yelp_user.csv'"
      ],
      "metadata": {
        "id": "dCt774jLQ74A"
      },
      "execution_count": 11,
      "outputs": []
    },
    {
      "cell_type": "code",
      "source": [
        "# download the Yelp dataset .csv file\n",
        "# This will download the CSV file from the provided URL and store it in the DataFrame df.\n",
        "\n",
        "import pandas as pd\n",
        "\n",
        "review_path = pd.read_csv(path1)\n",
        "\n"
      ],
      "metadata": {
        "id": "L3NIvUvb_k1o"
      },
      "execution_count": 13,
      "outputs": []
    },
    {
      "cell_type": "code",
      "source": [
        "url = 'https://files.grouplens.org/datasets/movielens/ml-latest-small.zip'\n",
        "extract_zip(download_url(url, '.'), '.')\n",
        "\n",
        "user_path = './ml-latest-small/ratings.csv'"
      ],
      "metadata": {
        "id": "HA0Sy2pcRSv6"
      },
      "execution_count": null,
      "outputs": []
    },
    {
      "cell_type": "code",
      "source": [],
      "metadata": {
        "id": "USIsK6LEM-Ng"
      },
      "execution_count": null,
      "outputs": []
    },
    {
      "cell_type": "markdown",
      "source": [
        "# **Preprocess the dataset**"
      ],
      "metadata": {
        "id": "-Fmt9NrrCuIq"
      }
    },
    {
      "cell_type": "code",
      "source": [
        "# stuck at how to process the dataformat df to get the rating matrix....yet to be explored.\n",
        "\n",
        "# check the graph extraction video deepfindr you have\n",
        "\n",
        "# If that does not work try and see what fields are there in the yelp reviews pytorch geometric dataset which is already done for you...worst case consider this."
      ],
      "metadata": {
        "id": "hC5vfPJHHHEn"
      },
      "execution_count": null,
      "outputs": []
    },
    {
      "cell_type": "markdown",
      "source": [
        "#**Train/validation/test split**"
      ],
      "metadata": {
        "id": "MS8iA9AmCnR6"
      }
    },
    {
      "cell_type": "markdown",
      "source": [
        "#**Mount the google drive**"
      ],
      "metadata": {
        "id": "yRI1VFUKCqPE"
      }
    },
    {
      "cell_type": "code",
      "source": [
        "from google.colab import drive\n",
        "drive.mount('/content/drive')"
      ],
      "metadata": {
        "colab": {
          "base_uri": "https://localhost:8080/"
        },
        "id": "7yS_4zxcSGkl",
        "outputId": "8ddbd77b-1e42-44e1-9d9b-1f540330c8fa"
      },
      "execution_count": 15,
      "outputs": [
        {
          "output_type": "stream",
          "name": "stdout",
          "text": [
            "Mounted at /content/drive\n"
          ]
        }
      ]
    },
    {
      "cell_type": "markdown",
      "source": [
        "**Change present working directory**"
      ],
      "metadata": {
        "id": "QudWxYv1ST8W"
      }
    },
    {
      "cell_type": "code",
      "source": [
        "%cd /content/drive/MyDrive/GCN_TripRecommendation/"
      ],
      "metadata": {
        "colab": {
          "base_uri": "https://localhost:8080/"
        },
        "id": "GfDMBC59SQMl",
        "outputId": "3c013f5f-116e-4e6d-bbaa-33e7b91b1109"
      },
      "execution_count": 20,
      "outputs": [
        {
          "output_type": "stream",
          "name": "stdout",
          "text": [
            "/content/drive/MyDrive/GCN_TripRecommendation\n"
          ]
        }
      ]
    },
    {
      "cell_type": "code",
      "source": [
        "pwd"
      ],
      "metadata": {
        "colab": {
          "base_uri": "https://localhost:8080/",
          "height": 36
        },
        "id": "GuxbBMDpYWXx",
        "outputId": "cdeea108-502d-473b-df3e-6dc35260c869"
      },
      "execution_count": 21,
      "outputs": [
        {
          "output_type": "execute_result",
          "data": {
            "text/plain": [
              "'/content/drive/MyDrive/GCN_TripRecommendation'"
            ],
            "application/vnd.google.colaboratory.intrinsic+json": {
              "type": "string"
            }
          },
          "metadata": {},
          "execution_count": 21
        }
      ]
    },
    {
      "cell_type": "code",
      "source": [
        "!git init"
      ],
      "metadata": {
        "colab": {
          "base_uri": "https://localhost:8080/"
        },
        "id": "dyUjpC3eYYWw",
        "outputId": "357b9355-abdc-4125-c6d9-553a79b2ac09"
      },
      "execution_count": 22,
      "outputs": [
        {
          "output_type": "stream",
          "name": "stdout",
          "text": [
            "Initialized empty Git repository in /content/drive/MyDrive/GCN_TripRecommendation/.git/\n"
          ]
        }
      ]
    },
    {
      "cell_type": "code",
      "source": [
        "!git config --global user.email 'sprakki@horizon.csueastbay.edu'\n",
        "!git config --global user.name 'SravaniPrakki'"
      ],
      "metadata": {
        "id": "b1Boh5iDakwg"
      },
      "execution_count": 24,
      "outputs": []
    },
    {
      "cell_type": "code",
      "source": [
        "!git add .\n",
        "!git commit -m 'First commit'"
      ],
      "metadata": {
        "colab": {
          "base_uri": "https://localhost:8080/"
        },
        "id": "979B_SGqa8tR",
        "outputId": "90ee064e-5804-46b0-f1af-e8bc6c0cb083"
      },
      "execution_count": 25,
      "outputs": [
        {
          "output_type": "stream",
          "name": "stdout",
          "text": [
            "On branch master\n",
            "\n",
            "Initial commit\n",
            "\n",
            "nothing to commit\n"
          ]
        }
      ]
    },
    {
      "cell_type": "code",
      "source": [
        "!ls"
      ],
      "metadata": {
        "colab": {
          "base_uri": "https://localhost:8080/"
        },
        "id": "dqLR5KNVcBGF",
        "outputId": "18402382-305a-4983-86af-8f54dda73684"
      },
      "execution_count": 27,
      "outputs": [
        {
          "output_type": "stream",
          "name": "stdout",
          "text": [
            "yelp_training_set_review.csv\n"
          ]
        }
      ]
    }
  ]
}