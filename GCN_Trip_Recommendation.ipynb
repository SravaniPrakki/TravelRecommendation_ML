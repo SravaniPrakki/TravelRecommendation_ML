{
  "nbformat": 4,
  "nbformat_minor": 0,
  "metadata": {
    "colab": {
      "provenance": [],
      "collapsed_sections": [],
      "toc_visible": true,
      "authorship_tag": "ABX9TyME2YQZP1bjtw25mQwiuVab",
      "include_colab_link": true
    },
    "kernelspec": {
      "name": "python3",
      "display_name": "Python 3"
    },
    "language_info": {
      "name": "python"
    },
    "accelerator": "GPU",
    "gpuClass": "standard"
  },
  "cells": [
    {
      "cell_type": "markdown",
      "metadata": {
        "id": "view-in-github",
        "colab_type": "text"
      },
      "source": [
        "<a href=\"https://colab.research.google.com/github/SravaniPrakki/TravelRecommendation_ML/blob/main/GCN_Trip_Recommendation.ipynb\" target=\"_parent\"><img src=\"https://colab.research.google.com/assets/colab-badge.svg\" alt=\"Open In Colab\"/></a>"
      ]
    },
    {
      "cell_type": "markdown",
      "source": [
        "# **1. Datasets**\n",
        "Yelp review dataset"
      ],
      "metadata": {
        "id": "134Xt4o_FnPj"
      }
    },
    {
      "cell_type": "code",
      "execution_count": 113,
      "metadata": {
        "id": "qkOlXvvk-_eX"
      },
      "outputs": [],
      "source": [
        "import pandas as pd\n",
        "path=\"/content/drive/MyDrive/GCN_TripRecommendation/datasets/yelp_training_set_review.csv\"\n",
        "\n",
        "df=pd.read_csv(path)"
      ]
    },
    {
      "cell_type": "code",
      "source": [
        "print(df.head(5))"
      ],
      "metadata": {
        "id": "uRsojjQ0F3sw"
      },
      "execution_count": null,
      "outputs": []
    },
    {
      "cell_type": "code",
      "source": [
        "print(\"Players: \", df.shape[0])\n",
        "df.head()"
      ],
      "metadata": {
        "colab": {
          "base_uri": "https://localhost:8080/",
          "height": 803
        },
        "id": "AL3TocCtMa-X",
        "outputId": "dff6d6ee-e509-4e52-da11-c7990645d690"
      },
      "execution_count": 115,
      "outputs": [
        {
          "output_type": "stream",
          "name": "stdout",
          "text": [
            "Players:  229907\n"
          ]
        },
        {
          "output_type": "execute_result",
          "data": {
            "text/plain": [
              "   Unnamed: 0  business_blank              business_categories business_city  \\\n",
              "0           0           False  Breakfast & Brunch; Restaurants       Phoenix   \n",
              "1           1           False      Italian; Pizza; Restaurants       Phoenix   \n",
              "2           2           False      Middle Eastern; Restaurants         Tempe   \n",
              "3           3           False    Active Life; Dog Parks; Parks    Scottsdale   \n",
              "4           4           False                Tires; Automotive          Mesa   \n",
              "\n",
              "                     business_full_address             business_id  \\\n",
              "0        6106 S 32nd St\\nPhoenix, AZ 85042  9yKzy9PApeiPPOUJEtnvkg   \n",
              "1  4848 E Chandler Blvd\\nPhoenix, AZ 85044  ZRJwVLyzEJq1VAihDhYiow   \n",
              "2     1513 E  Apache Blvd\\nTempe, AZ 85281  6oRAC4uyJCsJl1X0WZpVSA   \n",
              "3   5401 N Hayden Rd\\nScottsdale, AZ 85250  _1QQZuf4zZOyFCvXc0o6Vg   \n",
              "4        1357 S Power Road\\nMesa, AZ 85206  6ozycU1RpktNG2-1BroVtw   \n",
              "\n",
              "   business_latitude  business_longitude       business_name  \\\n",
              "0          33.390792         -112.012504  Morning Glory Cafe   \n",
              "1          33.305607         -111.978758  Spinato's Pizzeria   \n",
              "2          33.414345         -111.913031           Haji-Baba   \n",
              "3          33.522945         -111.907886  Chaparral Dog Park   \n",
              "4          33.391027         -111.684482       Discount Tire   \n",
              "\n",
              "   business_neighborhoods  ...  reviewer_funny  reviewer_name  \\\n",
              "0                     NaN  ...             331          Jason   \n",
              "1                     NaN  ...               2           Paul   \n",
              "2                     NaN  ...               0         Nicole   \n",
              "3                     NaN  ...              18        lindsey   \n",
              "4                     NaN  ...               3          Roger   \n",
              "\n",
              "   reviewer_review_count reviewer_type reviewer_useful  stars  \\\n",
              "0                    376          user            1034      5   \n",
              "1                      2          user               0      5   \n",
              "2                      3          user               3      4   \n",
              "3                     31          user              75      5   \n",
              "4                     28          user              32      5   \n",
              "\n",
              "                                                text    type useful  \\\n",
              "0  My wife took me here on my birthday for breakf...  review      5   \n",
              "1  I have no idea why some people give bad review...  review      0   \n",
              "2  love the gyro plate. Rice is so good and I als...  review      1   \n",
              "3  Rosie, Dakota, and I LOVE Chaparral Dog Park!!...  review      2   \n",
              "4  General Manager Scott Petello is a good egg!!!...  review      0   \n",
              "\n",
              "                  user_id  \n",
              "0  rLtl8ZkDX5vH5nAx9C3q5Q  \n",
              "1  0a2KyEL0d3Yb1V6aivbIuQ  \n",
              "2  0hT2KtfLiobPvh6cDC8JQg  \n",
              "3  uZetl9T0NcROGOyFfughhg  \n",
              "4  vYmM4KTsC8ZfQBg-j5MWkw  \n",
              "\n",
              "[5 rows x 32 columns]"
            ],
            "text/html": [
              "\n",
              "  <div id=\"df-574d7d22-a936-43d6-8e10-50b1e4da1790\">\n",
              "    <div class=\"colab-df-container\">\n",
              "      <div>\n",
              "<style scoped>\n",
              "    .dataframe tbody tr th:only-of-type {\n",
              "        vertical-align: middle;\n",
              "    }\n",
              "\n",
              "    .dataframe tbody tr th {\n",
              "        vertical-align: top;\n",
              "    }\n",
              "\n",
              "    .dataframe thead th {\n",
              "        text-align: right;\n",
              "    }\n",
              "</style>\n",
              "<table border=\"1\" class=\"dataframe\">\n",
              "  <thead>\n",
              "    <tr style=\"text-align: right;\">\n",
              "      <th></th>\n",
              "      <th>Unnamed: 0</th>\n",
              "      <th>business_blank</th>\n",
              "      <th>business_categories</th>\n",
              "      <th>business_city</th>\n",
              "      <th>business_full_address</th>\n",
              "      <th>business_id</th>\n",
              "      <th>business_latitude</th>\n",
              "      <th>business_longitude</th>\n",
              "      <th>business_name</th>\n",
              "      <th>business_neighborhoods</th>\n",
              "      <th>...</th>\n",
              "      <th>reviewer_funny</th>\n",
              "      <th>reviewer_name</th>\n",
              "      <th>reviewer_review_count</th>\n",
              "      <th>reviewer_type</th>\n",
              "      <th>reviewer_useful</th>\n",
              "      <th>stars</th>\n",
              "      <th>text</th>\n",
              "      <th>type</th>\n",
              "      <th>useful</th>\n",
              "      <th>user_id</th>\n",
              "    </tr>\n",
              "  </thead>\n",
              "  <tbody>\n",
              "    <tr>\n",
              "      <th>0</th>\n",
              "      <td>0</td>\n",
              "      <td>False</td>\n",
              "      <td>Breakfast &amp; Brunch; Restaurants</td>\n",
              "      <td>Phoenix</td>\n",
              "      <td>6106 S 32nd St\\nPhoenix, AZ 85042</td>\n",
              "      <td>9yKzy9PApeiPPOUJEtnvkg</td>\n",
              "      <td>33.390792</td>\n",
              "      <td>-112.012504</td>\n",
              "      <td>Morning Glory Cafe</td>\n",
              "      <td>NaN</td>\n",
              "      <td>...</td>\n",
              "      <td>331</td>\n",
              "      <td>Jason</td>\n",
              "      <td>376</td>\n",
              "      <td>user</td>\n",
              "      <td>1034</td>\n",
              "      <td>5</td>\n",
              "      <td>My wife took me here on my birthday for breakf...</td>\n",
              "      <td>review</td>\n",
              "      <td>5</td>\n",
              "      <td>rLtl8ZkDX5vH5nAx9C3q5Q</td>\n",
              "    </tr>\n",
              "    <tr>\n",
              "      <th>1</th>\n",
              "      <td>1</td>\n",
              "      <td>False</td>\n",
              "      <td>Italian; Pizza; Restaurants</td>\n",
              "      <td>Phoenix</td>\n",
              "      <td>4848 E Chandler Blvd\\nPhoenix, AZ 85044</td>\n",
              "      <td>ZRJwVLyzEJq1VAihDhYiow</td>\n",
              "      <td>33.305607</td>\n",
              "      <td>-111.978758</td>\n",
              "      <td>Spinato's Pizzeria</td>\n",
              "      <td>NaN</td>\n",
              "      <td>...</td>\n",
              "      <td>2</td>\n",
              "      <td>Paul</td>\n",
              "      <td>2</td>\n",
              "      <td>user</td>\n",
              "      <td>0</td>\n",
              "      <td>5</td>\n",
              "      <td>I have no idea why some people give bad review...</td>\n",
              "      <td>review</td>\n",
              "      <td>0</td>\n",
              "      <td>0a2KyEL0d3Yb1V6aivbIuQ</td>\n",
              "    </tr>\n",
              "    <tr>\n",
              "      <th>2</th>\n",
              "      <td>2</td>\n",
              "      <td>False</td>\n",
              "      <td>Middle Eastern; Restaurants</td>\n",
              "      <td>Tempe</td>\n",
              "      <td>1513 E  Apache Blvd\\nTempe, AZ 85281</td>\n",
              "      <td>6oRAC4uyJCsJl1X0WZpVSA</td>\n",
              "      <td>33.414345</td>\n",
              "      <td>-111.913031</td>\n",
              "      <td>Haji-Baba</td>\n",
              "      <td>NaN</td>\n",
              "      <td>...</td>\n",
              "      <td>0</td>\n",
              "      <td>Nicole</td>\n",
              "      <td>3</td>\n",
              "      <td>user</td>\n",
              "      <td>3</td>\n",
              "      <td>4</td>\n",
              "      <td>love the gyro plate. Rice is so good and I als...</td>\n",
              "      <td>review</td>\n",
              "      <td>1</td>\n",
              "      <td>0hT2KtfLiobPvh6cDC8JQg</td>\n",
              "    </tr>\n",
              "    <tr>\n",
              "      <th>3</th>\n",
              "      <td>3</td>\n",
              "      <td>False</td>\n",
              "      <td>Active Life; Dog Parks; Parks</td>\n",
              "      <td>Scottsdale</td>\n",
              "      <td>5401 N Hayden Rd\\nScottsdale, AZ 85250</td>\n",
              "      <td>_1QQZuf4zZOyFCvXc0o6Vg</td>\n",
              "      <td>33.522945</td>\n",
              "      <td>-111.907886</td>\n",
              "      <td>Chaparral Dog Park</td>\n",
              "      <td>NaN</td>\n",
              "      <td>...</td>\n",
              "      <td>18</td>\n",
              "      <td>lindsey</td>\n",
              "      <td>31</td>\n",
              "      <td>user</td>\n",
              "      <td>75</td>\n",
              "      <td>5</td>\n",
              "      <td>Rosie, Dakota, and I LOVE Chaparral Dog Park!!...</td>\n",
              "      <td>review</td>\n",
              "      <td>2</td>\n",
              "      <td>uZetl9T0NcROGOyFfughhg</td>\n",
              "    </tr>\n",
              "    <tr>\n",
              "      <th>4</th>\n",
              "      <td>4</td>\n",
              "      <td>False</td>\n",
              "      <td>Tires; Automotive</td>\n",
              "      <td>Mesa</td>\n",
              "      <td>1357 S Power Road\\nMesa, AZ 85206</td>\n",
              "      <td>6ozycU1RpktNG2-1BroVtw</td>\n",
              "      <td>33.391027</td>\n",
              "      <td>-111.684482</td>\n",
              "      <td>Discount Tire</td>\n",
              "      <td>NaN</td>\n",
              "      <td>...</td>\n",
              "      <td>3</td>\n",
              "      <td>Roger</td>\n",
              "      <td>28</td>\n",
              "      <td>user</td>\n",
              "      <td>32</td>\n",
              "      <td>5</td>\n",
              "      <td>General Manager Scott Petello is a good egg!!!...</td>\n",
              "      <td>review</td>\n",
              "      <td>0</td>\n",
              "      <td>vYmM4KTsC8ZfQBg-j5MWkw</td>\n",
              "    </tr>\n",
              "  </tbody>\n",
              "</table>\n",
              "<p>5 rows × 32 columns</p>\n",
              "</div>\n",
              "      <button class=\"colab-df-convert\" onclick=\"convertToInteractive('df-574d7d22-a936-43d6-8e10-50b1e4da1790')\"\n",
              "              title=\"Convert this dataframe to an interactive table.\"\n",
              "              style=\"display:none;\">\n",
              "        \n",
              "  <svg xmlns=\"http://www.w3.org/2000/svg\" height=\"24px\"viewBox=\"0 0 24 24\"\n",
              "       width=\"24px\">\n",
              "    <path d=\"M0 0h24v24H0V0z\" fill=\"none\"/>\n",
              "    <path d=\"M18.56 5.44l.94 2.06.94-2.06 2.06-.94-2.06-.94-.94-2.06-.94 2.06-2.06.94zm-11 1L8.5 8.5l.94-2.06 2.06-.94-2.06-.94L8.5 2.5l-.94 2.06-2.06.94zm10 10l.94 2.06.94-2.06 2.06-.94-2.06-.94-.94-2.06-.94 2.06-2.06.94z\"/><path d=\"M17.41 7.96l-1.37-1.37c-.4-.4-.92-.59-1.43-.59-.52 0-1.04.2-1.43.59L10.3 9.45l-7.72 7.72c-.78.78-.78 2.05 0 2.83L4 21.41c.39.39.9.59 1.41.59.51 0 1.02-.2 1.41-.59l7.78-7.78 2.81-2.81c.8-.78.8-2.07 0-2.86zM5.41 20L4 18.59l7.72-7.72 1.47 1.35L5.41 20z\"/>\n",
              "  </svg>\n",
              "      </button>\n",
              "      \n",
              "  <style>\n",
              "    .colab-df-container {\n",
              "      display:flex;\n",
              "      flex-wrap:wrap;\n",
              "      gap: 12px;\n",
              "    }\n",
              "\n",
              "    .colab-df-convert {\n",
              "      background-color: #E8F0FE;\n",
              "      border: none;\n",
              "      border-radius: 50%;\n",
              "      cursor: pointer;\n",
              "      display: none;\n",
              "      fill: #1967D2;\n",
              "      height: 32px;\n",
              "      padding: 0 0 0 0;\n",
              "      width: 32px;\n",
              "    }\n",
              "\n",
              "    .colab-df-convert:hover {\n",
              "      background-color: #E2EBFA;\n",
              "      box-shadow: 0px 1px 2px rgba(60, 64, 67, 0.3), 0px 1px 3px 1px rgba(60, 64, 67, 0.15);\n",
              "      fill: #174EA6;\n",
              "    }\n",
              "\n",
              "    [theme=dark] .colab-df-convert {\n",
              "      background-color: #3B4455;\n",
              "      fill: #D2E3FC;\n",
              "    }\n",
              "\n",
              "    [theme=dark] .colab-df-convert:hover {\n",
              "      background-color: #434B5C;\n",
              "      box-shadow: 0px 1px 3px 1px rgba(0, 0, 0, 0.15);\n",
              "      filter: drop-shadow(0px 1px 2px rgba(0, 0, 0, 0.3));\n",
              "      fill: #FFFFFF;\n",
              "    }\n",
              "  </style>\n",
              "\n",
              "      <script>\n",
              "        const buttonEl =\n",
              "          document.querySelector('#df-574d7d22-a936-43d6-8e10-50b1e4da1790 button.colab-df-convert');\n",
              "        buttonEl.style.display =\n",
              "          google.colab.kernel.accessAllowed ? 'block' : 'none';\n",
              "\n",
              "        async function convertToInteractive(key) {\n",
              "          const element = document.querySelector('#df-574d7d22-a936-43d6-8e10-50b1e4da1790');\n",
              "          const dataTable =\n",
              "            await google.colab.kernel.invokeFunction('convertToInteractive',\n",
              "                                                     [key], {});\n",
              "          if (!dataTable) return;\n",
              "\n",
              "          const docLinkHtml = 'Like what you see? Visit the ' +\n",
              "            '<a target=\"_blank\" href=https://colab.research.google.com/notebooks/data_table.ipynb>data table notebook</a>'\n",
              "            + ' to learn more about interactive tables.';\n",
              "          element.innerHTML = '';\n",
              "          dataTable['output_type'] = 'display_data';\n",
              "          await google.colab.output.renderOutput(dataTable, element);\n",
              "          const docLink = document.createElement('div');\n",
              "          docLink.innerHTML = docLinkHtml;\n",
              "          element.appendChild(docLink);\n",
              "        }\n",
              "      </script>\n",
              "    </div>\n",
              "  </div>\n",
              "  "
            ]
          },
          "metadata": {},
          "execution_count": 115
        }
      ]
    },
    {
      "cell_type": "code",
      "source": [
        "max(df[\"business_id\"].value_counts())\n",
        "# it means the table is heterogenous ?"
      ],
      "metadata": {
        "colab": {
          "base_uri": "https://localhost:8080/"
        },
        "id": "Pvm6PalTMqRN",
        "outputId": "2461f3b5-f15d-499e-9198-fe687090c6ed"
      },
      "execution_count": null,
      "outputs": [
        {
          "output_type": "execute_result",
          "data": {
            "text/plain": [
              "844"
            ]
          },
          "metadata": {},
          "execution_count": 17
        }
      ]
    },
    {
      "cell_type": "code",
      "source": [
        "x = df.to_numpy()\n",
        "x.shape # [num_movie_nodes x movie_node_feature_dim]"
      ],
      "metadata": {
        "colab": {
          "base_uri": "https://localhost:8080/"
        },
        "id": "fkdZ0wIANVey",
        "outputId": "4160a64a-cd93-4dd8-cd67-15389e3e756e"
      },
      "execution_count": null,
      "outputs": [
        {
          "output_type": "execute_result",
          "data": {
            "text/plain": [
              "(229907, 32)"
            ]
          },
          "metadata": {},
          "execution_count": 18
        }
      ]
    },
    {
      "cell_type": "markdown",
      "source": [
        "Kaggle dataset - indonesia reviews"
      ],
      "metadata": {
        "id": "wF-tWJwgFf4O"
      }
    },
    {
      "cell_type": "code",
      "source": [
        "from matplotlib import pyplot as plt    \n",
        "\n",
        "fig = plt.figure()\n",
        "ax = df.stars.value_counts(True).sort_index().plot.bar(figsize=(8,6))\n",
        "vals = ax.get_yticks()\n",
        "ax.set_yticklabels(['{:,.0%}'.format(x) for x in vals])\n",
        "plt.xlabel('Rating', fontsize=12)\n",
        "plt.ylabel('Share of Ratings', fontsize=12)\n",
        "plt.xticks(fontsize=12)\n",
        "plt.yticks(fontsize=12)\n",
        "fig.savefig('Ratings_distribution.png')"
      ],
      "metadata": {
        "colab": {
          "base_uri": "https://localhost:8080/",
          "height": 389
        },
        "id": "IrNRQ67NhZVA",
        "outputId": "0fddf527-fdf7-478f-c76a-d8bd06f705e8"
      },
      "execution_count": null,
      "outputs": [
        {
          "output_type": "display_data",
          "data": {
            "text/plain": [
              "<Figure size 576x432 with 1 Axes>"
            ],
            "image/png": "[encoded data removed]"
          },
          "metadata": {
            "needs_background": "light"
          }
        }
      ]
    },
    {
      "cell_type": "markdown",
      "source": [
        "what kind of table it has to be heterogenous need to extract the user, edges, node features to represent it in a graph format."
      ],
      "metadata": {
        "id": "d6fG5SRjNnP1"
      }
    },
    {
      "cell_type": "code",
      "source": [
        "path=\"/content/drive/MyDrive/GCN_TripRecommendation/datasets/Indonesia_Traveldatasets/package_tourism.csv\""
      ],
      "metadata": {
        "id": "dFwVw8piGet_"
      },
      "execution_count": 116,
      "outputs": []
    },
    {
      "cell_type": "code",
      "source": [
        "ff=pd.read_csv(path)"
      ],
      "metadata": {
        "id": "3miQEwVdGnhz"
      },
      "execution_count": 117,
      "outputs": []
    },
    {
      "cell_type": "code",
      "source": [
        "#ff.describe\n",
        "\n",
        "#fifa_ff = ff.sort_values(by=\"useful\", ascending=False)\n",
        "# print(\"Players: \", df_user.shape[0])\n",
        "# df_user"
      ],
      "metadata": {
        "id": "K8ZCiQbEHPkl"
      },
      "execution_count": null,
      "outputs": []
    },
    {
      "cell_type": "code",
      "source": [
        "df_ratings = pd.read_csv('/content/drive/MyDrive/GCN_TripRecommendation/datasets/Indonesia_Traveldatasets/tourism_rating.csv')\n",
        "df_movies = pd.read_csv('/content/drive/MyDrive/GCN_TripRecommendation/datasets/Indonesia_Traveldatasets/tourism_with_id.csv')\n",
        "\n",
        "merged1 = pd.merge(df_ratings, df_movies, on='Place_Id', how='left')\n",
        "df_user=pd.read_csv('/content/drive/MyDrive/GCN_TripRecommendation/datasets/Indonesia_Traveldatasets/user.csv')\n",
        "merged2=pd.merge(merged1, df_user, on='User_Id', how='left')"
      ],
      "metadata": {
        "id": "2SB5-qByHeGQ"
      },
      "execution_count": 118,
      "outputs": []
    },
    {
      "cell_type": "code",
      "source": [
        "merged2.describe"
      ],
      "metadata": {
        "colab": {
          "base_uri": "https://localhost:8080/"
        },
        "id": "RjqwcSKSH5Xp",
        "outputId": "f93846db-553e-4db9-bf47-e4cb4f0941e7"
      },
      "execution_count": 119,
      "outputs": [
        {
          "output_type": "execute_result",
          "data": {
            "text/plain": [
              "<bound method NDFrame.describe of       User_Id  Place_Id  Place_Ratings                         Place_Name  \\\n",
              "0           1       179              3                    Candi Ratu Boko   \n",
              "1           1       344              2                      Pantai Marina   \n",
              "2           1         5              5           Atlantis Water Adventure   \n",
              "3           1       373              3             Museum Kereta Ambarawa   \n",
              "4           1       101              4      Kampung Wisata Sosro Menduran   \n",
              "...       ...       ...            ...                                ...   \n",
              "9995      300       425              2        Waterpark Kenjeran Surabaya   \n",
              "9996      300        64              4     Museum Sasmita Loka Ahmad Yani   \n",
              "9997      300       311              3                 The Lodge Maribaya   \n",
              "9998      300       279              4  Masjid Agung Trans Studio Bandung   \n",
              "9999      300       163              2                Watu Mabur Mangunan   \n",
              "\n",
              "                                            Description       Category  \\\n",
              "0     Situs Ratu Baka atau Candi Boko (Hanacaraka:ꦕꦤ...         Budaya   \n",
              "1     Pantai Marina (bahasa Jawa: ꦥꦱꦶꦱꦶꦂ​ꦩꦫꦶꦤ, trans...         Bahari   \n",
              "2     Atlantis Water Adventure atau dikenal dengan A...  Taman Hiburan   \n",
              "3     Museum Kereta Api Ambarawa (bahasa Inggris: In...         Budaya   \n",
              "4     Kampung wisata Sosromenduran merupakan kampung...         Budaya   \n",
              "...                                                 ...            ...   \n",
              "9995  Waterpark Kenjeran Surabaya merupakan wisata k...  Taman Hiburan   \n",
              "9996  Museum Sasmita Loka Ahmad Yani adalah salah sa...         Budaya   \n",
              "9997  The Lodge Maribaya adalah salah satu tempat wi...     Cagar Alam   \n",
              "9998  Masjid Agung Trans Studio Bandung (TSB) berdir...  Tempat Ibadah   \n",
              "9999  Kawasan Tebing Watu Mabur ini terbilang belum ...     Cagar Alam   \n",
              "\n",
              "            City  Price  Rating  Time_Minutes  \\\n",
              "0     Yogyakarta  75000     4.6          90.0   \n",
              "1       Semarang   3000     4.1           NaN   \n",
              "2        Jakarta  94000     4.5          60.0   \n",
              "3       Semarang  10000     4.5          60.0   \n",
              "4     Yogyakarta      0     4.0           NaN   \n",
              "...          ...    ...     ...           ...   \n",
              "9995    Surabaya  35000     4.1           NaN   \n",
              "9996     Jakarta   2000     4.7          45.0   \n",
              "9997     Bandung  25000     4.3         150.0   \n",
              "9998     Bandung      0     4.8           NaN   \n",
              "9999  Yogyakarta   2500     4.5          60.0   \n",
              "\n",
              "                                           Coordinate       Lat        Long  \\\n",
              "0             {'lat': -7.7705416, 'lng': 110.4894158} -7.770542  110.489416   \n",
              "1              {'lat': -6.948877, 'lng': 110.3893285} -6.948877  110.389329   \n",
              "2                {'lat': -6.12419, 'lng': 106.839134} -6.124190  106.839134   \n",
              "3     {'lat': -7.264598899999997, 'lng': 110.4046017} -7.264599  110.404602   \n",
              "4      {'lat': -7.792189999999999, 'lng': 110.362151} -7.792190  110.362151   \n",
              "...                                               ...       ...         ...   \n",
              "9995  {'lat': -7.247796300000002, 'lng': 112.7998235} -7.247796  112.799824   \n",
              "9996  {'lat': -6.204630300000001, 'lng': 106.8365324} -6.204630  106.836532   \n",
              "9997  {'lat': -6.829411199999999, 'lng': 107.6874666} -6.829411  107.687467   \n",
              "9998  {'lat': -6.925963500000001, 'lng': 107.6354278} -6.925963  107.635428   \n",
              "9999               {'lat': -7.947121, 'lng': 110.441} -7.947121  110.441000   \n",
              "\n",
              "      Unnamed: 11  Unnamed: 12               Location  Age  \n",
              "0             NaN          179  Semarang, Jawa Tengah   20  \n",
              "1             NaN          344  Semarang, Jawa Tengah   20  \n",
              "2             NaN            5  Semarang, Jawa Tengah   20  \n",
              "3             NaN          373  Semarang, Jawa Tengah   20  \n",
              "4             NaN          101  Semarang, Jawa Tengah   20  \n",
              "...           ...          ...                    ...  ...  \n",
              "9995          NaN          425   Ponorogo, Jawa Timur   26  \n",
              "9996          NaN           64   Ponorogo, Jawa Timur   26  \n",
              "9997          NaN          311   Ponorogo, Jawa Timur   26  \n",
              "9998          NaN          279   Ponorogo, Jawa Timur   26  \n",
              "9999          NaN          163   Ponorogo, Jawa Timur   26  \n",
              "\n",
              "[10000 rows x 17 columns]>"
            ]
          },
          "metadata": {},
          "execution_count": 119
        }
      ]
    },
    {
      "cell_type": "code",
      "source": [
        "fifa_df = merged2.sort_values(by=\"Rating\", ascending=False)\n",
        "print(\"Players: \", fifa_df.shape[0])\n",
        "fifa_df.Place_Ratings"
      ],
      "metadata": {
        "colab": {
          "base_uri": "https://localhost:8080/"
        },
        "id": "fK-Eq9EnK0vp",
        "outputId": "dfe549a2-9756-44c8-cde0-3f53e1407bd9"
      },
      "execution_count": 120,
      "outputs": [
        {
          "output_type": "stream",
          "name": "stdout",
          "text": [
            "Players:  10000\n"
          ]
        },
        {
          "output_type": "execute_result",
          "data": {
            "text/plain": [
              "6139    2\n",
              "6168    2\n",
              "9457    4\n",
              "9420    5\n",
              "9736    2\n",
              "       ..\n",
              "2379    1\n",
              "6872    3\n",
              "2326    4\n",
              "8421    4\n",
              "2466    3\n",
              "Name: Place_Ratings, Length: 10000, dtype: int64"
            ]
          },
          "metadata": {},
          "execution_count": 120
        }
      ]
    },
    {
      "cell_type": "code",
      "source": [
        "print(\"Players: \", fifa_df.shape[0])\n",
        "fifa_df.head()"
      ],
      "metadata": {
        "colab": {
          "base_uri": "https://localhost:8080/",
          "height": 653
        },
        "id": "kGsJyoZn_RoR",
        "outputId": "d529b7d4-c4f3-4654-84ab-af7cb53fd3bb"
      },
      "execution_count": null,
      "outputs": [
        {
          "output_type": "stream",
          "name": "stdout",
          "text": [
            "Players:  10000\n"
          ]
        },
        {
          "output_type": "execute_result",
          "data": {
            "text/plain": [
              "      User_Id  Place_Id  Place_Ratings                          Place_Name  \\\n",
              "6139      184        29              2           Wisata Kuliner Pecenongan   \n",
              "6168      185       124              2        Kauman Pakualaman Yogyakarta   \n",
              "9457      285        69              4                     Freedom Library   \n",
              "9420      283        29              5           Wisata Kuliner Pecenongan   \n",
              "9736      293        95              2  Desa Wisata Sungai Code Jogja Kota   \n",
              "\n",
              "                                            Description            Category  \\\n",
              "6139  Pecenongan merupakan salah satu surga kuliner ...  Pusat Perbelanjaan   \n",
              "6168  Pakualaman adalah sebuah kecamatan di Kota Yog...              Budaya   \n",
              "9457  Freedom Library adalah perpustakaan buku yang ...              Budaya   \n",
              "9420  Pecenongan merupakan salah satu surga kuliner ...  Pusat Perbelanjaan   \n",
              "9736  Kampung Code berada di Kelurahan Kotabaru, Kec...       Taman Hiburan   \n",
              "\n",
              "            City  Price  Rating  Time_Minutes  \\\n",
              "6139     Jakarta      0     5.0           NaN   \n",
              "6168  Yogyakarta      0     5.0           NaN   \n",
              "9457     Jakarta      0     5.0           NaN   \n",
              "9420     Jakarta      0     5.0           NaN   \n",
              "9736  Yogyakarta      0     5.0           NaN   \n",
              "\n",
              "                                           Coordinate       Lat        Long  \\\n",
              "6139  {'lat': -6.166788700000001, 'lng': 106.8265261} -6.166789  106.826526   \n",
              "6168  {'lat': -7.801034700000001, 'lng': 110.3751922} -7.801035  110.375192   \n",
              "9457  {'lat': -6.202248200000001, 'lng': 106.8451968} -6.202248  106.845197   \n",
              "9420  {'lat': -6.166788700000001, 'lng': 106.8265261} -6.166789  106.826526   \n",
              "9736  {'lat': -7.822908900000001, 'lng': 110.3756894} -7.822909  110.375689   \n",
              "\n",
              "      Unnamed: 11  Unnamed: 12                    Location  Age  \n",
              "6139          NaN           29              Serang, Banten   30  \n",
              "6168          NaN          124        Cilacap, Jawa Tengah   33  \n",
              "9457          NaN           69  Jakarta Pusat, DKI Jakarta   29  \n",
              "9420          NaN           29           Bogor, Jawa Barat   37  \n",
              "9736          NaN           95          Subang, Jawa Barat   34  "
            ],
            "text/html": [
              "\n",
              "  <div id=\"df-1d449b37-54d1-4915-a84a-c5c2555ae0ff\">\n",
              "    <div class=\"colab-df-container\">\n",
              "      <div>\n",
              "<style scoped>\n",
              "    .dataframe tbody tr th:only-of-type {\n",
              "        vertical-align: middle;\n",
              "    }\n",
              "\n",
              "    .dataframe tbody tr th {\n",
              "        vertical-align: top;\n",
              "    }\n",
              "\n",
              "    .dataframe thead th {\n",
              "        text-align: right;\n",
              "    }\n",
              "</style>\n",
              "<table border=\"1\" class=\"dataframe\">\n",
              "  <thead>\n",
              "    <tr style=\"text-align: right;\">\n",
              "      <th></th>\n",
              "      <th>User_Id</th>\n",
              "      <th>Place_Id</th>\n",
              "      <th>Place_Ratings</th>\n",
              "      <th>Place_Name</th>\n",
              "      <th>Description</th>\n",
              "      <th>Category</th>\n",
              "      <th>City</th>\n",
              "      <th>Price</th>\n",
              "      <th>Rating</th>\n",
              "      <th>Time_Minutes</th>\n",
              "      <th>Coordinate</th>\n",
              "      <th>Lat</th>\n",
              "      <th>Long</th>\n",
              "      <th>Unnamed: 11</th>\n",
              "      <th>Unnamed: 12</th>\n",
              "      <th>Location</th>\n",
              "      <th>Age</th>\n",
              "    </tr>\n",
              "  </thead>\n",
              "  <tbody>\n",
              "    <tr>\n",
              "      <th>6139</th>\n",
              "      <td>184</td>\n",
              "      <td>29</td>\n",
              "      <td>2</td>\n",
              "      <td>Wisata Kuliner Pecenongan</td>\n",
              "      <td>Pecenongan merupakan salah satu surga kuliner ...</td>\n",
              "      <td>Pusat Perbelanjaan</td>\n",
              "      <td>Jakarta</td>\n",
              "      <td>0</td>\n",
              "      <td>5.0</td>\n",
              "      <td>NaN</td>\n",
              "      <td>{'lat': -6.166788700000001, 'lng': 106.8265261}</td>\n",
              "      <td>-6.166789</td>\n",
              "      <td>106.826526</td>\n",
              "      <td>NaN</td>\n",
              "      <td>29</td>\n",
              "      <td>Serang, Banten</td>\n",
              "      <td>30</td>\n",
              "    </tr>\n",
              "    <tr>\n",
              "      <th>6168</th>\n",
              "      <td>185</td>\n",
              "      <td>124</td>\n",
              "      <td>2</td>\n",
              "      <td>Kauman Pakualaman Yogyakarta</td>\n",
              "      <td>Pakualaman adalah sebuah kecamatan di Kota Yog...</td>\n",
              "      <td>Budaya</td>\n",
              "      <td>Yogyakarta</td>\n",
              "      <td>0</td>\n",
              "      <td>5.0</td>\n",
              "      <td>NaN</td>\n",
              "      <td>{'lat': -7.801034700000001, 'lng': 110.3751922}</td>\n",
              "      <td>-7.801035</td>\n",
              "      <td>110.375192</td>\n",
              "      <td>NaN</td>\n",
              "      <td>124</td>\n",
              "      <td>Cilacap, Jawa Tengah</td>\n",
              "      <td>33</td>\n",
              "    </tr>\n",
              "    <tr>\n",
              "      <th>9457</th>\n",
              "      <td>285</td>\n",
              "      <td>69</td>\n",
              "      <td>4</td>\n",
              "      <td>Freedom Library</td>\n",
              "      <td>Freedom Library adalah perpustakaan buku yang ...</td>\n",
              "      <td>Budaya</td>\n",
              "      <td>Jakarta</td>\n",
              "      <td>0</td>\n",
              "      <td>5.0</td>\n",
              "      <td>NaN</td>\n",
              "      <td>{'lat': -6.202248200000001, 'lng': 106.8451968}</td>\n",
              "      <td>-6.202248</td>\n",
              "      <td>106.845197</td>\n",
              "      <td>NaN</td>\n",
              "      <td>69</td>\n",
              "      <td>Jakarta Pusat, DKI Jakarta</td>\n",
              "      <td>29</td>\n",
              "    </tr>\n",
              "    <tr>\n",
              "      <th>9420</th>\n",
              "      <td>283</td>\n",
              "      <td>29</td>\n",
              "      <td>5</td>\n",
              "      <td>Wisata Kuliner Pecenongan</td>\n",
              "      <td>Pecenongan merupakan salah satu surga kuliner ...</td>\n",
              "      <td>Pusat Perbelanjaan</td>\n",
              "      <td>Jakarta</td>\n",
              "      <td>0</td>\n",
              "      <td>5.0</td>\n",
              "      <td>NaN</td>\n",
              "      <td>{'lat': -6.166788700000001, 'lng': 106.8265261}</td>\n",
              "      <td>-6.166789</td>\n",
              "      <td>106.826526</td>\n",
              "      <td>NaN</td>\n",
              "      <td>29</td>\n",
              "      <td>Bogor, Jawa Barat</td>\n",
              "      <td>37</td>\n",
              "    </tr>\n",
              "    <tr>\n",
              "      <th>9736</th>\n",
              "      <td>293</td>\n",
              "      <td>95</td>\n",
              "      <td>2</td>\n",
              "      <td>Desa Wisata Sungai Code Jogja Kota</td>\n",
              "      <td>Kampung Code berada di Kelurahan Kotabaru, Kec...</td>\n",
              "      <td>Taman Hiburan</td>\n",
              "      <td>Yogyakarta</td>\n",
              "      <td>0</td>\n",
              "      <td>5.0</td>\n",
              "      <td>NaN</td>\n",
              "      <td>{'lat': -7.822908900000001, 'lng': 110.3756894}</td>\n",
              "      <td>-7.822909</td>\n",
              "      <td>110.375689</td>\n",
              "      <td>NaN</td>\n",
              "      <td>95</td>\n",
              "      <td>Subang, Jawa Barat</td>\n",
              "      <td>34</td>\n",
              "    </tr>\n",
              "  </tbody>\n",
              "</table>\n",
              "</div>\n",
              "      <button class=\"colab-df-convert\" onclick=\"convertToInteractive('df-1d449b37-54d1-4915-a84a-c5c2555ae0ff')\"\n",
              "              title=\"Convert this dataframe to an interactive table.\"\n",
              "              style=\"display:none;\">\n",
              "        \n",
              "  <svg xmlns=\"http://www.w3.org/2000/svg\" height=\"24px\"viewBox=\"0 0 24 24\"\n",
              "       width=\"24px\">\n",
              "    <path d=\"M0 0h24v24H0V0z\" fill=\"none\"/>\n",
              "    <path d=\"M18.56 5.44l.94 2.06.94-2.06 2.06-.94-2.06-.94-.94-2.06-.94 2.06-2.06.94zm-11 1L8.5 8.5l.94-2.06 2.06-.94-2.06-.94L8.5 2.5l-.94 2.06-2.06.94zm10 10l.94 2.06.94-2.06 2.06-.94-2.06-.94-.94-2.06-.94 2.06-2.06.94z\"/><path d=\"M17.41 7.96l-1.37-1.37c-.4-.4-.92-.59-1.43-.59-.52 0-1.04.2-1.43.59L10.3 9.45l-7.72 7.72c-.78.78-.78 2.05 0 2.83L4 21.41c.39.39.9.59 1.41.59.51 0 1.02-.2 1.41-.59l7.78-7.78 2.81-2.81c.8-.78.8-2.07 0-2.86zM5.41 20L4 18.59l7.72-7.72 1.47 1.35L5.41 20z\"/>\n",
              "  </svg>\n",
              "      </button>\n",
              "      \n",
              "  <style>\n",
              "    .colab-df-container {\n",
              "      display:flex;\n",
              "      flex-wrap:wrap;\n",
              "      gap: 12px;\n",
              "    }\n",
              "\n",
              "    .colab-df-convert {\n",
              "      background-color: #E8F0FE;\n",
              "      border: none;\n",
              "      border-radius: 50%;\n",
              "      cursor: pointer;\n",
              "      display: none;\n",
              "      fill: #1967D2;\n",
              "      height: 32px;\n",
              "      padding: 0 0 0 0;\n",
              "      width: 32px;\n",
              "    }\n",
              "\n",
              "    .colab-df-convert:hover {\n",
              "      background-color: #E2EBFA;\n",
              "      box-shadow: 0px 1px 2px rgba(60, 64, 67, 0.3), 0px 1px 3px 1px rgba(60, 64, 67, 0.15);\n",
              "      fill: #174EA6;\n",
              "    }\n",
              "\n",
              "    [theme=dark] .colab-df-convert {\n",
              "      background-color: #3B4455;\n",
              "      fill: #D2E3FC;\n",
              "    }\n",
              "\n",
              "    [theme=dark] .colab-df-convert:hover {\n",
              "      background-color: #434B5C;\n",
              "      box-shadow: 0px 1px 3px 1px rgba(0, 0, 0, 0.15);\n",
              "      filter: drop-shadow(0px 1px 2px rgba(0, 0, 0, 0.3));\n",
              "      fill: #FFFFFF;\n",
              "    }\n",
              "  </style>\n",
              "\n",
              "      <script>\n",
              "        const buttonEl =\n",
              "          document.querySelector('#df-1d449b37-54d1-4915-a84a-c5c2555ae0ff button.colab-df-convert');\n",
              "        buttonEl.style.display =\n",
              "          google.colab.kernel.accessAllowed ? 'block' : 'none';\n",
              "\n",
              "        async function convertToInteractive(key) {\n",
              "          const element = document.querySelector('#df-1d449b37-54d1-4915-a84a-c5c2555ae0ff');\n",
              "          const dataTable =\n",
              "            await google.colab.kernel.invokeFunction('convertToInteractive',\n",
              "                                                     [key], {});\n",
              "          if (!dataTable) return;\n",
              "\n",
              "          const docLinkHtml = 'Like what you see? Visit the ' +\n",
              "            '<a target=\"_blank\" href=https://colab.research.google.com/notebooks/data_table.ipynb>data table notebook</a>'\n",
              "            + ' to learn more about interactive tables.';\n",
              "          element.innerHTML = '';\n",
              "          dataTable['output_type'] = 'display_data';\n",
              "          await google.colab.output.renderOutput(dataTable, element);\n",
              "          const docLink = document.createElement('div');\n",
              "          docLink.innerHTML = docLinkHtml;\n",
              "          element.appendChild(docLink);\n",
              "        }\n",
              "      </script>\n",
              "    </div>\n",
              "  </div>\n",
              "  "
            ]
          },
          "metadata": {},
          "execution_count": 26
        }
      ]
    },
    {
      "cell_type": "code",
      "source": [],
      "metadata": {
        "id": "cijMAxVQ_XIN"
      },
      "execution_count": null,
      "outputs": []
    },
    {
      "cell_type": "code",
      "source": [
        "from matplotlib import pyplot as plt    \n",
        "\n",
        "fig = plt.figure()\n",
        "ax = fifa_df.Place_Ratings.value_counts(True).sort_index().plot.bar(figsize=(8,6))\n",
        "vals = ax.get_yticks()\n",
        "ax.set_yticklabels(['{:,.0%}'.format(x) for x in vals])\n",
        "plt.xlabel('Rating', fontsize=12)\n",
        "plt.ylabel('Share of Ratings', fontsize=12)\n",
        "plt.xticks(fontsize=12)\n",
        "plt.yticks(fontsize=12)\n",
        "fig.savefig('Ratings_distribution.png')"
      ],
      "metadata": {
        "colab": {
          "base_uri": "https://localhost:8080/",
          "height": 389
        },
        "id": "h_15EorkfdNt",
        "outputId": "29138bf9-8405-451a-f49d-4a0e9dec4eb7"
      },
      "execution_count": 121,
      "outputs": [
        {
          "output_type": "display_data",
          "data": {
            "text/plain": [
              "<Figure size 576x432 with 1 Axes>"
            ],
            "image/png": "[encoded data removed]"
          },
          "metadata": {
            "needs_background": "light"
          }
        }
      ]
    },
    {
      "cell_type": "markdown",
      "source": [
        "** need to check if the rating is 1 to 5 similar to the movies dataset in indonesia dataset as well as in the yelp reviews stars field dataset"
      ],
      "metadata": {
        "id": "u7y4BOAhY5C7"
      }
    },
    {
      "cell_type": "markdown",
      "source": [
        "# **2. To implement Graph structure importing necessary packages**"
      ],
      "metadata": {
        "id": "erCzR8f1y0v_"
      }
    },
    {
      "cell_type": "code",
      "source": [
        "# Install required packages.\n",
        "import os\n",
        "import torch\n",
        "os.environ['TORCH'] = torch.__version__\n",
        "print(torch.__version__)"
      ],
      "metadata": {
        "colab": {
          "base_uri": "https://localhost:8080/"
        },
        "id": "YRp2XgkLyzeo",
        "outputId": "ef80908a-8b71-4bbb-a936-f24b37a3f0be"
      },
      "execution_count": 106,
      "outputs": [
        {
          "output_type": "stream",
          "name": "stdout",
          "text": [
            "1.12.1+cu113\n"
          ]
        }
      ]
    },
    {
      "cell_type": "code",
      "source": [
        "!pip install -q torch-scatter -f https://data.pyg.org/whl/torch-${TORCH}.html\n",
        "!pip install -q torch-sparse -f https://data.pyg.org/whl/torch-${TORCH}.html\n",
        "!pip install -q git+https://github.com/pyg-team/pytorch_geometric.git"
      ],
      "metadata": {
        "colab": {
          "base_uri": "https://localhost:8080/"
        },
        "id": "0H4QIM0_8qeE",
        "outputId": "2c91abd7-fbf0-4898-f5b0-a78df7dd4894"
      },
      "execution_count": 4,
      "outputs": [
        {
          "output_type": "stream",
          "name": "stdout",
          "text": [
            "\u001b[K     |████████████████████████████████| 7.9 MB 38.6 MB/s \n",
            "\u001b[K     |████████████████████████████████| 3.5 MB 44.8 MB/s \n",
            "\u001b[?25h  Building wheel for torch-geometric (setup.py) ... \u001b[?25l\u001b[?25hdone\n"
          ]
        }
      ]
    },
    {
      "cell_type": "code",
      "source": [
        "!pip install -U -q PyDrive\n",
        "!pip install -q git+https://github.com/snap-stanford/deepsnap.git"
      ],
      "metadata": {
        "colab": {
          "base_uri": "https://localhost:8080/"
        },
        "id": "2oozwwGz9VMb",
        "outputId": "fb83f670-c63d-4f1f-8c8b-27898280fce1"
      },
      "execution_count": 5,
      "outputs": [
        {
          "output_type": "stream",
          "name": "stdout",
          "text": [
            "  Building wheel for deepsnap (setup.py) ... \u001b[?25l\u001b[?25hdone\n"
          ]
        }
      ]
    },
    {
      "cell_type": "markdown",
      "source": [
        "#**3. Mount the google drive**"
      ],
      "metadata": {
        "id": "yRI1VFUKCqPE"
      }
    },
    {
      "cell_type": "code",
      "source": [
        "from google.colab import drive\n",
        "drive.mount('/content/drive')"
      ],
      "metadata": {
        "colab": {
          "base_uri": "https://localhost:8080/"
        },
        "id": "7yS_4zxcSGkl",
        "outputId": "10e8a065-c2b0-4ddd-bef3-c815d3843e01"
      },
      "execution_count": 2,
      "outputs": [
        {
          "output_type": "stream",
          "name": "stdout",
          "text": [
            "Mounted at /content/drive\n"
          ]
        }
      ]
    },
    {
      "cell_type": "markdown",
      "source": [
        "# **4. import required modules**"
      ],
      "metadata": {
        "id": "yqdRoAW27Unv"
      }
    },
    {
      "cell_type": "code",
      "source": [
        "import random\n",
        "from tqdm import tqdm\n",
        "import pandas as pd\n",
        "import numpy as np\n",
        "import matplotlib.pyplot as plt\n",
        "from sklearn.model_selection import train_test_split"
      ],
      "metadata": {
        "id": "x1NRAFq07Ncf"
      },
      "execution_count": 107,
      "outputs": []
    },
    {
      "cell_type": "code",
      "source": [
        "import torch\n",
        "from torch import nn, optim, Tensor"
      ],
      "metadata": {
        "id": "taTh_Rqn8PyR"
      },
      "execution_count": 108,
      "outputs": []
    },
    {
      "cell_type": "code",
      "source": [
        "import torch_geometric"
      ],
      "metadata": {
        "id": "X1e8yonl9lL9"
      },
      "execution_count": 109,
      "outputs": []
    },
    {
      "cell_type": "code",
      "source": [
        "from torch_sparse import SparseTensor, matmul"
      ],
      "metadata": {
        "id": "YiPQ_PtG8R8t"
      },
      "execution_count": 110,
      "outputs": []
    },
    {
      "cell_type": "code",
      "source": [
        "from torch_geometric.utils import structured_negative_sampling\n",
        "from torch_geometric.data import download_url, extract_zip\n",
        "from torch_geometric.nn.conv.gcn_conv import gcn_norm\n",
        "from torch_geometric.nn.conv import MessagePassing\n",
        "from torch_geometric.typing import Adj"
      ],
      "metadata": {
        "id": "2gV4B_qj8Vbb"
      },
      "execution_count": 111,
      "outputs": []
    },
    {
      "cell_type": "markdown",
      "source": [
        "# **5. Load the dataset**"
      ],
      "metadata": {
        "id": "i6AFURJ3AwQv"
      }
    },
    {
      "cell_type": "markdown",
      "source": [
        "We have yelp reviews - that contains information about the users and businesses.It shows the relation of how the users rated the business/trips."
      ],
      "metadata": {
        "id": "LYt68k_IC0ac"
      }
    },
    {
      "cell_type": "code",
      "source": [
        "# download the Yelp dataset .csv file\n",
        "# This will download the CSV file from the google drive.\n",
        "\n",
        "import pandas as pd\n",
        "\n",
        "review_path=\"/content/drive/MyDrive/GCN_TripRecommendation/datasets/yelp_training_set_review.csv\"\n"
      ],
      "metadata": {
        "id": "L3NIvUvb_k1o"
      },
      "execution_count": 122,
      "outputs": []
    },
    {
      "cell_type": "code",
      "source": [
        "# load user and review nodes\n",
        "def load_node_csv(path, index_col):\n",
        "    \"\"\"Loads csv containing node information\n",
        "\n",
        "    Args:\n",
        "        path (str): path to csv file\n",
        "        index_col (str): column name of index column\n",
        "\n",
        "    Returns:\n",
        "        dict: mapping of csv row to node id\n",
        "    \"\"\"\n",
        "    df = pd.read_csv(path, index_col=index_col)\n",
        "    mapping = {index: i for i, index in enumerate(df.index.unique())}\n",
        "    return mapping"
      ],
      "metadata": {
        "id": "HA0Sy2pcRSv6"
      },
      "execution_count": 123,
      "outputs": []
    },
    {
      "cell_type": "code",
      "source": [
        "reviews=pd.read_csv(review_path)"
      ],
      "metadata": {
        "id": "NbgyMIEF0NOV"
      },
      "execution_count": 124,
      "outputs": []
    },
    {
      "cell_type": "code",
      "source": [
        "reviews.head()"
      ],
      "metadata": {
        "colab": {
          "base_uri": "https://localhost:8080/",
          "height": 785
        },
        "id": "tWa6DqQ20T5h",
        "outputId": "777754ba-cba5-4ef6-c903-9f2a8a5beea3"
      },
      "execution_count": 125,
      "outputs": [
        {
          "output_type": "execute_result",
          "data": {
            "text/plain": [
              "   Unnamed: 0  business_blank              business_categories business_city  \\\n",
              "0           0           False  Breakfast & Brunch; Restaurants       Phoenix   \n",
              "1           1           False      Italian; Pizza; Restaurants       Phoenix   \n",
              "2           2           False      Middle Eastern; Restaurants         Tempe   \n",
              "3           3           False    Active Life; Dog Parks; Parks    Scottsdale   \n",
              "4           4           False                Tires; Automotive          Mesa   \n",
              "\n",
              "                     business_full_address             business_id  \\\n",
              "0        6106 S 32nd St\\nPhoenix, AZ 85042  9yKzy9PApeiPPOUJEtnvkg   \n",
              "1  4848 E Chandler Blvd\\nPhoenix, AZ 85044  ZRJwVLyzEJq1VAihDhYiow   \n",
              "2     1513 E  Apache Blvd\\nTempe, AZ 85281  6oRAC4uyJCsJl1X0WZpVSA   \n",
              "3   5401 N Hayden Rd\\nScottsdale, AZ 85250  _1QQZuf4zZOyFCvXc0o6Vg   \n",
              "4        1357 S Power Road\\nMesa, AZ 85206  6ozycU1RpktNG2-1BroVtw   \n",
              "\n",
              "   business_latitude  business_longitude       business_name  \\\n",
              "0          33.390792         -112.012504  Morning Glory Cafe   \n",
              "1          33.305607         -111.978758  Spinato's Pizzeria   \n",
              "2          33.414345         -111.913031           Haji-Baba   \n",
              "3          33.522945         -111.907886  Chaparral Dog Park   \n",
              "4          33.391027         -111.684482       Discount Tire   \n",
              "\n",
              "   business_neighborhoods  ...  reviewer_funny  reviewer_name  \\\n",
              "0                     NaN  ...             331          Jason   \n",
              "1                     NaN  ...               2           Paul   \n",
              "2                     NaN  ...               0         Nicole   \n",
              "3                     NaN  ...              18        lindsey   \n",
              "4                     NaN  ...               3          Roger   \n",
              "\n",
              "   reviewer_review_count reviewer_type reviewer_useful  stars  \\\n",
              "0                    376          user            1034      5   \n",
              "1                      2          user               0      5   \n",
              "2                      3          user               3      4   \n",
              "3                     31          user              75      5   \n",
              "4                     28          user              32      5   \n",
              "\n",
              "                                                text    type useful  \\\n",
              "0  My wife took me here on my birthday for breakf...  review      5   \n",
              "1  I have no idea why some people give bad review...  review      0   \n",
              "2  love the gyro plate. Rice is so good and I als...  review      1   \n",
              "3  Rosie, Dakota, and I LOVE Chaparral Dog Park!!...  review      2   \n",
              "4  General Manager Scott Petello is a good egg!!!...  review      0   \n",
              "\n",
              "                  user_id  \n",
              "0  rLtl8ZkDX5vH5nAx9C3q5Q  \n",
              "1  0a2KyEL0d3Yb1V6aivbIuQ  \n",
              "2  0hT2KtfLiobPvh6cDC8JQg  \n",
              "3  uZetl9T0NcROGOyFfughhg  \n",
              "4  vYmM4KTsC8ZfQBg-j5MWkw  \n",
              "\n",
              "[5 rows x 32 columns]"
            ],
            "text/html": [
              "\n",
              "  <div id=\"df-7c7d28e6-e51e-4c58-a9f9-13ebff439b3f\">\n",
              "    <div class=\"colab-df-container\">\n",
              "      <div>\n",
              "<style scoped>\n",
              "    .dataframe tbody tr th:only-of-type {\n",
              "        vertical-align: middle;\n",
              "    }\n",
              "\n",
              "    .dataframe tbody tr th {\n",
              "        vertical-align: top;\n",
              "    }\n",
              "\n",
              "    .dataframe thead th {\n",
              "        text-align: right;\n",
              "    }\n",
              "</style>\n",
              "<table border=\"1\" class=\"dataframe\">\n",
              "  <thead>\n",
              "    <tr style=\"text-align: right;\">\n",
              "      <th></th>\n",
              "      <th>Unnamed: 0</th>\n",
              "      <th>business_blank</th>\n",
              "      <th>business_categories</th>\n",
              "      <th>business_city</th>\n",
              "      <th>business_full_address</th>\n",
              "      <th>business_id</th>\n",
              "      <th>business_latitude</th>\n",
              "      <th>business_longitude</th>\n",
              "      <th>business_name</th>\n",
              "      <th>business_neighborhoods</th>\n",
              "      <th>...</th>\n",
              "      <th>reviewer_funny</th>\n",
              "      <th>reviewer_name</th>\n",
              "      <th>reviewer_review_count</th>\n",
              "      <th>reviewer_type</th>\n",
              "      <th>reviewer_useful</th>\n",
              "      <th>stars</th>\n",
              "      <th>text</th>\n",
              "      <th>type</th>\n",
              "      <th>useful</th>\n",
              "      <th>user_id</th>\n",
              "    </tr>\n",
              "  </thead>\n",
              "  <tbody>\n",
              "    <tr>\n",
              "      <th>0</th>\n",
              "      <td>0</td>\n",
              "      <td>False</td>\n",
              "      <td>Breakfast &amp; Brunch; Restaurants</td>\n",
              "      <td>Phoenix</td>\n",
              "      <td>6106 S 32nd St\\nPhoenix, AZ 85042</td>\n",
              "      <td>9yKzy9PApeiPPOUJEtnvkg</td>\n",
              "      <td>33.390792</td>\n",
              "      <td>-112.012504</td>\n",
              "      <td>Morning Glory Cafe</td>\n",
              "      <td>NaN</td>\n",
              "      <td>...</td>\n",
              "      <td>331</td>\n",
              "      <td>Jason</td>\n",
              "      <td>376</td>\n",
              "      <td>user</td>\n",
              "      <td>1034</td>\n",
              "      <td>5</td>\n",
              "      <td>My wife took me here on my birthday for breakf...</td>\n",
              "      <td>review</td>\n",
              "      <td>5</td>\n",
              "      <td>rLtl8ZkDX5vH5nAx9C3q5Q</td>\n",
              "    </tr>\n",
              "    <tr>\n",
              "      <th>1</th>\n",
              "      <td>1</td>\n",
              "      <td>False</td>\n",
              "      <td>Italian; Pizza; Restaurants</td>\n",
              "      <td>Phoenix</td>\n",
              "      <td>4848 E Chandler Blvd\\nPhoenix, AZ 85044</td>\n",
              "      <td>ZRJwVLyzEJq1VAihDhYiow</td>\n",
              "      <td>33.305607</td>\n",
              "      <td>-111.978758</td>\n",
              "      <td>Spinato's Pizzeria</td>\n",
              "      <td>NaN</td>\n",
              "      <td>...</td>\n",
              "      <td>2</td>\n",
              "      <td>Paul</td>\n",
              "      <td>2</td>\n",
              "      <td>user</td>\n",
              "      <td>0</td>\n",
              "      <td>5</td>\n",
              "      <td>I have no idea why some people give bad review...</td>\n",
              "      <td>review</td>\n",
              "      <td>0</td>\n",
              "      <td>0a2KyEL0d3Yb1V6aivbIuQ</td>\n",
              "    </tr>\n",
              "    <tr>\n",
              "      <th>2</th>\n",
              "      <td>2</td>\n",
              "      <td>False</td>\n",
              "      <td>Middle Eastern; Restaurants</td>\n",
              "      <td>Tempe</td>\n",
              "      <td>1513 E  Apache Blvd\\nTempe, AZ 85281</td>\n",
              "      <td>6oRAC4uyJCsJl1X0WZpVSA</td>\n",
              "      <td>33.414345</td>\n",
              "      <td>-111.913031</td>\n",
              "      <td>Haji-Baba</td>\n",
              "      <td>NaN</td>\n",
              "      <td>...</td>\n",
              "      <td>0</td>\n",
              "      <td>Nicole</td>\n",
              "      <td>3</td>\n",
              "      <td>user</td>\n",
              "      <td>3</td>\n",
              "      <td>4</td>\n",
              "      <td>love the gyro plate. Rice is so good and I als...</td>\n",
              "      <td>review</td>\n",
              "      <td>1</td>\n",
              "      <td>0hT2KtfLiobPvh6cDC8JQg</td>\n",
              "    </tr>\n",
              "    <tr>\n",
              "      <th>3</th>\n",
              "      <td>3</td>\n",
              "      <td>False</td>\n",
              "      <td>Active Life; Dog Parks; Parks</td>\n",
              "      <td>Scottsdale</td>\n",
              "      <td>5401 N Hayden Rd\\nScottsdale, AZ 85250</td>\n",
              "      <td>_1QQZuf4zZOyFCvXc0o6Vg</td>\n",
              "      <td>33.522945</td>\n",
              "      <td>-111.907886</td>\n",
              "      <td>Chaparral Dog Park</td>\n",
              "      <td>NaN</td>\n",
              "      <td>...</td>\n",
              "      <td>18</td>\n",
              "      <td>lindsey</td>\n",
              "      <td>31</td>\n",
              "      <td>user</td>\n",
              "      <td>75</td>\n",
              "      <td>5</td>\n",
              "      <td>Rosie, Dakota, and I LOVE Chaparral Dog Park!!...</td>\n",
              "      <td>review</td>\n",
              "      <td>2</td>\n",
              "      <td>uZetl9T0NcROGOyFfughhg</td>\n",
              "    </tr>\n",
              "    <tr>\n",
              "      <th>4</th>\n",
              "      <td>4</td>\n",
              "      <td>False</td>\n",
              "      <td>Tires; Automotive</td>\n",
              "      <td>Mesa</td>\n",
              "      <td>1357 S Power Road\\nMesa, AZ 85206</td>\n",
              "      <td>6ozycU1RpktNG2-1BroVtw</td>\n",
              "      <td>33.391027</td>\n",
              "      <td>-111.684482</td>\n",
              "      <td>Discount Tire</td>\n",
              "      <td>NaN</td>\n",
              "      <td>...</td>\n",
              "      <td>3</td>\n",
              "      <td>Roger</td>\n",
              "      <td>28</td>\n",
              "      <td>user</td>\n",
              "      <td>32</td>\n",
              "      <td>5</td>\n",
              "      <td>General Manager Scott Petello is a good egg!!!...</td>\n",
              "      <td>review</td>\n",
              "      <td>0</td>\n",
              "      <td>vYmM4KTsC8ZfQBg-j5MWkw</td>\n",
              "    </tr>\n",
              "  </tbody>\n",
              "</table>\n",
              "<p>5 rows × 32 columns</p>\n",
              "</div>\n",
              "      <button class=\"colab-df-convert\" onclick=\"convertToInteractive('df-7c7d28e6-e51e-4c58-a9f9-13ebff439b3f')\"\n",
              "              title=\"Convert this dataframe to an interactive table.\"\n",
              "              style=\"display:none;\">\n",
              "        \n",
              "  <svg xmlns=\"http://www.w3.org/2000/svg\" height=\"24px\"viewBox=\"0 0 24 24\"\n",
              "       width=\"24px\">\n",
              "    <path d=\"M0 0h24v24H0V0z\" fill=\"none\"/>\n",
              "    <path d=\"M18.56 5.44l.94 2.06.94-2.06 2.06-.94-2.06-.94-.94-2.06-.94 2.06-2.06.94zm-11 1L8.5 8.5l.94-2.06 2.06-.94-2.06-.94L8.5 2.5l-.94 2.06-2.06.94zm10 10l.94 2.06.94-2.06 2.06-.94-2.06-.94-.94-2.06-.94 2.06-2.06.94z\"/><path d=\"M17.41 7.96l-1.37-1.37c-.4-.4-.92-.59-1.43-.59-.52 0-1.04.2-1.43.59L10.3 9.45l-7.72 7.72c-.78.78-.78 2.05 0 2.83L4 21.41c.39.39.9.59 1.41.59.51 0 1.02-.2 1.41-.59l7.78-7.78 2.81-2.81c.8-.78.8-2.07 0-2.86zM5.41 20L4 18.59l7.72-7.72 1.47 1.35L5.41 20z\"/>\n",
              "  </svg>\n",
              "      </button>\n",
              "      \n",
              "  <style>\n",
              "    .colab-df-container {\n",
              "      display:flex;\n",
              "      flex-wrap:wrap;\n",
              "      gap: 12px;\n",
              "    }\n",
              "\n",
              "    .colab-df-convert {\n",
              "      background-color: #E8F0FE;\n",
              "      border: none;\n",
              "      border-radius: 50%;\n",
              "      cursor: pointer;\n",
              "      display: none;\n",
              "      fill: #1967D2;\n",
              "      height: 32px;\n",
              "      padding: 0 0 0 0;\n",
              "      width: 32px;\n",
              "    }\n",
              "\n",
              "    .colab-df-convert:hover {\n",
              "      background-color: #E2EBFA;\n",
              "      box-shadow: 0px 1px 2px rgba(60, 64, 67, 0.3), 0px 1px 3px 1px rgba(60, 64, 67, 0.15);\n",
              "      fill: #174EA6;\n",
              "    }\n",
              "\n",
              "    [theme=dark] .colab-df-convert {\n",
              "      background-color: #3B4455;\n",
              "      fill: #D2E3FC;\n",
              "    }\n",
              "\n",
              "    [theme=dark] .colab-df-convert:hover {\n",
              "      background-color: #434B5C;\n",
              "      box-shadow: 0px 1px 3px 1px rgba(0, 0, 0, 0.15);\n",
              "      filter: drop-shadow(0px 1px 2px rgba(0, 0, 0, 0.3));\n",
              "      fill: #FFFFFF;\n",
              "    }\n",
              "  </style>\n",
              "\n",
              "      <script>\n",
              "        const buttonEl =\n",
              "          document.querySelector('#df-7c7d28e6-e51e-4c58-a9f9-13ebff439b3f button.colab-df-convert');\n",
              "        buttonEl.style.display =\n",
              "          google.colab.kernel.accessAllowed ? 'block' : 'none';\n",
              "\n",
              "        async function convertToInteractive(key) {\n",
              "          const element = document.querySelector('#df-7c7d28e6-e51e-4c58-a9f9-13ebff439b3f');\n",
              "          const dataTable =\n",
              "            await google.colab.kernel.invokeFunction('convertToInteractive',\n",
              "                                                     [key], {});\n",
              "          if (!dataTable) return;\n",
              "\n",
              "          const docLinkHtml = 'Like what you see? Visit the ' +\n",
              "            '<a target=\"_blank\" href=https://colab.research.google.com/notebooks/data_table.ipynb>data table notebook</a>'\n",
              "            + ' to learn more about interactive tables.';\n",
              "          element.innerHTML = '';\n",
              "          dataTable['output_type'] = 'display_data';\n",
              "          await google.colab.output.renderOutput(dataTable, element);\n",
              "          const docLink = document.createElement('div');\n",
              "          docLink.innerHTML = docLinkHtml;\n",
              "          element.appendChild(docLink);\n",
              "        }\n",
              "      </script>\n",
              "    </div>\n",
              "  </div>\n",
              "  "
            ]
          },
          "metadata": {},
          "execution_count": 125
        }
      ]
    },
    {
      "cell_type": "code",
      "source": [
        "reviews.user_id.is_unique"
      ],
      "metadata": {
        "colab": {
          "base_uri": "https://localhost:8080/"
        },
        "id": "HXX_dOlmGTh_",
        "outputId": "b801dbe2-43d4-4ac2-f50e-9ff0bda707eb"
      },
      "execution_count": 16,
      "outputs": [
        {
          "output_type": "execute_result",
          "data": {
            "text/plain": [
              "False"
            ]
          },
          "metadata": {},
          "execution_count": 16
        }
      ]
    },
    {
      "cell_type": "code",
      "source": [
        "reviews.business_id.is_unique"
      ],
      "metadata": {
        "id": "8P9yCr63yXHC"
      },
      "execution_count": null,
      "outputs": []
    },
    {
      "cell_type": "code",
      "source": [
        "user_mapping = load_node_csv(review_path, index_col='user_id')\n",
        "review_mapping = load_node_csv(review_path, index_col='business_id')"
      ],
      "metadata": {
        "id": "lBCBg4P4oRrF"
      },
      "execution_count": 269,
      "outputs": []
    },
    {
      "cell_type": "code",
      "source": [
        "# load edges between users and movies\n",
        "def load_edge_csv(path, src_index_col, src_mapping, dst_index_col, dst_mapping, link_index_col,rating_threshold):\n",
        "    \"\"\"Loads csv containing edges between users and items\n",
        "\n",
        "    Args:\n",
        "        path (str): path to csv file\n",
        "        src_index_col (str): column name of users\n",
        "        src_mapping (dict): mapping between row number and user id\n",
        "        dst_index_col (str): column name of items\n",
        "        dst_mapping (dict): mapping between row number and item id\n",
        "        link_index_col (str): column name of user item interaction\n",
        "        rating_threshold (int, optional): Threshold to determine positivity of edge. Defaults to 4.\n",
        "\n",
        "    Returns:\n",
        "        torch.Tensor: 2 by N matrix containing the node ids of N user-item edges\n",
        "    \"\"\"\n",
        "    df = pd.read_csv(path)\n",
        "    edge_index = None\n",
        "    src = [src_mapping[index] for index in df[src_index_col]]\n",
        "    dst = [dst_mapping[index] for index in df[dst_index_col]]\n",
        "    edge_attr = torch.from_numpy(df[link_index_col].values).view(-1, 1).to(torch.long) >= rating_threshold\n",
        "  # checks if there exists edge between user and business_item and creates edges if there exists a link/relation between user and item.\n",
        "    edge_index = [[],[]]\n",
        "    for i in range(edge_attr.shape[0]):\n",
        "        if edge_attr[i]:\n",
        "            edge_index[0].append(src[i])\n",
        "            edge_index[1].append(dst[i])\n",
        "            \n",
        "\n",
        "    return torch.tensor(edge_index)\n",
        "\n",
        "\n"
      ],
      "metadata": {
        "id": "USIsK6LEM-Ng"
      },
      "execution_count": 270,
      "outputs": []
    },
    {
      "cell_type": "code",
      "source": [
        "edge_index = load_edge_csv(\n",
        "    review_path,\n",
        "    src_index_col='user_id',\n",
        "    src_mapping=user_mapping,\n",
        "    dst_index_col='business_id',\n",
        "    dst_mapping=review_mapping,\n",
        "    link_index_col='stars',\n",
        "    rating_threshold=4,\n",
        ")"
      ],
      "metadata": {
        "id": "M_wWZS-ntbJE"
      },
      "execution_count": 271,
      "outputs": []
    },
    {
      "cell_type": "code",
      "source": [
        "review_mapping.values()"
      ],
      "metadata": {
        "id": "9Pu33CBK0L9_"
      },
      "execution_count": null,
      "outputs": []
    },
    {
      "cell_type": "code",
      "source": [
        "edge_index"
      ],
      "metadata": {
        "colab": {
          "base_uri": "https://localhost:8080/"
        },
        "id": "EuIjT32dWRsd",
        "outputId": "3bb9ca59-0277-4563-c42e-548fb08ab2c9"
      },
      "execution_count": 273,
      "outputs": [
        {
          "output_type": "execute_result",
          "data": {
            "text/plain": [
              "tensor([[    0,     1,     2,  ..., 10752, 15502,  8110],\n",
              "        [    0,     1,     2,  ...,  2747,   289,  5327]])"
            ]
          },
          "metadata": {},
          "execution_count": 273
        }
      ]
    },
    {
      "cell_type": "markdown",
      "source": [
        "# **6. Display a sample Bipartite Graph**"
      ],
      "metadata": {
        "id": "Q-4dFIoc0CRq"
      }
    },
    {
      "cell_type": "code",
      "source": [
        "import networkx as nx\n",
        "from networkx.algorithms import bipartite  # Conversion function"
      ],
      "metadata": {
        "id": "8AtysB7HLQSb"
      },
      "execution_count": 22,
      "outputs": []
    },
    {
      "cell_type": "code",
      "source": [
        "src = [user_mapping[index] for index in df['user_id']]\n",
        "dst = [review_mapping[index] for index in df['business_id']]\n",
        "edge_attr = torch.from_numpy(df['stars'].values).view(-1, 1).to(torch.long) >= 4\n",
        "edge_index = [[], [], []]\n",
        "for i in range(edge_attr.shape[0]):\n",
        "        if edge_attr[i]:\n",
        "            edge_index[0].append(src[i])\n",
        "            edge_index[1].\n",
        "            edge_index[2].append(dst[i])"
      ],
      "metadata": {
        "id": "OaDfPivVQZp3"
      },
      "execution_count": 265,
      "outputs": []
    },
    {
      "cell_type": "code",
      "source": [],
      "metadata": {
        "id": "TpjFWwltUvhB"
      },
      "execution_count": null,
      "outputs": []
    },
    {
      "cell_type": "code",
      "source": [
        "G = nx.Graph()"
      ],
      "metadata": {
        "id": "l69OyJThXUB9"
      },
      "execution_count": 219,
      "outputs": []
    },
    {
      "cell_type": "code",
      "source": [
        "edge_index[1]"
      ],
      "metadata": {
        "colab": {
          "base_uri": "https://localhost:8080/"
        },
        "id": "11HsT3QZUVx-",
        "outputId": "12eb4b50-1d46-4da6-91ef-9f5f94a52d9e"
      },
      "execution_count": 268,
      "outputs": [
        {
          "output_type": "execute_result",
          "data": {
            "text/plain": [
              "[array([5, 5, 4, ..., 4, 3, 5]),\n",
              " array([5, 5, 4, ..., 4, 3, 5]),\n",
              " array([5, 5, 4, ..., 4, 3, 5]),\n",
              " array([5, 5, 4, ..., 4, 3, 5]),\n",
              " array([5, 5, 4, ..., 4, 3, 5]),\n",
              " array([5, 5, 4, ..., 4, 3, 5]),\n",
              " array([5, 5, 4, ..., 4, 3, 5]),\n",
              " array([5, 5, 4, ..., 4, 3, 5]),\n",
              " array([5, 5, 4, ..., 4, 3, 5]),\n",
              " array([5, 5, 4, ..., 4, 3, 5]),\n",
              " array([5, 5, 4, ..., 4, 3, 5]),\n",
              " array([5, 5, 4, ..., 4, 3, 5]),\n",
              " array([5, 5, 4, ..., 4, 3, 5]),\n",
              " array([5, 5, 4, ..., 4, 3, 5]),\n",
              " array([5, 5, 4, ..., 4, 3, 5]),\n",
              " array([5, 5, 4, ..., 4, 3, 5]),\n",
              " array([5, 5, 4, ..., 4, 3, 5]),\n",
              " array([5, 5, 4, ..., 4, 3, 5]),\n",
              " array([5, 5, 4, ..., 4, 3, 5]),\n",
              " array([5, 5, 4, ..., 4, 3, 5]),\n",
              " array([5, 5, 4, ..., 4, 3, 5]),\n",
              " array([5, 5, 4, ..., 4, 3, 5]),\n",
              " array([5, 5, 4, ..., 4, 3, 5]),\n",
              " array([5, 5, 4, ..., 4, 3, 5]),\n",
              " array([5, 5, 4, ..., 4, 3, 5]),\n",
              " array([5, 5, 4, ..., 4, 3, 5]),\n",
              " array([5, 5, 4, ..., 4, 3, 5]),\n",
              " array([5, 5, 4, ..., 4, 3, 5]),\n",
              " array([5, 5, 4, ..., 4, 3, 5]),\n",
              " array([5, 5, 4, ..., 4, 3, 5]),\n",
              " array([5, 5, 4, ..., 4, 3, 5]),\n",
              " array([5, 5, 4, ..., 4, 3, 5]),\n",
              " array([5, 5, 4, ..., 4, 3, 5]),\n",
              " array([5, 5, 4, ..., 4, 3, 5]),\n",
              " array([5, 5, 4, ..., 4, 3, 5]),\n",
              " array([5, 5, 4, ..., 4, 3, 5]),\n",
              " array([5, 5, 4, ..., 4, 3, 5]),\n",
              " array([5, 5, 4, ..., 4, 3, 5]),\n",
              " array([5, 5, 4, ..., 4, 3, 5]),\n",
              " array([5, 5, 4, ..., 4, 3, 5]),\n",
              " array([5, 5, 4, ..., 4, 3, 5]),\n",
              " array([5, 5, 4, ..., 4, 3, 5]),\n",
              " array([5, 5, 4, ..., 4, 3, 5]),\n",
              " array([5, 5, 4, ..., 4, 3, 5]),\n",
              " array([5, 5, 4, ..., 4, 3, 5]),\n",
              " array([5, 5, 4, ..., 4, 3, 5]),\n",
              " array([5, 5, 4, ..., 4, 3, 5]),\n",
              " array([5, 5, 4, ..., 4, 3, 5]),\n",
              " array([5, 5, 4, ..., 4, 3, 5]),\n",
              " array([5, 5, 4, ..., 4, 3, 5]),\n",
              " array([5, 5, 4, ..., 4, 3, 5]),\n",
              " array([5, 5, 4, ..., 4, 3, 5]),\n",
              " array([5, 5, 4, ..., 4, 3, 5]),\n",
              " array([5, 5, 4, ..., 4, 3, 5]),\n",
              " array([5, 5, 4, ..., 4, 3, 5]),\n",
              " array([5, 5, 4, ..., 4, 3, 5]),\n",
              " array([5, 5, 4, ..., 4, 3, 5]),\n",
              " array([5, 5, 4, ..., 4, 3, 5]),\n",
              " array([5, 5, 4, ..., 4, 3, 5]),\n",
              " array([5, 5, 4, ..., 4, 3, 5]),\n",
              " array([5, 5, 4, ..., 4, 3, 5]),\n",
              " array([5, 5, 4, ..., 4, 3, 5]),\n",
              " array([5, 5, 4, ..., 4, 3, 5]),\n",
              " array([5, 5, 4, ..., 4, 3, 5]),\n",
              " array([5, 5, 4, ..., 4, 3, 5]),\n",
              " array([5, 5, 4, ..., 4, 3, 5]),\n",
              " array([5, 5, 4, ..., 4, 3, 5]),\n",
              " array([5, 5, 4, ..., 4, 3, 5]),\n",
              " array([5, 5, 4, ..., 4, 3, 5]),\n",
              " array([5, 5, 4, ..., 4, 3, 5]),\n",
              " array([5, 5, 4, ..., 4, 3, 5]),\n",
              " array([5, 5, 4, ..., 4, 3, 5]),\n",
              " array([5, 5, 4, ..., 4, 3, 5]),\n",
              " array([5, 5, 4, ..., 4, 3, 5]),\n",
              " array([5, 5, 4, ..., 4, 3, 5]),\n",
              " array([5, 5, 4, ..., 4, 3, 5]),\n",
              " array([5, 5, 4, ..., 4, 3, 5]),\n",
              " array([5, 5, 4, ..., 4, 3, 5]),\n",
              " array([5, 5, 4, ..., 4, 3, 5]),\n",
              " array([5, 5, 4, ..., 4, 3, 5]),\n",
              " array([5, 5, 4, ..., 4, 3, 5]),\n",
              " array([5, 5, 4, ..., 4, 3, 5]),\n",
              " array([5, 5, 4, ..., 4, 3, 5]),\n",
              " array([5, 5, 4, ..., 4, 3, 5]),\n",
              " array([5, 5, 4, ..., 4, 3, 5]),\n",
              " array([5, 5, 4, ..., 4, 3, 5]),\n",
              " array([5, 5, 4, ..., 4, 3, 5]),\n",
              " array([5, 5, 4, ..., 4, 3, 5]),\n",
              " array([5, 5, 4, ..., 4, 3, 5]),\n",
              " array([5, 5, 4, ..., 4, 3, 5]),\n",
              " array([5, 5, 4, ..., 4, 3, 5]),\n",
              " array([5, 5, 4, ..., 4, 3, 5]),\n",
              " array([5, 5, 4, ..., 4, 3, 5]),\n",
              " array([5, 5, 4, ..., 4, 3, 5]),\n",
              " array([5, 5, 4, ..., 4, 3, 5]),\n",
              " array([5, 5, 4, ..., 4, 3, 5]),\n",
              " array([5, 5, 4, ..., 4, 3, 5]),\n",
              " array([5, 5, 4, ..., 4, 3, 5]),\n",
              " array([5, 5, 4, ..., 4, 3, 5]),\n",
              " array([5, 5, 4, ..., 4, 3, 5]),\n",
              " array([5, 5, 4, ..., 4, 3, 5]),\n",
              " array([5, 5, 4, ..., 4, 3, 5]),\n",
              " array([5, 5, 4, ..., 4, 3, 5]),\n",
              " array([5, 5, 4, ..., 4, 3, 5]),\n",
              " array([5, 5, 4, ..., 4, 3, 5]),\n",
              " array([5, 5, 4, ..., 4, 3, 5]),\n",
              " array([5, 5, 4, ..., 4, 3, 5]),\n",
              " array([5, 5, 4, ..., 4, 3, 5]),\n",
              " array([5, 5, 4, ..., 4, 3, 5]),\n",
              " array([5, 5, 4, ..., 4, 3, 5]),\n",
              " array([5, 5, 4, ..., 4, 3, 5]),\n",
              " array([5, 5, 4, ..., 4, 3, 5]),\n",
              " array([5, 5, 4, ..., 4, 3, 5]),\n",
              " array([5, 5, 4, ..., 4, 3, 5]),\n",
              " array([5, 5, 4, ..., 4, 3, 5]),\n",
              " array([5, 5, 4, ..., 4, 3, 5]),\n",
              " array([5, 5, 4, ..., 4, 3, 5]),\n",
              " array([5, 5, 4, ..., 4, 3, 5]),\n",
              " array([5, 5, 4, ..., 4, 3, 5]),\n",
              " array([5, 5, 4, ..., 4, 3, 5]),\n",
              " array([5, 5, 4, ..., 4, 3, 5]),\n",
              " array([5, 5, 4, ..., 4, 3, 5]),\n",
              " array([5, 5, 4, ..., 4, 3, 5]),\n",
              " array([5, 5, 4, ..., 4, 3, 5]),\n",
              " array([5, 5, 4, ..., 4, 3, 5]),\n",
              " array([5, 5, 4, ..., 4, 3, 5]),\n",
              " array([5, 5, 4, ..., 4, 3, 5]),\n",
              " array([5, 5, 4, ..., 4, 3, 5]),\n",
              " array([5, 5, 4, ..., 4, 3, 5]),\n",
              " array([5, 5, 4, ..., 4, 3, 5]),\n",
              " array([5, 5, 4, ..., 4, 3, 5]),\n",
              " array([5, 5, 4, ..., 4, 3, 5]),\n",
              " array([5, 5, 4, ..., 4, 3, 5]),\n",
              " array([5, 5, 4, ..., 4, 3, 5]),\n",
              " array([5, 5, 4, ..., 4, 3, 5]),\n",
              " array([5, 5, 4, ..., 4, 3, 5]),\n",
              " array([5, 5, 4, ..., 4, 3, 5]),\n",
              " array([5, 5, 4, ..., 4, 3, 5]),\n",
              " array([5, 5, 4, ..., 4, 3, 5]),\n",
              " array([5, 5, 4, ..., 4, 3, 5]),\n",
              " array([5, 5, 4, ..., 4, 3, 5]),\n",
              " array([5, 5, 4, ..., 4, 3, 5]),\n",
              " array([5, 5, 4, ..., 4, 3, 5]),\n",
              " array([5, 5, 4, ..., 4, 3, 5]),\n",
              " array([5, 5, 4, ..., 4, 3, 5]),\n",
              " array([5, 5, 4, ..., 4, 3, 5]),\n",
              " array([5, 5, 4, ..., 4, 3, 5]),\n",
              " array([5, 5, 4, ..., 4, 3, 5]),\n",
              " array([5, 5, 4, ..., 4, 3, 5]),\n",
              " array([5, 5, 4, ..., 4, 3, 5]),\n",
              " array([5, 5, 4, ..., 4, 3, 5]),\n",
              " array([5, 5, 4, ..., 4, 3, 5]),\n",
              " array([5, 5, 4, ..., 4, 3, 5]),\n",
              " array([5, 5, 4, ..., 4, 3, 5]),\n",
              " array([5, 5, 4, ..., 4, 3, 5]),\n",
              " array([5, 5, 4, ..., 4, 3, 5]),\n",
              " array([5, 5, 4, ..., 4, 3, 5]),\n",
              " array([5, 5, 4, ..., 4, 3, 5]),\n",
              " array([5, 5, 4, ..., 4, 3, 5]),\n",
              " array([5, 5, 4, ..., 4, 3, 5]),\n",
              " array([5, 5, 4, ..., 4, 3, 5]),\n",
              " array([5, 5, 4, ..., 4, 3, 5]),\n",
              " array([5, 5, 4, ..., 4, 3, 5]),\n",
              " array([5, 5, 4, ..., 4, 3, 5]),\n",
              " array([5, 5, 4, ..., 4, 3, 5]),\n",
              " array([5, 5, 4, ..., 4, 3, 5]),\n",
              " array([5, 5, 4, ..., 4, 3, 5]),\n",
              " array([5, 5, 4, ..., 4, 3, 5]),\n",
              " array([5, 5, 4, ..., 4, 3, 5]),\n",
              " array([5, 5, 4, ..., 4, 3, 5]),\n",
              " array([5, 5, 4, ..., 4, 3, 5]),\n",
              " array([5, 5, 4, ..., 4, 3, 5]),\n",
              " array([5, 5, 4, ..., 4, 3, 5]),\n",
              " array([5, 5, 4, ..., 4, 3, 5]),\n",
              " array([5, 5, 4, ..., 4, 3, 5]),\n",
              " array([5, 5, 4, ..., 4, 3, 5]),\n",
              " array([5, 5, 4, ..., 4, 3, 5]),\n",
              " array([5, 5, 4, ..., 4, 3, 5]),\n",
              " array([5, 5, 4, ..., 4, 3, 5]),\n",
              " array([5, 5, 4, ..., 4, 3, 5]),\n",
              " array([5, 5, 4, ..., 4, 3, 5]),\n",
              " array([5, 5, 4, ..., 4, 3, 5]),\n",
              " array([5, 5, 4, ..., 4, 3, 5]),\n",
              " array([5, 5, 4, ..., 4, 3, 5]),\n",
              " array([5, 5, 4, ..., 4, 3, 5]),\n",
              " array([5, 5, 4, ..., 4, 3, 5]),\n",
              " array([5, 5, 4, ..., 4, 3, 5]),\n",
              " array([5, 5, 4, ..., 4, 3, 5]),\n",
              " array([5, 5, 4, ..., 4, 3, 5]),\n",
              " array([5, 5, 4, ..., 4, 3, 5]),\n",
              " array([5, 5, 4, ..., 4, 3, 5]),\n",
              " array([5, 5, 4, ..., 4, 3, 5]),\n",
              " array([5, 5, 4, ..., 4, 3, 5]),\n",
              " array([5, 5, 4, ..., 4, 3, 5]),\n",
              " array([5, 5, 4, ..., 4, 3, 5]),\n",
              " array([5, 5, 4, ..., 4, 3, 5]),\n",
              " array([5, 5, 4, ..., 4, 3, 5]),\n",
              " array([5, 5, 4, ..., 4, 3, 5]),\n",
              " array([5, 5, 4, ..., 4, 3, 5]),\n",
              " array([5, 5, 4, ..., 4, 3, 5]),\n",
              " array([5, 5, 4, ..., 4, 3, 5]),\n",
              " array([5, 5, 4, ..., 4, 3, 5]),\n",
              " array([5, 5, 4, ..., 4, 3, 5]),\n",
              " array([5, 5, 4, ..., 4, 3, 5]),\n",
              " array([5, 5, 4, ..., 4, 3, 5]),\n",
              " array([5, 5, 4, ..., 4, 3, 5]),\n",
              " array([5, 5, 4, ..., 4, 3, 5]),\n",
              " array([5, 5, 4, ..., 4, 3, 5]),\n",
              " array([5, 5, 4, ..., 4, 3, 5]),\n",
              " array([5, 5, 4, ..., 4, 3, 5]),\n",
              " array([5, 5, 4, ..., 4, 3, 5]),\n",
              " array([5, 5, 4, ..., 4, 3, 5]),\n",
              " array([5, 5, 4, ..., 4, 3, 5]),\n",
              " array([5, 5, 4, ..., 4, 3, 5]),\n",
              " array([5, 5, 4, ..., 4, 3, 5]),\n",
              " array([5, 5, 4, ..., 4, 3, 5]),\n",
              " array([5, 5, 4, ..., 4, 3, 5]),\n",
              " array([5, 5, 4, ..., 4, 3, 5]),\n",
              " array([5, 5, 4, ..., 4, 3, 5]),\n",
              " array([5, 5, 4, ..., 4, 3, 5]),\n",
              " array([5, 5, 4, ..., 4, 3, 5]),\n",
              " array([5, 5, 4, ..., 4, 3, 5]),\n",
              " array([5, 5, 4, ..., 4, 3, 5]),\n",
              " array([5, 5, 4, ..., 4, 3, 5]),\n",
              " array([5, 5, 4, ..., 4, 3, 5]),\n",
              " array([5, 5, 4, ..., 4, 3, 5]),\n",
              " array([5, 5, 4, ..., 4, 3, 5]),\n",
              " array([5, 5, 4, ..., 4, 3, 5]),\n",
              " array([5, 5, 4, ..., 4, 3, 5]),\n",
              " array([5, 5, 4, ..., 4, 3, 5]),\n",
              " array([5, 5, 4, ..., 4, 3, 5]),\n",
              " array([5, 5, 4, ..., 4, 3, 5]),\n",
              " array([5, 5, 4, ..., 4, 3, 5]),\n",
              " array([5, 5, 4, ..., 4, 3, 5]),\n",
              " array([5, 5, 4, ..., 4, 3, 5]),\n",
              " array([5, 5, 4, ..., 4, 3, 5]),\n",
              " array([5, 5, 4, ..., 4, 3, 5]),\n",
              " array([5, 5, 4, ..., 4, 3, 5]),\n",
              " array([5, 5, 4, ..., 4, 3, 5]),\n",
              " array([5, 5, 4, ..., 4, 3, 5]),\n",
              " array([5, 5, 4, ..., 4, 3, 5]),\n",
              " array([5, 5, 4, ..., 4, 3, 5]),\n",
              " array([5, 5, 4, ..., 4, 3, 5]),\n",
              " array([5, 5, 4, ..., 4, 3, 5]),\n",
              " array([5, 5, 4, ..., 4, 3, 5]),\n",
              " array([5, 5, 4, ..., 4, 3, 5]),\n",
              " array([5, 5, 4, ..., 4, 3, 5]),\n",
              " array([5, 5, 4, ..., 4, 3, 5]),\n",
              " array([5, 5, 4, ..., 4, 3, 5]),\n",
              " array([5, 5, 4, ..., 4, 3, 5]),\n",
              " array([5, 5, 4, ..., 4, 3, 5]),\n",
              " array([5, 5, 4, ..., 4, 3, 5]),\n",
              " array([5, 5, 4, ..., 4, 3, 5]),\n",
              " array([5, 5, 4, ..., 4, 3, 5]),\n",
              " array([5, 5, 4, ..., 4, 3, 5]),\n",
              " array([5, 5, 4, ..., 4, 3, 5]),\n",
              " array([5, 5, 4, ..., 4, 3, 5]),\n",
              " array([5, 5, 4, ..., 4, 3, 5]),\n",
              " array([5, 5, 4, ..., 4, 3, 5]),\n",
              " array([5, 5, 4, ..., 4, 3, 5]),\n",
              " array([5, 5, 4, ..., 4, 3, 5]),\n",
              " array([5, 5, 4, ..., 4, 3, 5]),\n",
              " array([5, 5, 4, ..., 4, 3, 5]),\n",
              " array([5, 5, 4, ..., 4, 3, 5]),\n",
              " array([5, 5, 4, ..., 4, 3, 5]),\n",
              " array([5, 5, 4, ..., 4, 3, 5]),\n",
              " array([5, 5, 4, ..., 4, 3, 5]),\n",
              " array([5, 5, 4, ..., 4, 3, 5]),\n",
              " array([5, 5, 4, ..., 4, 3, 5]),\n",
              " array([5, 5, 4, ..., 4, 3, 5]),\n",
              " array([5, 5, 4, ..., 4, 3, 5]),\n",
              " array([5, 5, 4, ..., 4, 3, 5]),\n",
              " array([5, 5, 4, ..., 4, 3, 5]),\n",
              " array([5, 5, 4, ..., 4, 3, 5]),\n",
              " array([5, 5, 4, ..., 4, 3, 5]),\n",
              " array([5, 5, 4, ..., 4, 3, 5]),\n",
              " array([5, 5, 4, ..., 4, 3, 5]),\n",
              " array([5, 5, 4, ..., 4, 3, 5]),\n",
              " array([5, 5, 4, ..., 4, 3, 5]),\n",
              " array([5, 5, 4, ..., 4, 3, 5]),\n",
              " array([5, 5, 4, ..., 4, 3, 5]),\n",
              " array([5, 5, 4, ..., 4, 3, 5]),\n",
              " array([5, 5, 4, ..., 4, 3, 5]),\n",
              " array([5, 5, 4, ..., 4, 3, 5]),\n",
              " array([5, 5, 4, ..., 4, 3, 5]),\n",
              " array([5, 5, 4, ..., 4, 3, 5]),\n",
              " array([5, 5, 4, ..., 4, 3, 5]),\n",
              " array([5, 5, 4, ..., 4, 3, 5]),\n",
              " array([5, 5, 4, ..., 4, 3, 5]),\n",
              " array([5, 5, 4, ..., 4, 3, 5]),\n",
              " array([5, 5, 4, ..., 4, 3, 5]),\n",
              " array([5, 5, 4, ..., 4, 3, 5]),\n",
              " array([5, 5, 4, ..., 4, 3, 5]),\n",
              " array([5, 5, 4, ..., 4, 3, 5]),\n",
              " array([5, 5, 4, ..., 4, 3, 5]),\n",
              " array([5, 5, 4, ..., 4, 3, 5]),\n",
              " array([5, 5, 4, ..., 4, 3, 5]),\n",
              " array([5, 5, 4, ..., 4, 3, 5]),\n",
              " array([5, 5, 4, ..., 4, 3, 5]),\n",
              " array([5, 5, 4, ..., 4, 3, 5]),\n",
              " array([5, 5, 4, ..., 4, 3, 5]),\n",
              " array([5, 5, 4, ..., 4, 3, 5]),\n",
              " array([5, 5, 4, ..., 4, 3, 5]),\n",
              " array([5, 5, 4, ..., 4, 3, 5]),\n",
              " array([5, 5, 4, ..., 4, 3, 5]),\n",
              " array([5, 5, 4, ..., 4, 3, 5]),\n",
              " array([5, 5, 4, ..., 4, 3, 5]),\n",
              " array([5, 5, 4, ..., 4, 3, 5]),\n",
              " array([5, 5, 4, ..., 4, 3, 5]),\n",
              " array([5, 5, 4, ..., 4, 3, 5]),\n",
              " array([5, 5, 4, ..., 4, 3, 5]),\n",
              " array([5, 5, 4, ..., 4, 3, 5]),\n",
              " array([5, 5, 4, ..., 4, 3, 5]),\n",
              " array([5, 5, 4, ..., 4, 3, 5]),\n",
              " array([5, 5, 4, ..., 4, 3, 5]),\n",
              " array([5, 5, 4, ..., 4, 3, 5]),\n",
              " array([5, 5, 4, ..., 4, 3, 5]),\n",
              " array([5, 5, 4, ..., 4, 3, 5]),\n",
              " array([5, 5, 4, ..., 4, 3, 5]),\n",
              " array([5, 5, 4, ..., 4, 3, 5]),\n",
              " array([5, 5, 4, ..., 4, 3, 5]),\n",
              " array([5, 5, 4, ..., 4, 3, 5]),\n",
              " array([5, 5, 4, ..., 4, 3, 5]),\n",
              " array([5, 5, 4, ..., 4, 3, 5]),\n",
              " array([5, 5, 4, ..., 4, 3, 5]),\n",
              " array([5, 5, 4, ..., 4, 3, 5]),\n",
              " array([5, 5, 4, ..., 4, 3, 5]),\n",
              " array([5, 5, 4, ..., 4, 3, 5]),\n",
              " array([5, 5, 4, ..., 4, 3, 5]),\n",
              " array([5, 5, 4, ..., 4, 3, 5]),\n",
              " array([5, 5, 4, ..., 4, 3, 5]),\n",
              " array([5, 5, 4, ..., 4, 3, 5]),\n",
              " array([5, 5, 4, ..., 4, 3, 5]),\n",
              " array([5, 5, 4, ..., 4, 3, 5]),\n",
              " array([5, 5, 4, ..., 4, 3, 5]),\n",
              " array([5, 5, 4, ..., 4, 3, 5]),\n",
              " array([5, 5, 4, ..., 4, 3, 5]),\n",
              " array([5, 5, 4, ..., 4, 3, 5]),\n",
              " array([5, 5, 4, ..., 4, 3, 5]),\n",
              " array([5, 5, 4, ..., 4, 3, 5]),\n",
              " array([5, 5, 4, ..., 4, 3, 5]),\n",
              " array([5, 5, 4, ..., 4, 3, 5]),\n",
              " array([5, 5, 4, ..., 4, 3, 5]),\n",
              " array([5, 5, 4, ..., 4, 3, 5]),\n",
              " array([5, 5, 4, ..., 4, 3, 5]),\n",
              " array([5, 5, 4, ..., 4, 3, 5]),\n",
              " array([5, 5, 4, ..., 4, 3, 5]),\n",
              " array([5, 5, 4, ..., 4, 3, 5]),\n",
              " array([5, 5, 4, ..., 4, 3, 5]),\n",
              " array([5, 5, 4, ..., 4, 3, 5]),\n",
              " array([5, 5, 4, ..., 4, 3, 5]),\n",
              " array([5, 5, 4, ..., 4, 3, 5]),\n",
              " array([5, 5, 4, ..., 4, 3, 5]),\n",
              " array([5, 5, 4, ..., 4, 3, 5]),\n",
              " array([5, 5, 4, ..., 4, 3, 5]),\n",
              " array([5, 5, 4, ..., 4, 3, 5]),\n",
              " array([5, 5, 4, ..., 4, 3, 5]),\n",
              " array([5, 5, 4, ..., 4, 3, 5]),\n",
              " array([5, 5, 4, ..., 4, 3, 5]),\n",
              " array([5, 5, 4, ..., 4, 3, 5]),\n",
              " array([5, 5, 4, ..., 4, 3, 5]),\n",
              " array([5, 5, 4, ..., 4, 3, 5]),\n",
              " array([5, 5, 4, ..., 4, 3, 5]),\n",
              " array([5, 5, 4, ..., 4, 3, 5]),\n",
              " array([5, 5, 4, ..., 4, 3, 5]),\n",
              " array([5, 5, 4, ..., 4, 3, 5]),\n",
              " array([5, 5, 4, ..., 4, 3, 5]),\n",
              " array([5, 5, 4, ..., 4, 3, 5]),\n",
              " array([5, 5, 4, ..., 4, 3, 5]),\n",
              " array([5, 5, 4, ..., 4, 3, 5]),\n",
              " array([5, 5, 4, ..., 4, 3, 5]),\n",
              " array([5, 5, 4, ..., 4, 3, 5]),\n",
              " array([5, 5, 4, ..., 4, 3, 5]),\n",
              " array([5, 5, 4, ..., 4, 3, 5]),\n",
              " array([5, 5, 4, ..., 4, 3, 5]),\n",
              " array([5, 5, 4, ..., 4, 3, 5]),\n",
              " array([5, 5, 4, ..., 4, 3, 5]),\n",
              " array([5, 5, 4, ..., 4, 3, 5]),\n",
              " array([5, 5, 4, ..., 4, 3, 5]),\n",
              " array([5, 5, 4, ..., 4, 3, 5]),\n",
              " array([5, 5, 4, ..., 4, 3, 5]),\n",
              " array([5, 5, 4, ..., 4, 3, 5]),\n",
              " array([5, 5, 4, ..., 4, 3, 5]),\n",
              " array([5, 5, 4, ..., 4, 3, 5]),\n",
              " array([5, 5, 4, ..., 4, 3, 5]),\n",
              " array([5, 5, 4, ..., 4, 3, 5]),\n",
              " array([5, 5, 4, ..., 4, 3, 5]),\n",
              " array([5, 5, 4, ..., 4, 3, 5]),\n",
              " array([5, 5, 4, ..., 4, 3, 5]),\n",
              " array([5, 5, 4, ..., 4, 3, 5]),\n",
              " array([5, 5, 4, ..., 4, 3, 5]),\n",
              " array([5, 5, 4, ..., 4, 3, 5]),\n",
              " array([5, 5, 4, ..., 4, 3, 5]),\n",
              " array([5, 5, 4, ..., 4, 3, 5]),\n",
              " array([5, 5, 4, ..., 4, 3, 5]),\n",
              " array([5, 5, 4, ..., 4, 3, 5]),\n",
              " array([5, 5, 4, ..., 4, 3, 5]),\n",
              " array([5, 5, 4, ..., 4, 3, 5]),\n",
              " array([5, 5, 4, ..., 4, 3, 5]),\n",
              " array([5, 5, 4, ..., 4, 3, 5]),\n",
              " array([5, 5, 4, ..., 4, 3, 5]),\n",
              " array([5, 5, 4, ..., 4, 3, 5]),\n",
              " array([5, 5, 4, ..., 4, 3, 5]),\n",
              " array([5, 5, 4, ..., 4, 3, 5]),\n",
              " array([5, 5, 4, ..., 4, 3, 5]),\n",
              " array([5, 5, 4, ..., 4, 3, 5]),\n",
              " array([5, 5, 4, ..., 4, 3, 5]),\n",
              " array([5, 5, 4, ..., 4, 3, 5]),\n",
              " array([5, 5, 4, ..., 4, 3, 5]),\n",
              " array([5, 5, 4, ..., 4, 3, 5]),\n",
              " array([5, 5, 4, ..., 4, 3, 5]),\n",
              " array([5, 5, 4, ..., 4, 3, 5]),\n",
              " array([5, 5, 4, ..., 4, 3, 5]),\n",
              " array([5, 5, 4, ..., 4, 3, 5]),\n",
              " array([5, 5, 4, ..., 4, 3, 5]),\n",
              " array([5, 5, 4, ..., 4, 3, 5]),\n",
              " array([5, 5, 4, ..., 4, 3, 5]),\n",
              " array([5, 5, 4, ..., 4, 3, 5]),\n",
              " array([5, 5, 4, ..., 4, 3, 5]),\n",
              " array([5, 5, 4, ..., 4, 3, 5]),\n",
              " array([5, 5, 4, ..., 4, 3, 5]),\n",
              " array([5, 5, 4, ..., 4, 3, 5]),\n",
              " array([5, 5, 4, ..., 4, 3, 5]),\n",
              " array([5, 5, 4, ..., 4, 3, 5]),\n",
              " array([5, 5, 4, ..., 4, 3, 5]),\n",
              " array([5, 5, 4, ..., 4, 3, 5]),\n",
              " array([5, 5, 4, ..., 4, 3, 5]),\n",
              " array([5, 5, 4, ..., 4, 3, 5]),\n",
              " array([5, 5, 4, ..., 4, 3, 5]),\n",
              " array([5, 5, 4, ..., 4, 3, 5]),\n",
              " array([5, 5, 4, ..., 4, 3, 5]),\n",
              " array([5, 5, 4, ..., 4, 3, 5]),\n",
              " array([5, 5, 4, ..., 4, 3, 5]),\n",
              " array([5, 5, 4, ..., 4, 3, 5]),\n",
              " array([5, 5, 4, ..., 4, 3, 5]),\n",
              " array([5, 5, 4, ..., 4, 3, 5]),\n",
              " array([5, 5, 4, ..., 4, 3, 5]),\n",
              " array([5, 5, 4, ..., 4, 3, 5]),\n",
              " array([5, 5, 4, ..., 4, 3, 5]),\n",
              " array([5, 5, 4, ..., 4, 3, 5]),\n",
              " array([5, 5, 4, ..., 4, 3, 5]),\n",
              " array([5, 5, 4, ..., 4, 3, 5]),\n",
              " array([5, 5, 4, ..., 4, 3, 5]),\n",
              " array([5, 5, 4, ..., 4, 3, 5]),\n",
              " array([5, 5, 4, ..., 4, 3, 5]),\n",
              " array([5, 5, 4, ..., 4, 3, 5]),\n",
              " array([5, 5, 4, ..., 4, 3, 5]),\n",
              " array([5, 5, 4, ..., 4, 3, 5]),\n",
              " array([5, 5, 4, ..., 4, 3, 5]),\n",
              " array([5, 5, 4, ..., 4, 3, 5]),\n",
              " array([5, 5, 4, ..., 4, 3, 5]),\n",
              " array([5, 5, 4, ..., 4, 3, 5]),\n",
              " array([5, 5, 4, ..., 4, 3, 5]),\n",
              " array([5, 5, 4, ..., 4, 3, 5]),\n",
              " array([5, 5, 4, ..., 4, 3, 5]),\n",
              " array([5, 5, 4, ..., 4, 3, 5]),\n",
              " array([5, 5, 4, ..., 4, 3, 5]),\n",
              " array([5, 5, 4, ..., 4, 3, 5]),\n",
              " array([5, 5, 4, ..., 4, 3, 5]),\n",
              " array([5, 5, 4, ..., 4, 3, 5]),\n",
              " array([5, 5, 4, ..., 4, 3, 5]),\n",
              " array([5, 5, 4, ..., 4, 3, 5]),\n",
              " array([5, 5, 4, ..., 4, 3, 5]),\n",
              " array([5, 5, 4, ..., 4, 3, 5]),\n",
              " array([5, 5, 4, ..., 4, 3, 5]),\n",
              " array([5, 5, 4, ..., 4, 3, 5]),\n",
              " array([5, 5, 4, ..., 4, 3, 5]),\n",
              " array([5, 5, 4, ..., 4, 3, 5]),\n",
              " array([5, 5, 4, ..., 4, 3, 5]),\n",
              " array([5, 5, 4, ..., 4, 3, 5]),\n",
              " array([5, 5, 4, ..., 4, 3, 5]),\n",
              " array([5, 5, 4, ..., 4, 3, 5]),\n",
              " array([5, 5, 4, ..., 4, 3, 5]),\n",
              " array([5, 5, 4, ..., 4, 3, 5]),\n",
              " array([5, 5, 4, ..., 4, 3, 5]),\n",
              " array([5, 5, 4, ..., 4, 3, 5]),\n",
              " array([5, 5, 4, ..., 4, 3, 5]),\n",
              " array([5, 5, 4, ..., 4, 3, 5]),\n",
              " array([5, 5, 4, ..., 4, 3, 5]),\n",
              " array([5, 5, 4, ..., 4, 3, 5]),\n",
              " array([5, 5, 4, ..., 4, 3, 5]),\n",
              " array([5, 5, 4, ..., 4, 3, 5]),\n",
              " array([5, 5, 4, ..., 4, 3, 5]),\n",
              " array([5, 5, 4, ..., 4, 3, 5]),\n",
              " array([5, 5, 4, ..., 4, 3, 5]),\n",
              " array([5, 5, 4, ..., 4, 3, 5]),\n",
              " array([5, 5, 4, ..., 4, 3, 5]),\n",
              " array([5, 5, 4, ..., 4, 3, 5]),\n",
              " array([5, 5, 4, ..., 4, 3, 5]),\n",
              " array([5, 5, 4, ..., 4, 3, 5]),\n",
              " array([5, 5, 4, ..., 4, 3, 5]),\n",
              " array([5, 5, 4, ..., 4, 3, 5]),\n",
              " array([5, 5, 4, ..., 4, 3, 5]),\n",
              " array([5, 5, 4, ..., 4, 3, 5]),\n",
              " array([5, 5, 4, ..., 4, 3, 5]),\n",
              " array([5, 5, 4, ..., 4, 3, 5]),\n",
              " array([5, 5, 4, ..., 4, 3, 5]),\n",
              " array([5, 5, 4, ..., 4, 3, 5]),\n",
              " array([5, 5, 4, ..., 4, 3, 5]),\n",
              " array([5, 5, 4, ..., 4, 3, 5]),\n",
              " array([5, 5, 4, ..., 4, 3, 5]),\n",
              " array([5, 5, 4, ..., 4, 3, 5]),\n",
              " array([5, 5, 4, ..., 4, 3, 5]),\n",
              " array([5, 5, 4, ..., 4, 3, 5]),\n",
              " array([5, 5, 4, ..., 4, 3, 5]),\n",
              " array([5, 5, 4, ..., 4, 3, 5]),\n",
              " array([5, 5, 4, ..., 4, 3, 5]),\n",
              " array([5, 5, 4, ..., 4, 3, 5]),\n",
              " array([5, 5, 4, ..., 4, 3, 5]),\n",
              " array([5, 5, 4, ..., 4, 3, 5]),\n",
              " array([5, 5, 4, ..., 4, 3, 5]),\n",
              " array([5, 5, 4, ..., 4, 3, 5]),\n",
              " array([5, 5, 4, ..., 4, 3, 5]),\n",
              " array([5, 5, 4, ..., 4, 3, 5]),\n",
              " array([5, 5, 4, ..., 4, 3, 5]),\n",
              " array([5, 5, 4, ..., 4, 3, 5]),\n",
              " array([5, 5, 4, ..., 4, 3, 5]),\n",
              " array([5, 5, 4, ..., 4, 3, 5]),\n",
              " array([5, 5, 4, ..., 4, 3, 5]),\n",
              " array([5, 5, 4, ..., 4, 3, 5]),\n",
              " array([5, 5, 4, ..., 4, 3, 5]),\n",
              " array([5, 5, 4, ..., 4, 3, 5]),\n",
              " array([5, 5, 4, ..., 4, 3, 5]),\n",
              " array([5, 5, 4, ..., 4, 3, 5]),\n",
              " array([5, 5, 4, ..., 4, 3, 5]),\n",
              " array([5, 5, 4, ..., 4, 3, 5]),\n",
              " array([5, 5, 4, ..., 4, 3, 5]),\n",
              " array([5, 5, 4, ..., 4, 3, 5]),\n",
              " array([5, 5, 4, ..., 4, 3, 5]),\n",
              " array([5, 5, 4, ..., 4, 3, 5]),\n",
              " array([5, 5, 4, ..., 4, 3, 5]),\n",
              " array([5, 5, 4, ..., 4, 3, 5]),\n",
              " array([5, 5, 4, ..., 4, 3, 5]),\n",
              " array([5, 5, 4, ..., 4, 3, 5]),\n",
              " array([5, 5, 4, ..., 4, 3, 5]),\n",
              " array([5, 5, 4, ..., 4, 3, 5]),\n",
              " array([5, 5, 4, ..., 4, 3, 5]),\n",
              " array([5, 5, 4, ..., 4, 3, 5]),\n",
              " array([5, 5, 4, ..., 4, 3, 5]),\n",
              " array([5, 5, 4, ..., 4, 3, 5]),\n",
              " array([5, 5, 4, ..., 4, 3, 5]),\n",
              " array([5, 5, 4, ..., 4, 3, 5]),\n",
              " array([5, 5, 4, ..., 4, 3, 5]),\n",
              " array([5, 5, 4, ..., 4, 3, 5]),\n",
              " array([5, 5, 4, ..., 4, 3, 5]),\n",
              " array([5, 5, 4, ..., 4, 3, 5]),\n",
              " array([5, 5, 4, ..., 4, 3, 5]),\n",
              " array([5, 5, 4, ..., 4, 3, 5]),\n",
              " array([5, 5, 4, ..., 4, 3, 5]),\n",
              " array([5, 5, 4, ..., 4, 3, 5]),\n",
              " array([5, 5, 4, ..., 4, 3, 5]),\n",
              " array([5, 5, 4, ..., 4, 3, 5]),\n",
              " array([5, 5, 4, ..., 4, 3, 5]),\n",
              " array([5, 5, 4, ..., 4, 3, 5]),\n",
              " array([5, 5, 4, ..., 4, 3, 5]),\n",
              " array([5, 5, 4, ..., 4, 3, 5]),\n",
              " array([5, 5, 4, ..., 4, 3, 5]),\n",
              " array([5, 5, 4, ..., 4, 3, 5]),\n",
              " array([5, 5, 4, ..., 4, 3, 5]),\n",
              " array([5, 5, 4, ..., 4, 3, 5]),\n",
              " array([5, 5, 4, ..., 4, 3, 5]),\n",
              " array([5, 5, 4, ..., 4, 3, 5]),\n",
              " array([5, 5, 4, ..., 4, 3, 5]),\n",
              " array([5, 5, 4, ..., 4, 3, 5]),\n",
              " array([5, 5, 4, ..., 4, 3, 5]),\n",
              " array([5, 5, 4, ..., 4, 3, 5]),\n",
              " array([5, 5, 4, ..., 4, 3, 5]),\n",
              " array([5, 5, 4, ..., 4, 3, 5]),\n",
              " array([5, 5, 4, ..., 4, 3, 5]),\n",
              " array([5, 5, 4, ..., 4, 3, 5]),\n",
              " array([5, 5, 4, ..., 4, 3, 5]),\n",
              " array([5, 5, 4, ..., 4, 3, 5]),\n",
              " array([5, 5, 4, ..., 4, 3, 5]),\n",
              " array([5, 5, 4, ..., 4, 3, 5]),\n",
              " array([5, 5, 4, ..., 4, 3, 5]),\n",
              " array([5, 5, 4, ..., 4, 3, 5]),\n",
              " array([5, 5, 4, ..., 4, 3, 5]),\n",
              " array([5, 5, 4, ..., 4, 3, 5]),\n",
              " array([5, 5, 4, ..., 4, 3, 5]),\n",
              " array([5, 5, 4, ..., 4, 3, 5]),\n",
              " array([5, 5, 4, ..., 4, 3, 5]),\n",
              " array([5, 5, 4, ..., 4, 3, 5]),\n",
              " array([5, 5, 4, ..., 4, 3, 5]),\n",
              " array([5, 5, 4, ..., 4, 3, 5]),\n",
              " array([5, 5, 4, ..., 4, 3, 5]),\n",
              " array([5, 5, 4, ..., 4, 3, 5]),\n",
              " array([5, 5, 4, ..., 4, 3, 5]),\n",
              " array([5, 5, 4, ..., 4, 3, 5]),\n",
              " array([5, 5, 4, ..., 4, 3, 5]),\n",
              " array([5, 5, 4, ..., 4, 3, 5]),\n",
              " array([5, 5, 4, ..., 4, 3, 5]),\n",
              " array([5, 5, 4, ..., 4, 3, 5]),\n",
              " array([5, 5, 4, ..., 4, 3, 5]),\n",
              " array([5, 5, 4, ..., 4, 3, 5]),\n",
              " array([5, 5, 4, ..., 4, 3, 5]),\n",
              " array([5, 5, 4, ..., 4, 3, 5]),\n",
              " array([5, 5, 4, ..., 4, 3, 5]),\n",
              " array([5, 5, 4, ..., 4, 3, 5]),\n",
              " array([5, 5, 4, ..., 4, 3, 5]),\n",
              " array([5, 5, 4, ..., 4, 3, 5]),\n",
              " array([5, 5, 4, ..., 4, 3, 5]),\n",
              " array([5, 5, 4, ..., 4, 3, 5]),\n",
              " array([5, 5, 4, ..., 4, 3, 5]),\n",
              " array([5, 5, 4, ..., 4, 3, 5]),\n",
              " array([5, 5, 4, ..., 4, 3, 5]),\n",
              " array([5, 5, 4, ..., 4, 3, 5]),\n",
              " array([5, 5, 4, ..., 4, 3, 5]),\n",
              " array([5, 5, 4, ..., 4, 3, 5]),\n",
              " array([5, 5, 4, ..., 4, 3, 5]),\n",
              " array([5, 5, 4, ..., 4, 3, 5]),\n",
              " array([5, 5, 4, ..., 4, 3, 5]),\n",
              " array([5, 5, 4, ..., 4, 3, 5]),\n",
              " array([5, 5, 4, ..., 4, 3, 5]),\n",
              " array([5, 5, 4, ..., 4, 3, 5]),\n",
              " array([5, 5, 4, ..., 4, 3, 5]),\n",
              " array([5, 5, 4, ..., 4, 3, 5]),\n",
              " array([5, 5, 4, ..., 4, 3, 5]),\n",
              " array([5, 5, 4, ..., 4, 3, 5]),\n",
              " array([5, 5, 4, ..., 4, 3, 5]),\n",
              " array([5, 5, 4, ..., 4, 3, 5]),\n",
              " array([5, 5, 4, ..., 4, 3, 5]),\n",
              " array([5, 5, 4, ..., 4, 3, 5]),\n",
              " array([5, 5, 4, ..., 4, 3, 5]),\n",
              " array([5, 5, 4, ..., 4, 3, 5]),\n",
              " array([5, 5, 4, ..., 4, 3, 5]),\n",
              " array([5, 5, 4, ..., 4, 3, 5]),\n",
              " array([5, 5, 4, ..., 4, 3, 5]),\n",
              " array([5, 5, 4, ..., 4, 3, 5]),\n",
              " array([5, 5, 4, ..., 4, 3, 5]),\n",
              " array([5, 5, 4, ..., 4, 3, 5]),\n",
              " array([5, 5, 4, ..., 4, 3, 5]),\n",
              " array([5, 5, 4, ..., 4, 3, 5]),\n",
              " array([5, 5, 4, ..., 4, 3, 5]),\n",
              " array([5, 5, 4, ..., 4, 3, 5]),\n",
              " array([5, 5, 4, ..., 4, 3, 5]),\n",
              " array([5, 5, 4, ..., 4, 3, 5]),\n",
              " array([5, 5, 4, ..., 4, 3, 5]),\n",
              " array([5, 5, 4, ..., 4, 3, 5]),\n",
              " array([5, 5, 4, ..., 4, 3, 5]),\n",
              " array([5, 5, 4, ..., 4, 3, 5]),\n",
              " array([5, 5, 4, ..., 4, 3, 5]),\n",
              " array([5, 5, 4, ..., 4, 3, 5]),\n",
              " array([5, 5, 4, ..., 4, 3, 5]),\n",
              " array([5, 5, 4, ..., 4, 3, 5]),\n",
              " array([5, 5, 4, ..., 4, 3, 5]),\n",
              " array([5, 5, 4, ..., 4, 3, 5]),\n",
              " array([5, 5, 4, ..., 4, 3, 5]),\n",
              " array([5, 5, 4, ..., 4, 3, 5]),\n",
              " array([5, 5, 4, ..., 4, 3, 5]),\n",
              " array([5, 5, 4, ..., 4, 3, 5]),\n",
              " array([5, 5, 4, ..., 4, 3, 5]),\n",
              " array([5, 5, 4, ..., 4, 3, 5]),\n",
              " array([5, 5, 4, ..., 4, 3, 5]),\n",
              " array([5, 5, 4, ..., 4, 3, 5]),\n",
              " array([5, 5, 4, ..., 4, 3, 5]),\n",
              " array([5, 5, 4, ..., 4, 3, 5]),\n",
              " array([5, 5, 4, ..., 4, 3, 5]),\n",
              " array([5, 5, 4, ..., 4, 3, 5]),\n",
              " array([5, 5, 4, ..., 4, 3, 5]),\n",
              " array([5, 5, 4, ..., 4, 3, 5]),\n",
              " array([5, 5, 4, ..., 4, 3, 5]),\n",
              " array([5, 5, 4, ..., 4, 3, 5]),\n",
              " array([5, 5, 4, ..., 4, 3, 5]),\n",
              " array([5, 5, 4, ..., 4, 3, 5]),\n",
              " array([5, 5, 4, ..., 4, 3, 5]),\n",
              " array([5, 5, 4, ..., 4, 3, 5]),\n",
              " array([5, 5, 4, ..., 4, 3, 5]),\n",
              " array([5, 5, 4, ..., 4, 3, 5]),\n",
              " array([5, 5, 4, ..., 4, 3, 5]),\n",
              " array([5, 5, 4, ..., 4, 3, 5]),\n",
              " array([5, 5, 4, ..., 4, 3, 5]),\n",
              " array([5, 5, 4, ..., 4, 3, 5]),\n",
              " array([5, 5, 4, ..., 4, 3, 5]),\n",
              " array([5, 5, 4, ..., 4, 3, 5]),\n",
              " array([5, 5, 4, ..., 4, 3, 5]),\n",
              " array([5, 5, 4, ..., 4, 3, 5]),\n",
              " array([5, 5, 4, ..., 4, 3, 5]),\n",
              " array([5, 5, 4, ..., 4, 3, 5]),\n",
              " array([5, 5, 4, ..., 4, 3, 5]),\n",
              " array([5, 5, 4, ..., 4, 3, 5]),\n",
              " array([5, 5, 4, ..., 4, 3, 5]),\n",
              " array([5, 5, 4, ..., 4, 3, 5]),\n",
              " array([5, 5, 4, ..., 4, 3, 5]),\n",
              " array([5, 5, 4, ..., 4, 3, 5]),\n",
              " array([5, 5, 4, ..., 4, 3, 5]),\n",
              " array([5, 5, 4, ..., 4, 3, 5]),\n",
              " array([5, 5, 4, ..., 4, 3, 5]),\n",
              " array([5, 5, 4, ..., 4, 3, 5]),\n",
              " array([5, 5, 4, ..., 4, 3, 5]),\n",
              " array([5, 5, 4, ..., 4, 3, 5]),\n",
              " array([5, 5, 4, ..., 4, 3, 5]),\n",
              " array([5, 5, 4, ..., 4, 3, 5]),\n",
              " array([5, 5, 4, ..., 4, 3, 5]),\n",
              " array([5, 5, 4, ..., 4, 3, 5]),\n",
              " array([5, 5, 4, ..., 4, 3, 5]),\n",
              " array([5, 5, 4, ..., 4, 3, 5]),\n",
              " array([5, 5, 4, ..., 4, 3, 5]),\n",
              " array([5, 5, 4, ..., 4, 3, 5]),\n",
              " array([5, 5, 4, ..., 4, 3, 5]),\n",
              " array([5, 5, 4, ..., 4, 3, 5]),\n",
              " array([5, 5, 4, ..., 4, 3, 5]),\n",
              " array([5, 5, 4, ..., 4, 3, 5]),\n",
              " array([5, 5, 4, ..., 4, 3, 5]),\n",
              " array([5, 5, 4, ..., 4, 3, 5]),\n",
              " array([5, 5, 4, ..., 4, 3, 5]),\n",
              " array([5, 5, 4, ..., 4, 3, 5]),\n",
              " array([5, 5, 4, ..., 4, 3, 5]),\n",
              " array([5, 5, 4, ..., 4, 3, 5]),\n",
              " array([5, 5, 4, ..., 4, 3, 5]),\n",
              " array([5, 5, 4, ..., 4, 3, 5]),\n",
              " array([5, 5, 4, ..., 4, 3, 5]),\n",
              " array([5, 5, 4, ..., 4, 3, 5]),\n",
              " array([5, 5, 4, ..., 4, 3, 5]),\n",
              " array([5, 5, 4, ..., 4, 3, 5]),\n",
              " array([5, 5, 4, ..., 4, 3, 5]),\n",
              " array([5, 5, 4, ..., 4, 3, 5]),\n",
              " array([5, 5, 4, ..., 4, 3, 5]),\n",
              " array([5, 5, 4, ..., 4, 3, 5]),\n",
              " array([5, 5, 4, ..., 4, 3, 5]),\n",
              " array([5, 5, 4, ..., 4, 3, 5]),\n",
              " array([5, 5, 4, ..., 4, 3, 5]),\n",
              " array([5, 5, 4, ..., 4, 3, 5]),\n",
              " array([5, 5, 4, ..., 4, 3, 5]),\n",
              " array([5, 5, 4, ..., 4, 3, 5]),\n",
              " array([5, 5, 4, ..., 4, 3, 5]),\n",
              " array([5, 5, 4, ..., 4, 3, 5]),\n",
              " array([5, 5, 4, ..., 4, 3, 5]),\n",
              " array([5, 5, 4, ..., 4, 3, 5]),\n",
              " array([5, 5, 4, ..., 4, 3, 5]),\n",
              " array([5, 5, 4, ..., 4, 3, 5]),\n",
              " array([5, 5, 4, ..., 4, 3, 5]),\n",
              " array([5, 5, 4, ..., 4, 3, 5]),\n",
              " array([5, 5, 4, ..., 4, 3, 5]),\n",
              " array([5, 5, 4, ..., 4, 3, 5]),\n",
              " array([5, 5, 4, ..., 4, 3, 5]),\n",
              " array([5, 5, 4, ..., 4, 3, 5]),\n",
              " array([5, 5, 4, ..., 4, 3, 5]),\n",
              " array([5, 5, 4, ..., 4, 3, 5]),\n",
              " array([5, 5, 4, ..., 4, 3, 5]),\n",
              " array([5, 5, 4, ..., 4, 3, 5]),\n",
              " array([5, 5, 4, ..., 4, 3, 5]),\n",
              " array([5, 5, 4, ..., 4, 3, 5]),\n",
              " array([5, 5, 4, ..., 4, 3, 5]),\n",
              " array([5, 5, 4, ..., 4, 3, 5]),\n",
              " array([5, 5, 4, ..., 4, 3, 5]),\n",
              " array([5, 5, 4, ..., 4, 3, 5]),\n",
              " array([5, 5, 4, ..., 4, 3, 5]),\n",
              " array([5, 5, 4, ..., 4, 3, 5]),\n",
              " array([5, 5, 4, ..., 4, 3, 5]),\n",
              " array([5, 5, 4, ..., 4, 3, 5]),\n",
              " array([5, 5, 4, ..., 4, 3, 5]),\n",
              " array([5, 5, 4, ..., 4, 3, 5]),\n",
              " array([5, 5, 4, ..., 4, 3, 5]),\n",
              " array([5, 5, 4, ..., 4, 3, 5]),\n",
              " array([5, 5, 4, ..., 4, 3, 5]),\n",
              " array([5, 5, 4, ..., 4, 3, 5]),\n",
              " array([5, 5, 4, ..., 4, 3, 5]),\n",
              " array([5, 5, 4, ..., 4, 3, 5]),\n",
              " array([5, 5, 4, ..., 4, 3, 5]),\n",
              " array([5, 5, 4, ..., 4, 3, 5]),\n",
              " array([5, 5, 4, ..., 4, 3, 5]),\n",
              " array([5, 5, 4, ..., 4, 3, 5]),\n",
              " array([5, 5, 4, ..., 4, 3, 5]),\n",
              " array([5, 5, 4, ..., 4, 3, 5]),\n",
              " array([5, 5, 4, ..., 4, 3, 5]),\n",
              " array([5, 5, 4, ..., 4, 3, 5]),\n",
              " array([5, 5, 4, ..., 4, 3, 5]),\n",
              " array([5, 5, 4, ..., 4, 3, 5]),\n",
              " array([5, 5, 4, ..., 4, 3, 5]),\n",
              " array([5, 5, 4, ..., 4, 3, 5]),\n",
              " array([5, 5, 4, ..., 4, 3, 5]),\n",
              " array([5, 5, 4, ..., 4, 3, 5]),\n",
              " array([5, 5, 4, ..., 4, 3, 5]),\n",
              " array([5, 5, 4, ..., 4, 3, 5]),\n",
              " array([5, 5, 4, ..., 4, 3, 5]),\n",
              " array([5, 5, 4, ..., 4, 3, 5]),\n",
              " array([5, 5, 4, ..., 4, 3, 5]),\n",
              " array([5, 5, 4, ..., 4, 3, 5]),\n",
              " array([5, 5, 4, ..., 4, 3, 5]),\n",
              " array([5, 5, 4, ..., 4, 3, 5]),\n",
              " array([5, 5, 4, ..., 4, 3, 5]),\n",
              " array([5, 5, 4, ..., 4, 3, 5]),\n",
              " array([5, 5, 4, ..., 4, 3, 5]),\n",
              " array([5, 5, 4, ..., 4, 3, 5]),\n",
              " array([5, 5, 4, ..., 4, 3, 5]),\n",
              " array([5, 5, 4, ..., 4, 3, 5]),\n",
              " array([5, 5, 4, ..., 4, 3, 5]),\n",
              " array([5, 5, 4, ..., 4, 3, 5]),\n",
              " array([5, 5, 4, ..., 4, 3, 5]),\n",
              " array([5, 5, 4, ..., 4, 3, 5]),\n",
              " array([5, 5, 4, ..., 4, 3, 5]),\n",
              " array([5, 5, 4, ..., 4, 3, 5]),\n",
              " array([5, 5, 4, ..., 4, 3, 5]),\n",
              " array([5, 5, 4, ..., 4, 3, 5]),\n",
              " array([5, 5, 4, ..., 4, 3, 5]),\n",
              " array([5, 5, 4, ..., 4, 3, 5]),\n",
              " array([5, 5, 4, ..., 4, 3, 5]),\n",
              " array([5, 5, 4, ..., 4, 3, 5]),\n",
              " array([5, 5, 4, ..., 4, 3, 5]),\n",
              " array([5, 5, 4, ..., 4, 3, 5]),\n",
              " array([5, 5, 4, ..., 4, 3, 5]),\n",
              " array([5, 5, 4, ..., 4, 3, 5]),\n",
              " array([5, 5, 4, ..., 4, 3, 5]),\n",
              " array([5, 5, 4, ..., 4, 3, 5]),\n",
              " array([5, 5, 4, ..., 4, 3, 5]),\n",
              " array([5, 5, 4, ..., 4, 3, 5]),\n",
              " array([5, 5, 4, ..., 4, 3, 5]),\n",
              " array([5, 5, 4, ..., 4, 3, 5]),\n",
              " array([5, 5, 4, ..., 4, 3, 5]),\n",
              " array([5, 5, 4, ..., 4, 3, 5]),\n",
              " array([5, 5, 4, ..., 4, 3, 5]),\n",
              " array([5, 5, 4, ..., 4, 3, 5]),\n",
              " array([5, 5, 4, ..., 4, 3, 5]),\n",
              " array([5, 5, 4, ..., 4, 3, 5]),\n",
              " array([5, 5, 4, ..., 4, 3, 5]),\n",
              " array([5, 5, 4, ..., 4, 3, 5]),\n",
              " array([5, 5, 4, ..., 4, 3, 5]),\n",
              " array([5, 5, 4, ..., 4, 3, 5]),\n",
              " array([5, 5, 4, ..., 4, 3, 5]),\n",
              " array([5, 5, 4, ..., 4, 3, 5]),\n",
              " array([5, 5, 4, ..., 4, 3, 5]),\n",
              " array([5, 5, 4, ..., 4, 3, 5]),\n",
              " array([5, 5, 4, ..., 4, 3, 5]),\n",
              " array([5, 5, 4, ..., 4, 3, 5]),\n",
              " array([5, 5, 4, ..., 4, 3, 5]),\n",
              " array([5, 5, 4, ..., 4, 3, 5]),\n",
              " array([5, 5, 4, ..., 4, 3, 5]),\n",
              " array([5, 5, 4, ..., 4, 3, 5]),\n",
              " array([5, 5, 4, ..., 4, 3, 5]),\n",
              " array([5, 5, 4, ..., 4, 3, 5]),\n",
              " array([5, 5, 4, ..., 4, 3, 5]),\n",
              " array([5, 5, 4, ..., 4, 3, 5]),\n",
              " array([5, 5, 4, ..., 4, 3, 5]),\n",
              " array([5, 5, 4, ..., 4, 3, 5]),\n",
              " array([5, 5, 4, ..., 4, 3, 5]),\n",
              " array([5, 5, 4, ..., 4, 3, 5]),\n",
              " array([5, 5, 4, ..., 4, 3, 5]),\n",
              " array([5, 5, 4, ..., 4, 3, 5]),\n",
              " array([5, 5, 4, ..., 4, 3, 5]),\n",
              " array([5, 5, 4, ..., 4, 3, 5]),\n",
              " array([5, 5, 4, ..., 4, 3, 5]),\n",
              " array([5, 5, 4, ..., 4, 3, 5]),\n",
              " array([5, 5, 4, ..., 4, 3, 5]),\n",
              " array([5, 5, 4, ..., 4, 3, 5]),\n",
              " array([5, 5, 4, ..., 4, 3, 5]),\n",
              " array([5, 5, 4, ..., 4, 3, 5]),\n",
              " array([5, 5, 4, ..., 4, 3, 5]),\n",
              " array([5, 5, 4, ..., 4, 3, 5]),\n",
              " array([5, 5, 4, ..., 4, 3, 5]),\n",
              " array([5, 5, 4, ..., 4, 3, 5]),\n",
              " array([5, 5, 4, ..., 4, 3, 5]),\n",
              " array([5, 5, 4, ..., 4, 3, 5]),\n",
              " array([5, 5, 4, ..., 4, 3, 5]),\n",
              " array([5, 5, 4, ..., 4, 3, 5]),\n",
              " array([5, 5, 4, ..., 4, 3, 5]),\n",
              " array([5, 5, 4, ..., 4, 3, 5]),\n",
              " array([5, 5, 4, ..., 4, 3, 5]),\n",
              " array([5, 5, 4, ..., 4, 3, 5]),\n",
              " array([5, 5, 4, ..., 4, 3, 5]),\n",
              " array([5, 5, 4, ..., 4, 3, 5]),\n",
              " array([5, 5, 4, ..., 4, 3, 5]),\n",
              " array([5, 5, 4, ..., 4, 3, 5]),\n",
              " array([5, 5, 4, ..., 4, 3, 5]),\n",
              " array([5, 5, 4, ..., 4, 3, 5]),\n",
              " array([5, 5, 4, ..., 4, 3, 5]),\n",
              " array([5, 5, 4, ..., 4, 3, 5]),\n",
              " array([5, 5, 4, ..., 4, 3, 5]),\n",
              " array([5, 5, 4, ..., 4, 3, 5]),\n",
              " array([5, 5, 4, ..., 4, 3, 5]),\n",
              " array([5, 5, 4, ..., 4, 3, 5]),\n",
              " array([5, 5, 4, ..., 4, 3, 5]),\n",
              " array([5, 5, 4, ..., 4, 3, 5]),\n",
              " array([5, 5, 4, ..., 4, 3, 5]),\n",
              " array([5, 5, 4, ..., 4, 3, 5]),\n",
              " array([5, 5, 4, ..., 4, 3, 5]),\n",
              " array([5, 5, 4, ..., 4, 3, 5]),\n",
              " array([5, 5, 4, ..., 4, 3, 5]),\n",
              " array([5, 5, 4, ..., 4, 3, 5]),\n",
              " array([5, 5, 4, ..., 4, 3, 5]),\n",
              " array([5, 5, 4, ..., 4, 3, 5]),\n",
              " array([5, 5, 4, ..., 4, 3, 5]),\n",
              " array([5, 5, 4, ..., 4, 3, 5]),\n",
              " array([5, 5, 4, ..., 4, 3, 5]),\n",
              " array([5, 5, 4, ..., 4, 3, 5]),\n",
              " array([5, 5, 4, ..., 4, 3, 5]),\n",
              " array([5, 5, 4, ..., 4, 3, 5]),\n",
              " array([5, 5, 4, ..., 4, 3, 5]),\n",
              " array([5, 5, 4, ..., 4, 3, 5]),\n",
              " array([5, 5, 4, ..., 4, 3, 5]),\n",
              " array([5, 5, 4, ..., 4, 3, 5]),\n",
              " array([5, 5, 4, ..., 4, 3, 5]),\n",
              " array([5, 5, 4, ..., 4, 3, 5]),\n",
              " array([5, 5, 4, ..., 4, 3, 5]),\n",
              " array([5, 5, 4, ..., 4, 3, 5]),\n",
              " array([5, 5, 4, ..., 4, 3, 5]),\n",
              " array([5, 5, 4, ..., 4, 3, 5]),\n",
              " array([5, 5, 4, ..., 4, 3, 5]),\n",
              " array([5, 5, 4, ..., 4, 3, 5]),\n",
              " array([5, 5, 4, ..., 4, 3, 5]),\n",
              " array([5, 5, 4, ..., 4, 3, 5]),\n",
              " array([5, 5, 4, ..., 4, 3, 5]),\n",
              " array([5, 5, 4, ..., 4, 3, 5]),\n",
              " array([5, 5, 4, ..., 4, 3, 5]),\n",
              " array([5, 5, 4, ..., 4, 3, 5]),\n",
              " array([5, 5, 4, ..., 4, 3, 5]),\n",
              " array([5, 5, 4, ..., 4, 3, 5]),\n",
              " array([5, 5, 4, ..., 4, 3, 5]),\n",
              " array([5, 5, 4, ..., 4, 3, 5]),\n",
              " array([5, 5, 4, ..., 4, 3, 5]),\n",
              " array([5, 5, 4, ..., 4, 3, 5]),\n",
              " array([5, 5, 4, ..., 4, 3, 5]),\n",
              " array([5, 5, 4, ..., 4, 3, 5]),\n",
              " array([5, 5, 4, ..., 4, 3, 5]),\n",
              " array([5, 5, 4, ..., 4, 3, 5]),\n",
              " array([5, 5, 4, ..., 4, 3, 5]),\n",
              " array([5, 5, 4, ..., 4, 3, 5]),\n",
              " array([5, 5, 4, ..., 4, 3, 5]),\n",
              " array([5, 5, 4, ..., 4, 3, 5]),\n",
              " array([5, 5, 4, ..., 4, 3, 5]),\n",
              " array([5, 5, 4, ..., 4, 3, 5]),\n",
              " array([5, 5, 4, ..., 4, 3, 5]),\n",
              " array([5, 5, 4, ..., 4, 3, 5]),\n",
              " array([5, 5, 4, ..., 4, 3, 5]),\n",
              " array([5, 5, 4, ..., 4, 3, 5]),\n",
              " array([5, 5, 4, ..., 4, 3, 5]),\n",
              " array([5, 5, 4, ..., 4, 3, 5]),\n",
              " array([5, 5, 4, ..., 4, 3, 5]),\n",
              " array([5, 5, 4, ..., 4, 3, 5]),\n",
              " array([5, 5, 4, ..., 4, 3, 5]),\n",
              " array([5, 5, 4, ..., 4, 3, 5]),\n",
              " array([5, 5, 4, ..., 4, 3, 5]),\n",
              " array([5, 5, 4, ..., 4, 3, 5]),\n",
              " array([5, 5, 4, ..., 4, 3, 5]),\n",
              " array([5, 5, 4, ..., 4, 3, 5]),\n",
              " array([5, 5, 4, ..., 4, 3, 5]),\n",
              " array([5, 5, 4, ..., 4, 3, 5]),\n",
              " array([5, 5, 4, ..., 4, 3, 5]),\n",
              " array([5, 5, 4, ..., 4, 3, 5]),\n",
              " array([5, 5, 4, ..., 4, 3, 5]),\n",
              " array([5, 5, 4, ..., 4, 3, 5]),\n",
              " array([5, 5, 4, ..., 4, 3, 5]),\n",
              " array([5, 5, 4, ..., 4, 3, 5]),\n",
              " array([5, 5, 4, ..., 4, 3, 5]),\n",
              " array([5, 5, 4, ..., 4, 3, 5]),\n",
              " array([5, 5, 4, ..., 4, 3, 5]),\n",
              " array([5, 5, 4, ..., 4, 3, 5]),\n",
              " array([5, 5, 4, ..., 4, 3, 5]),\n",
              " array([5, 5, 4, ..., 4, 3, 5]),\n",
              " array([5, 5, 4, ..., 4, 3, 5]),\n",
              " array([5, 5, 4, ..., 4, 3, 5]),\n",
              " array([5, 5, 4, ..., 4, 3, 5]),\n",
              " array([5, 5, 4, ..., 4, 3, 5]),\n",
              " array([5, 5, 4, ..., 4, 3, 5]),\n",
              " array([5, 5, 4, ..., 4, 3, 5]),\n",
              " array([5, 5, 4, ..., 4, 3, 5]),\n",
              " array([5, 5, 4, ..., 4, 3, 5]),\n",
              " array([5, 5, 4, ..., 4, 3, 5]),\n",
              " array([5, 5, 4, ..., 4, 3, 5]),\n",
              " array([5, 5, 4, ..., 4, 3, 5]),\n",
              " array([5, 5, 4, ..., 4, 3, 5]),\n",
              " array([5, 5, 4, ..., 4, 3, 5]),\n",
              " array([5, 5, 4, ..., 4, 3, 5]),\n",
              " array([5, 5, 4, ..., 4, 3, 5]),\n",
              " array([5, 5, 4, ..., 4, 3, 5]),\n",
              " array([5, 5, 4, ..., 4, 3, 5]),\n",
              " array([5, 5, 4, ..., 4, 3, 5]),\n",
              " array([5, 5, 4, ..., 4, 3, 5]),\n",
              " array([5, 5, 4, ..., 4, 3, 5]),\n",
              " array([5, 5, 4, ..., 4, 3, 5]),\n",
              " array([5, 5, 4, ..., 4, 3, 5]),\n",
              " array([5, 5, 4, ..., 4, 3, 5]),\n",
              " array([5, 5, 4, ..., 4, 3, 5]),\n",
              " array([5, 5, 4, ..., 4, 3, 5]),\n",
              " array([5, 5, 4, ..., 4, 3, 5]),\n",
              " array([5, 5, 4, ..., 4, 3, 5]),\n",
              " array([5, 5, 4, ..., 4, 3, 5]),\n",
              " array([5, 5, 4, ..., 4, 3, 5]),\n",
              " array([5, 5, 4, ..., 4, 3, 5]),\n",
              " array([5, 5, 4, ..., 4, 3, 5]),\n",
              " array([5, 5, 4, ..., 4, 3, 5]),\n",
              " array([5, 5, 4, ..., 4, 3, 5]),\n",
              " array([5, 5, 4, ..., 4, 3, 5]),\n",
              " array([5, 5, 4, ..., 4, 3, 5]),\n",
              " array([5, 5, 4, ..., 4, 3, 5]),\n",
              " array([5, 5, 4, ..., 4, 3, 5]),\n",
              " array([5, 5, 4, ..., 4, 3, 5]),\n",
              " array([5, 5, 4, ..., 4, 3, 5]),\n",
              " array([5, 5, 4, ..., 4, 3, 5]),\n",
              " array([5, 5, 4, ..., 4, 3, 5]),\n",
              " array([5, 5, 4, ..., 4, 3, 5]),\n",
              " array([5, 5, 4, ..., 4, 3, 5]),\n",
              " array([5, 5, 4, ..., 4, 3, 5]),\n",
              " array([5, 5, 4, ..., 4, 3, 5]),\n",
              " array([5, 5, 4, ..., 4, 3, 5]),\n",
              " array([5, 5, 4, ..., 4, 3, 5]),\n",
              " array([5, 5, 4, ..., 4, 3, 5]),\n",
              " array([5, 5, 4, ..., 4, 3, 5]),\n",
              " array([5, 5, 4, ..., 4, 3, 5]),\n",
              " array([5, 5, 4, ..., 4, 3, 5]),\n",
              " array([5, 5, 4, ..., 4, 3, 5]),\n",
              " ...]"
            ]
          },
          "metadata": {},
          "execution_count": 268
        }
      ]
    },
    {
      "cell_type": "code",
      "source": [
        "user_source=[]\n",
        "for i in range(3):\n",
        " user_source.append(random.choice(list(user_mapping.values())))"
      ],
      "metadata": {
        "id": "2SIyu2sJ2svh"
      },
      "execution_count": 220,
      "outputs": []
    },
    {
      "cell_type": "code",
      "source": [
        "review_target=[]\n",
        "for i in range(3):\n",
        " review_target.append(random.choice(list(review_mapping.keys())))"
      ],
      "metadata": {
        "id": "W3YwiHje7t83"
      },
      "execution_count": 221,
      "outputs": []
    },
    {
      "cell_type": "code",
      "source": [
        "G.add_nodes_from([user_source[0],user_source[1],user_source[2]],bipartite=0,label='user')\n",
        "G.add_nodes_from([review_target[0],review_target[1],review_target[2]],bipartite=1,label='item')"
      ],
      "metadata": {
        "id": "g-1vnLQyQaF0"
      },
      "execution_count": 224,
      "outputs": []
    },
    {
      "cell_type": "code",
      "source": [
        "for i,j in zip(range(3),range(3)):\n",
        " G.add_edge(user_source[i], review_target[j], rating='stars')"
      ],
      "metadata": {
        "id": "5wrUHAGAXkLh"
      },
      "execution_count": 225,
      "outputs": []
    },
    {
      "cell_type": "code",
      "source": [
        "print(G)"
      ],
      "metadata": {
        "colab": {
          "base_uri": "https://localhost:8080/"
        },
        "id": "Rwh66D8CxYmr",
        "outputId": "e66ac633-825a-47d8-fe52-97b73349b56b"
      },
      "execution_count": 227,
      "outputs": [
        {
          "output_type": "stream",
          "name": "stdout",
          "text": [
            "Graph with 6 nodes and 3 edges\n"
          ]
        }
      ]
    },
    {
      "cell_type": "code",
      "source": [
        "bipartite.is_bipartite(G)"
      ],
      "metadata": {
        "colab": {
          "base_uri": "https://localhost:8080/"
        },
        "id": "ALoWDiJ5z5Qg",
        "outputId": "9dab85f9-1f33-434e-feae-3d1195fa53f6"
      },
      "execution_count": 228,
      "outputs": [
        {
          "output_type": "execute_result",
          "data": {
            "text/plain": [
              "True"
            ]
          },
          "metadata": {},
          "execution_count": 228
        }
      ]
    },
    {
      "cell_type": "code",
      "source": [
        "nx.draw_networkx(G, pos = nx.drawing.layout.bipartite_layout(G, [user_source[0],user_source[1],user_source[2]]),width=2,with_labels='True')\n"
      ],
      "metadata": {
        "colab": {
          "base_uri": "https://localhost:8080/",
          "height": 248
        },
        "id": "OQVGp2IuYZ3u",
        "outputId": "4d547cf3-4a9c-4638-bda6-8104643a1057"
      },
      "execution_count": 230,
      "outputs": [
        {
          "output_type": "display_data",
          "data": {
            "text/plain": [
              "<Figure size 432x288 with 1 Axes>"
            ],
            "image/png": "[encoded data removed]"
          },
          "metadata": {}
        }
      ]
    },
    {
      "cell_type": "code",
      "source": [
        "user_source=[]\n",
        "for i in range(3):\n",
        " user_source.append(random.choice(list(user_mapping.values())))\n"
      ],
      "metadata": {
        "id": "jVdFv_qLL3ie"
      },
      "execution_count": 235,
      "outputs": []
    },
    {
      "cell_type": "code",
      "source": [
        "user_source"
      ],
      "metadata": {
        "colab": {
          "base_uri": "https://localhost:8080/"
        },
        "id": "gMwVYgCIMB9b",
        "outputId": "c173240f-850b-41f1-8e02-3da63802b921"
      },
      "execution_count": 236,
      "outputs": [
        {
          "output_type": "execute_result",
          "data": {
            "text/plain": [
              "[19228, 8537, 21398]"
            ]
          },
          "metadata": {},
          "execution_count": 236
        }
      ]
    },
    {
      "cell_type": "code",
      "source": [
        "# Extract the ratings while extracting the edges from DF\n",
        "edges = [x for x in range(3)]\n",
        "\n",
        "B = nx.Graph()\n",
        "\n",
        "B.add_nodes_from(user_source, bipartite=0, label='user')\n",
        "B.add_nodes_from(review_target, bipartite=1, label='item')\n",
        "\n",
        "# Now assign the ratings correctly to edges\n",
        "for row in edges:\n",
        "    B.add_edge(user_source[row], review_target[row], rating='stars')\n",
        "\n",
        "#Now draw the edge labels using draw_netwokrx_edge_labels:\n",
        "\n",
        "left_or_top = df.index.unique()\n",
        "pos = nx.bipartite_layout(B, left_or_top)\n",
        "\n",
        "# Draw the graph\n",
        "nx.draw(B,pos,node_color='#A0CBE2',edge_color='#00bb5e',width=1,\n",
        "     edge_cmap=plt.cm.Blues,with_labels=True)\n",
        "\n",
        "# Get the edge labels for ratings\n",
        "edge_labels = nx.get_edge_attributes(B,'stars')\n",
        "\n",
        "# Draw the edge labels\n",
        "nx.draw_networkx_edge_labels(B, pos, edge_labels=edge_labels)"
      ],
      "metadata": {
        "colab": {
          "base_uri": "https://localhost:8080/",
          "height": 337
        },
        "id": "WWFGhCUJSn89",
        "outputId": "5bb407de-d6f4-4c02-cc33-dc201e8a7504"
      },
      "execution_count": 234,
      "outputs": [
        {
          "output_type": "execute_result",
          "data": {
            "text/plain": [
              "{}"
            ]
          },
          "metadata": {},
          "execution_count": 234
        },
        {
          "output_type": "display_data",
          "data": {
            "text/plain": [
              "<Figure size 432x288 with 1 Axes>"
            ],
            "image/png": "[encoded data removed]"
          },
          "metadata": {}
        }
      ]
    },
    {
      "cell_type": "code",
      "source": [
        "G=nx.Graph()\n",
        "\n",
        "#extract and add AGE_GROUP nodes in graph\n",
        "f1 = ['ZRJwVLyzEJq1VAihDhYiow']\n",
        "for row in f1: \n",
        "    G.add_nodes_from(row, color = 'blue')\n",
        "\n",
        "#extract and add COUNTRY nodes in graph\n",
        "f2 = ['_cfetEw0dU8MRPpxMReHNg']\n",
        "for row in f2:\n",
        "    G.add_nodes_from(row, color = 'red') \n",
        "\n",
        "f5 = csv.reader(open('id,country.txt','rb'))\n",
        "\n",
        "for row in f5:\n",
        "    if len(row) == 2 : # add an edge only if both values are provided\n",
        "        G.add_edge(row[0],row[1])\n",
        "# Remove empty nodes\n",
        "for n in G.nodes():\n",
        "    if n == '':\n",
        "        G.remove_node(n)\n",
        "# color nodes according to their color attribute\n",
        "color_map = []\n",
        "for n in G.nodes():\n",
        "    color_map.append(G.node[n]['color'])\n",
        "nx.draw_networkx(G, node_color = color_map, with_labels = True, node_size = 500)\n",
        "\n",
        "plt.savefig(\"path.png\")\n",
        "\n",
        "plt.show()"
      ],
      "metadata": {
        "id": "2KnBsjE3OixT"
      },
      "execution_count": null,
      "outputs": []
    },
    {
      "cell_type": "markdown",
      "source": [
        "#**7. Train/validation/test split**"
      ],
      "metadata": {
        "id": "MS8iA9AmCnR6"
      }
    },
    {
      "cell_type": "code",
      "source": [
        "num_users, num_places = len(user_mapping), len(review_mapping)\n",
        "num_interactions = edge_index.shape[1]"
      ],
      "metadata": {
        "id": "UakF4gWaQq5w"
      },
      "execution_count": null,
      "outputs": []
    },
    {
      "cell_type": "code",
      "source": [
        "# convert edge indices into Sparse Tensors: https://pytorch-geometric.readthedocs.io/en/latest/notes/sparse_tensor.html\n",
        "train_sparse_edge_index = SparseTensor(row=train_edge_index[0], col=train_edge_index[1], sparse_sizes=(\n",
        "    num_users + num_places, num_users + num_places))\n",
        "val_sparse_edge_index = SparseTensor(row=val_edge_index[0], col=val_edge_index[1], sparse_sizes=(\n",
        "    num_users + num_places, num_users + num_places))\n",
        "test_sparse_edge_index = SparseTensor(row=test_edge_index[0], col=test_edge_index[1], sparse_sizes=(\n",
        "    num_users + num_places, num_users + num_places))"
      ],
      "metadata": {
        "id": "eyNRysVrr7Wy"
      },
      "execution_count": null,
      "outputs": []
    },
    {
      "cell_type": "code",
      "source": [
        "num_users, num_places = len(user_mapping), len(review_mapping)\n",
        "num_interactions = edge_index.shape[1]\n",
        "all_indices = [i for i in range(num_interactions)]\n",
        "\n",
        "train_indices, test_indices = train_test_split(all_indices, test_size=0.2, random_state=1)\n",
        "val_indices, test_indices = train_test_split(test_indices, test_size=0.5, random_state=1)\n",
        "   \n",
        "\n",
        "train_edge_index = edge_index[:, train_indices]\n",
        "val_edge_index = edge_index[:, val_indices]\n",
        "test_edge_index = edge_index[:, test_indices]"
      ],
      "metadata": {
        "id": "bjORN7v2raPE"
      },
      "execution_count": null,
      "outputs": []
    },
    {
      "cell_type": "code",
      "source": [
        "# function which random samples a mini-batch of positive and negative samples\n",
        "def sample_mini_batch(batch_size, edge_index):\n",
        "    \"\"\"Randomly samples indices of a minibatch given an adjacency matrix\n",
        "\n",
        "    Args:\n",
        "        batch_size (int): minibatch size\n",
        "        edge_index (torch.Tensor): 2 by N list of edges\n",
        "\n",
        "    Returns:\n",
        "        tuple: user indices, positive item indices, negative item indices\n",
        "    \"\"\"\n",
        "    edges = structured_negative_sampling(edge_index)\n",
        "    edges = torch.stack(edges, dim=0)\n",
        "    indices = random.choices(\n",
        "        [i for i in range(edges[0].shape[0])], k=batch_size)\n",
        "    batch = edges[:, indices]\n",
        "    user_indices, pos_item_indices, neg_item_indices = batch[0], batch[1], batch[2]\n",
        "    return user_indices, pos_item_indices, neg_item_indices"
      ],
      "metadata": {
        "id": "-PW4V_hJsQcg"
      },
      "execution_count": null,
      "outputs": []
    },
    {
      "cell_type": "markdown",
      "source": [
        "#**7. Data Load**"
      ],
      "metadata": {
        "id": "ExTpNsWXytfZ"
      }
    },
    {
      "cell_type": "code",
      "source": [],
      "metadata": {
        "id": "5QbX6AUnC5Ba"
      },
      "execution_count": null,
      "outputs": []
    },
    {
      "cell_type": "markdown",
      "source": [
        "Node mapping and feature extraction"
      ],
      "metadata": {
        "id": "G4lLUdpZI-OB"
      }
    },
    {
      "cell_type": "code",
      "source": [
        "# Sort to define the order of nodes\n",
        "sorted_df = users.sort_values(by=\"user_id\").set_index(\"user_id\")\n",
        "\n",
        "# Map IDs to start from 0\n",
        "sorted_df = sorted_df.reset_index(drop=False)\n",
        "movie_id_mapping = sorted_df[\"user_id\"]\n",
        "\n",
        "# Select node features\n",
        "node_features = sorted_df[[\"name\",\"review_count\" ,\"yelping_since\", \"average_stars\",\"friends\"]]\n",
        "# Convert non-numeric columns\n",
        "pd.set_option('mode.chained_assignment', None)\n",
        "\n",
        "# # For simplicity I'll just select the first genre here and ignore the others\n",
        "# genres = node_features[\"genre\"].str.split(\",\", expand=True)\n",
        "# node_features[\"main_genre\"] = genres[0]\n",
        "\n",
        "# One-hot encoding\n",
        "# anime_node_features = pd.concat([node_features, pd.get_dummies(node_features[\"main_genre\"])], axis=1, join='inner')\n",
        "# anime_node_features = pd.concat([anime_node_features, pd.get_dummies(anime_node_features[\"type\"])], axis=1, join='inner')\n",
        "# anime_node_features.drop([\"genre\", \"main_genre\"], axis=1, inplace=True)\n",
        "node_features.head(10)"
      ],
      "metadata": {
        "id": "L79C3SyFI9pd"
      },
      "execution_count": null,
      "outputs": []
    },
    {
      "cell_type": "markdown",
      "source": [
        "# **Preprocess the dataset**"
      ],
      "metadata": {
        "id": "-Fmt9NrrCuIq"
      }
    },
    {
      "cell_type": "code",
      "source": [
        "# stuck at how to process the dataformat df to get the rating matrix....yet to be explored.\n",
        "\n",
        "# check the graph extraction video deepfindr you have\n",
        "\n",
        "# If that does not work try and see what fields are there in the yelp reviews pytorch geometric dataset which is already done for you...worst case consider this."
      ],
      "metadata": {
        "id": "hC5vfPJHHHEn"
      },
      "execution_count": null,
      "outputs": []
    },
    {
      "cell_type": "markdown",
      "source": [
        "#**Trying to load yelp dataset from pytorch geometric**"
      ],
      "metadata": {
        "id": "jaIuMEsyeGGX"
      }
    },
    {
      "cell_type": "code",
      "source": [
        "from torch_geometric.datasets import Yelp\n",
        "dataset = Yelp(root='')\n",
        "print(f'Dataset: {dataset}:')\n",
        "print('======================')\n",
        "print(f'Number of graphs: {len(dataset)}')\n",
        "print(f'Number of features: {dataset.num_features}')\n",
        "print(f'Number of classes: {dataset.num_classes}')"
      ],
      "metadata": {
        "colab": {
          "base_uri": "https://localhost:8080/"
        },
        "id": "SMarDZJKhjjY",
        "outputId": "b3ec9896-caa7-4447-ff99-711ed2287651"
      },
      "execution_count": null,
      "outputs": [
        {
          "output_type": "stream",
          "name": "stderr",
          "text": [
            "Downloading https://docs.google.com/uc?export=download&id=1Juwx8HtDwSzmVIJ31ooVa1WljI4U5JnA&confirm=t\n",
            "Downloading https://docs.google.com/uc?export=download&id=1Zy6BZH_zLEjKlEFSduKE5tV9qqA_8VtM&confirm=t\n",
            "Downloading https://docs.google.com/uc?export=download&id=1VUcBGr0T0-klqerjAjxRmAqFuld_SMWU&confirm=t\n",
            "Downloading https://docs.google.com/uc?export=download&id=1NI5pa5Chpd-52eSmLW60OnB3WS5ikxq_&confirm=t\n",
            "Processing...\n",
            "Done!\n"
          ]
        },
        {
          "output_type": "stream",
          "name": "stdout",
          "text": [
            "Dataset: Yelp():\n",
            "======================\n",
            "Number of graphs: 1\n",
            "Number of features: 300\n",
            "Number of classes: 100\n"
          ]
        }
      ]
    },
    {
      "cell_type": "code",
      "source": [
        "G = dataset[0]  # Get the first graph object.\n",
        "print(G)"
      ],
      "metadata": {
        "colab": {
          "base_uri": "https://localhost:8080/"
        },
        "id": "beEQKwgYihJ-",
        "outputId": "0eede5be-fa36-42ae-8918-524e3dfaed76"
      },
      "execution_count": null,
      "outputs": [
        {
          "output_type": "stream",
          "name": "stdout",
          "text": [
            "Data(x=[716847, 300], edge_index=[2, 13954819], y=[716847, 100], train_mask=[716847], val_mask=[716847], test_mask=[716847])\n"
          ]
        }
      ]
    },
    {
      "cell_type": "code",
      "source": [
        "import networkx as nx\n",
        "from torch_geometric.utils import to_networkx  # Conversion function"
      ],
      "metadata": {
        "id": "5UUvswoHjhDH"
      },
      "execution_count": null,
      "outputs": []
    },
    {
      "cell_type": "code",
      "source": [
        "from torch_geometric.datasets import Yelp\n",
        "data = Yelp(root='')\n",
        "from torch_geometric.utils import to_networkx\n",
        "\n",
        "# G = to_networkx(data, to_undirected=False)\n",
        "# visualize_graph(G, color=data.y)"
      ],
      "metadata": {
        "id": "O5jHnLBxkIVM"
      },
      "execution_count": null,
      "outputs": []
    },
    {
      "cell_type": "markdown",
      "source": [
        "#**GIT Commands**"
      ],
      "metadata": {
        "id": "RIXX2OuanYJi"
      }
    },
    {
      "cell_type": "markdown",
      "source": [
        "**Change present working directory**"
      ],
      "metadata": {
        "id": "QudWxYv1ST8W"
      }
    },
    {
      "cell_type": "code",
      "source": [
        "%cd /content/drive/MyDrive/GCN_TripRecommendation/datasets"
      ],
      "metadata": {
        "colab": {
          "base_uri": "https://localhost:8080/"
        },
        "id": "GfDMBC59SQMl",
        "outputId": "9663326d-a702-44a2-ff60-0faa45824e9b"
      },
      "execution_count": 1,
      "outputs": [
        {
          "output_type": "stream",
          "name": "stdout",
          "text": [
            "[Errno 2] No such file or directory: '/content/drive/MyDrive/GCN_TripRecommendation/datasets'\n",
            "/content\n"
          ]
        }
      ]
    },
    {
      "cell_type": "code",
      "source": [
        "!pwd"
      ],
      "metadata": {
        "colab": {
          "base_uri": "https://localhost:8080/"
        },
        "id": "GuxbBMDpYWXx",
        "outputId": "c0cfeb38-51e7-4d17-cec9-9d987b1bd0e8"
      },
      "execution_count": null,
      "outputs": [
        {
          "output_type": "stream",
          "name": "stdout",
          "text": [
            "/content/drive/MyDrive/GCN_TripRecommendation/datasets\n"
          ]
        }
      ]
    },
    {
      "cell_type": "code",
      "source": [
        "!ls"
      ],
      "metadata": {
        "colab": {
          "base_uri": "https://localhost:8080/"
        },
        "id": "zRE2qUXEmWsG",
        "outputId": "5117936c-0198-44c3-d9be-fc1cf62b706a"
      },
      "execution_count": null,
      "outputs": [
        {
          "output_type": "stream",
          "name": "stdout",
          "text": [
            "'yelp_training_set_review (1).csv'   yelp_user.csv\n"
          ]
        }
      ]
    },
    {
      "cell_type": "code",
      "source": [
        "!git init"
      ],
      "metadata": {
        "colab": {
          "base_uri": "https://localhost:8080/"
        },
        "id": "dyUjpC3eYYWw",
        "outputId": "357b9355-abdc-4125-c6d9-553a79b2ac09"
      },
      "execution_count": null,
      "outputs": [
        {
          "output_type": "stream",
          "name": "stdout",
          "text": [
            "Initialized empty Git repository in /content/drive/MyDrive/GCN_TripRecommendation/.git/\n"
          ]
        }
      ]
    },
    {
      "cell_type": "code",
      "source": [
        "!git config --global user.email 'sprakki@horizon.csueastbay.edu'\n",
        "!git config --global user.name 'SravaniPrakki'"
      ],
      "metadata": {
        "id": "b1Boh5iDakwg"
      },
      "execution_count": null,
      "outputs": []
    },
    {
      "cell_type": "code",
      "source": [
        "!git add .\n",
        "!git commit -m 'First commit'"
      ],
      "metadata": {
        "colab": {
          "base_uri": "https://localhost:8080/"
        },
        "id": "979B_SGqa8tR",
        "outputId": "90ee064e-5804-46b0-f1af-e8bc6c0cb083"
      },
      "execution_count": null,
      "outputs": [
        {
          "output_type": "stream",
          "name": "stdout",
          "text": [
            "On branch master\n",
            "\n",
            "Initial commit\n",
            "\n",
            "nothing to commit\n"
          ]
        }
      ]
    },
    {
      "cell_type": "code",
      "source": [
        "!ls"
      ],
      "metadata": {
        "colab": {
          "base_uri": "https://localhost:8080/"
        },
        "id": "dqLR5KNVcBGF",
        "outputId": "18402382-305a-4983-86af-8f54dda73684"
      },
      "execution_count": null,
      "outputs": [
        {
          "output_type": "stream",
          "name": "stdout",
          "text": [
            "yelp_training_set_review.csv\n"
          ]
        }
      ]
    },
    {
      "cell_type": "markdown",
      "source": [
        "# Implementing LightGCN"
      ],
      "metadata": {
        "id": "0oRaMMc5xJde"
      }
    },
    {
      "cell_type": "code",
      "source": [
        "\n",
        "\n",
        "# defines LightGCN model\n",
        "class LightGCN(MessagePassing):\n",
        "    \"\"\"LightGCN Model as proposed in https://arxiv.org/abs/2002.02126\n",
        "    \"\"\"\n",
        "\n",
        "    def __init__(self, num_users, num_items, embedding_dim=64, K=3, add_self_loops=False):\n",
        "        \"\"\"Initializes LightGCN Model\n",
        "\n",
        "        Args:\n",
        "            num_users (int): Number of users\n",
        "            num_items (int): Number of items\n",
        "            embedding_dim (int, optional): Dimensionality of embeddings. Defaults to 8.\n",
        "            K (int, optional): Number of message passing layers. Defaults to 3.\n",
        "            add_self_loops (bool, optional): Whether to add self loops for message passing. Defaults to False.\n",
        "        \"\"\"\n",
        "        super().__init__()\n",
        "        self.num_users, self.num_items = num_users, num_items\n",
        "        self.embedding_dim, self.K = embedding_dim, K\n",
        "        self.add_self_loops = add_self_loops\n",
        "\n",
        "        self.users_emb = nn.Embedding(\n",
        "            num_embeddings=self.num_users, embedding_dim=self.embedding_dim) # e_u^0\n",
        "        self.items_emb = nn.Embedding(\n",
        "            num_embeddings=self.num_items, embedding_dim=self.embedding_dim) # e_i^0\n",
        "\n",
        "        nn.init.normal_(self.users_emb.weight, std=0.1)\n",
        "        nn.init.normal_(self.items_emb.weight, std=0.1)\n",
        "\n",
        "    def forward(self, edge_index: SparseTensor):\n",
        "        \"\"\"Forward propagation of LightGCN Model.\n",
        "\n",
        "        Args:\n",
        "            edge_index (SparseTensor): adjacency matrix\n",
        "\n",
        "        Returns:\n",
        "            tuple (Tensor): e_u_k, e_u_0, e_i_k, e_i_0\n",
        "        \"\"\"\n",
        "        # compute \\tilde{A}: symmetrically normalized adjacency matrix\n",
        "        edge_index_norm = gcn_norm(\n",
        "            edge_index, add_self_loops=self.add_self_loops)\n",
        "\n",
        "        emb_0 = torch.cat([self.users_emb.weight, self.items_emb.weight]) # E^0\n",
        "        embs = [emb_0]\n",
        "        emb_k = emb_0\n",
        "\n",
        "        # multi-scale diffusion\n",
        "        for i in range(self.K):\n",
        "            emb_k = self.propagate(edge_index_norm, x=emb_k)\n",
        "            embs.append(emb_k)\n",
        "\n",
        "        embs = torch.stack(embs, dim=1)\n",
        "        emb_final = torch.mean(embs, dim=1) # E^K\n",
        "\n",
        "        users_emb_final, items_emb_final = torch.split(\n",
        "            emb_final, [self.num_users, self.num_items]) # splits into e_u^K and e_i^K\n",
        "\n",
        "        # returns e_u^K, e_u^0, e_i^K, e_i^0\n",
        "        return users_emb_final, self.users_emb.weight, items_emb_final, self.items_emb.weight\n",
        "\n",
        "    def message(self, x_j: Tensor) -> Tensor:\n",
        "        return x_j\n",
        "\n",
        "    def message_and_aggregate(self, adj_t: SparseTensor, x: Tensor) -> Tensor:\n",
        "        # computes \\tilde{A} @ x\n",
        "        return matmul(adj_t, x)\n",
        "\n",
        "model = LightGCN(num_users, num_places)"
      ],
      "metadata": {
        "id": "sJJSi-9o95-r"
      },
      "execution_count": null,
      "outputs": []
    },
    {
      "cell_type": "code",
      "source": [
        "def bpr_loss(users_emb_final, users_emb_0, pos_items_emb_final, pos_items_emb_0, neg_items_emb_final, neg_items_emb_0, lambda_val):\n",
        "    \"\"\"Bayesian Personalized Ranking Loss as described in https://arxiv.org/abs/1205.2618\n",
        "\n",
        "    Args:\n",
        "        users_emb_final (torch.Tensor): e_u_k\n",
        "        users_emb_0 (torch.Tensor): e_u_0\n",
        "        pos_items_emb_final (torch.Tensor): positive e_i_k\n",
        "        pos_items_emb_0 (torch.Tensor): positive e_i_0\n",
        "        neg_items_emb_final (torch.Tensor): negative e_i_k\n",
        "        neg_items_emb_0 (torch.Tensor): negative e_i_0\n",
        "        lambda_val (float): lambda value for regularization loss term\n",
        "\n",
        "    Returns:\n",
        "        torch.Tensor: scalar bpr loss value\n",
        "    \"\"\"\n",
        "    reg_loss = lambda_val * (users_emb_0.norm(2).pow(2) +\n",
        "                             pos_items_emb_0.norm(2).pow(2) +\n",
        "                             neg_items_emb_0.norm(2).pow(2)) # L2 loss\n",
        "\n",
        "    pos_scores = torch.mul(users_emb_final, pos_items_emb_final)\n",
        "    pos_scores = torch.sum(pos_scores, dim=-1) # predicted scores of positive samples\n",
        "    neg_scores = torch.mul(users_emb_final, neg_items_emb_final)\n",
        "    neg_scores = torch.sum(neg_scores, dim=-1) # predicted scores of negative samples\n",
        "\n",
        "    loss = -torch.mean(torch.nn.functional.softplus(pos_scores - neg_scores)) + reg_loss\n",
        "\n",
        "    return loss"
      ],
      "metadata": {
        "id": "ZiajePGJ-OGf"
      },
      "execution_count": null,
      "outputs": []
    },
    {
      "cell_type": "code",
      "source": [
        "# helper function to get N_u\n",
        "def get_user_positive_items(edge_index):\n",
        "    \"\"\"Generates dictionary of positive items for each user\n",
        "\n",
        "    Args:\n",
        "        edge_index (torch.Tensor): 2 by N list of edges\n",
        "\n",
        "    Returns:\n",
        "        dict: dictionary of positive items for each user\n",
        "    \"\"\"\n",
        "    user_pos_items = {}\n",
        "    for i in range(edge_index.shape[1]):\n",
        "        user = edge_index[0][i].item()\n",
        "        item = edge_index[1][i].item()\n",
        "        if user not in user_pos_items:\n",
        "            user_pos_items[user] = []\n",
        "        user_pos_items[user].append(item)\n",
        "    return user_pos_items"
      ],
      "metadata": {
        "id": "awxaAuVh-RhV"
      },
      "execution_count": null,
      "outputs": []
    },
    {
      "cell_type": "code",
      "source": [
        "# computes recall@K and precision@K\n",
        "def RecallPrecision_ATk(groundTruth, r, k):\n",
        "    \"\"\"Computers recall @ k and precision @ k\n",
        "\n",
        "    Args:\n",
        "        groundTruth (list): list of lists containing highly rated items of each user\n",
        "        r (list): list of lists indicating whether each top k item recommended to each user\n",
        "            is a top k ground truth item or not\n",
        "        k (intg): determines the top k items to compute precision and recall on\n",
        "\n",
        "    Returns:\n",
        "        tuple: recall @ k, precision @ k\n",
        "    \"\"\"\n",
        "    num_correct_pred = torch.sum(r, dim=-1)  # number of correctly predicted items per user\n",
        "    # number of items liked by each user in the test set\n",
        "    user_num_liked = torch.Tensor([len(groundTruth[i])\n",
        "                                  for i in range(len(groundTruth))])\n",
        "    recall = torch.mean(num_correct_pred / user_num_liked)\n",
        "    precision = torch.mean(num_correct_pred) / k\n",
        "    return recall.item(), precision.item()"
      ],
      "metadata": {
        "id": "lAZNaVcs-Ugy"
      },
      "execution_count": null,
      "outputs": []
    },
    {
      "cell_type": "code",
      "source": [
        "# computes NDCG@K\n",
        "def NDCGatK_r(groundTruth, r, k):\n",
        "    \"\"\"Computes Normalized Discounted Cumulative Gain (NDCG) @ k\n",
        "\n",
        "    Args:\n",
        "        groundTruth (list): list of lists containing highly rated items of each user\n",
        "        r (list): list of lists indicating whether each top k item recommended to each user\n",
        "            is a top k ground truth item or not\n",
        "        k (int): determines the top k items to compute ndcg on\n",
        "\n",
        "    Returns:\n",
        "        float: ndcg @ k\n",
        "    \"\"\"\n",
        "    assert len(r) == len(groundTruth)\n",
        "\n",
        "    test_matrix = torch.zeros((len(r), k))\n",
        "\n",
        "    for i, items in enumerate(groundTruth):\n",
        "        length = min(len(items), k)\n",
        "        test_matrix[i, :length] = 1\n",
        "    max_r = test_matrix\n",
        "    idcg = torch.sum(max_r * 1. / torch.log2(torch.arange(2, k + 2)), axis=1)\n",
        "    dcg = r * (1. / torch.log2(torch.arange(2, k + 2)))\n",
        "    dcg = torch.sum(dcg, axis=1)\n",
        "    idcg[idcg == 0.] = 1.\n",
        "    ndcg = dcg / idcg\n",
        "    ndcg[torch.isnan(ndcg)] = 0.\n",
        "    return torch.mean(ndcg).item()"
      ],
      "metadata": {
        "id": "5sVvQPht-W6D"
      },
      "execution_count": null,
      "outputs": []
    },
    {
      "cell_type": "code",
      "source": [
        "# wrapper function to get evaluation metrics\n",
        "def get_metrics(model, edge_index, exclude_edge_indices, k):\n",
        "    \"\"\"Computes the evaluation metrics: recall, precision, and ndcg @ k\n",
        "\n",
        "    Args:\n",
        "        model (LighGCN): lightgcn model\n",
        "        edge_index (torch.Tensor): 2 by N list of edges for split to evaluate\n",
        "        exclude_edge_indices ([type]): 2 by N list of edges for split to discount from evaluation\n",
        "        k (int): determines the top k items to compute metrics on\n",
        "\n",
        "    Returns:\n",
        "        tuple: recall @ k, precision @ k, ndcg @ k\n",
        "    \"\"\"\n",
        "    user_embedding = model.users_emb.weight\n",
        "    item_embedding = model.items_emb.weight\n",
        "\n",
        "    # get ratings between every user and item - shape is num users x num movies\n",
        "    rating = torch.matmul(user_embedding, item_embedding.T)\n",
        "\n",
        "    for exclude_edge_index in exclude_edge_indices:\n",
        "        # gets all the positive items for each user from the edge index\n",
        "        user_pos_items = get_user_positive_items(exclude_edge_index)\n",
        "        # get coordinates of all edges to exclude\n",
        "        exclude_users = []\n",
        "        exclude_items = []\n",
        "        for user, items in user_pos_items.items():\n",
        "            exclude_users.extend([user] * len(items))\n",
        "            exclude_items.extend(items)\n",
        "\n",
        "        # set ratings of excluded edges to large negative value\n",
        "        rating[exclude_users, exclude_items] = -(1 << 10)\n",
        "\n",
        "    # get the top k recommended items for each user\n",
        "    _, top_K_items = torch.topk(rating, k=k)\n",
        "\n",
        "    # get all unique users in evaluated split\n",
        "    users = edge_index[0].unique()\n",
        "\n",
        "    test_user_pos_items = get_user_positive_items(edge_index)\n",
        "\n",
        "    # convert test user pos items dictionary into a list\n",
        "    test_user_pos_items_list = [\n",
        "        test_user_pos_items[user.item()] for user in users]\n",
        "\n",
        "    # determine the correctness of topk predictions\n",
        "    r = []\n",
        "    for user in users:\n",
        "        ground_truth_items = test_user_pos_items[user.item()]\n",
        "        label = list(map(lambda x: x in ground_truth_items, top_K_items[user]))\n",
        "        r.append(label)\n",
        "    r = torch.Tensor(np.array(r).astype('float'))\n",
        "\n",
        "    recall, precision = RecallPrecision_ATk(test_user_pos_items_list, r, k)\n",
        "    ndcg = NDCGatK_r(test_user_pos_items_list, r, k)\n",
        "\n",
        "    return recall, precision, ndcg"
      ],
      "metadata": {
        "id": "3dRQcBpt-Z6j"
      },
      "execution_count": null,
      "outputs": []
    },
    {
      "cell_type": "code",
      "source": [
        "# wrapper function to evaluate model\n",
        "def evaluation(model, edge_index, sparse_edge_index, exclude_edge_indices, k, lambda_val):\n",
        "    \"\"\"Evaluates model loss and metrics including recall, precision, ndcg @ k\n",
        "\n",
        "    Args:\n",
        "        model (LighGCN): lightgcn model\n",
        "        edge_index (torch.Tensor): 2 by N list of edges for split to evaluate\n",
        "        sparse_edge_index (sparseTensor): sparse adjacency matrix for split to evaluate\n",
        "        exclude_edge_indices ([type]): 2 by N list of edges for split to discount from evaluation\n",
        "        k (int): determines the top k items to compute metrics on\n",
        "        lambda_val (float): determines lambda for bpr loss\n",
        "\n",
        "    Returns:\n",
        "        tuple: bpr loss, recall @ k, precision @ k, ndcg @ k\n",
        "    \"\"\"\n",
        "    # get embeddings\n",
        "    users_emb_final, users_emb_0, items_emb_final, items_emb_0 = model.forward(\n",
        "        sparse_edge_index)\n",
        "    edges = structured_negative_sampling(\n",
        "        edge_index, contains_neg_self_loops=False)\n",
        "    user_indices, pos_item_indices, neg_item_indices = edges[0], edges[1], edges[2]\n",
        "    users_emb_final, users_emb_0 = users_emb_final[user_indices], users_emb_0[user_indices]\n",
        "    pos_items_emb_final, pos_items_emb_0 = items_emb_final[\n",
        "        pos_item_indices], items_emb_0[pos_item_indices]\n",
        "    neg_items_emb_final, neg_items_emb_0 = items_emb_final[\n",
        "        neg_item_indices], items_emb_0[neg_item_indices]\n",
        "\n",
        "    loss = bpr_loss(users_emb_final, users_emb_0, pos_items_emb_final, pos_items_emb_0,\n",
        "                    neg_items_emb_final, neg_items_emb_0, lambda_val).item()\n",
        "\n",
        "    recall, precision, ndcg = get_metrics(\n",
        "        model, edge_index, exclude_edge_indices, k)\n",
        "\n",
        "    return loss, recall, precision, ndcg"
      ],
      "metadata": {
        "id": "E3iWDUCA-eWV"
      },
      "execution_count": null,
      "outputs": []
    },
    {
      "cell_type": "markdown",
      "source": [
        "Training:"
      ],
      "metadata": {
        "id": "7LovAFuZ-iQ_"
      }
    },
    {
      "cell_type": "code",
      "source": [
        "# define contants\n",
        "ITERATIONS = 100\n",
        "BATCH_SIZE = 20\n",
        "LR = 1e-3\n",
        "ITERS_PER_EVAL = 200\n",
        "ITERS_PER_LR_DECAY = 200\n",
        "K = 20\n",
        "LAMBDA = 1e-6"
      ],
      "metadata": {
        "id": "UIKbEfYJ-j5h"
      },
      "execution_count": null,
      "outputs": []
    },
    {
      "cell_type": "code",
      "source": [
        "# setup\n",
        "device = torch.device('cuda' if torch.cuda.is_available() else 'cpu')\n",
        "print(f\"Using device {device}.\")\n",
        "\n",
        "\n",
        "model = model.to(device)\n",
        "model.train()\n",
        "\n",
        "optimizer = optim.Adam(model.parameters(), lr=LR)\n",
        "scheduler = optim.lr_scheduler.ExponentialLR(optimizer, gamma=0.95)\n",
        "\n",
        "edge_index = edge_index.to(device)\n",
        "train_edge_index = train_edge_index.to(device)\n",
        "train_sparse_edge_index = train_sparse_edge_index.to(device)\n",
        "\n",
        "val_edge_index = val_edge_index.to(device)\n",
        "val_sparse_edge_index = val_sparse_edge_index.to(device)"
      ],
      "metadata": {
        "colab": {
          "base_uri": "https://localhost:8080/"
        },
        "id": "PaJcdxbe-mOJ",
        "outputId": "03dda477-b270-4578-b2c4-0cdd9471afbe"
      },
      "execution_count": null,
      "outputs": [
        {
          "output_type": "stream",
          "name": "stdout",
          "text": [
            "Using device cpu.\n"
          ]
        }
      ]
    },
    {
      "cell_type": "code",
      "source": [
        "# training loop\n",
        "train_losses = []\n",
        "val_losses = []\n",
        "\n",
        "for iter in range(ITERATIONS):\n",
        "    # forward propagation\n",
        "    users_emb_final, users_emb_0, items_emb_final, items_emb_0 = model.forward(\n",
        "        train_sparse_edge_index)\n",
        "\n",
        "    # mini batching\n",
        "    user_indices, pos_item_indices, neg_item_indices = sample_mini_batch(\n",
        "        BATCH_SIZE, train_edge_index)\n",
        "    user_indices, pos_item_indices, neg_item_indices = user_indices.to(\n",
        "        device), pos_item_indices.to(device), neg_item_indices.to(device)\n",
        "    users_emb_final, users_emb_0 = users_emb_final[user_indices], users_emb_0[user_indices]\n",
        "    pos_items_emb_final, pos_items_emb_0 = items_emb_final[\n",
        "        pos_item_indices], items_emb_0[pos_item_indices]\n",
        "    neg_items_emb_final, neg_items_emb_0 = items_emb_final[\n",
        "        neg_item_indices], items_emb_0[neg_item_indices]\n",
        "\n",
        "    # loss computation\n",
        "    train_loss = bpr_loss(users_emb_final, users_emb_0, pos_items_emb_final,\n",
        "                          pos_items_emb_0, neg_items_emb_final, neg_items_emb_0, LAMBDA)\n",
        "\n",
        "    optimizer.zero_grad()\n",
        "    train_loss.backward()\n",
        "    optimizer.step()\n",
        "\n",
        "    if iter % ITERS_PER_EVAL == 0:\n",
        "        model.eval()\n",
        "        val_loss, recall, precision, ndcg = evaluation(\n",
        "            model, val_edge_index, val_sparse_edge_index, [train_edge_index], K, LAMBDA)\n",
        "        print(f\"[Iteration {iter}/{ITERATIONS}] train_loss: {round(train_loss.item(), 5)}, val_loss: {round(val_loss, 5)}, val_recall@{K}: {round(recall, 5)}, val_precision@{K}: {round(precision, 5)}, val_ndcg@{K}: {round(ndcg, 5)}\")\n",
        "        train_losses.append(train_loss.item())\n",
        "        val_losses.append(val_loss)\n",
        "        model.train()\n",
        "\n",
        "    if iter % ITERS_PER_LR_DECAY == 0 and iter != 0:\n",
        "        scheduler.step()"
      ],
      "metadata": {
        "colab": {
          "base_uri": "https://localhost:8080/",
          "height": 243
        },
        "id": "aKsi8l0S-ovY",
        "outputId": "c7d64f87-8c5d-4e1c-acd8-e53891b5d8df"
      },
      "execution_count": null,
      "outputs": [
        {
          "output_type": "error",
          "ename": "IndexError",
          "evalue": "ignored",
          "traceback": [
            "\u001b[0;31m---------------------------------------------------------------------------\u001b[0m",
            "\u001b[0;31mIndexError\u001b[0m                                Traceback (most recent call last)",
            "\u001b[0;32m<ipython-input-269-e9e35014a678>\u001b[0m in \u001b[0;36m<module>\u001b[0;34m\u001b[0m\n\u001b[1;32m     17\u001b[0m         pos_item_indices], items_emb_0[pos_item_indices]\n\u001b[1;32m     18\u001b[0m     neg_items_emb_final, neg_items_emb_0 = items_emb_final[\n\u001b[0;32m---> 19\u001b[0;31m         neg_item_indices], items_emb_0[neg_item_indices]\n\u001b[0m\u001b[1;32m     20\u001b[0m \u001b[0;34m\u001b[0m\u001b[0m\n\u001b[1;32m     21\u001b[0m     \u001b[0;31m# loss computation\u001b[0m\u001b[0;34m\u001b[0m\u001b[0;34m\u001b[0m\u001b[0;34m\u001b[0m\u001b[0m\n",
            "\u001b[0;31mIndexError\u001b[0m: index 31303 is out of bounds for dimension 0 with size 11537"
          ]
        }
      ]
    },
    {
      "cell_type": "code",
      "source": [],
      "metadata": {
        "colab": {
          "base_uri": "https://localhost:8080/",
          "height": 370
        },
        "id": "kSbf3dd0_YhC",
        "outputId": "0f1fd752-c821-4915-fe07-a2d905a86d42"
      },
      "execution_count": null,
      "outputs": [
        {
          "output_type": "error",
          "ename": "AttributeError",
          "evalue": "ignored",
          "traceback": [
            "\u001b[0;31m---------------------------------------------------------------------------\u001b[0m",
            "\u001b[0;31mAttributeError\u001b[0m                            Traceback (most recent call last)",
            "\u001b[0;32m<ipython-input-271-ab91b9da2e7c>\u001b[0m in \u001b[0;36m<module>\u001b[0;34m\u001b[0m\n\u001b[1;32m      1\u001b[0m \u001b[0mmodel\u001b[0m\u001b[0;34m.\u001b[0m\u001b[0meval\u001b[0m\u001b[0;34m(\u001b[0m\u001b[0;34m)\u001b[0m\u001b[0;34m\u001b[0m\u001b[0;34m\u001b[0m\u001b[0m\n\u001b[1;32m      2\u001b[0m \u001b[0mdf\u001b[0m \u001b[0;34m=\u001b[0m \u001b[0mpd\u001b[0m\u001b[0;34m.\u001b[0m\u001b[0mread_csv\u001b[0m\u001b[0;34m(\u001b[0m\u001b[0mreview_path\u001b[0m\u001b[0;34m)\u001b[0m\u001b[0;34m\u001b[0m\u001b[0;34m\u001b[0m\u001b[0m\n\u001b[0;32m----> 3\u001b[0;31m \u001b[0mmovieid_title\u001b[0m \u001b[0;34m=\u001b[0m \u001b[0mpd\u001b[0m\u001b[0;34m.\u001b[0m\u001b[0mSeries\u001b[0m\u001b[0;34m(\u001b[0m\u001b[0mdf\u001b[0m\u001b[0;34m.\u001b[0m\u001b[0mtitle\u001b[0m\u001b[0;34m.\u001b[0m\u001b[0mvalues\u001b[0m\u001b[0;34m,\u001b[0m\u001b[0mindex\u001b[0m\u001b[0;34m=\u001b[0m\u001b[0mdf\u001b[0m\u001b[0;34m.\u001b[0m\u001b[0mmovieId\u001b[0m\u001b[0;34m)\u001b[0m\u001b[0;34m.\u001b[0m\u001b[0mto_dict\u001b[0m\u001b[0;34m(\u001b[0m\u001b[0;34m)\u001b[0m\u001b[0;34m\u001b[0m\u001b[0;34m\u001b[0m\u001b[0m\n\u001b[0m\u001b[1;32m      4\u001b[0m \u001b[0mmovieid_genres\u001b[0m \u001b[0;34m=\u001b[0m \u001b[0mpd\u001b[0m\u001b[0;34m.\u001b[0m\u001b[0mSeries\u001b[0m\u001b[0;34m(\u001b[0m\u001b[0mdf\u001b[0m\u001b[0;34m.\u001b[0m\u001b[0mgenres\u001b[0m\u001b[0;34m.\u001b[0m\u001b[0mvalues\u001b[0m\u001b[0;34m,\u001b[0m\u001b[0mindex\u001b[0m\u001b[0;34m=\u001b[0m\u001b[0mdf\u001b[0m\u001b[0;34m.\u001b[0m\u001b[0mmovieId\u001b[0m\u001b[0;34m)\u001b[0m\u001b[0;34m.\u001b[0m\u001b[0mto_dict\u001b[0m\u001b[0;34m(\u001b[0m\u001b[0;34m)\u001b[0m\u001b[0;34m\u001b[0m\u001b[0;34m\u001b[0m\u001b[0m\n\u001b[1;32m      5\u001b[0m \u001b[0;34m\u001b[0m\u001b[0m\n",
            "\u001b[0;32m/usr/local/lib/python3.7/dist-packages/pandas/core/generic.py\u001b[0m in \u001b[0;36m__getattr__\u001b[0;34m(self, name)\u001b[0m\n\u001b[1;32m   5485\u001b[0m         ):\n\u001b[1;32m   5486\u001b[0m             \u001b[0;32mreturn\u001b[0m \u001b[0mself\u001b[0m\u001b[0;34m[\u001b[0m\u001b[0mname\u001b[0m\u001b[0;34m]\u001b[0m\u001b[0;34m\u001b[0m\u001b[0;34m\u001b[0m\u001b[0m\n\u001b[0;32m-> 5487\u001b[0;31m         \u001b[0;32mreturn\u001b[0m \u001b[0mobject\u001b[0m\u001b[0;34m.\u001b[0m\u001b[0m__getattribute__\u001b[0m\u001b[0;34m(\u001b[0m\u001b[0mself\u001b[0m\u001b[0;34m,\u001b[0m \u001b[0mname\u001b[0m\u001b[0;34m)\u001b[0m\u001b[0;34m\u001b[0m\u001b[0;34m\u001b[0m\u001b[0m\n\u001b[0m\u001b[1;32m   5488\u001b[0m \u001b[0;34m\u001b[0m\u001b[0m\n\u001b[1;32m   5489\u001b[0m     \u001b[0;32mdef\u001b[0m \u001b[0m__setattr__\u001b[0m\u001b[0;34m(\u001b[0m\u001b[0mself\u001b[0m\u001b[0;34m,\u001b[0m \u001b[0mname\u001b[0m\u001b[0;34m:\u001b[0m \u001b[0mstr\u001b[0m\u001b[0;34m,\u001b[0m \u001b[0mvalue\u001b[0m\u001b[0;34m)\u001b[0m \u001b[0;34m->\u001b[0m \u001b[0;32mNone\u001b[0m\u001b[0;34m:\u001b[0m\u001b[0;34m\u001b[0m\u001b[0;34m\u001b[0m\u001b[0m\n",
            "\u001b[0;31mAttributeError\u001b[0m: 'DataFrame' object has no attribute 'title'"
          ]
        }
      ]
    }
  ]
}