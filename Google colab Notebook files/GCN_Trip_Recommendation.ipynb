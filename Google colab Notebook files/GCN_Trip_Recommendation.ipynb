{
  "cells": [
    {
      "cell_type": "markdown",
      "metadata": {
        "id": "yRI1VFUKCqPE"
      },
      "source": [
        "#**1. Mount the google drive**"
      ]
    },
    {
      "cell_type": "code",
      "execution_count": null,
      "metadata": {
        "colab": {
          "base_uri": "https://localhost:8080/"
        },
        "id": "7yS_4zxcSGkl",
        "outputId": "c84b29dc-b9ad-4f01-91c6-06364a0a0d1a"
      },
      "outputs": [
        {
          "output_type": "stream",
          "name": "stdout",
          "text": [
            "Mounted at /content/drive\n"
          ]
        }
      ],
      "source": [
        "from google.colab import drive\n",
        "drive.mount('/content/drive')"
      ]
    },
    {
      "cell_type": "markdown",
      "metadata": {
        "id": "134Xt4o_FnPj"
      },
      "source": [
        "# **2. Datasets**\n",
        "Yelp review dataset"
      ]
    },
    {
      "cell_type": "code",
      "execution_count": null,
      "metadata": {
        "id": "qkOlXvvk-_eX"
      },
      "outputs": [],
      "source": [
        "import pandas as pd\n",
        "path=\"/content/drive/MyDrive/GCN_TripRecommendation/datasets/yelp_training_set_review.csv\"\n",
        "\n",
        "df=pd.read_csv(path)\n"
      ]
    },
    {
      "cell_type": "code",
      "execution_count": null,
      "metadata": {
        "colab": {
          "base_uri": "https://localhost:8080/"
        },
        "id": "gazgm3v3AycW",
        "outputId": "751d2b56-4767-4f76-dcbf-6589d657fe22"
      },
      "outputs": [
        {
          "data": {
            "text/plain": [
              "Unnamed: 0                229907\n",
              "business_blank                 1\n",
              "business_categories         2060\n",
              "business_city                 61\n",
              "business_full_address      10337\n",
              "business_id                11537\n",
              "business_latitude           8946\n",
              "business_longitude          8958\n",
              "business_name               8315\n",
              "business_neighborhoods         0\n",
              "business_open                  2\n",
              "business_review_count        293\n",
              "business_stars                 9\n",
              "business_state                 4\n",
              "business_type                  1\n",
              "cool                          53\n",
              "date                        2504\n",
              "funny                         49\n",
              "review_id                 229907\n",
              "reviewer_average_stars       331\n",
              "reviewer_blank                 2\n",
              "reviewer_cool               1116\n",
              "reviewer_funny              1027\n",
              "reviewer_name               8323\n",
              "reviewer_review_count        854\n",
              "reviewer_type                  1\n",
              "reviewer_useful             1329\n",
              "stars                          5\n",
              "text                      229659\n",
              "type                           1\n",
              "useful                        53\n",
              "user_id                    45981\n",
              "dtype: int64"
            ]
          },
          "execution_count": 5,
          "metadata": {},
          "output_type": "execute_result"
        }
      ],
      "source": [
        "df.nunique()"
      ]
    },
    {
      "cell_type": "code",
      "execution_count": null,
      "metadata": {
        "colab": {
          "base_uri": "https://localhost:8080/",
          "height": 1000
        },
        "id": "AL3TocCtMa-X",
        "outputId": "955bd4e6-3e9b-4d87-da18-dfaf8475abcb"
      },
      "outputs": [
        {
          "name": "stdout",
          "output_type": "stream",
          "text": [
            "0         9yKzy9PApeiPPOUJEtnvkg\n",
            "1         ZRJwVLyzEJq1VAihDhYiow\n",
            "2         6oRAC4uyJCsJl1X0WZpVSA\n",
            "3         _1QQZuf4zZOyFCvXc0o6Vg\n",
            "4         6ozycU1RpktNG2-1BroVtw\n",
            "                   ...          \n",
            "229902    vnffHkFJbmd-J3OaBbK2Eg\n",
            "229903    l5oUrgQ190l8CcN8uzd_pA\n",
            "229904    -EctXOb3B7T177jGYUhjVA\n",
            "229905    YQvg0JCGRFUkb6reMMf3Iw\n",
            "229906    gKxOZvQTTd5hpFa3r5igGQ\n",
            "Name: business_id, Length: 229907, dtype: object 0         5\n",
            "1         5\n",
            "2         4\n",
            "3         5\n",
            "4         5\n",
            "         ..\n",
            "229902    2\n",
            "229903    1\n",
            "229904    4\n",
            "229905    3\n",
            "229906    5\n",
            "Name: stars, Length: 229907, dtype: int64 0         rLtl8ZkDX5vH5nAx9C3q5Q\n",
            "1         0a2KyEL0d3Yb1V6aivbIuQ\n",
            "2         0hT2KtfLiobPvh6cDC8JQg\n",
            "3         uZetl9T0NcROGOyFfughhg\n",
            "4         vYmM4KTsC8ZfQBg-j5MWkw\n",
            "                   ...          \n",
            "229902    6e7pZofhDuIlD_rX2oYirQ\n",
            "229903    dDNfSFT0VApxPmURclX6_g\n",
            "229904    M5wHt6Odh1k5v0tIjqd8DQ\n",
            "229905    jopndPrv-H5KW2CfScnw9A\n",
            "229906    mbRUG6h0Mgb2XIJvscIoMg\n",
            "Name: user_id, Length: 229907, dtype: object\n"
          ]
        },
        {
          "data": {
            "text/html": [
              "\n",
              "  <div id=\"df-d05b34ae-5857-4f4e-bed9-a3eedb798923\">\n",
              "    <div class=\"colab-df-container\">\n",
              "      <div>\n",
              "<style scoped>\n",
              "    .dataframe tbody tr th:only-of-type {\n",
              "        vertical-align: middle;\n",
              "    }\n",
              "\n",
              "    .dataframe tbody tr th {\n",
              "        vertical-align: top;\n",
              "    }\n",
              "\n",
              "    .dataframe thead th {\n",
              "        text-align: right;\n",
              "    }\n",
              "</style>\n",
              "<table border=\"1\" class=\"dataframe\">\n",
              "  <thead>\n",
              "    <tr style=\"text-align: right;\">\n",
              "      <th></th>\n",
              "      <th>Unnamed: 0</th>\n",
              "      <th>business_blank</th>\n",
              "      <th>business_categories</th>\n",
              "      <th>business_city</th>\n",
              "      <th>business_full_address</th>\n",
              "      <th>business_id</th>\n",
              "      <th>business_latitude</th>\n",
              "      <th>business_longitude</th>\n",
              "      <th>business_name</th>\n",
              "      <th>business_neighborhoods</th>\n",
              "      <th>...</th>\n",
              "      <th>reviewer_funny</th>\n",
              "      <th>reviewer_name</th>\n",
              "      <th>reviewer_review_count</th>\n",
              "      <th>reviewer_type</th>\n",
              "      <th>reviewer_useful</th>\n",
              "      <th>stars</th>\n",
              "      <th>text</th>\n",
              "      <th>type</th>\n",
              "      <th>useful</th>\n",
              "      <th>user_id</th>\n",
              "    </tr>\n",
              "  </thead>\n",
              "  <tbody>\n",
              "    <tr>\n",
              "      <th>0</th>\n",
              "      <td>0</td>\n",
              "      <td>False</td>\n",
              "      <td>Breakfast &amp; Brunch; Restaurants</td>\n",
              "      <td>Phoenix</td>\n",
              "      <td>6106 S 32nd St\\nPhoenix, AZ 85042</td>\n",
              "      <td>9yKzy9PApeiPPOUJEtnvkg</td>\n",
              "      <td>33.390792</td>\n",
              "      <td>-112.012504</td>\n",
              "      <td>Morning Glory Cafe</td>\n",
              "      <td>NaN</td>\n",
              "      <td>...</td>\n",
              "      <td>331</td>\n",
              "      <td>Jason</td>\n",
              "      <td>376</td>\n",
              "      <td>user</td>\n",
              "      <td>1034</td>\n",
              "      <td>5</td>\n",
              "      <td>My wife took me here on my birthday for breakf...</td>\n",
              "      <td>review</td>\n",
              "      <td>5</td>\n",
              "      <td>rLtl8ZkDX5vH5nAx9C3q5Q</td>\n",
              "    </tr>\n",
              "    <tr>\n",
              "      <th>1</th>\n",
              "      <td>1</td>\n",
              "      <td>False</td>\n",
              "      <td>Italian; Pizza; Restaurants</td>\n",
              "      <td>Phoenix</td>\n",
              "      <td>4848 E Chandler Blvd\\nPhoenix, AZ 85044</td>\n",
              "      <td>ZRJwVLyzEJq1VAihDhYiow</td>\n",
              "      <td>33.305607</td>\n",
              "      <td>-111.978758</td>\n",
              "      <td>Spinato's Pizzeria</td>\n",
              "      <td>NaN</td>\n",
              "      <td>...</td>\n",
              "      <td>2</td>\n",
              "      <td>Paul</td>\n",
              "      <td>2</td>\n",
              "      <td>user</td>\n",
              "      <td>0</td>\n",
              "      <td>5</td>\n",
              "      <td>I have no idea why some people give bad review...</td>\n",
              "      <td>review</td>\n",
              "      <td>0</td>\n",
              "      <td>0a2KyEL0d3Yb1V6aivbIuQ</td>\n",
              "    </tr>\n",
              "    <tr>\n",
              "      <th>2</th>\n",
              "      <td>2</td>\n",
              "      <td>False</td>\n",
              "      <td>Middle Eastern; Restaurants</td>\n",
              "      <td>Tempe</td>\n",
              "      <td>1513 E  Apache Blvd\\nTempe, AZ 85281</td>\n",
              "      <td>6oRAC4uyJCsJl1X0WZpVSA</td>\n",
              "      <td>33.414345</td>\n",
              "      <td>-111.913031</td>\n",
              "      <td>Haji-Baba</td>\n",
              "      <td>NaN</td>\n",
              "      <td>...</td>\n",
              "      <td>0</td>\n",
              "      <td>Nicole</td>\n",
              "      <td>3</td>\n",
              "      <td>user</td>\n",
              "      <td>3</td>\n",
              "      <td>4</td>\n",
              "      <td>love the gyro plate. Rice is so good and I als...</td>\n",
              "      <td>review</td>\n",
              "      <td>1</td>\n",
              "      <td>0hT2KtfLiobPvh6cDC8JQg</td>\n",
              "    </tr>\n",
              "    <tr>\n",
              "      <th>3</th>\n",
              "      <td>3</td>\n",
              "      <td>False</td>\n",
              "      <td>Active Life; Dog Parks; Parks</td>\n",
              "      <td>Scottsdale</td>\n",
              "      <td>5401 N Hayden Rd\\nScottsdale, AZ 85250</td>\n",
              "      <td>_1QQZuf4zZOyFCvXc0o6Vg</td>\n",
              "      <td>33.522945</td>\n",
              "      <td>-111.907886</td>\n",
              "      <td>Chaparral Dog Park</td>\n",
              "      <td>NaN</td>\n",
              "      <td>...</td>\n",
              "      <td>18</td>\n",
              "      <td>lindsey</td>\n",
              "      <td>31</td>\n",
              "      <td>user</td>\n",
              "      <td>75</td>\n",
              "      <td>5</td>\n",
              "      <td>Rosie, Dakota, and I LOVE Chaparral Dog Park!!...</td>\n",
              "      <td>review</td>\n",
              "      <td>2</td>\n",
              "      <td>uZetl9T0NcROGOyFfughhg</td>\n",
              "    </tr>\n",
              "    <tr>\n",
              "      <th>4</th>\n",
              "      <td>4</td>\n",
              "      <td>False</td>\n",
              "      <td>Tires; Automotive</td>\n",
              "      <td>Mesa</td>\n",
              "      <td>1357 S Power Road\\nMesa, AZ 85206</td>\n",
              "      <td>6ozycU1RpktNG2-1BroVtw</td>\n",
              "      <td>33.391027</td>\n",
              "      <td>-111.684482</td>\n",
              "      <td>Discount Tire</td>\n",
              "      <td>NaN</td>\n",
              "      <td>...</td>\n",
              "      <td>3</td>\n",
              "      <td>Roger</td>\n",
              "      <td>28</td>\n",
              "      <td>user</td>\n",
              "      <td>32</td>\n",
              "      <td>5</td>\n",
              "      <td>General Manager Scott Petello is a good egg!!!...</td>\n",
              "      <td>review</td>\n",
              "      <td>0</td>\n",
              "      <td>vYmM4KTsC8ZfQBg-j5MWkw</td>\n",
              "    </tr>\n",
              "  </tbody>\n",
              "</table>\n",
              "<p>5 rows × 32 columns</p>\n",
              "</div>\n",
              "      <button class=\"colab-df-convert\" onclick=\"convertToInteractive('df-d05b34ae-5857-4f4e-bed9-a3eedb798923')\"\n",
              "              title=\"Convert this dataframe to an interactive table.\"\n",
              "              style=\"display:none;\">\n",
              "        \n",
              "  <svg xmlns=\"http://www.w3.org/2000/svg\" height=\"24px\"viewBox=\"0 0 24 24\"\n",
              "       width=\"24px\">\n",
              "    <path d=\"M0 0h24v24H0V0z\" fill=\"none\"/>\n",
              "    <path d=\"M18.56 5.44l.94 2.06.94-2.06 2.06-.94-2.06-.94-.94-2.06-.94 2.06-2.06.94zm-11 1L8.5 8.5l.94-2.06 2.06-.94-2.06-.94L8.5 2.5l-.94 2.06-2.06.94zm10 10l.94 2.06.94-2.06 2.06-.94-2.06-.94-.94-2.06-.94 2.06-2.06.94z\"/><path d=\"M17.41 7.96l-1.37-1.37c-.4-.4-.92-.59-1.43-.59-.52 0-1.04.2-1.43.59L10.3 9.45l-7.72 7.72c-.78.78-.78 2.05 0 2.83L4 21.41c.39.39.9.59 1.41.59.51 0 1.02-.2 1.41-.59l7.78-7.78 2.81-2.81c.8-.78.8-2.07 0-2.86zM5.41 20L4 18.59l7.72-7.72 1.47 1.35L5.41 20z\"/>\n",
              "  </svg>\n",
              "      </button>\n",
              "      \n",
              "  <style>\n",
              "    .colab-df-container {\n",
              "      display:flex;\n",
              "      flex-wrap:wrap;\n",
              "      gap: 12px;\n",
              "    }\n",
              "\n",
              "    .colab-df-convert {\n",
              "      background-color: #E8F0FE;\n",
              "      border: none;\n",
              "      border-radius: 50%;\n",
              "      cursor: pointer;\n",
              "      display: none;\n",
              "      fill: #1967D2;\n",
              "      height: 32px;\n",
              "      padding: 0 0 0 0;\n",
              "      width: 32px;\n",
              "    }\n",
              "\n",
              "    .colab-df-convert:hover {\n",
              "      background-color: #E2EBFA;\n",
              "      box-shadow: 0px 1px 2px rgba(60, 64, 67, 0.3), 0px 1px 3px 1px rgba(60, 64, 67, 0.15);\n",
              "      fill: #174EA6;\n",
              "    }\n",
              "\n",
              "    [theme=dark] .colab-df-convert {\n",
              "      background-color: #3B4455;\n",
              "      fill: #D2E3FC;\n",
              "    }\n",
              "\n",
              "    [theme=dark] .colab-df-convert:hover {\n",
              "      background-color: #434B5C;\n",
              "      box-shadow: 0px 1px 3px 1px rgba(0, 0, 0, 0.15);\n",
              "      filter: drop-shadow(0px 1px 2px rgba(0, 0, 0, 0.3));\n",
              "      fill: #FFFFFF;\n",
              "    }\n",
              "  </style>\n",
              "\n",
              "      <script>\n",
              "        const buttonEl =\n",
              "          document.querySelector('#df-d05b34ae-5857-4f4e-bed9-a3eedb798923 button.colab-df-convert');\n",
              "        buttonEl.style.display =\n",
              "          google.colab.kernel.accessAllowed ? 'block' : 'none';\n",
              "\n",
              "        async function convertToInteractive(key) {\n",
              "          const element = document.querySelector('#df-d05b34ae-5857-4f4e-bed9-a3eedb798923');\n",
              "          const dataTable =\n",
              "            await google.colab.kernel.invokeFunction('convertToInteractive',\n",
              "                                                     [key], {});\n",
              "          if (!dataTable) return;\n",
              "\n",
              "          const docLinkHtml = 'Like what you see? Visit the ' +\n",
              "            '<a target=\"_blank\" href=https://colab.research.google.com/notebooks/data_table.ipynb>data table notebook</a>'\n",
              "            + ' to learn more about interactive tables.';\n",
              "          element.innerHTML = '';\n",
              "          dataTable['output_type'] = 'display_data';\n",
              "          await google.colab.output.renderOutput(dataTable, element);\n",
              "          const docLink = document.createElement('div');\n",
              "          docLink.innerHTML = docLinkHtml;\n",
              "          element.appendChild(docLink);\n",
              "        }\n",
              "      </script>\n",
              "    </div>\n",
              "  </div>\n",
              "  "
            ],
            "text/plain": [
              "   Unnamed: 0  business_blank              business_categories business_city  \\\n",
              "0           0           False  Breakfast & Brunch; Restaurants       Phoenix   \n",
              "1           1           False      Italian; Pizza; Restaurants       Phoenix   \n",
              "2           2           False      Middle Eastern; Restaurants         Tempe   \n",
              "3           3           False    Active Life; Dog Parks; Parks    Scottsdale   \n",
              "4           4           False                Tires; Automotive          Mesa   \n",
              "\n",
              "                     business_full_address             business_id  \\\n",
              "0        6106 S 32nd St\\nPhoenix, AZ 85042  9yKzy9PApeiPPOUJEtnvkg   \n",
              "1  4848 E Chandler Blvd\\nPhoenix, AZ 85044  ZRJwVLyzEJq1VAihDhYiow   \n",
              "2     1513 E  Apache Blvd\\nTempe, AZ 85281  6oRAC4uyJCsJl1X0WZpVSA   \n",
              "3   5401 N Hayden Rd\\nScottsdale, AZ 85250  _1QQZuf4zZOyFCvXc0o6Vg   \n",
              "4        1357 S Power Road\\nMesa, AZ 85206  6ozycU1RpktNG2-1BroVtw   \n",
              "\n",
              "   business_latitude  business_longitude       business_name  \\\n",
              "0          33.390792         -112.012504  Morning Glory Cafe   \n",
              "1          33.305607         -111.978758  Spinato's Pizzeria   \n",
              "2          33.414345         -111.913031           Haji-Baba   \n",
              "3          33.522945         -111.907886  Chaparral Dog Park   \n",
              "4          33.391027         -111.684482       Discount Tire   \n",
              "\n",
              "   business_neighborhoods  ...  reviewer_funny  reviewer_name  \\\n",
              "0                     NaN  ...             331          Jason   \n",
              "1                     NaN  ...               2           Paul   \n",
              "2                     NaN  ...               0         Nicole   \n",
              "3                     NaN  ...              18        lindsey   \n",
              "4                     NaN  ...               3          Roger   \n",
              "\n",
              "   reviewer_review_count reviewer_type reviewer_useful  stars  \\\n",
              "0                    376          user            1034      5   \n",
              "1                      2          user               0      5   \n",
              "2                      3          user               3      4   \n",
              "3                     31          user              75      5   \n",
              "4                     28          user              32      5   \n",
              "\n",
              "                                                text    type useful  \\\n",
              "0  My wife took me here on my birthday for breakf...  review      5   \n",
              "1  I have no idea why some people give bad review...  review      0   \n",
              "2  love the gyro plate. Rice is so good and I als...  review      1   \n",
              "3  Rosie, Dakota, and I LOVE Chaparral Dog Park!!...  review      2   \n",
              "4  General Manager Scott Petello is a good egg!!!...  review      0   \n",
              "\n",
              "                  user_id  \n",
              "0  rLtl8ZkDX5vH5nAx9C3q5Q  \n",
              "1  0a2KyEL0d3Yb1V6aivbIuQ  \n",
              "2  0hT2KtfLiobPvh6cDC8JQg  \n",
              "3  uZetl9T0NcROGOyFfughhg  \n",
              "4  vYmM4KTsC8ZfQBg-j5MWkw  \n",
              "\n",
              "[5 rows x 32 columns]"
            ]
          },
          "execution_count": 6,
          "metadata": {},
          "output_type": "execute_result"
        }
      ],
      "source": [
        "print(df.business_id,df.stars,df.user_id)\n",
        "df.head(5)\n",
        "\n"
      ]
    },
    {
      "cell_type": "code",
      "execution_count": null,
      "metadata": {
        "colab": {
          "base_uri": "https://localhost:8080/"
        },
        "id": "Pvm6PalTMqRN",
        "outputId": "ecdc7118-351b-468b-e162-476dcf9a9e75"
      },
      "outputs": [
        {
          "data": {
            "text/plain": [
              "844"
            ]
          },
          "execution_count": 7,
          "metadata": {},
          "output_type": "execute_result"
        }
      ],
      "source": [
        "max(df[\"business_id\"].value_counts())\n",
        "# it means the table is heterogenous ?"
      ]
    },
    {
      "cell_type": "code",
      "execution_count": null,
      "metadata": {
        "colab": {
          "base_uri": "https://localhost:8080/"
        },
        "id": "fkdZ0wIANVey",
        "outputId": "9ce6e196-47de-4c01-a9d4-e3ea3eb09298"
      },
      "outputs": [
        {
          "data": {
            "text/plain": [
              "(229907, 32)"
            ]
          },
          "execution_count": 8,
          "metadata": {},
          "output_type": "execute_result"
        }
      ],
      "source": [
        "x = df.to_numpy()\n",
        "x.shape # [num_movie_nodes x movie_node_feature_dim]"
      ]
    },
    {
      "cell_type": "markdown",
      "metadata": {
        "id": "wF-tWJwgFf4O"
      },
      "source": [
        "Kaggle dataset - indonesia reviews"
      ]
    },
    {
      "cell_type": "code",
      "execution_count": null,
      "metadata": {
        "colab": {
          "base_uri": "https://localhost:8080/",
          "height": 389
        },
        "id": "IrNRQ67NhZVA",
        "outputId": "6f3b4017-1bfd-4eac-dfcd-efe9ae188971"
      },
      "outputs": [
        {
          "data": {
            "image/png": "[encoded data removed]",
            "text/plain": [
              "<Figure size 576x432 with 1 Axes>"
            ]
          },
          "metadata": {},
          "output_type": "display_data"
        }
      ],
      "source": [
        "from matplotlib import pyplot as plt    \n",
        "\n",
        "fig = plt.figure()\n",
        "ax = df.stars.value_counts(True).sort_index().plot.bar(figsize=(8,6))\n",
        "vals = ax.get_yticks()\n",
        "ax.set_yticklabels(['{:,.0%}'.format(x) for x in vals])\n",
        "plt.xlabel('Rating', fontsize=12)\n",
        "plt.ylabel('Share of Ratings', fontsize=12)\n",
        "plt.xticks(fontsize=12)\n",
        "plt.yticks(fontsize=12)\n",
        "fig.savefig('Ratings_distribution.png')"
      ]
    },
    {
      "cell_type": "markdown",
      "metadata": {
        "id": "d6fG5SRjNnP1"
      },
      "source": [
        "what kind of table it has to be heterogenous need to extract the user, edges, node features to represent it in a graph format."
      ]
    },
    {
      "cell_type": "code",
      "execution_count": null,
      "metadata": {
        "id": "dFwVw8piGet_"
      },
      "outputs": [],
      "source": [
        "path=\"/content/drive/MyDrive/GCN_TripRecommendation/datasets/Indonesia_Traveldatasets/package_tourism.csv\""
      ]
    },
    {
      "cell_type": "code",
      "execution_count": null,
      "metadata": {
        "id": "3miQEwVdGnhz"
      },
      "outputs": [],
      "source": [
        "ff=pd.read_csv(path)"
      ]
    },
    {
      "cell_type": "code",
      "execution_count": null,
      "metadata": {
        "id": "2SB5-qByHeGQ"
      },
      "outputs": [],
      "source": [
        "df_ratings = pd.read_csv('/content/drive/MyDrive/GCN_TripRecommendation/datasets/Indonesia_Traveldatasets/tourism_rating.csv')\n",
        "df_movies = pd.read_csv('/content/drive/MyDrive/GCN_TripRecommendation/datasets/Indonesia_Traveldatasets/tourism_with_id.csv')\n",
        "\n",
        "merged1 = pd.merge(df_ratings, df_movies, on='Place_Id', how='left')\n",
        "df_user=pd.read_csv('/content/drive/MyDrive/GCN_TripRecommendation/datasets/Indonesia_Traveldatasets/user.csv')\n",
        "merged2=pd.merge(merged1, df_user, on='User_Id', how='left')"
      ]
    },
    {
      "cell_type": "code",
      "execution_count": null,
      "metadata": {
        "colab": {
          "base_uri": "https://localhost:8080/"
        },
        "id": "RjqwcSKSH5Xp",
        "outputId": "7a3205b4-009f-4e1c-f13d-7d087e915ce5"
      },
      "outputs": [
        {
          "data": {
            "text/plain": [
              "<bound method NDFrame.describe of       User_Id  Place_Id  Place_Ratings                         Place_Name  \\\n",
              "0           1       179              3                    Candi Ratu Boko   \n",
              "1           1       344              2                      Pantai Marina   \n",
              "2           1         5              5           Atlantis Water Adventure   \n",
              "3           1       373              3             Museum Kereta Ambarawa   \n",
              "4           1       101              4      Kampung Wisata Sosro Menduran   \n",
              "...       ...       ...            ...                                ...   \n",
              "9995      300       425              2        Waterpark Kenjeran Surabaya   \n",
              "9996      300        64              4     Museum Sasmita Loka Ahmad Yani   \n",
              "9997      300       311              3                 The Lodge Maribaya   \n",
              "9998      300       279              4  Masjid Agung Trans Studio Bandung   \n",
              "9999      300       163              2                Watu Mabur Mangunan   \n",
              "\n",
              "                                            Description       Category  \\\n",
              "0     Situs Ratu Baka atau Candi Boko (Hanacaraka:ꦕꦤ...         Budaya   \n",
              "1     Pantai Marina (bahasa Jawa: ꦥꦱꦶꦱꦶꦂ​ꦩꦫꦶꦤ, trans...         Bahari   \n",
              "2     Atlantis Water Adventure atau dikenal dengan A...  Taman Hiburan   \n",
              "3     Museum Kereta Api Ambarawa (bahasa Inggris: In...         Budaya   \n",
              "4     Kampung wisata Sosromenduran merupakan kampung...         Budaya   \n",
              "...                                                 ...            ...   \n",
              "9995  Waterpark Kenjeran Surabaya merupakan wisata k...  Taman Hiburan   \n",
              "9996  Museum Sasmita Loka Ahmad Yani adalah salah sa...         Budaya   \n",
              "9997  The Lodge Maribaya adalah salah satu tempat wi...     Cagar Alam   \n",
              "9998  Masjid Agung Trans Studio Bandung (TSB) berdir...  Tempat Ibadah   \n",
              "9999  Kawasan Tebing Watu Mabur ini terbilang belum ...     Cagar Alam   \n",
              "\n",
              "            City  Price  Rating  Time_Minutes  \\\n",
              "0     Yogyakarta  75000     4.6          90.0   \n",
              "1       Semarang   3000     4.1           NaN   \n",
              "2        Jakarta  94000     4.5          60.0   \n",
              "3       Semarang  10000     4.5          60.0   \n",
              "4     Yogyakarta      0     4.0           NaN   \n",
              "...          ...    ...     ...           ...   \n",
              "9995    Surabaya  35000     4.1           NaN   \n",
              "9996     Jakarta   2000     4.7          45.0   \n",
              "9997     Bandung  25000     4.3         150.0   \n",
              "9998     Bandung      0     4.8           NaN   \n",
              "9999  Yogyakarta   2500     4.5          60.0   \n",
              "\n",
              "                                           Coordinate       Lat        Long  \\\n",
              "0             {'lat': -7.7705416, 'lng': 110.4894158} -7.770542  110.489416   \n",
              "1              {'lat': -6.948877, 'lng': 110.3893285} -6.948877  110.389329   \n",
              "2                {'lat': -6.12419, 'lng': 106.839134} -6.124190  106.839134   \n",
              "3     {'lat': -7.264598899999997, 'lng': 110.4046017} -7.264599  110.404602   \n",
              "4      {'lat': -7.792189999999999, 'lng': 110.362151} -7.792190  110.362151   \n",
              "...                                               ...       ...         ...   \n",
              "9995  {'lat': -7.247796300000002, 'lng': 112.7998235} -7.247796  112.799824   \n",
              "9996  {'lat': -6.204630300000001, 'lng': 106.8365324} -6.204630  106.836532   \n",
              "9997  {'lat': -6.829411199999999, 'lng': 107.6874666} -6.829411  107.687467   \n",
              "9998  {'lat': -6.925963500000001, 'lng': 107.6354278} -6.925963  107.635428   \n",
              "9999               {'lat': -7.947121, 'lng': 110.441} -7.947121  110.441000   \n",
              "\n",
              "      Unnamed: 11  Unnamed: 12               Location  Age  \n",
              "0             NaN          179  Semarang, Jawa Tengah   20  \n",
              "1             NaN          344  Semarang, Jawa Tengah   20  \n",
              "2             NaN            5  Semarang, Jawa Tengah   20  \n",
              "3             NaN          373  Semarang, Jawa Tengah   20  \n",
              "4             NaN          101  Semarang, Jawa Tengah   20  \n",
              "...           ...          ...                    ...  ...  \n",
              "9995          NaN          425   Ponorogo, Jawa Timur   26  \n",
              "9996          NaN           64   Ponorogo, Jawa Timur   26  \n",
              "9997          NaN          311   Ponorogo, Jawa Timur   26  \n",
              "9998          NaN          279   Ponorogo, Jawa Timur   26  \n",
              "9999          NaN          163   Ponorogo, Jawa Timur   26  \n",
              "\n",
              "[10000 rows x 17 columns]>"
            ]
          },
          "execution_count": 13,
          "metadata": {},
          "output_type": "execute_result"
        }
      ],
      "source": [
        "merged2.describe"
      ]
    },
    {
      "cell_type": "code",
      "execution_count": null,
      "metadata": {
        "colab": {
          "base_uri": "https://localhost:8080/"
        },
        "id": "fK-Eq9EnK0vp",
        "outputId": "56297ef5-19e9-4c64-9722-4dbb34ae3562"
      },
      "outputs": [
        {
          "name": "stdout",
          "output_type": "stream",
          "text": [
            "Players:  10000\n"
          ]
        },
        {
          "data": {
            "text/plain": [
              "6139    2\n",
              "6168    2\n",
              "9457    4\n",
              "9420    5\n",
              "9736    2\n",
              "       ..\n",
              "2379    1\n",
              "6872    3\n",
              "2326    4\n",
              "8421    4\n",
              "2466    3\n",
              "Name: Place_Ratings, Length: 10000, dtype: int64"
            ]
          },
          "execution_count": 14,
          "metadata": {},
          "output_type": "execute_result"
        }
      ],
      "source": [
        "fifa_df = merged2.sort_values(by=\"Rating\", ascending=False)\n",
        "print(\"Players: \", fifa_df.shape[0])\n",
        "fifa_df.Place_Ratings"
      ]
    },
    {
      "cell_type": "code",
      "execution_count": null,
      "metadata": {
        "colab": {
          "base_uri": "https://localhost:8080/",
          "height": 653
        },
        "id": "kGsJyoZn_RoR",
        "outputId": "fca22ef6-ab69-42fe-a2a6-9d9aa103451f"
      },
      "outputs": [
        {
          "name": "stdout",
          "output_type": "stream",
          "text": [
            "Players:  10000\n"
          ]
        },
        {
          "data": {
            "text/html": [
              "\n",
              "  <div id=\"df-b5ce29f7-f7a9-41c3-b56a-36baef39a654\">\n",
              "    <div class=\"colab-df-container\">\n",
              "      <div>\n",
              "<style scoped>\n",
              "    .dataframe tbody tr th:only-of-type {\n",
              "        vertical-align: middle;\n",
              "    }\n",
              "\n",
              "    .dataframe tbody tr th {\n",
              "        vertical-align: top;\n",
              "    }\n",
              "\n",
              "    .dataframe thead th {\n",
              "        text-align: right;\n",
              "    }\n",
              "</style>\n",
              "<table border=\"1\" class=\"dataframe\">\n",
              "  <thead>\n",
              "    <tr style=\"text-align: right;\">\n",
              "      <th></th>\n",
              "      <th>User_Id</th>\n",
              "      <th>Place_Id</th>\n",
              "      <th>Place_Ratings</th>\n",
              "      <th>Place_Name</th>\n",
              "      <th>Description</th>\n",
              "      <th>Category</th>\n",
              "      <th>City</th>\n",
              "      <th>Price</th>\n",
              "      <th>Rating</th>\n",
              "      <th>Time_Minutes</th>\n",
              "      <th>Coordinate</th>\n",
              "      <th>Lat</th>\n",
              "      <th>Long</th>\n",
              "      <th>Unnamed: 11</th>\n",
              "      <th>Unnamed: 12</th>\n",
              "      <th>Location</th>\n",
              "      <th>Age</th>\n",
              "    </tr>\n",
              "  </thead>\n",
              "  <tbody>\n",
              "    <tr>\n",
              "      <th>6139</th>\n",
              "      <td>184</td>\n",
              "      <td>29</td>\n",
              "      <td>2</td>\n",
              "      <td>Wisata Kuliner Pecenongan</td>\n",
              "      <td>Pecenongan merupakan salah satu surga kuliner ...</td>\n",
              "      <td>Pusat Perbelanjaan</td>\n",
              "      <td>Jakarta</td>\n",
              "      <td>0</td>\n",
              "      <td>5.0</td>\n",
              "      <td>NaN</td>\n",
              "      <td>{'lat': -6.166788700000001, 'lng': 106.8265261}</td>\n",
              "      <td>-6.166789</td>\n",
              "      <td>106.826526</td>\n",
              "      <td>NaN</td>\n",
              "      <td>29</td>\n",
              "      <td>Serang, Banten</td>\n",
              "      <td>30</td>\n",
              "    </tr>\n",
              "    <tr>\n",
              "      <th>6168</th>\n",
              "      <td>185</td>\n",
              "      <td>124</td>\n",
              "      <td>2</td>\n",
              "      <td>Kauman Pakualaman Yogyakarta</td>\n",
              "      <td>Pakualaman adalah sebuah kecamatan di Kota Yog...</td>\n",
              "      <td>Budaya</td>\n",
              "      <td>Yogyakarta</td>\n",
              "      <td>0</td>\n",
              "      <td>5.0</td>\n",
              "      <td>NaN</td>\n",
              "      <td>{'lat': -7.801034700000001, 'lng': 110.3751922}</td>\n",
              "      <td>-7.801035</td>\n",
              "      <td>110.375192</td>\n",
              "      <td>NaN</td>\n",
              "      <td>124</td>\n",
              "      <td>Cilacap, Jawa Tengah</td>\n",
              "      <td>33</td>\n",
              "    </tr>\n",
              "    <tr>\n",
              "      <th>9457</th>\n",
              "      <td>285</td>\n",
              "      <td>69</td>\n",
              "      <td>4</td>\n",
              "      <td>Freedom Library</td>\n",
              "      <td>Freedom Library adalah perpustakaan buku yang ...</td>\n",
              "      <td>Budaya</td>\n",
              "      <td>Jakarta</td>\n",
              "      <td>0</td>\n",
              "      <td>5.0</td>\n",
              "      <td>NaN</td>\n",
              "      <td>{'lat': -6.202248200000001, 'lng': 106.8451968}</td>\n",
              "      <td>-6.202248</td>\n",
              "      <td>106.845197</td>\n",
              "      <td>NaN</td>\n",
              "      <td>69</td>\n",
              "      <td>Jakarta Pusat, DKI Jakarta</td>\n",
              "      <td>29</td>\n",
              "    </tr>\n",
              "    <tr>\n",
              "      <th>9420</th>\n",
              "      <td>283</td>\n",
              "      <td>29</td>\n",
              "      <td>5</td>\n",
              "      <td>Wisata Kuliner Pecenongan</td>\n",
              "      <td>Pecenongan merupakan salah satu surga kuliner ...</td>\n",
              "      <td>Pusat Perbelanjaan</td>\n",
              "      <td>Jakarta</td>\n",
              "      <td>0</td>\n",
              "      <td>5.0</td>\n",
              "      <td>NaN</td>\n",
              "      <td>{'lat': -6.166788700000001, 'lng': 106.8265261}</td>\n",
              "      <td>-6.166789</td>\n",
              "      <td>106.826526</td>\n",
              "      <td>NaN</td>\n",
              "      <td>29</td>\n",
              "      <td>Bogor, Jawa Barat</td>\n",
              "      <td>37</td>\n",
              "    </tr>\n",
              "    <tr>\n",
              "      <th>9736</th>\n",
              "      <td>293</td>\n",
              "      <td>95</td>\n",
              "      <td>2</td>\n",
              "      <td>Desa Wisata Sungai Code Jogja Kota</td>\n",
              "      <td>Kampung Code berada di Kelurahan Kotabaru, Kec...</td>\n",
              "      <td>Taman Hiburan</td>\n",
              "      <td>Yogyakarta</td>\n",
              "      <td>0</td>\n",
              "      <td>5.0</td>\n",
              "      <td>NaN</td>\n",
              "      <td>{'lat': -7.822908900000001, 'lng': 110.3756894}</td>\n",
              "      <td>-7.822909</td>\n",
              "      <td>110.375689</td>\n",
              "      <td>NaN</td>\n",
              "      <td>95</td>\n",
              "      <td>Subang, Jawa Barat</td>\n",
              "      <td>34</td>\n",
              "    </tr>\n",
              "  </tbody>\n",
              "</table>\n",
              "</div>\n",
              "      <button class=\"colab-df-convert\" onclick=\"convertToInteractive('df-b5ce29f7-f7a9-41c3-b56a-36baef39a654')\"\n",
              "              title=\"Convert this dataframe to an interactive table.\"\n",
              "              style=\"display:none;\">\n",
              "        \n",
              "  <svg xmlns=\"http://www.w3.org/2000/svg\" height=\"24px\"viewBox=\"0 0 24 24\"\n",
              "       width=\"24px\">\n",
              "    <path d=\"M0 0h24v24H0V0z\" fill=\"none\"/>\n",
              "    <path d=\"M18.56 5.44l.94 2.06.94-2.06 2.06-.94-2.06-.94-.94-2.06-.94 2.06-2.06.94zm-11 1L8.5 8.5l.94-2.06 2.06-.94-2.06-.94L8.5 2.5l-.94 2.06-2.06.94zm10 10l.94 2.06.94-2.06 2.06-.94-2.06-.94-.94-2.06-.94 2.06-2.06.94z\"/><path d=\"M17.41 7.96l-1.37-1.37c-.4-.4-.92-.59-1.43-.59-.52 0-1.04.2-1.43.59L10.3 9.45l-7.72 7.72c-.78.78-.78 2.05 0 2.83L4 21.41c.39.39.9.59 1.41.59.51 0 1.02-.2 1.41-.59l7.78-7.78 2.81-2.81c.8-.78.8-2.07 0-2.86zM5.41 20L4 18.59l7.72-7.72 1.47 1.35L5.41 20z\"/>\n",
              "  </svg>\n",
              "      </button>\n",
              "      \n",
              "  <style>\n",
              "    .colab-df-container {\n",
              "      display:flex;\n",
              "      flex-wrap:wrap;\n",
              "      gap: 12px;\n",
              "    }\n",
              "\n",
              "    .colab-df-convert {\n",
              "      background-color: #E8F0FE;\n",
              "      border: none;\n",
              "      border-radius: 50%;\n",
              "      cursor: pointer;\n",
              "      display: none;\n",
              "      fill: #1967D2;\n",
              "      height: 32px;\n",
              "      padding: 0 0 0 0;\n",
              "      width: 32px;\n",
              "    }\n",
              "\n",
              "    .colab-df-convert:hover {\n",
              "      background-color: #E2EBFA;\n",
              "      box-shadow: 0px 1px 2px rgba(60, 64, 67, 0.3), 0px 1px 3px 1px rgba(60, 64, 67, 0.15);\n",
              "      fill: #174EA6;\n",
              "    }\n",
              "\n",
              "    [theme=dark] .colab-df-convert {\n",
              "      background-color: #3B4455;\n",
              "      fill: #D2E3FC;\n",
              "    }\n",
              "\n",
              "    [theme=dark] .colab-df-convert:hover {\n",
              "      background-color: #434B5C;\n",
              "      box-shadow: 0px 1px 3px 1px rgba(0, 0, 0, 0.15);\n",
              "      filter: drop-shadow(0px 1px 2px rgba(0, 0, 0, 0.3));\n",
              "      fill: #FFFFFF;\n",
              "    }\n",
              "  </style>\n",
              "\n",
              "      <script>\n",
              "        const buttonEl =\n",
              "          document.querySelector('#df-b5ce29f7-f7a9-41c3-b56a-36baef39a654 button.colab-df-convert');\n",
              "        buttonEl.style.display =\n",
              "          google.colab.kernel.accessAllowed ? 'block' : 'none';\n",
              "\n",
              "        async function convertToInteractive(key) {\n",
              "          const element = document.querySelector('#df-b5ce29f7-f7a9-41c3-b56a-36baef39a654');\n",
              "          const dataTable =\n",
              "            await google.colab.kernel.invokeFunction('convertToInteractive',\n",
              "                                                     [key], {});\n",
              "          if (!dataTable) return;\n",
              "\n",
              "          const docLinkHtml = 'Like what you see? Visit the ' +\n",
              "            '<a target=\"_blank\" href=https://colab.research.google.com/notebooks/data_table.ipynb>data table notebook</a>'\n",
              "            + ' to learn more about interactive tables.';\n",
              "          element.innerHTML = '';\n",
              "          dataTable['output_type'] = 'display_data';\n",
              "          await google.colab.output.renderOutput(dataTable, element);\n",
              "          const docLink = document.createElement('div');\n",
              "          docLink.innerHTML = docLinkHtml;\n",
              "          element.appendChild(docLink);\n",
              "        }\n",
              "      </script>\n",
              "    </div>\n",
              "  </div>\n",
              "  "
            ],
            "text/plain": [
              "      User_Id  Place_Id  Place_Ratings                          Place_Name  \\\n",
              "6139      184        29              2           Wisata Kuliner Pecenongan   \n",
              "6168      185       124              2        Kauman Pakualaman Yogyakarta   \n",
              "9457      285        69              4                     Freedom Library   \n",
              "9420      283        29              5           Wisata Kuliner Pecenongan   \n",
              "9736      293        95              2  Desa Wisata Sungai Code Jogja Kota   \n",
              "\n",
              "                                            Description            Category  \\\n",
              "6139  Pecenongan merupakan salah satu surga kuliner ...  Pusat Perbelanjaan   \n",
              "6168  Pakualaman adalah sebuah kecamatan di Kota Yog...              Budaya   \n",
              "9457  Freedom Library adalah perpustakaan buku yang ...              Budaya   \n",
              "9420  Pecenongan merupakan salah satu surga kuliner ...  Pusat Perbelanjaan   \n",
              "9736  Kampung Code berada di Kelurahan Kotabaru, Kec...       Taman Hiburan   \n",
              "\n",
              "            City  Price  Rating  Time_Minutes  \\\n",
              "6139     Jakarta      0     5.0           NaN   \n",
              "6168  Yogyakarta      0     5.0           NaN   \n",
              "9457     Jakarta      0     5.0           NaN   \n",
              "9420     Jakarta      0     5.0           NaN   \n",
              "9736  Yogyakarta      0     5.0           NaN   \n",
              "\n",
              "                                           Coordinate       Lat        Long  \\\n",
              "6139  {'lat': -6.166788700000001, 'lng': 106.8265261} -6.166789  106.826526   \n",
              "6168  {'lat': -7.801034700000001, 'lng': 110.3751922} -7.801035  110.375192   \n",
              "9457  {'lat': -6.202248200000001, 'lng': 106.8451968} -6.202248  106.845197   \n",
              "9420  {'lat': -6.166788700000001, 'lng': 106.8265261} -6.166789  106.826526   \n",
              "9736  {'lat': -7.822908900000001, 'lng': 110.3756894} -7.822909  110.375689   \n",
              "\n",
              "      Unnamed: 11  Unnamed: 12                    Location  Age  \n",
              "6139          NaN           29              Serang, Banten   30  \n",
              "6168          NaN          124        Cilacap, Jawa Tengah   33  \n",
              "9457          NaN           69  Jakarta Pusat, DKI Jakarta   29  \n",
              "9420          NaN           29           Bogor, Jawa Barat   37  \n",
              "9736          NaN           95          Subang, Jawa Barat   34  "
            ]
          },
          "execution_count": 15,
          "metadata": {},
          "output_type": "execute_result"
        }
      ],
      "source": [
        "print(\"Players: \", fifa_df.shape[0])\n",
        "fifa_df.head()"
      ]
    },
    {
      "cell_type": "code",
      "execution_count": null,
      "metadata": {
        "colab": {
          "base_uri": "https://localhost:8080/",
          "height": 389
        },
        "id": "h_15EorkfdNt",
        "outputId": "6f1ceb4b-3270-4186-fc9d-43eefd3d78e0"
      },
      "outputs": [
        {
          "data": {
            "image/png": "[encoded data removed]",
            "text/plain": [
              "<Figure size 576x432 with 1 Axes>"
            ]
          },
          "metadata": {},
          "output_type": "display_data"
        }
      ],
      "source": [
        "from matplotlib import pyplot as plt    \n",
        "\n",
        "fig = plt.figure()\n",
        "ax = fifa_df.Place_Ratings.value_counts(True).sort_index().plot.bar(figsize=(8,6))\n",
        "vals = ax.get_yticks()\n",
        "ax.set_yticklabels(['{:,.0%}'.format(x) for x in vals])\n",
        "plt.xlabel('Rating', fontsize=12)\n",
        "plt.ylabel('Share of Ratings', fontsize=12)\n",
        "plt.xticks(fontsize=12)\n",
        "plt.yticks(fontsize=12)\n",
        "fig.savefig('Ratings_distribution.png')"
      ]
    },
    {
      "cell_type": "markdown",
      "metadata": {
        "id": "u7y4BOAhY5C7"
      },
      "source": [
        "** need to check if the rating is 1 to 5 similar to the movies dataset in indonesia dataset as well as in the yelp reviews stars field dataset"
      ]
    },
    {
      "cell_type": "markdown",
      "metadata": {
        "id": "erCzR8f1y0v_"
      },
      "source": [
        "# **3. To implement Graph structure importing necessary packages**"
      ]
    },
    {
      "cell_type": "code",
      "execution_count": null,
      "metadata": {
        "colab": {
          "base_uri": "https://localhost:8080/"
        },
        "id": "YRp2XgkLyzeo",
        "outputId": "5a5d7148-5870-47cd-d33f-cb42d4ff5f52"
      },
      "outputs": [
        {
          "output_type": "stream",
          "name": "stdout",
          "text": [
            "1.12.1+cu113\n"
          ]
        }
      ],
      "source": [
        "# Install required packages.\n",
        "import os\n",
        "import torch\n",
        "os.environ['TORCH'] = torch.__version__\n",
        "print(torch.__version__)"
      ]
    },
    {
      "cell_type": "code",
      "execution_count": null,
      "metadata": {
        "colab": {
          "base_uri": "https://localhost:8080/"
        },
        "id": "0H4QIM0_8qeE",
        "outputId": "41f6c003-2799-4763-d57b-7b6a619fb42b"
      },
      "outputs": [
        {
          "output_type": "stream",
          "name": "stdout",
          "text": [
            "\u001b[K     |████████████████████████████████| 8.9 MB 3.0 MB/s \n",
            "\u001b[K     |████████████████████████████████| 3.5 MB 2.9 MB/s \n",
            "\u001b[K     |████████████████████████████████| 280 kB 5.1 MB/s \n",
            "\u001b[?25h  Building wheel for torch-geometric (setup.py) ... \u001b[?25l\u001b[?25hdone\n"
          ]
        }
      ],
      "source": [
        "!pip install -q torch-scatter -f https://data.pyg.org/whl/torch-${TORCH}.html \n",
        "!pip install -q torch-sparse -f https://data.pyg.org/whl/torch-${TORCH}.html\n",
        "!pip install -q git+https://github.com/pyg-team/pytorch_geometric.git"
      ]
    },
    {
      "cell_type": "code",
      "execution_count": null,
      "metadata": {
        "colab": {
          "base_uri": "https://localhost:8080/"
        },
        "id": "2oozwwGz9VMb",
        "outputId": "f37ef60d-9650-4094-c899-31855ad5724d"
      },
      "outputs": [
        {
          "output_type": "stream",
          "name": "stdout",
          "text": [
            "  Building wheel for deepsnap (setup.py) ... \u001b[?25l\u001b[?25hdone\n"
          ]
        }
      ],
      "source": [
        "!pip install -U -q PyDrive\n",
        "!pip install -q git+https://github.com/snap-stanford/deepsnap.git"
      ]
    },
    {
      "cell_type": "code",
      "execution_count": null,
      "metadata": {
        "colab": {
          "base_uri": "https://localhost:8080/"
        },
        "id": "jSlnH8g5nj-a",
        "outputId": "24c05fd4-50d5-482c-c0d5-6adcaeb737f6"
      },
      "outputs": [
        {
          "output_type": "execute_result",
          "data": {
            "text/plain": [
              "<torch._C.Generator at 0x7fcdd6b2b0d0>"
            ]
          },
          "metadata": {},
          "execution_count": 6
        }
      ],
      "source": [
        "random_seed = 1\n",
        "torch.manual_seed(random_seed)"
      ]
    },
    {
      "cell_type": "markdown",
      "metadata": {
        "id": "yqdRoAW27Unv"
      },
      "source": [
        "# **4. import required modules**"
      ]
    },
    {
      "cell_type": "code",
      "execution_count": null,
      "metadata": {
        "id": "x1NRAFq07Ncf"
      },
      "outputs": [],
      "source": [
        "import random\n",
        "from tqdm import tqdm\n",
        "import pandas as pd\n",
        "import numpy as np\n",
        "import matplotlib.pyplot as plt\n",
        "from sklearn.model_selection import train_test_split"
      ]
    },
    {
      "cell_type": "code",
      "execution_count": null,
      "metadata": {
        "id": "taTh_Rqn8PyR"
      },
      "outputs": [],
      "source": [
        "import torch\n",
        "from torch import nn, optim, Tensor"
      ]
    },
    {
      "cell_type": "code",
      "execution_count": null,
      "metadata": {
        "id": "X1e8yonl9lL9"
      },
      "outputs": [],
      "source": [
        "import torch_geometric"
      ]
    },
    {
      "cell_type": "code",
      "execution_count": null,
      "metadata": {
        "id": "YiPQ_PtG8R8t"
      },
      "outputs": [],
      "source": [
        "from torch_sparse import SparseTensor, matmul"
      ]
    },
    {
      "cell_type": "code",
      "execution_count": null,
      "metadata": {
        "id": "2gV4B_qj8Vbb"
      },
      "outputs": [],
      "source": [
        "# packages for importing the GCN model\n",
        "\n",
        "from torch_geometric.utils import structured_negative_sampling\n",
        "from torch_geometric.data import download_url, extract_zip\n",
        "from torch_geometric.nn.conv.gcn_conv import gcn_norm\n",
        "from torch_geometric.nn.conv import MessagePassing\n",
        "from torch_geometric.typing import Adj"
      ]
    },
    {
      "cell_type": "markdown",
      "metadata": {
        "id": "i6AFURJ3AwQv"
      },
      "source": [
        "# **5. Load the dataset**"
      ]
    },
    {
      "cell_type": "markdown",
      "metadata": {
        "id": "LYt68k_IC0ac"
      },
      "source": [
        "We have yelp reviews - that contains information about the users and businesses.It shows the relation of how the users rated the business/trips."
      ]
    },
    {
      "cell_type": "code",
      "execution_count": null,
      "metadata": {
        "id": "L3NIvUvb_k1o"
      },
      "outputs": [],
      "source": [
        "# download the Yelp dataset .csv file\n",
        "# This will download the CSV file from the google drive.\n",
        "\n",
        "import pandas as pd\n",
        "\n",
        "review_path=\"/content/drive/MyDrive/GCN_TripRecommendation/datasets/yelp_training_set_review.csv\"\n"
      ]
    },
    {
      "cell_type": "code",
      "execution_count": null,
      "metadata": {
        "id": "HA0Sy2pcRSv6"
      },
      "outputs": [],
      "source": [
        "# load user and review nodes\n",
        "def load_node_csv(path, index_col):\n",
        "    \"\"\"Loads csv containing node information\n",
        "\n",
        "    Args:\n",
        "        path (str): path to csv file\n",
        "        index_col (str): column name of index column\n",
        "\n",
        "    Returns:\n",
        "        dict: mapping of csv row to node id\n",
        "    \"\"\"\n",
        "    df = pd.read_csv(path, index_col=index_col)\n",
        "    mapping = {index: i for i, index in enumerate(df.index.unique())}\n",
        "    return mapping\n",
        "\n",
        "# This method basically creates a dictionary containing index for unique user or business id."
      ]
    },
    {
      "cell_type": "code",
      "execution_count": null,
      "metadata": {
        "id": "NbgyMIEF0NOV"
      },
      "outputs": [],
      "source": [
        "reviews=pd.read_csv(review_path)"
      ]
    },
    {
      "cell_type": "code",
      "execution_count": null,
      "metadata": {
        "colab": {
          "base_uri": "https://localhost:8080/",
          "height": 785
        },
        "id": "tWa6DqQ20T5h",
        "outputId": "8e22c0ed-4a00-4a86-f87f-e4024e6819a7"
      },
      "outputs": [
        {
          "data": {
            "text/html": [
              "\n",
              "  <div id=\"df-6f367706-c3c0-4e18-8749-48ae1bb8d97a\">\n",
              "    <div class=\"colab-df-container\">\n",
              "      <div>\n",
              "<style scoped>\n",
              "    .dataframe tbody tr th:only-of-type {\n",
              "        vertical-align: middle;\n",
              "    }\n",
              "\n",
              "    .dataframe tbody tr th {\n",
              "        vertical-align: top;\n",
              "    }\n",
              "\n",
              "    .dataframe thead th {\n",
              "        text-align: right;\n",
              "    }\n",
              "</style>\n",
              "<table border=\"1\" class=\"dataframe\">\n",
              "  <thead>\n",
              "    <tr style=\"text-align: right;\">\n",
              "      <th></th>\n",
              "      <th>Unnamed: 0</th>\n",
              "      <th>business_blank</th>\n",
              "      <th>business_categories</th>\n",
              "      <th>business_city</th>\n",
              "      <th>business_full_address</th>\n",
              "      <th>business_id</th>\n",
              "      <th>business_latitude</th>\n",
              "      <th>business_longitude</th>\n",
              "      <th>business_name</th>\n",
              "      <th>business_neighborhoods</th>\n",
              "      <th>...</th>\n",
              "      <th>reviewer_funny</th>\n",
              "      <th>reviewer_name</th>\n",
              "      <th>reviewer_review_count</th>\n",
              "      <th>reviewer_type</th>\n",
              "      <th>reviewer_useful</th>\n",
              "      <th>stars</th>\n",
              "      <th>text</th>\n",
              "      <th>type</th>\n",
              "      <th>useful</th>\n",
              "      <th>user_id</th>\n",
              "    </tr>\n",
              "  </thead>\n",
              "  <tbody>\n",
              "    <tr>\n",
              "      <th>0</th>\n",
              "      <td>0</td>\n",
              "      <td>False</td>\n",
              "      <td>Breakfast &amp; Brunch; Restaurants</td>\n",
              "      <td>Phoenix</td>\n",
              "      <td>6106 S 32nd St\\nPhoenix, AZ 85042</td>\n",
              "      <td>9yKzy9PApeiPPOUJEtnvkg</td>\n",
              "      <td>33.390792</td>\n",
              "      <td>-112.012504</td>\n",
              "      <td>Morning Glory Cafe</td>\n",
              "      <td>NaN</td>\n",
              "      <td>...</td>\n",
              "      <td>331</td>\n",
              "      <td>Jason</td>\n",
              "      <td>376</td>\n",
              "      <td>user</td>\n",
              "      <td>1034</td>\n",
              "      <td>5</td>\n",
              "      <td>My wife took me here on my birthday for breakf...</td>\n",
              "      <td>review</td>\n",
              "      <td>5</td>\n",
              "      <td>rLtl8ZkDX5vH5nAx9C3q5Q</td>\n",
              "    </tr>\n",
              "    <tr>\n",
              "      <th>1</th>\n",
              "      <td>1</td>\n",
              "      <td>False</td>\n",
              "      <td>Italian; Pizza; Restaurants</td>\n",
              "      <td>Phoenix</td>\n",
              "      <td>4848 E Chandler Blvd\\nPhoenix, AZ 85044</td>\n",
              "      <td>ZRJwVLyzEJq1VAihDhYiow</td>\n",
              "      <td>33.305607</td>\n",
              "      <td>-111.978758</td>\n",
              "      <td>Spinato's Pizzeria</td>\n",
              "      <td>NaN</td>\n",
              "      <td>...</td>\n",
              "      <td>2</td>\n",
              "      <td>Paul</td>\n",
              "      <td>2</td>\n",
              "      <td>user</td>\n",
              "      <td>0</td>\n",
              "      <td>5</td>\n",
              "      <td>I have no idea why some people give bad review...</td>\n",
              "      <td>review</td>\n",
              "      <td>0</td>\n",
              "      <td>0a2KyEL0d3Yb1V6aivbIuQ</td>\n",
              "    </tr>\n",
              "    <tr>\n",
              "      <th>2</th>\n",
              "      <td>2</td>\n",
              "      <td>False</td>\n",
              "      <td>Middle Eastern; Restaurants</td>\n",
              "      <td>Tempe</td>\n",
              "      <td>1513 E  Apache Blvd\\nTempe, AZ 85281</td>\n",
              "      <td>6oRAC4uyJCsJl1X0WZpVSA</td>\n",
              "      <td>33.414345</td>\n",
              "      <td>-111.913031</td>\n",
              "      <td>Haji-Baba</td>\n",
              "      <td>NaN</td>\n",
              "      <td>...</td>\n",
              "      <td>0</td>\n",
              "      <td>Nicole</td>\n",
              "      <td>3</td>\n",
              "      <td>user</td>\n",
              "      <td>3</td>\n",
              "      <td>4</td>\n",
              "      <td>love the gyro plate. Rice is so good and I als...</td>\n",
              "      <td>review</td>\n",
              "      <td>1</td>\n",
              "      <td>0hT2KtfLiobPvh6cDC8JQg</td>\n",
              "    </tr>\n",
              "    <tr>\n",
              "      <th>3</th>\n",
              "      <td>3</td>\n",
              "      <td>False</td>\n",
              "      <td>Active Life; Dog Parks; Parks</td>\n",
              "      <td>Scottsdale</td>\n",
              "      <td>5401 N Hayden Rd\\nScottsdale, AZ 85250</td>\n",
              "      <td>_1QQZuf4zZOyFCvXc0o6Vg</td>\n",
              "      <td>33.522945</td>\n",
              "      <td>-111.907886</td>\n",
              "      <td>Chaparral Dog Park</td>\n",
              "      <td>NaN</td>\n",
              "      <td>...</td>\n",
              "      <td>18</td>\n",
              "      <td>lindsey</td>\n",
              "      <td>31</td>\n",
              "      <td>user</td>\n",
              "      <td>75</td>\n",
              "      <td>5</td>\n",
              "      <td>Rosie, Dakota, and I LOVE Chaparral Dog Park!!...</td>\n",
              "      <td>review</td>\n",
              "      <td>2</td>\n",
              "      <td>uZetl9T0NcROGOyFfughhg</td>\n",
              "    </tr>\n",
              "    <tr>\n",
              "      <th>4</th>\n",
              "      <td>4</td>\n",
              "      <td>False</td>\n",
              "      <td>Tires; Automotive</td>\n",
              "      <td>Mesa</td>\n",
              "      <td>1357 S Power Road\\nMesa, AZ 85206</td>\n",
              "      <td>6ozycU1RpktNG2-1BroVtw</td>\n",
              "      <td>33.391027</td>\n",
              "      <td>-111.684482</td>\n",
              "      <td>Discount Tire</td>\n",
              "      <td>NaN</td>\n",
              "      <td>...</td>\n",
              "      <td>3</td>\n",
              "      <td>Roger</td>\n",
              "      <td>28</td>\n",
              "      <td>user</td>\n",
              "      <td>32</td>\n",
              "      <td>5</td>\n",
              "      <td>General Manager Scott Petello is a good egg!!!...</td>\n",
              "      <td>review</td>\n",
              "      <td>0</td>\n",
              "      <td>vYmM4KTsC8ZfQBg-j5MWkw</td>\n",
              "    </tr>\n",
              "  </tbody>\n",
              "</table>\n",
              "<p>5 rows × 32 columns</p>\n",
              "</div>\n",
              "      <button class=\"colab-df-convert\" onclick=\"convertToInteractive('df-6f367706-c3c0-4e18-8749-48ae1bb8d97a')\"\n",
              "              title=\"Convert this dataframe to an interactive table.\"\n",
              "              style=\"display:none;\">\n",
              "        \n",
              "  <svg xmlns=\"http://www.w3.org/2000/svg\" height=\"24px\"viewBox=\"0 0 24 24\"\n",
              "       width=\"24px\">\n",
              "    <path d=\"M0 0h24v24H0V0z\" fill=\"none\"/>\n",
              "    <path d=\"M18.56 5.44l.94 2.06.94-2.06 2.06-.94-2.06-.94-.94-2.06-.94 2.06-2.06.94zm-11 1L8.5 8.5l.94-2.06 2.06-.94-2.06-.94L8.5 2.5l-.94 2.06-2.06.94zm10 10l.94 2.06.94-2.06 2.06-.94-2.06-.94-.94-2.06-.94 2.06-2.06.94z\"/><path d=\"M17.41 7.96l-1.37-1.37c-.4-.4-.92-.59-1.43-.59-.52 0-1.04.2-1.43.59L10.3 9.45l-7.72 7.72c-.78.78-.78 2.05 0 2.83L4 21.41c.39.39.9.59 1.41.59.51 0 1.02-.2 1.41-.59l7.78-7.78 2.81-2.81c.8-.78.8-2.07 0-2.86zM5.41 20L4 18.59l7.72-7.72 1.47 1.35L5.41 20z\"/>\n",
              "  </svg>\n",
              "      </button>\n",
              "      \n",
              "  <style>\n",
              "    .colab-df-container {\n",
              "      display:flex;\n",
              "      flex-wrap:wrap;\n",
              "      gap: 12px;\n",
              "    }\n",
              "\n",
              "    .colab-df-convert {\n",
              "      background-color: #E8F0FE;\n",
              "      border: none;\n",
              "      border-radius: 50%;\n",
              "      cursor: pointer;\n",
              "      display: none;\n",
              "      fill: #1967D2;\n",
              "      height: 32px;\n",
              "      padding: 0 0 0 0;\n",
              "      width: 32px;\n",
              "    }\n",
              "\n",
              "    .colab-df-convert:hover {\n",
              "      background-color: #E2EBFA;\n",
              "      box-shadow: 0px 1px 2px rgba(60, 64, 67, 0.3), 0px 1px 3px 1px rgba(60, 64, 67, 0.15);\n",
              "      fill: #174EA6;\n",
              "    }\n",
              "\n",
              "    [theme=dark] .colab-df-convert {\n",
              "      background-color: #3B4455;\n",
              "      fill: #D2E3FC;\n",
              "    }\n",
              "\n",
              "    [theme=dark] .colab-df-convert:hover {\n",
              "      background-color: #434B5C;\n",
              "      box-shadow: 0px 1px 3px 1px rgba(0, 0, 0, 0.15);\n",
              "      filter: drop-shadow(0px 1px 2px rgba(0, 0, 0, 0.3));\n",
              "      fill: #FFFFFF;\n",
              "    }\n",
              "  </style>\n",
              "\n",
              "      <script>\n",
              "        const buttonEl =\n",
              "          document.querySelector('#df-6f367706-c3c0-4e18-8749-48ae1bb8d97a button.colab-df-convert');\n",
              "        buttonEl.style.display =\n",
              "          google.colab.kernel.accessAllowed ? 'block' : 'none';\n",
              "\n",
              "        async function convertToInteractive(key) {\n",
              "          const element = document.querySelector('#df-6f367706-c3c0-4e18-8749-48ae1bb8d97a');\n",
              "          const dataTable =\n",
              "            await google.colab.kernel.invokeFunction('convertToInteractive',\n",
              "                                                     [key], {});\n",
              "          if (!dataTable) return;\n",
              "\n",
              "          const docLinkHtml = 'Like what you see? Visit the ' +\n",
              "            '<a target=\"_blank\" href=https://colab.research.google.com/notebooks/data_table.ipynb>data table notebook</a>'\n",
              "            + ' to learn more about interactive tables.';\n",
              "          element.innerHTML = '';\n",
              "          dataTable['output_type'] = 'display_data';\n",
              "          await google.colab.output.renderOutput(dataTable, element);\n",
              "          const docLink = document.createElement('div');\n",
              "          docLink.innerHTML = docLinkHtml;\n",
              "          element.appendChild(docLink);\n",
              "        }\n",
              "      </script>\n",
              "    </div>\n",
              "  </div>\n",
              "  "
            ],
            "text/plain": [
              "   Unnamed: 0  business_blank              business_categories business_city  \\\n",
              "0           0           False  Breakfast & Brunch; Restaurants       Phoenix   \n",
              "1           1           False      Italian; Pizza; Restaurants       Phoenix   \n",
              "2           2           False      Middle Eastern; Restaurants         Tempe   \n",
              "3           3           False    Active Life; Dog Parks; Parks    Scottsdale   \n",
              "4           4           False                Tires; Automotive          Mesa   \n",
              "\n",
              "                     business_full_address             business_id  \\\n",
              "0        6106 S 32nd St\\nPhoenix, AZ 85042  9yKzy9PApeiPPOUJEtnvkg   \n",
              "1  4848 E Chandler Blvd\\nPhoenix, AZ 85044  ZRJwVLyzEJq1VAihDhYiow   \n",
              "2     1513 E  Apache Blvd\\nTempe, AZ 85281  6oRAC4uyJCsJl1X0WZpVSA   \n",
              "3   5401 N Hayden Rd\\nScottsdale, AZ 85250  _1QQZuf4zZOyFCvXc0o6Vg   \n",
              "4        1357 S Power Road\\nMesa, AZ 85206  6ozycU1RpktNG2-1BroVtw   \n",
              "\n",
              "   business_latitude  business_longitude       business_name  \\\n",
              "0          33.390792         -112.012504  Morning Glory Cafe   \n",
              "1          33.305607         -111.978758  Spinato's Pizzeria   \n",
              "2          33.414345         -111.913031           Haji-Baba   \n",
              "3          33.522945         -111.907886  Chaparral Dog Park   \n",
              "4          33.391027         -111.684482       Discount Tire   \n",
              "\n",
              "   business_neighborhoods  ...  reviewer_funny  reviewer_name  \\\n",
              "0                     NaN  ...             331          Jason   \n",
              "1                     NaN  ...               2           Paul   \n",
              "2                     NaN  ...               0         Nicole   \n",
              "3                     NaN  ...              18        lindsey   \n",
              "4                     NaN  ...               3          Roger   \n",
              "\n",
              "   reviewer_review_count reviewer_type reviewer_useful  stars  \\\n",
              "0                    376          user            1034      5   \n",
              "1                      2          user               0      5   \n",
              "2                      3          user               3      4   \n",
              "3                     31          user              75      5   \n",
              "4                     28          user              32      5   \n",
              "\n",
              "                                                text    type useful  \\\n",
              "0  My wife took me here on my birthday for breakf...  review      5   \n",
              "1  I have no idea why some people give bad review...  review      0   \n",
              "2  love the gyro plate. Rice is so good and I als...  review      1   \n",
              "3  Rosie, Dakota, and I LOVE Chaparral Dog Park!!...  review      2   \n",
              "4  General Manager Scott Petello is a good egg!!!...  review      0   \n",
              "\n",
              "                  user_id  \n",
              "0  rLtl8ZkDX5vH5nAx9C3q5Q  \n",
              "1  0a2KyEL0d3Yb1V6aivbIuQ  \n",
              "2  0hT2KtfLiobPvh6cDC8JQg  \n",
              "3  uZetl9T0NcROGOyFfughhg  \n",
              "4  vYmM4KTsC8ZfQBg-j5MWkw  \n",
              "\n",
              "[5 rows x 32 columns]"
            ]
          },
          "execution_count": 29,
          "metadata": {},
          "output_type": "execute_result"
        }
      ],
      "source": [
        "reviews.head()"
      ]
    },
    {
      "cell_type": "markdown",
      "metadata": {
        "id": "TtYDecTv_HCZ"
      },
      "source": [
        "create unique mappings"
      ]
    },
    {
      "cell_type": "code",
      "execution_count": null,
      "metadata": {
        "id": "lBCBg4P4oRrF"
      },
      "outputs": [],
      "source": [
        "user_mapping = load_node_csv(review_path, index_col='user_id')\n",
        "review_mapping = load_node_csv(review_path, index_col='business_id')"
      ]
    },
    {
      "cell_type": "code",
      "execution_count": null,
      "metadata": {
        "id": "USIsK6LEM-Ng"
      },
      "outputs": [],
      "source": [
        "# Homogenous graph with no disticntion between users and business\n",
        "# load edges between users and business\n",
        "def load_edge_csv(path, src_index_col, src_mapping, dst_index_col,dst_mapping, link_index_col,rating_threshold):\n",
        "    \"\"\"Loads csv containing edges between users and items\n",
        "\n",
        "    Args:\n",
        "        path (str): path to csv file\n",
        "        src_index_col (str): column name of users\n",
        "        src_mapping (dict): mapping between row number and user id\n",
        "        dst_index_col (str): column name of items\n",
        "        dst_mapping (dict): mapping between row number and item id\n",
        "        link_index_col (str): column name of user item interaction\n",
        "        rating_threshold (int, optional): Threshold to determine positivity of edge. Defaults to 4.\n",
        "\n",
        "    Returns:\n",
        "        torch.Tensor: 2 by N matrix containing the node ids of N user-item edges\n",
        "    \"\"\"\n",
        "    df = pd.read_csv(path)\n",
        "    edge_index = None\n",
        "    src = [src_mapping[index] for index in df[src_index_col]]\n",
        "    # list comprehension\n",
        "    # creates src list for users, dst list for items with index values\n",
        "    dst = [dst_mapping[index] for index in df[dst_index_col]]\n",
        "    edge_attr = torch.from_numpy(df[link_index_col].values).view(-1, 1).to(torch.long) >= rating_threshold\n",
        "  # Assigns edge between the user and the item if the user has rated the place/business with rating >=4\n",
        "    edge_index = [[],[]]\n",
        "    for i in range(edge_attr.shape[0]):\n",
        "        if edge_attr[i]:\n",
        "            edge_index[0].append(src[i])\n",
        "            edge_index[1].append(dst[i])\n",
        "            \n",
        "    # returns a tensor object of the indices which are yet to be converted to embeddings to be given to a model\n",
        "    return torch.tensor(edge_index)\n",
        "\n",
        "\n"
      ]
    },
    {
      "cell_type": "code",
      "execution_count": null,
      "metadata": {
        "id": "M_wWZS-ntbJE"
      },
      "outputs": [],
      "source": [
        "edge_index = load_edge_csv(\n",
        "    review_path,\n",
        "    src_index_col='user_id',\n",
        "    src_mapping=user_mapping,\n",
        "    dst_index_col='business_id',\n",
        "    dst_mapping=review_mapping,\n",
        "    link_index_col='stars',\n",
        "    rating_threshold=4,\n",
        "    # To preprocess the data to include ratings >=4 as we would like to recommend these businsess/places to users\n",
        ")"
      ]
    },
    {
      "cell_type": "markdown",
      "metadata": {
        "id": "Q-4dFIoc0CRq"
      },
      "source": [
        "# **6. Display a sample homogenous bipartite Graph**"
      ]
    },
    {
      "cell_type": "code",
      "execution_count": null,
      "metadata": {
        "id": "8AtysB7HLQSb"
      },
      "outputs": [],
      "source": [
        "import networkx as nx\n",
        "from networkx.algorithms import bipartite  # Conversion function"
      ]
    },
    {
      "cell_type": "code",
      "execution_count": null,
      "metadata": {
        "id": "l69OyJThXUB9"
      },
      "outputs": [],
      "source": [
        "G = nx.Graph()"
      ]
    },
    {
      "cell_type": "code",
      "execution_count": null,
      "metadata": {
        "colab": {
          "base_uri": "https://localhost:8080/"
        },
        "id": "ALoWDiJ5z5Qg",
        "outputId": "cf574a93-c55a-43b2-ffb8-344c38e9ef96"
      },
      "outputs": [
        {
          "data": {
            "text/plain": [
              "True"
            ]
          },
          "execution_count": 454,
          "metadata": {},
          "output_type": "execute_result"
        }
      ],
      "source": [
        "# bipartite.is_bipartite(G)"
      ]
    },
    {
      "cell_type": "code",
      "execution_count": null,
      "metadata": {
        "id": "15a5ivQ5rEGa"
      },
      "outputs": [],
      "source": [
        "user_source=[\"rLtl8ZkDX5vH5nAx9C3q5Q\", \"0a2KyEL0d3Yb1V6aivbIuQ\",\"0hT2KtfLiobPvh6cDC8JQg\",\"uZetl9T0NcROGOyFfughhg\",\"vYmM4KTsC8ZfQBg-j5MWkw\"]\n",
        "review_target=[\"9yKzy9PApeiPPOUJEtnvkg\", \"ZRJwVLyzEJq1VAihDhYiow\", \"6oRAC4uyJCsJl1X0WZpVSA\", \"_1QQZuf4zZOyFCvXc0o6Vg\",\"6ozycU1RpktNG2-1BroVtw\"]"
      ]
    },
    {
      "cell_type": "code",
      "execution_count": null,
      "metadata": {
        "id": "2KnBsjE3OixT"
      },
      "outputs": [],
      "source": [
        "# Initialise the graph\n",
        "B = nx.Graph()\n",
        "# Add nodes with the node attribute \"bipartite\"\n",
        "top_nodes = [\"rLtl8ZkDX5vH5nAx9C3q5Q\",\"0a2KyEL0d3Yb1V6aivbIuQ\",\"0hT2KtfLiobPvh6cDC8JQg\",\"uZetl9T0NcROGOyFfughhg\",\"vYmM4KTsC8ZfQBg-j5MWkw\"]\n",
        "bottom_nodes = [\"9yKzy9PApeiPPOUJEtnvkg\", \"ZRJwVLyzEJq1VAihDhYiow\", \"6oRAC4uyJCsJl1X0WZpVSA\", \"_1QQZuf4zZOyFCvXc0o6Vg\",\"6ozycU1RpktNG2-1BroVtw\",\"wzP2yNpV5p04nh0injjymA\"]\n",
        "B.add_nodes_from(top_nodes, bipartite=0)\n",
        "B.add_nodes_from(bottom_nodes, bipartite=1)\n",
        "# Add edges with weights\n",
        "B.add_edge(\"rLtl8ZkDX5vH5nAx9C3q5Q\", \"9yKzy9PApeiPPOUJEtnvkg\", weight = 5)\n",
        "B.add_edge(\"rLtl8ZkDX5vH5nAx9C3q5Q\", \"wzP2yNpV5p04nh0injjymA\", weight = 4)\n",
        "B.add_edge(\"0a2KyEL0d3Yb1V6aivbIuQ\", \"ZRJwVLyzEJq1VAihDhYiow\", weight = 5)\n",
        "B.add_edge(\"0hT2KtfLiobPvh6cDC8JQg\", \"6oRAC4uyJCsJl1X0WZpVSA\", weight = 4)\n",
        "B.add_edge(\"uZetl9T0NcROGOyFfughhg\", \"_1QQZuf4zZOyFCvXc0o6Vg\", weight = 5)\n",
        "B.add_edge(\"vYmM4KTsC8ZfQBg-j5MWkw\", \"6ozycU1RpktNG2-1BroVtw\", weight = 5)\n"
      ]
    },
    {
      "cell_type": "code",
      "execution_count": null,
      "metadata": {
        "colab": {
          "base_uri": "https://localhost:8080/",
          "height": 248
        },
        "id": "_tg6XXJJoxPv",
        "outputId": "a82163b3-f254-4129-e6b3-47448d8deb9f"
      },
      "outputs": [
        {
          "data": {
            "image/png": "[encoded data removed]",
            "text/plain": [
              "<Figure size 432x288 with 1 Axes>"
            ]
          },
          "metadata": {},
          "output_type": "display_data"
        }
      ],
      "source": [
        "nx.draw_networkx(B, pos = nx.bipartite_layout(B, top_nodes), node_color='#A0CBE2',edge_color='#00bb5e',node_size=1000,width=1,\n",
        "     edge_cmap=plt.cm.Blues,with_labels=True)\n"
      ]
    },
    {
      "cell_type": "markdown",
      "metadata": {
        "id": "MS8iA9AmCnR6"
      },
      "source": [
        "#**7. Train/validation/test split**"
      ]
    },
    {
      "cell_type": "code",
      "execution_count": null,
      "metadata": {
        "id": "UakF4gWaQq5w"
      },
      "outputs": [],
      "source": [
        "# Representing the adjacency matrix as sparsetensor as the matrix has most values as zero\n",
        "# This representation reduces memory head\n",
        "\n",
        "num_users, num_places = len(user_mapping), len(review_mapping)\n",
        "\n",
        "#shape of the edge_index ie., link between user and places nodes is flattened\n",
        "num_interactions = edge_index.shape[1]"
      ]
    },
    {
      "cell_type": "code",
      "execution_count": null,
      "metadata": {
        "colab": {
          "base_uri": "https://localhost:8080/"
        },
        "id": "WFdr4hnQVxX1",
        "outputId": "a18ce526-6ec9-4664-959d-594917ebf656"
      },
      "outputs": [
        {
          "data": {
            "text/plain": [
              "torch.Size([2, 156071])"
            ]
          },
          "execution_count": 40,
          "metadata": {},
          "output_type": "execute_result"
        }
      ],
      "source": [
        "edge_index.shape"
      ]
    },
    {
      "cell_type": "code",
      "execution_count": null,
      "metadata": {
        "colab": {
          "base_uri": "https://localhost:8080/"
        },
        "id": "sf6G0Qwtg5S_",
        "outputId": "217a36fc-c5d7-4278-8b07-a5fcf0cea1b3"
      },
      "outputs": [
        {
          "name": "stdout",
          "output_type": "stream",
          "text": [
            "45981\n",
            "11537\n",
            "156071\n"
          ]
        }
      ],
      "source": [
        "print(num_users)\n",
        "print(num_places)\n",
        "print(num_interactions) # total no of edges"
      ]
    },
    {
      "cell_type": "code",
      "execution_count": null,
      "metadata": {
        "id": "0F6SH-vUg0yc"
      },
      "outputs": [],
      "source": [
        "#all_indicides hold all the index values for the graph_index in an array format \n",
        "all_indices = [i for i in range(num_interactions)]\n",
        "\n",
        "# uses sklearn.model_selection.train_test_split package to split the 3 sets train, validation and test,\n",
        "# but the underlying input graph remains the same\n",
        "\n",
        "# of all the indices it splits the 20% to test_indices and its (complement) 80% to train_indicies\n",
        "train_indices, test_indices = train_test_split(all_indices, test_size=0.1, random_state=1)\n",
        "\n",
        "# of the test_indicies, it splits 10% to test_indicies and its (complement) 10% to val_indices\n",
        "val_indices, test_indices = train_test_split(test_indices, test_size=0.5, random_state=1)"
      ]
    },
    {
      "cell_type": "code",
      "execution_count": null,
      "metadata": {
        "colab": {
          "base_uri": "https://localhost:8080/"
        },
        "id": "fCvH06y5V7mu",
        "outputId": "c544baf7-6cb8-4c00-bfc9-98537dd853d8"
      },
      "outputs": [
        {
          "data": {
            "text/plain": [
              "156070"
            ]
          },
          "execution_count": 43,
          "metadata": {},
          "output_type": "execute_result"
        }
      ],
      "source": [
        "all_indices[num_interactions-1]"
      ]
    },
    {
      "cell_type": "code",
      "execution_count": null,
      "metadata": {
        "id": "XlQKf6C6jeXO"
      },
      "outputs": [],
      "source": [
        "# As we are doing link/edge prediction we are splitting this edge information to 3 sets train, validation and test\n",
        "# proportion of edges are as follows 80% --> train; 10% --> test; 10% --> validation\n",
        "\n",
        "# The [:, :] stands for everything from the beginning to the end just like for lists\n",
        "\n",
        "# The below statement assigns the interaction edges which were generated for the homogenous graph to the appropriate proportion\n",
        "# to that particular\n",
        "\n",
        "# we take the edges (tuples between user and places ie., the link information) and split to test and train datasets\n",
        "\n",
        "train_edge_index = edge_index[:, train_indices]\n",
        "val_edge_index = edge_index[:, val_indices]\n",
        "test_edge_index = edge_index[:, test_indices]"
      ]
    },
    {
      "cell_type": "code",
      "execution_count": null,
      "metadata": {
        "id": "eyNRysVrr7Wy"
      },
      "outputs": [],
      "source": [
        "# # convert edge indices into Sparse Tensors: https://pytorch-geometric.readthedocs.io/en/latest/notes/sparse_tensor.html\n",
        "# # Here the edge_index format (interaction graph) is converted to sparsetensor (mainly used for matrices with more zero values)\n",
        "# # used for GNN models, this format is given as input to the models beneath.\n",
        "\n",
        "# train_sparse_edge_index = SparseTensor(row=train_edge_index[0], col=train_edge_index[1], sparse_sizes=(\n",
        "#     num_users + num_places, num_users + num_places))\n",
        "# val_sparse_edge_index = SparseTensor(row=val_edge_index[0], col=val_edge_index[1], sparse_sizes=(\n",
        "#     num_users + num_places, num_users + num_places))\n",
        "# test_sparse_edge_index = SparseTensor(row=test_edge_index[0], col=test_edge_index[1], sparse_sizes=(\n",
        "#     num_users + num_places, num_users + num_places))"
      ]
    },
    {
      "cell_type": "code",
      "execution_count": null,
      "metadata": {
        "id": "iygr0RCr8v_8"
      },
      "outputs": [],
      "source": [
        "train_rowinput = torch.cat([train_edge_index[0], num_users + train_edge_index[1]])\n",
        "train_colinput = torch.cat([num_users + train_edge_index[1], train_edge_index[1]])\n",
        "\n",
        "val_rowinput = torch.cat([val_edge_index[0], num_users + val_edge_index[1]])\n",
        "val_colinput = torch.cat([num_users + val_edge_index[1], val_edge_index[1]])\n",
        "\n",
        "test_rowinput = torch.cat([test_edge_index[0], num_users + test_edge_index[1]])\n",
        "test_colinput = torch.cat([num_users + test_edge_index[1], test_edge_index[1]])\n",
        "\n",
        "train_sparse_edge_index = SparseTensor(row=train_rowinput, col=train_colinput, sparse_sizes=(\n",
        "    num_users + num_places, num_users + num_places))\n",
        "val_sparse_edge_index = SparseTensor(row=val_rowinput, col=val_colinput, sparse_sizes=(\n",
        "    num_users + num_places, num_users + num_places))\n",
        "test_sparse_edge_index = SparseTensor(row=test_rowinput, col=test_colinput, sparse_sizes=(\n",
        "    num_users + num_places, num_users + num_places))"
      ]
    },
    {
      "cell_type": "markdown",
      "metadata": {
        "id": "Rz8lzpZLjqOM"
      },
      "source": [
        "# **9. Mini Batch for postive, negative samples**"
      ]
    },
    {
      "cell_type": "markdown",
      "metadata": {
        "id": "dJyIYaASw3kw"
      },
      "source": [
        "Positive samples (random picking from the dataset) --> the edges existing between the user and the place whose rating >=4\n",
        "\n",
        "Negative samples --> complement of the dataset \n",
        "For example: A user has not given any rating to that place(user did not visit the place)\n",
        "\n",
        "or the user place ratings < 4"
      ]
    },
    {
      "cell_type": "code",
      "execution_count": null,
      "metadata": {
        "id": "-PW4V_hJsQcg"
      },
      "outputs": [],
      "source": [
        "# function which random samples a mini-batch of positive and negative samples\n",
        "def sample_mini_batch(batch_size, edge_index):\n",
        "    \"\"\"Randomly samples indices of a minibatch given an adjacency matrix\n",
        "\n",
        "    Args:\n",
        "        batch_size (int): minibatch size\n",
        "        edge_index (torch.Tensor): 2 by N list of edges\n",
        "\n",
        "    Returns:\n",
        "        tuple: user indices, positive item indices, negative item indices\n",
        "    \"\"\"\n",
        "    edges = structured_negative_sampling(edge_index,contains_neg_self_loops=False,num_nodes=num_places)\n",
        "    edges = torch.stack(edges, dim=0)\n",
        "    indices = random.choices(\n",
        "        [i for i in range(edges[0].shape[0])], k=batch_size)\n",
        "    batch = edges[:, indices]\n",
        "    user_indices, pos_item_indices, neg_item_indices = batch[0], batch[1], batch[2]\n",
        "    return user_indices, pos_item_indices, neg_item_indices"
      ]
    },
    {
      "cell_type": "markdown",
      "metadata": {
        "id": "0oRaMMc5xJde"
      },
      "source": [
        "# **8. Implementing LightGCN**"
      ]
    },
    {
      "cell_type": "code",
      "execution_count": null,
      "metadata": {
        "id": "sJJSi-9o95-r"
      },
      "outputs": [],
      "source": [
        "# defines LightGCN model\n",
        "\n",
        "# The below model uses torch_geometric.nn package for defining the LightGCN model\n",
        "# The model is from https://pytorch-geometric.readthedocs.io/en/latest/notes/create_gnn.html\n",
        "\n",
        "# packages used torch_geometric.nn.conv.gcn_conv for normalization, torch_geometric.nn.conv for MessagePassing\n",
        "\n",
        "class LightGCN(MessagePassing):\n",
        "    \"\"\"LightGCN Model as proposed in https://arxiv.org/abs/2002.02126\n",
        "    \"\"\"\n",
        "    \n",
        "    # This _init_method lets the class initialize the objects (constructor)\n",
        "    #Initializes the Light GCN model\n",
        "\n",
        "    def __init__(self, num_users, num_places, embedding_dim=64, K=3, add_self_loops=False):\n",
        "        \"\"\"Initializes LightGCN Model\n",
        "\n",
        "        Args:\n",
        "            num_users (int): Number of users\n",
        "            num_places (int): Number of places/business\n",
        "            embedding_dim (int, optional): Dimensionality of embeddings. Defaults to 8.\n",
        "            K (int, optional): Number of message passing layers. Defaults to 3.\n",
        "            add_self_loops (bool, optional): Whether to add self loops for message passing. Defaults to False.\n",
        "        \"\"\"\n",
        "\n",
        "        super().__init__()\n",
        "        # refers to the parent class objects that were created above\n",
        "\n",
        "        # The PyTorch module, nn.Embedding as seen below will assign each node an embedding vector \n",
        "        # such that we have an embedding matrix Z where each row is the d-dimensional embedding vector for a node in our graph\n",
        "\n",
        "        self.num_users, self.num_places = num_users, num_places\n",
        "        # assigns the users and places/business similar to the existing original paper code\n",
        "\n",
        "        self.embedding_dim, self.K = embedding_dim, K\n",
        "        # the embedding dimesion values and no of message passing layers are defined in the init method.\n",
        "\n",
        "        self.add_self_loops = add_self_loops\n",
        "        # Here there are no self loops as it is a bipartite graph.\n",
        "        \n",
        "        # calculating the base 64 embedding vectors for the user and places(items) (upto 8)\n",
        "        # This \n",
        "        self.users_emb = nn.Embedding(\n",
        "            num_embeddings=self.num_users, embedding_dim=self.embedding_dim) # e_u^0\n",
        "\n",
        "        self.items_emb = nn.Embedding(\n",
        "            num_embeddings=self.num_places, embedding_dim=self.embedding_dim) # e_i^0\n",
        "\n",
        "        # parameter initilzation of the initial weights \n",
        "        # initalization of weights for the embedding matrix for user, place(business)\n",
        "\n",
        "\n",
        "        # torch.nn.init.normal_(tensor, mean=0.0, std=1.0) -->Fills the input Tensor with values drawn from the normal distribution \n",
        "        # setting standard deviation = 0.1 instead of 1 (overriding the normal distribution which is 1 by setting standard deviation parameters)\n",
        "        nn.init.normal_(self.users_emb.weight, std=0.1)\n",
        "        # gaussian distribution(general distribution) mean =0, variance =1 (normal distribution)\n",
        "        # setting parametes for neural network\n",
        "        nn.init.normal_(self.items_emb.weight, std=0.1)\n",
        "\n",
        "# Message passing and aggregation functions are mentioned below\n",
        "\n",
        "    def forward(self, edge_index: SparseTensor):\n",
        "        \"\"\"Forward propagation of LightGCN Model.\n",
        "\n",
        "        Args:\n",
        "            edge_index (SparseTensor): adjacency matrix\n",
        "\n",
        "        Returns:\n",
        "            tuple (Tensor): e_u_k, e_u_0, e_i_k, e_i_0\n",
        "        \"\"\"\n",
        "        # e_u_k(embeddings of the user at kth layer), e_u_0, e_i_k, e_i_0\n",
        "        # compute \\tilde{A}: symmetrically normalized adjacency matrix\n",
        "        \n",
        "        # The goal of normalization is to transform features to be on a similar scale. \n",
        "        # This improves the performance and training stability of the model\n",
        "        edge_index_norm = gcn_norm(\n",
        "            edge_index, add_self_loops=self.add_self_loops)\n",
        "        \n",
        "        # print(\"edge_index_norm is\",edge_index_norm)\n",
        "\n",
        "        # Concatenates the given sequence of seq tensors in the given dimension.\n",
        "        # concatenates the weights  \n",
        "        # [num_users*embedding_dim] size = self.users_emb.weight size\n",
        "\n",
        "        #Combining for the final embedding\n",
        "        emb_0 = torch.cat([self.users_emb.weight, self.items_emb.weight]) # E^0\n",
        "        # print(\"emb_0:\",emb_0)\n",
        "        # ipdb.set_trace()\n",
        "        # converting the item to python list, to increase the dimensions; to create a fake 1 dimension\n",
        "        embs = [emb_0]\n",
        "        # print(\"embs\",embs)\n",
        "        # (a model takes batch_size as 1st dimension, 1* dimension of item within the list --> size  )\n",
        "        emb_k = emb_0\n",
        "        # print(\"emb_k\",emb_k)\n",
        "        # to get the diffusion matrix \n",
        "        # multi-scale diffusion\n",
        "        for i in range(self.K):\n",
        "            \n",
        "            # self.propagate is for propagating the messages\n",
        "            # updating the node\n",
        "            emb_k = self.propagate(edge_index_norm, x=emb_k)\n",
        "            embs.append(emb_k)\n",
        "\n",
        "        embs = torch.stack(embs, dim=1)\n",
        "        emb_final = torch.mean(embs, dim=1) # E^K\n",
        "\n",
        "        users_emb_final, items_emb_final = torch.split(\n",
        "            emb_final, [self.num_users, self.num_places]) # splits into e_u^K and e_i^K\n",
        "\n",
        "        # returns e_u^K, e_u^0, e_i^K, e_i^0\n",
        "        return users_emb_final, self.users_emb.weight, items_emb_final, self.items_emb.weight\n",
        "\n",
        "    def message(self, x_j: Tensor) -> Tensor:\n",
        "        return x_j\n",
        "\n",
        "    def message_and_aggregate(self, adj_t: SparseTensor, x: Tensor) -> Tensor:\n",
        "        # computes \\tilde{A} @ x\n",
        "        # does the matrix multiplication like in the matrix factorization\n",
        "        return matmul(adj_t, x)\n",
        "\n",
        "model = LightGCN(num_users, num_places)\n"
      ]
    },
    {
      "cell_type": "code",
      "execution_count": null,
      "metadata": {
        "colab": {
          "base_uri": "https://localhost:8080/"
        },
        "id": "ACXh9JvUZTwn",
        "outputId": "ee7373de-7427-4413-879b-45720e9e76d1"
      },
      "outputs": [
        {
          "name": "stdout",
          "output_type": "stream",
          "text": [
            "edge_index_norm is SparseTensor(row=tensor([    0,     0,     0,  ..., 45975, 45976, 45978]),\n",
            "             col=tensor([   0,    5,   26,  ..., 9906, 2247,  967]),\n",
            "             val=tensor([0.0074, 0.0350, 0.0202,  ..., 1.0000, 0.3162, 0.2357]),\n",
            "             size=(57518, 57518), nnz=124856, density=0.00%)\n"
          ]
        },
        {
          "data": {
            "text/plain": [
              "(tensor([[-0.0468, -0.0083,  0.0387,  ..., -0.0058,  0.0469,  0.0184],\n",
              "         [ 0.0108, -0.0003,  0.0211,  ..., -0.0124, -0.0106,  0.0283],\n",
              "         [ 0.0096, -0.0936,  0.0431,  ...,  0.1237, -0.1163,  0.0997],\n",
              "         ...,\n",
              "         [ 0.0258, -0.0252,  0.0144,  ...,  0.0178, -0.0232,  0.0174],\n",
              "         [ 0.0108,  0.0111,  0.0016,  ..., -0.0128, -0.0205,  0.0008],\n",
              "         [-0.0175,  0.0071,  0.0195,  ..., -0.0023, -0.0226, -0.0198]],\n",
              "        grad_fn=<SplitWithSizesBackward0>), Parameter containing:\n",
              " tensor([[-0.0900,  0.0049,  0.0371,  ..., -0.0004,  0.0612, -0.0060],\n",
              "         [ 0.0431, -0.0010,  0.0846,  ..., -0.0496, -0.0423,  0.1130],\n",
              "         [ 0.0096, -0.0936,  0.0431,  ...,  0.1237, -0.1163,  0.0997],\n",
              "         ...,\n",
              "         [ 0.0887, -0.0473,  0.0762,  ...,  0.0457, -0.0281,  0.0537],\n",
              "         [ 0.0433,  0.0444,  0.0063,  ..., -0.0512, -0.0819,  0.0033],\n",
              "         [-0.0699,  0.0283,  0.0781,  ..., -0.0090, -0.0904, -0.0793]],\n",
              "        requires_grad=True), tensor([[ 0.0363,  0.0285,  0.0154,  ...,  0.0383,  0.0172,  0.0108],\n",
              "         [ 0.0204, -0.0037, -0.0155,  ...,  0.0236, -0.0019,  0.0251],\n",
              "         [-0.0148, -0.0195,  0.0124,  ..., -0.0151, -0.0029, -0.0450],\n",
              "         ...,\n",
              "         [ 0.0036, -0.0064,  0.0024,  ...,  0.0091, -0.0090,  0.0107],\n",
              "         [ 0.0032, -0.0196,  0.0026,  ..., -0.0475, -0.0047,  0.0082],\n",
              "         [-0.0039,  0.0093,  0.0075,  ...,  0.0424, -0.0364,  0.0223]],\n",
              "        grad_fn=<SplitWithSizesBackward0>), Parameter containing:\n",
              " tensor([[ 0.1453,  0.1140,  0.0618,  ...,  0.1531,  0.0686,  0.0430],\n",
              "         [ 0.0817, -0.0148, -0.0620,  ...,  0.0945, -0.0075,  0.1003],\n",
              "         [-0.0591, -0.0780,  0.0495,  ..., -0.0604, -0.0114, -0.1800],\n",
              "         ...,\n",
              "         [ 0.0142, -0.0256,  0.0098,  ...,  0.0363, -0.0362,  0.0429],\n",
              "         [ 0.0130, -0.0784,  0.0105,  ..., -0.1900, -0.0187,  0.0327],\n",
              "         [-0.0154,  0.0372,  0.0299,  ...,  0.1695, -0.1454,  0.0890]],\n",
              "        requires_grad=True))"
            ]
          },
          "execution_count": 20,
          "metadata": {},
          "output_type": "execute_result"
        }
      ],
      "source": [
        "# model.forward(train_sparse_edge_index)"
      ]
    },
    {
      "cell_type": "code",
      "execution_count": null,
      "metadata": {
        "colab": {
          "base_uri": "https://localhost:8080/"
        },
        "id": "YNxE60_yXbSa",
        "outputId": "7b5524a4-8cd9-4b92-8c12-42a7bb324eae"
      },
      "outputs": [
        {
          "data": {
            "text/plain": [
              "Embedding(45981, 64)"
            ]
          },
          "execution_count": 29,
          "metadata": {},
          "output_type": "execute_result"
        }
      ],
      "source": [
        "# nn.Embedding(num_embeddings=num_users, embedding_dim=64)"
      ]
    },
    {
      "cell_type": "code",
      "execution_count": null,
      "metadata": {
        "id": "ZiajePGJ-OGf"
      },
      "outputs": [],
      "source": [
        "# Below code is for Loss function for adjusting the weights\n",
        "\n",
        "# To train the LightGCN model, we need an objective function that aligns with our goal for movie recommendation.\n",
        "# We use the Bayesian Personalized Ranking (BPR) loss,\n",
        "# which encourages observed user-item predictions to have increasingly higher values than unobserved ones\n",
        "\n",
        "def bpr_loss(users_emb_final, users_emb_0, pos_items_emb_final, pos_items_emb_0, neg_items_emb_final, neg_items_emb_0, lambda_val):\n",
        "    \"\"\"Bayesian Personalized Ranking Loss as described in https://arxiv.org/abs/1205.2618\n",
        "\n",
        "    Args:\n",
        "        users_emb_final (torch.Tensor): e_u_k\n",
        "        users_emb_0 (torch.Tensor): e_u_0\n",
        "        pos_items_emb_final (torch.Tensor): positive e_i_k\n",
        "        pos_items_emb_0 (torch.Tensor): positive e_i_0\n",
        "        neg_items_emb_final (torch.Tensor): negative e_i_k\n",
        "        neg_items_emb_0 (torch.Tensor): negative e_i_0\n",
        "        lambda_val (float): lambda value for regularization loss term\n",
        "\n",
        "    Returns:\n",
        "        torch.Tensor: scalar bpr loss value\n",
        "    \"\"\"\n",
        "    reg_loss = lambda_val * (users_emb_0.norm(2).pow(2) +\n",
        "                             pos_items_emb_0.norm(2).pow(2) +\n",
        "                             neg_items_emb_0.norm(2).pow(2)) # L2 loss\n",
        "\n",
        "    pos_scores = torch.mul(users_emb_final, pos_items_emb_final)\n",
        "    pos_scores = torch.sum(pos_scores, dim=-1) # predicted scores of positive samples\n",
        "    neg_scores = torch.mul(users_emb_final, neg_items_emb_final)\n",
        "    neg_scores = torch.sum(neg_scores, dim=-1) # predicted scores of negative samples\n",
        "\n",
        "    loss = -torch.mean(torch.nn.functional.softplus(pos_scores - neg_scores)) + reg_loss\n",
        "\n",
        "    return loss"
      ]
    },
    {
      "cell_type": "code",
      "execution_count": null,
      "metadata": {
        "id": "awxaAuVh-RhV"
      },
      "outputs": [],
      "source": [
        "# helper function to get N_u\n",
        "def get_user_positive_items(edge_index):\n",
        "    \"\"\"Generates dictionary of positive items for each user\n",
        "\n",
        "    Args:\n",
        "        edge_index (torch.Tensor): 2 by N list of edges\n",
        "\n",
        "    Returns:\n",
        "        dict: dictionary of positive items for each user\n",
        "    \"\"\"\n",
        "    user_pos_items = {}\n",
        "    for i in range(edge_index.shape[1]):\n",
        "        user = edge_index[0][i].item()\n",
        "        item = edge_index[1][i].item()\n",
        "        if user not in user_pos_items:\n",
        "            user_pos_items[user] = []\n",
        "        user_pos_items[user].append(item)\n",
        "    return user_pos_items"
      ]
    },
    {
      "cell_type": "code",
      "execution_count": null,
      "metadata": {
        "id": "lAZNaVcs-Ugy"
      },
      "outputs": [],
      "source": [
        "# computes recall@K and precision@K\n",
        "def RecallPrecision_ATk(groundTruth, r, k):\n",
        "    \"\"\"Computers recall @ k and precision @ k\n",
        "\n",
        "    Args:\n",
        "        groundTruth (list): list of lists containing highly rated items of each user\n",
        "        r (list): list of lists indicating whether each top k item recommended to each user\n",
        "            is a top k ground truth item or not\n",
        "        k (intg): determines the top k items to compute precision and recall on\n",
        "\n",
        "    Returns:\n",
        "        tuple: recall @ k, precision @ k\n",
        "    \"\"\"\n",
        "    num_correct_pred = torch.sum(r, dim=-1)  # number of correctly predicted items per user\n",
        "    # number of items liked by each user in the test set\n",
        "    user_num_liked = torch.Tensor([len(groundTruth[i])\n",
        "                                  for i in range(len(groundTruth))])\n",
        "    recall = torch.mean(num_correct_pred / user_num_liked)\n",
        "    precision = torch.mean(num_correct_pred / k)\n",
        "    return recall.item(), precision.item()"
      ]
    },
    {
      "cell_type": "code",
      "execution_count": null,
      "metadata": {
        "id": "5sVvQPht-W6D"
      },
      "outputs": [],
      "source": [
        "# computes NDCG@K\n",
        "def NDCGatK_r(groundTruth, r, k):\n",
        "    \"\"\"Computes Normalized Discounted Cumulative Gain (NDCG) @ k\n",
        "\n",
        "    Args:\n",
        "        groundTruth (list): list of lists containing highly rated items of each user\n",
        "        r (list): list of lists indicating whether each top k item recommended to each user\n",
        "            is a top k ground truth item or not\n",
        "        k (int): determines the top k items to compute ndcg on\n",
        "\n",
        "    Returns:\n",
        "        float: ndcg @ k\n",
        "    \"\"\"\n",
        "    assert len(r) == len(groundTruth)\n",
        "\n",
        "    test_matrix = torch.zeros((len(r), k))\n",
        "\n",
        "    for i, items in enumerate(groundTruth):\n",
        "        length = min(len(items), k)\n",
        "        test_matrix[i, :length] = 1\n",
        "    max_r = test_matrix\n",
        "    idcg = torch.sum(max_r * 1. / torch.log2(torch.arange(2, k + 2)), axis=1)\n",
        "    dcg = r * (1. / torch.log2(torch.arange(2, k + 2)))\n",
        "    dcg = torch.sum(dcg, axis=1)\n",
        "    idcg[idcg == 0.] = 1.\n",
        "    ndcg = dcg / idcg\n",
        "    ndcg[torch.isnan(ndcg)] = 0.\n",
        "    return torch.mean(ndcg).item()"
      ]
    },
    {
      "cell_type": "code",
      "execution_count": null,
      "metadata": {
        "id": "3dRQcBpt-Z6j"
      },
      "outputs": [],
      "source": [
        "# wrapper function to get evaluation metrics\n",
        "def get_metrics(model, edge_index, exclude_edge_indices, k):\n",
        "    \"\"\"Computes the evaluation metrics: recall, precision, and ndcg @ k\n",
        "\n",
        "    Args:\n",
        "        model (LighGCN): lightgcn model\n",
        "        edge_index (torch.Tensor): 2 by N list of edges for split to evaluate\n",
        "        exclude_edge_indices ([type]): 2 by N list of edges for split to discount from evaluation\n",
        "        k (int): determines the top k items to compute metrics on\n",
        "\n",
        "    Returns:\n",
        "        tuple: recall @ k, precision @ k, ndcg @ k\n",
        "    \"\"\"\n",
        "    user_embedding = model.users_emb.weight\n",
        "    item_embedding = model.items_emb.weight\n",
        "\n",
        "    # get ratings between every user and item - shape is num users x num movies\n",
        "    rating = torch.matmul(user_embedding, item_embedding.T)\n",
        "\n",
        "    for exclude_edge_index in exclude_edge_indices:\n",
        "        # gets all the positive items for each user from the edge index\n",
        "        user_pos_items = get_user_positive_items(exclude_edge_index)\n",
        "        # get coordinates of all edges to exclude\n",
        "        exclude_users = []\n",
        "        exclude_items = []\n",
        "        for user, items in user_pos_items.items():\n",
        "            exclude_users.extend([user] * len(items))\n",
        "            exclude_items.extend(items)\n",
        "\n",
        "        # set ratings of excluded edges to large negative value\n",
        "        rating[exclude_users, exclude_items] = -(1 << 10)\n",
        "\n",
        "    # get the top k recommended items for each user\n",
        "    _, top_K_items = torch.topk(rating, k=k)\n",
        "\n",
        "    # get all unique users in evaluated split\n",
        "    users = edge_index[0].unique()\n",
        "\n",
        "    test_user_pos_items = get_user_positive_items(edge_index)\n",
        "\n",
        "    # convert test user pos items dictionary into a list\n",
        "    test_user_pos_items_list = [\n",
        "        test_user_pos_items[user.item()] for user in users]\n",
        "\n",
        "    # determine the correctness of topk predictions\n",
        "    r = []\n",
        "    for user in users:\n",
        "        ground_truth_items = test_user_pos_items[user.item()]\n",
        "        label = list(map(lambda x: x in ground_truth_items, top_K_items[user]))\n",
        "        r.append(label)\n",
        "    r = torch.Tensor(np.array(r).astype('float'))\n",
        "\n",
        "    recall, precision = RecallPrecision_ATk(test_user_pos_items_list, r, k)\n",
        "    ndcg = NDCGatK_r(test_user_pos_items_list, r, k)\n",
        "\n",
        "    return recall, precision, ndcg"
      ]
    },
    {
      "cell_type": "code",
      "execution_count": null,
      "metadata": {
        "id": "E3iWDUCA-eWV"
      },
      "outputs": [],
      "source": [
        "# wrapper function to evaluate model\n",
        "def evaluation(model, edge_index, sparse_edge_index, exclude_edge_indices, k, lambda_val):\n",
        "    \"\"\"Evaluates model loss and metrics including recall, precision, ndcg @ k\n",
        "\n",
        "    Args:\n",
        "        model (LighGCN): lightgcn model\n",
        "        edge_index (torch.Tensor): 2 by N list of edges for split to evaluate\n",
        "        sparse_edge_index (sparseTensor): sparse adjacency matrix for split to evaluate\n",
        "        exclude_edge_indices ([type]): 2 by N list of edges for split to discount from evaluation\n",
        "        k (int): determines the top k items to compute metrics on\n",
        "        lambda_val (float): determines lambda for bpr loss\n",
        "\n",
        "    Returns:\n",
        "        tuple: bpr loss, recall @ k, precision @ k, ndcg @ k\n",
        "    \"\"\"\n",
        "    # get embeddings\n",
        "    users_emb_final, users_emb_0, items_emb_final, items_emb_0 = model.forward(\n",
        "        sparse_edge_index)\n",
        "    edges = structured_negative_sampling(\n",
        "        edge_index, contains_neg_self_loops=False,num_nodes=num_places)\n",
        "    user_indices, pos_item_indices, neg_item_indices = edges[0], edges[1], edges[2]\n",
        "    users_emb_final, users_emb_0 = users_emb_final[user_indices], users_emb_0[user_indices]\n",
        "    pos_items_emb_final, pos_items_emb_0 = items_emb_final[\n",
        "        pos_item_indices], items_emb_0[pos_item_indices]\n",
        "    neg_items_emb_final, neg_items_emb_0 = items_emb_final[\n",
        "        neg_item_indices], items_emb_0[neg_item_indices]\n",
        "\n",
        "    loss = bpr_loss(users_emb_final, users_emb_0, pos_items_emb_final, pos_items_emb_0,\n",
        "                    neg_items_emb_final, neg_items_emb_0, lambda_val).item()\n",
        "\n",
        "    recall, precision, ndcg = get_metrics(\n",
        "        model, edge_index, exclude_edge_indices, k)\n",
        "\n",
        "    return loss, recall, precision, ndcg"
      ]
    },
    {
      "cell_type": "markdown",
      "metadata": {
        "id": "7LovAFuZ-iQ_"
      },
      "source": [
        "# **9.Training**"
      ]
    },
    {
      "cell_type": "code",
      "execution_count": null,
      "metadata": {
        "id": "UIKbEfYJ-j5h"
      },
      "outputs": [],
      "source": [
        "# define contants\n",
        "ITERATIONS = 10000\n",
        "BATCH_SIZE = 4096\n",
        "LR = 1e-3\n",
        "ITERS_PER_EVAL = 200\n",
        "ITERS_PER_LR_DECAY = 400\n",
        "K = 20\n",
        "LAMBDA = 1e-6"
      ]
    },
    {
      "cell_type": "code",
      "execution_count": null,
      "metadata": {
        "colab": {
          "base_uri": "https://localhost:8080/"
        },
        "id": "PaJcdxbe-mOJ",
        "outputId": "bce3dd2f-f9ff-467a-fb35-81b9673ca810"
      },
      "outputs": [
        {
          "output_type": "stream",
          "name": "stdout",
          "text": [
            "Using device cpu.\n"
          ]
        }
      ],
      "source": [
        "# setup\n",
        "device = torch.device('cuda' if torch.cuda.is_available() else 'cpu')\n",
        "print(f\"Using device {device}.\")\n",
        "\n",
        "# moves model to gpu device\n",
        "model = model.to(device)\n",
        "\n",
        "# keeps model in training model; other model is eval mode\n",
        "model.train()\n",
        "\n",
        "optimizer = optim.Adam(model.parameters(), lr=LR)\n",
        "scheduler = optim.lr_scheduler.ExponentialLR(optimizer, gamma=0.95)\n",
        "\n",
        "edge_index = edge_index.to(device) \n",
        "train_edge_index = train_edge_index.to(device)\n",
        "train_sparse_edge_index = train_sparse_edge_index.to(device)\n",
        "\n",
        "val_edge_index = val_edge_index.to(device)\n",
        "val_sparse_edge_index = val_sparse_edge_index.to(device)"
      ]
    },
    {
      "cell_type": "code",
      "execution_count": null,
      "metadata": {
        "colab": {
          "base_uri": "https://localhost:8080/"
        },
        "id": "58T8HG3OJfvh",
        "outputId": "ce50e231-140f-4c5f-fdc6-ca64eb347a12"
      },
      "outputs": [
        {
          "data": {
            "text/plain": [
              "7804"
            ]
          },
          "execution_count": 61,
          "metadata": {},
          "output_type": "execute_result"
        }
      ],
      "source": [
        "val_edge_index.shape[1]"
      ]
    },
    {
      "cell_type": "code",
      "execution_count": null,
      "metadata": {
        "colab": {
          "base_uri": "https://localhost:8080/"
        },
        "id": "R7lodXxJJzBf",
        "outputId": "1550087a-f3a0-47bd-b9e5-1cde3855d3a1"
      },
      "outputs": [
        {
          "data": {
            "text/plain": [
              "7804"
            ]
          },
          "execution_count": 62,
          "metadata": {},
          "output_type": "execute_result"
        }
      ],
      "source": [
        "test_edge_index.shape[1]"
      ]
    },
    {
      "cell_type": "code",
      "execution_count": null,
      "metadata": {
        "colab": {
          "base_uri": "https://localhost:8080/",
          "height": 1000
        },
        "id": "aKsi8l0S-ovY",
        "outputId": "10376537-4f8b-4da1-984a-ff76f3276730"
      },
      "outputs": [
        {
          "output_type": "stream",
          "name": "stdout",
          "text": [
            "[Iteration 0/10000] train_loss: -0.70625, val_loss: -0.70133, val_recall@20: 0.00128, val_precision@20: 0.00012, val_ndcg@20: 0.00075\n",
            "[Iteration 200/10000] train_loss: -4.8457, val_loss: -1.29861, val_recall@20: 0.01419, val_precision@20: 0.00118, val_ndcg@20: 0.00573\n",
            "[Iteration 400/10000] train_loss: -26.92994, val_loss: -5.1121, val_recall@20: 0.02074, val_precision@20: 0.00167, val_ndcg@20: 0.0078\n",
            "[Iteration 600/10000] train_loss: -65.54023, val_loss: -11.34988, val_recall@20: 0.02203, val_precision@20: 0.00179, val_ndcg@20: 0.00818\n",
            "[Iteration 800/10000] train_loss: -110.82533, val_loss: -19.84102, val_recall@20: 0.02317, val_precision@20: 0.00183, val_ndcg@20: 0.00858\n",
            "[Iteration 1000/10000] train_loss: -171.7164, val_loss: -29.45604, val_recall@20: 0.0243, val_precision@20: 0.0019, val_ndcg@20: 0.00905\n",
            "[Iteration 1200/10000] train_loss: -242.46625, val_loss: -41.12779, val_recall@20: 0.0269, val_precision@20: 0.00211, val_ndcg@20: 0.00972\n",
            "[Iteration 1400/10000] train_loss: -297.71957, val_loss: -52.90728, val_recall@20: 0.0285, val_precision@20: 0.00224, val_ndcg@20: 0.01034\n",
            "[Iteration 1600/10000] train_loss: -392.71228, val_loss: -67.27973, val_recall@20: 0.02996, val_precision@20: 0.00234, val_ndcg@20: 0.01082\n",
            "[Iteration 1800/10000] train_loss: -455.31451, val_loss: -81.23407, val_recall@20: 0.0278, val_precision@20: 0.00216, val_ndcg@20: 0.00992\n",
            "[Iteration 2000/10000] train_loss: -556.03082, val_loss: -95.93208, val_recall@20: 0.02886, val_precision@20: 0.00228, val_ndcg@20: 0.01022\n",
            "[Iteration 2200/10000] train_loss: -676.27771, val_loss: -111.302, val_recall@20: 0.03079, val_precision@20: 0.00242, val_ndcg@20: 0.01094\n",
            "[Iteration 2400/10000] train_loss: -699.77722, val_loss: -126.66505, val_recall@20: 0.03075, val_precision@20: 0.00245, val_ndcg@20: 0.01115\n",
            "[Iteration 2600/10000] train_loss: -820.71906, val_loss: -142.95723, val_recall@20: 0.03125, val_precision@20: 0.00248, val_ndcg@20: 0.01118\n",
            "[Iteration 2800/10000] train_loss: -930.60956, val_loss: -159.53191, val_recall@20: 0.0314, val_precision@20: 0.00251, val_ndcg@20: 0.01137\n",
            "[Iteration 3000/10000] train_loss: -1035.83582, val_loss: -175.27043, val_recall@20: 0.03211, val_precision@20: 0.00257, val_ndcg@20: 0.01154\n",
            "[Iteration 3200/10000] train_loss: -1124.01038, val_loss: -193.12076, val_recall@20: 0.03226, val_precision@20: 0.00261, val_ndcg@20: 0.01162\n",
            "[Iteration 3400/10000] train_loss: -1218.20129, val_loss: -210.71193, val_recall@20: 0.03126, val_precision@20: 0.00253, val_ndcg@20: 0.01137\n",
            "[Iteration 3600/10000] train_loss: -1331.44434, val_loss: -226.22133, val_recall@20: 0.03102, val_precision@20: 0.00246, val_ndcg@20: 0.01139\n",
            "[Iteration 3800/10000] train_loss: -1441.82544, val_loss: -242.80748, val_recall@20: 0.03144, val_precision@20: 0.00254, val_ndcg@20: 0.01154\n",
            "[Iteration 4000/10000] train_loss: -1511.12781, val_loss: -261.30508, val_recall@20: 0.03148, val_precision@20: 0.00252, val_ndcg@20: 0.01151\n",
            "[Iteration 4200/10000] train_loss: -1594.22473, val_loss: -278.70694, val_recall@20: 0.0331, val_precision@20: 0.00267, val_ndcg@20: 0.01196\n",
            "[Iteration 4400/10000] train_loss: -1761.11401, val_loss: -292.49841, val_recall@20: 0.03293, val_precision@20: 0.00268, val_ndcg@20: 0.01202\n",
            "[Iteration 4600/10000] train_loss: -1774.505, val_loss: -311.33337, val_recall@20: 0.03136, val_precision@20: 0.00254, val_ndcg@20: 0.01164\n",
            "[Iteration 4800/10000] train_loss: -1901.39832, val_loss: -329.06293, val_recall@20: 0.03204, val_precision@20: 0.00261, val_ndcg@20: 0.01184\n",
            "[Iteration 5000/10000] train_loss: -2045.71533, val_loss: -345.7681, val_recall@20: 0.03254, val_precision@20: 0.00263, val_ndcg@20: 0.01198\n",
            "[Iteration 5200/10000] train_loss: -2107.49829, val_loss: -358.37839, val_recall@20: 0.03178, val_precision@20: 0.00258, val_ndcg@20: 0.01202\n",
            "[Iteration 5400/10000] train_loss: -2073.25903, val_loss: -376.19135, val_recall@20: 0.0323, val_precision@20: 0.00265, val_ndcg@20: 0.01234\n",
            "[Iteration 5600/10000] train_loss: -2213.51392, val_loss: -394.50055, val_recall@20: 0.03274, val_precision@20: 0.00267, val_ndcg@20: 0.01254\n",
            "[Iteration 5800/10000] train_loss: -2476.23145, val_loss: -408.61969, val_recall@20: 0.03076, val_precision@20: 0.00254, val_ndcg@20: 0.01225\n",
            "[Iteration 6000/10000] train_loss: -2403.48608, val_loss: -422.29614, val_recall@20: 0.03024, val_precision@20: 0.00249, val_ndcg@20: 0.01215\n",
            "[Iteration 6200/10000] train_loss: -2400.31567, val_loss: -438.38052, val_recall@20: 0.03071, val_precision@20: 0.00247, val_ndcg@20: 0.01229\n",
            "[Iteration 6400/10000] train_loss: -2586.01855, val_loss: -454.91971, val_recall@20: 0.03021, val_precision@20: 0.00242, val_ndcg@20: 0.01214\n",
            "[Iteration 6600/10000] train_loss: -2686.36572, val_loss: -469.91528, val_recall@20: 0.03033, val_precision@20: 0.00244, val_ndcg@20: 0.01231\n",
            "[Iteration 6800/10000] train_loss: -2752.77612, val_loss: -479.96677, val_recall@20: 0.0311, val_precision@20: 0.00251, val_ndcg@20: 0.01248\n",
            "[Iteration 7000/10000] train_loss: -3003.41992, val_loss: -503.06927, val_recall@20: 0.03145, val_precision@20: 0.00256, val_ndcg@20: 0.01258\n",
            "[Iteration 7200/10000] train_loss: -3025.4248, val_loss: -511.2049, val_recall@20: 0.0321, val_precision@20: 0.00262, val_ndcg@20: 0.01283\n",
            "[Iteration 7400/10000] train_loss: -2983.19702, val_loss: -527.17542, val_recall@20: 0.03307, val_precision@20: 0.00269, val_ndcg@20: 0.01301\n",
            "[Iteration 7600/10000] train_loss: -3158.55811, val_loss: -543.95709, val_recall@20: 0.03293, val_precision@20: 0.00267, val_ndcg@20: 0.01299\n",
            "[Iteration 7800/10000] train_loss: -3260.32666, val_loss: -556.79681, val_recall@20: 0.03295, val_precision@20: 0.00268, val_ndcg@20: 0.0129\n",
            "[Iteration 8000/10000] train_loss: -3351.08423, val_loss: -567.52655, val_recall@20: 0.03266, val_precision@20: 0.00265, val_ndcg@20: 0.01242\n",
            "[Iteration 8200/10000] train_loss: -3343.97437, val_loss: -583.94897, val_recall@20: 0.0326, val_precision@20: 0.00266, val_ndcg@20: 0.01259\n",
            "[Iteration 8400/10000] train_loss: -3374.93188, val_loss: -592.20892, val_recall@20: 0.0324, val_precision@20: 0.00266, val_ndcg@20: 0.01285\n",
            "[Iteration 8600/10000] train_loss: -3413.43921, val_loss: -615.50879, val_recall@20: 0.03228, val_precision@20: 0.00265, val_ndcg@20: 0.01283\n",
            "[Iteration 8800/10000] train_loss: -3579.36865, val_loss: -620.55402, val_recall@20: 0.03238, val_precision@20: 0.00264, val_ndcg@20: 0.01286\n",
            "[Iteration 9000/10000] train_loss: -3601.62573, val_loss: -630.60138, val_recall@20: 0.03217, val_precision@20: 0.00264, val_ndcg@20: 0.0128\n",
            "[Iteration 9200/10000] train_loss: -3673.4082, val_loss: -646.25342, val_recall@20: 0.03225, val_precision@20: 0.00265, val_ndcg@20: 0.01285\n",
            "[Iteration 9400/10000] train_loss: -3800.8269, val_loss: -653.62695, val_recall@20: 0.03225, val_precision@20: 0.00265, val_ndcg@20: 0.01291\n",
            "[Iteration 9600/10000] train_loss: -3870.63306, val_loss: -665.2124, val_recall@20: 0.03197, val_precision@20: 0.00262, val_ndcg@20: 0.01283\n",
            "[Iteration 9800/10000] train_loss: -3751.94702, val_loss: -681.03857, val_recall@20: 0.03225, val_precision@20: 0.00265, val_ndcg@20: 0.01293\n"
          ]
        },
        {
          "output_type": "display_data",
          "data": {
            "text/plain": [
              "<Figure size 432x288 with 1 Axes>"
            ],
            "image/png": "[encoded data removed]"
          },
          "metadata": {
            "needs_background": "light"
          }
        }
      ],
      "source": [
        "train_losses = []\n",
        "val_losses = []\n",
        "\n",
        "for iter in range(ITERATIONS):\n",
        "    # forward propagation\n",
        "    users_emb_final, users_emb_0,  items_emb_final, items_emb_0 = model.forward(train_sparse_edge_index)\n",
        "\n",
        "    # mini batching  \n",
        "    user_indices, pos_item_indices, neg_item_indices = sample_mini_batch(\n",
        "        BATCH_SIZE, train_edge_index)\n",
        "    user_indices, pos_item_indices, neg_item_indices = user_indices.to(\n",
        "        device), pos_item_indices.to(device), neg_item_indices.to(device)\n",
        "    users_emb_final, users_emb_0 = users_emb_final[user_indices], users_emb_0[user_indices]\n",
        "    pos_items_emb_final, pos_items_emb_0 = items_emb_final[\n",
        "        pos_item_indices], items_emb_0[pos_item_indices]\n",
        "    neg_items_emb_final, neg_items_emb_0 = items_emb_final[\n",
        "        neg_item_indices], items_emb_0[neg_item_indices]\n",
        "\n",
        "    # loss computation\n",
        "    train_loss = bpr_loss(users_emb_final, users_emb_0, pos_items_emb_final,\n",
        "                          pos_items_emb_0, neg_items_emb_final, neg_items_emb_0, LAMBDA)\n",
        "\n",
        "    optimizer.zero_grad()\n",
        "    # doing backpropogation\n",
        "    train_loss.backward()\n",
        "    optimizer.step()\n",
        "\n",
        "# How many training iterations need to be run before doing evaluation -->iters_per_eval\n",
        "# Just a counter value\n",
        "    if iter % ITERS_PER_EVAL == 0:\n",
        "        model.eval()\n",
        "        val_loss, recall, precision, ndcg = evaluation(\n",
        "            model, val_edge_index, val_sparse_edge_index, [train_edge_index], K, LAMBDA)\n",
        "        print(f\"[Iteration {iter}/{ITERATIONS}] train_loss: {round(train_loss.item(), 5)}, val_loss: {round(val_loss, 5)}, val_recall@{K}: {round(recall, 5)}, val_precision@{K}: {round(precision, 5)}, val_ndcg@{K}: {round(ndcg, 5)}\")\n",
        "        train_losses.append(train_loss.item())\n",
        "        val_losses.append(val_loss)\n",
        "        model.train()\n",
        "# after ITERS_PER_LR_DECAY of no of iterations the learning rate is reduced., every iters_per_lr_decay steps.\n",
        "    if iter % ITERS_PER_LR_DECAY == 0 and iter != 0:\n",
        "        scheduler.step()\n",
        "\n",
        "iters = [iter * ITERS_PER_EVAL for iter in range(len(train_losses))]\n",
        "plt.plot(iters, train_losses, label='train')\n",
        "plt.plot(iters, val_losses, label='validation')\n",
        "plt.xlabel('iteration')\n",
        "plt.ylabel('loss')\n",
        "plt.title('training and validation loss curves')\n",
        "plt.legend()\n",
        "plt.show()\n"
      ]
    },
    {
      "cell_type": "markdown",
      "metadata": {
        "id": "5zyVcybQTuNX"
      },
      "source": [
        "Evaluate the validation and test sets"
      ]
    },
    {
      "cell_type": "code",
      "execution_count": null,
      "metadata": {
        "id": "YDgPOfzYLDPS",
        "colab": {
          "base_uri": "https://localhost:8080/"
        },
        "outputId": "c136fec8-af43-4861-d8ee-d92f98ac0009"
      },
      "outputs": [
        {
          "output_type": "stream",
          "name": "stdout",
          "text": [
            "[test_loss: -614.13184, test_recall@20: 0.03711, test_precision@20: 0.00277, test_ndcg@20: 0.01469\n",
            "[train_loss: -3350.74829, train_recall@20: 0.03588, train_precision@20: 0.00794, train_ndcg@20: 0.02018\n",
            "[val_loss: -695.36768, val_recall@20: 0.03176, val_precision@20: 0.00262, val_ndcg@20: 0.0128\n"
          ]
        }
      ],
      "source": [
        "\n",
        "# evaluate on test set\n",
        "model.eval()\n",
        "# basically evaluates the model\n",
        "test_edge_index = test_edge_index.to(device)\n",
        "test_sparse_edge_index = test_sparse_edge_index.to(device)\n",
        "\n",
        "test_loss, test_recall, test_precision, test_ndcg = evaluation(\n",
        "            model, test_edge_index, test_sparse_edge_index, [train_edge_index], K, LAMBDA)\n",
        "\n",
        "print(f\"[test_loss: {round(test_loss, 5)}, test_recall@{K}: {round(test_recall, 5)}, test_precision@{K}: {round(test_precision, 5)}, test_ndcg@{K}: {round(test_ndcg, 5)}\")\n",
        "\n",
        "# evaluate on train set\n",
        "# model.eval()\n",
        "train_edge_index = train_edge_index.to(device)\n",
        "train_sparse_edge_index = train_sparse_edge_index.to(device)\n",
        "\n",
        "train_loss, train_recall, train_precision, train_ndcg = evaluation(\n",
        "            model, train_edge_index, train_sparse_edge_index, [test_edge_index, val_edge_index], K, LAMBDA)\n",
        "\n",
        "print(f\"[train_loss: {round(train_loss, 5)}, train_recall@{K}: {round(train_recall, 5)}, train_precision@{K}: {round(train_precision, 5)}, train_ndcg@{K}: {round(train_ndcg, 5)}\")\n",
        "\n",
        "# evaluate on validation set\n",
        "# model.eval()\n",
        "val_edge_index = val_edge_index.to(device)\n",
        "val_sparse_edge_index = val_sparse_edge_index.to(device)\n",
        "\n",
        "val_loss, val_recall, val_precision, val_ndcg = evaluation(\n",
        "            model, val_edge_index, val_sparse_edge_index, [train_edge_index], K, LAMBDA)\n",
        "\n",
        "print(f\"[val_loss: {round(val_loss, 5)}, val_recall@{K}: {round(val_recall, 5)}, val_precision@{K}: {round(val_precision, 5)}, val_ndcg@{K}: {round(val_ndcg, 5)}\")"
      ]
    },
    {
      "cell_type": "markdown",
      "metadata": {
        "id": "MkxiLCUbTlce"
      },
      "source": [
        "Make recommendations"
      ]
    },
    {
      "cell_type": "code",
      "execution_count": null,
      "metadata": {
        "id": "jPWLMAz3Z1z-",
        "colab": {
          "base_uri": "https://localhost:8080/"
        },
        "outputId": "900bd20d-5f84-46ea-a8e3-ea3fd3633276"
      },
      "outputs": [
        {
          "output_type": "stream",
          "name": "stdout",
          "text": [
            "Here are some places that user uZetl9T0NcROGOyFfughhg rated highly\n",
            "\n",
            "Here are some suggested places for user uZetl9T0NcROGOyFfughhg\n",
            "place: La Grande Orange Grocery\n",
            "place: Four Peaks Brewing Co\n",
            "place: SanTan Brewing Company\n",
            "place: America's Taco Shop\n",
            "place: Windsor\n"
          ]
        }
      ],
      "source": [
        "\"\"\"# Make New Recommendatios for a Given User\"\"\"\n",
        "\n",
        "model.eval()\n",
        "df = pd.read_csv(review_path)\n",
        "business_city = pd.Series(df.business_name.values,index=df.business_id).to_dict()\n",
        "# business_categories = pd.Series(df.business_categories.values,index=df.business_id).to_dict()\n",
        "\n",
        "user_pos_items = get_user_positive_items(edge_index)\n",
        "\n",
        "def make_predictions(user_id, num_recs):\n",
        "    user = user_mapping[user_id]\n",
        "    e_u = model.users_emb.weight[user]\n",
        "    scores = model.items_emb.weight @ e_u # dot product finds similarity between 2 vectors\n",
        "# @ means dot product (shorthand notation for dot product)\n",
        "# scores --> finding the similarity scores for that user for all the place embeddings\n",
        "# similar people will have similar user embeddings, related places have similar places embeddings, based on this it is recommedning.\n",
        "# to predict whether there is a link or not.\n",
        "    values, indices = torch.topk(scores, k=len(user_pos_items[user])+num_recs)\n",
        "\n",
        "    reviews = [index.cpu().item() for index in indices if index in user_pos_items[user]][:num_recs]\n",
        "    review_ids = [list(review_mapping.keys())[list(review_mapping.values()).index(review)] for review in reviews]\n",
        "    place = [business_city[id] for id in review_ids]\n",
        "    # categories = [business_categories[id] for id in review_ids]\n",
        "\n",
        "    print(f\"Here are some places that user {user_id} rated highly\")\n",
        "    for i in range(len(place)):\n",
        "        # print(f\"city: {city[i]}, categories: {categories[i]} \")\n",
        "        print(f\"place: {place[i]}\")\n",
        "    print()\n",
        "\n",
        "    reviews = [index.cpu().item() for index in indices if index not in user_pos_items[user]][:num_recs]\n",
        "    review_ids = [list(review_mapping.keys())[list(review_mapping.values()).index(review)] for review in reviews]\n",
        "    place = [business_city[id] for id in review_ids]\n",
        "    # categories = [business_categories[id] for id in review_ids]\n",
        "\n",
        "    print(f\"Here are some suggested places for user {user_id}\")\n",
        "    for i in range(num_recs):\n",
        "        # print(f\"title: {city[i]}, genres: {categories[i]} \")\n",
        "        print(f\"place: {place[i]}\")\n",
        "USER_ID = 'uZetl9T0NcROGOyFfughhg'\n",
        "NUM_RECS = 5\n",
        "\n",
        "make_predictions(USER_ID, NUM_RECS)"
      ]
    },
    {
      "cell_type": "markdown",
      "metadata": {
        "id": "ydiphg2ElztL"
      },
      "source": [
        "#**10. PLOT K VARIES GRAPH FOR INDONESIA DATASET**"
      ]
    },
    {
      "cell_type": "markdown",
      "metadata": {
        "id": "dQ5LnOekp6a3"
      },
      "source": [
        "# Hyperparameter tuning for layers"
      ]
    },
    {
      "cell_type": "code",
      "execution_count": null,
      "metadata": {
        "colab": {
          "base_uri": "https://localhost:8080/",
          "height": 297
        },
        "id": "vfPwFDiRmcqN",
        "outputId": "256a2b8c-d2da-48d3-b1dc-9aa3799f8362"
      },
      "outputs": [
        {
          "data": {
            "image/png": "[encoded data removed]",
            "text/plain": [
              "<Figure size 432x288 with 1 Axes>"
            ]
          },
          "metadata": {},
          "output_type": "display_data"
        }
      ],
      "source": [
        "\n",
        "# import matplotlib.pyplot as plt\n",
        "import numpy as np\n",
        "\n",
        "if __name__ == \"__main__\":\n",
        "  #first is recall,precision and NDCG\n",
        "    means = [[round(0.06322,3),round(0.06092,3),round(0.05862,3),round(0.04368,3),round(0.04138,3),round(0.04023,3)], [round(0.00414,3), round(0.00379,3), round(0.00345,3),round(0.0031,3), round(0.00276,3),round(0.00276,3)], [round(0.02621,2), round(0.0264,2), round(0.02113,2), round(0.01621,2), round(0.0138,2),round(0.01442,2)]] # asian, american, african\n",
        "    # std = [[2, 3, 4, 1, 2], [3, 5, 2, 3, 3], [1, 3, 2, 1, 3]] # std (conf. inter.) of above; give None if not avail.\n",
        "    std = None\n",
        "    width = 0.2 # width of barplots\n",
        "    xticklabels = ['L=1', 'L=2', 'L=3', 'L=4', 'L=5', 'L=6']\n",
        "    ylabel = 'Performance Metric'\n",
        "    legend = 'Recall@20', 'Precision@20', 'NDCG@20'\n",
        "    title = 'Hyperparameter tuning for Message passing layers (L)'\n",
        "    rects, fig, ax, plt = barplot(means, width, xticklabels, ylabel, legend, std, title)\n",
        "\n",
        "    # placing text above barplots (center, left - left of std line, right - right of std line)\n",
        "    xpos = ['center', 'center', 'center']\n",
        "    for i in range(len(legend)):\n",
        "        barplot_autolabel(rects[i], ax, xpos[i])\n",
        "\n",
        "    fig.tight_layout()\n",
        "\n",
        "    plt.show()\n"
      ]
    },
    {
      "cell_type": "code",
      "execution_count": null,
      "metadata": {
        "id": "u6lMkk4pxoGU"
      },
      "outputs": [],
      "source": [
        "recall=np.array([0.05365,0.08333,0.08105,0.07991,0.05879,0.07021])\n",
        "recall=np.round(recall,3)\n"
      ]
    },
    {
      "cell_type": "code",
      "execution_count": null,
      "metadata": {
        "colab": {
          "base_uri": "https://localhost:8080/"
        },
        "id": "RXvQa7mb3eQb",
        "outputId": "7aaf15f1-bd71-4ec5-9b3a-2fcd1b6471cd"
      },
      "outputs": [
        {
          "data": {
            "text/plain": [
              "0.054"
            ]
          },
          "execution_count": 12,
          "metadata": {},
          "output_type": "execute_result"
        }
      ],
      "source": [
        "recall[0]"
      ]
    },
    {
      "cell_type": "code",
      "execution_count": null,
      "metadata": {
        "id": "RMIMDmkox-Yx"
      },
      "outputs": [],
      "source": [
        "precision=np.array([0.00411,0.00548,0.00514,0.00479,0.00377,0.00411])\n",
        "precision=np.round(precision,3)\n"
      ]
    },
    {
      "cell_type": "code",
      "execution_count": null,
      "metadata": {
        "id": "AA4kQYz82_p9"
      },
      "outputs": [],
      "source": [
        "NDCG=np.array([0.02006,0.02753,0.0268,0.0226,0.02037,0.02275])\n",
        "NDCG=np.round(NDCG,3)"
      ]
    },
    {
      "cell_type": "code",
      "execution_count": null,
      "metadata": {
        "colab": {
          "base_uri": "https://localhost:8080/",
          "height": 297
        },
        "id": "R6j55Ngnxc7O",
        "outputId": "e24d1f0e-c625-46a1-c2fb-cd7008fdcfbe"
      },
      "outputs": [
        {
          "data": {
            "image/png": "[encoded data removed]",
            "text/plain": [
              "<Figure size 432x288 with 1 Axes>"
            ]
          },
          "metadata": {},
          "output_type": "display_data"
        }
      ],
      "source": [
        "# import matplotlib.pyplot as plt\n",
        "import numpy as np\n",
        "\n",
        "if __name__ == \"__main__\":\n",
        "  #first is recall,precision and NDCG\n",
        "    means = [recall,NDCG,precision] # asian, american, african\n",
        "    # std = [[2, 3, 4, 1, 2], [3, 5, 2, 3, 3], [1, 3, 2, 1, 3]] # std (conf. inter.) of above; give None if not avail.\n",
        "    std = None\n",
        "    width = 0.2 # width of barplots\n",
        "    xticklabels = ['L=1', 'L=2', 'L=3', 'L=4', 'L=5', 'L=6']\n",
        "    ylabel = 'Performance Metric'\n",
        "    legend = 'Recall@20', 'NDCG@20','Precision@20'\n",
        "    title = 'Hyperparameter tuning for Message passing layers (L)'\n",
        "    rects, fig, ax, plt = barplot(means, width, xticklabels, ylabel, legend, std, title)\n",
        "\n",
        "    # placing text above barplots (center, left - left of std line, right - right of std line)\n",
        "    xpos = ['center', 'center', 'center']\n",
        "    for i in range(len(legend)):\n",
        "        barplot_autolabel(rects[i], ax, xpos[i])\n",
        "\n",
        "    fig.tight_layout()\n",
        "\n",
        "    plt.show()"
      ]
    },
    {
      "cell_type": "markdown",
      "metadata": {
        "id": "WGlcSz4hp-h9"
      },
      "source": [
        "Hyperparameter tuning for batch size"
      ]
    },
    {
      "cell_type": "code",
      "execution_count": null,
      "metadata": {
        "id": "bTi8GNQU4kxZ"
      },
      "outputs": [],
      "source": [
        "recall=np.array([0.07078,0.07363,0.05594,0.07192,0.03082,0.06164])\n",
        "recall=np.round(recall,3)"
      ]
    },
    {
      "cell_type": "code",
      "execution_count": null,
      "metadata": {
        "id": "Rp4i8Ona4nXv"
      },
      "outputs": [],
      "source": [
        "precision=np.array([0.00445,0.00445,0.00377,0.00411,0.00205,0.00377])\n",
        "precision=np.round(precision,3)"
      ]
    },
    {
      "cell_type": "code",
      "execution_count": null,
      "metadata": {
        "id": "KqN72IuB4q4b"
      },
      "outputs": [],
      "source": [
        "NDCG=np.array([0.02457,0.0239,0.0165,0.02501,0.01309,0.02022])\n",
        "NDCG=np.round(NDCG,3)"
      ]
    },
    {
      "cell_type": "code",
      "execution_count": null,
      "metadata": {
        "colab": {
          "base_uri": "https://localhost:8080/",
          "height": 297
        },
        "id": "4CnZdMIsp17k",
        "outputId": "0ab2ee4f-caaf-40da-9ffa-4a9542145858"
      },
      "outputs": [
        {
          "data": {
            "image/png": "[encoded data removed]",
            "text/plain": [
              "<Figure size 432x288 with 1 Axes>"
            ]
          },
          "metadata": {},
          "output_type": "display_data"
        }
      ],
      "source": [
        "# import matplotlib.pyplot as plt\n",
        "import numpy as np\n",
        "\n",
        "if __name__ == \"__main__\":\n",
        "  #first is recall,precision and NDCG\n",
        "    means = [recall,NDCG,precision] # asian, american, african\n",
        "    # std = [[2, 3, 4, 1, 2], [3, 5, 2, 3, 3], [1, 3, 2, 1, 3]] # std (conf. inter.) of above; give None if not avail.\n",
        "    std = None\n",
        "    width = 0.2 # width of barplots\n",
        "    xticklabels = ['BS=128', 'BS=256', 'BS=512', 'BS=1024', 'BS=2048', 'BS=4096']\n",
        "    ylabel = 'Performance Metric'\n",
        "    legend = 'Recall@20', 'NDCG@20','Precision@20'\n",
        "    title = 'Hyperparameter tuning for Batch Size(BS)'\n",
        "    rects, fig, ax, plt = barplot(means, width, xticklabels, ylabel, legend, std, title)\n",
        "\n",
        "    # placing text above barplots (center, left - left of std line, right - right of std line)\n",
        "    xpos = ['center', 'center', 'center']\n",
        "    for i in range(len(legend)):\n",
        "        barplot_autolabel(rects[i], ax, xpos[i])\n",
        "\n",
        "    fig.tight_layout()\n",
        "\n",
        "    plt.show()"
      ]
    },
    {
      "cell_type": "code",
      "execution_count": null,
      "metadata": {
        "id": "NcTdk8tg42Pj"
      },
      "outputs": [],
      "source": []
    },
    {
      "cell_type": "markdown",
      "metadata": {
        "id": "c_vHUL8UqBuH"
      },
      "source": [
        "Hyperparameter tuning for lambda"
      ]
    },
    {
      "cell_type": "code",
      "execution_count": null,
      "metadata": {
        "id": "dojS4ITPZ9Zl"
      },
      "outputs": [],
      "source": [
        "recall=np.array([0.05651,0.08676,0.06507,0.07135,0.05765,0.0605])\n",
        "recall=np.round(recall,3)"
      ]
    },
    {
      "cell_type": "code",
      "execution_count": null,
      "metadata": {
        "id": "yvlEJNVtZ-NY"
      },
      "outputs": [],
      "source": [
        "precision=np.array([0.00445,0.00548,0.00377,0.00479,0.00445,0.00411])\n",
        "precision=np.round(precision,3)"
      ]
    },
    {
      "cell_type": "code",
      "execution_count": null,
      "metadata": {
        "id": "AO1Ym3XHZ92n"
      },
      "outputs": [],
      "source": [
        "NDCG=np.array([0.02132,0.03231,0.03242,0.02469,0.02008,0.02135])\n",
        "NDCG=np.round(NDCG,3)"
      ]
    },
    {
      "cell_type": "code",
      "execution_count": null,
      "metadata": {
        "colab": {
          "base_uri": "https://localhost:8080/",
          "height": 297
        },
        "id": "tYsaJ20nqFqB",
        "outputId": "5aef2224-7f4f-420f-9ab7-5b525c319395"
      },
      "outputs": [
        {
          "data": {
            "image/png": "[encoded data removed]",
            "text/plain": [
              "<Figure size 432x288 with 1 Axes>"
            ]
          },
          "metadata": {},
          "output_type": "display_data"
        }
      ],
      "source": [
        "# import matplotlib.pyplot as plt\n",
        "import numpy as np\n",
        "\n",
        "if __name__ == \"__main__\":\n",
        "  #first is recall,precision and NDCG\n",
        "    means = [recall,NDCG,precision] # asian, american, african\n",
        "    # std = [[2, 3, 4, 1, 2], [3, 5, 2, 3, 3], [1, 3, 2, 1, 3]] # std (conf. inter.) of above; give None if not avail.\n",
        "    std = None\n",
        "    width = 0.2 # width of barplots\n",
        "    xticklabels = ['1e-2', '1e-3', '1e-4', '1e-5', '1e-6', '1e-7']\n",
        "    ylabel = 'Performance Metric'\n",
        "    legend = 'Recall@20', 'Precision@20', 'NDCG@20'\n",
        "    title = 'Hyperparameter tuning for Lambda (Loss regularization) (Lmbd)'\n",
        "    rects, fig, ax, plt = barplot(means, width, xticklabels, ylabel, legend, std, title)\n",
        "\n",
        "    # placing text above barplots (center, left - left of std line, right - right of std line)\n",
        "    xpos = ['center', 'center', 'center']\n",
        "    for i in range(len(legend)):\n",
        "        barplot_autolabel(rects[i], ax, xpos[i])\n",
        "\n",
        "    fig.tight_layout()\n",
        "\n",
        "    plt.show()"
      ]
    },
    {
      "cell_type": "markdown",
      "metadata": {
        "id": "DXYyZXfDszal"
      },
      "source": [
        "#**11.PLOT K VARIES GRAPH FOR YELP REVIEW DATASET**"
      ]
    },
    {
      "cell_type": "markdown",
      "metadata": {
        "id": "XaOc3wQztPfm"
      },
      "source": [
        "#layers"
      ]
    },
    {
      "cell_type": "code",
      "execution_count": null,
      "metadata": {
        "id": "4Y8quAUQs6vm"
      },
      "outputs": [],
      "source": [
        "# import matplotlib.pyplot as plt\n",
        "import numpy as np\n",
        "\n",
        "if __name__ == \"__main__\":\n",
        "  #first is recall,precision and NDCG\n",
        "    means = [[0.06322,0.06092,0.05862,0.04368,0.04138,0.04023], [0.00414, 0.00379, 0.00345, 0.0031, 0.00276,0.00276], [0.02621, 0.0264, 0.02113, 0.01621, 0.0138,0.01442]] # asian, american, african\n",
        "    # std = [[2, 3, 4, 1, 2], [3, 5, 2, 3, 3], [1, 3, 2, 1, 3]] # std (conf. inter.) of above; give None if not avail.\n",
        "    std = None\n",
        "    width = 0.2 # width of barplots\n",
        "    xticklabels = ['L=1', 'L=2', 'L=3', 'L=4', 'L=5', 'L=6']\n",
        "    ylabel = 'Performance Metric'\n",
        "    legend = 'Recall@20', 'Precision@20', 'NDCG@20'\n",
        "    title = 'Hyperparameter tuning for Message passing layers (L)'\n",
        "    rects, fig, ax, plt = barplot(means, width, xticklabels, ylabel, legend, std, title)\n",
        "\n",
        "    # placing text above barplots (center, left - left of std line, right - right of std line)\n",
        "    xpos = ['center', 'center', 'center']\n",
        "    for i in range(len(legend)):\n",
        "        barplot_autolabel(rects[i], ax, xpos[i])\n",
        "\n",
        "    fig.tight_layout()\n",
        "\n",
        "    plt.show()"
      ]
    },
    {
      "cell_type": "markdown",
      "metadata": {
        "id": "eNQSJN8_tSbO"
      },
      "source": [
        "#batchsize"
      ]
    },
    {
      "cell_type": "code",
      "execution_count": null,
      "metadata": {
        "colab": {
          "base_uri": "https://localhost:8080/",
          "height": 297
        },
        "id": "hULkF5dytT7P",
        "outputId": "db147dcc-7598-4a02-f054-6843b348aaad"
      },
      "outputs": [
        {
          "data": {
            "image/png": "[encoded data removed]",
            "text/plain": [
              "<Figure size 432x288 with 1 Axes>"
            ]
          },
          "metadata": {},
          "output_type": "display_data"
        }
      ],
      "source": [
        "# import matplotlib.pyplot as plt\n",
        "import numpy as np\n",
        "\n",
        "if __name__ == \"__main__\":\n",
        "  #first is recall,precision and NDCG\n",
        "    means = [[0.06322,0.06092,0.05862,0.04368,0.04138,0.04023], [0.00414, 0.00379, 0.00345, 0.0031, 0.00276,0.00276], [0.02621, 0.0264, 0.02113, 0.01621, 0.0138,0.01442]] # asian, american, african\n",
        "    # std = [[2, 3, 4, 1, 2], [3, 5, 2, 3, 3], [1, 3, 2, 1, 3]] # std (conf. inter.) of above; give None if not avail.\n",
        "    std = None\n",
        "    width = 0.2 # width of barplots\n",
        "    xticklabels = ['BS=128', 'BS=256', 'BS=512', 'BS=1024', 'BS=2048', 'BS=4096']\n",
        "    ylabel = 'Performance Metric'\n",
        "    legend = 'Recall@20', 'Precision@20', 'NDCG@20'\n",
        "    title = 'Hyperparameter tuning for Batch Size(BS)'\n",
        "    rects, fig, ax, plt = barplot(means, width, xticklabels, ylabel, legend, std, title)\n",
        "\n",
        "    # placing text above barplots (center, left - left of std line, right - right of std line)\n",
        "    xpos = ['center', 'center', 'center']\n",
        "    for i in range(len(legend)):\n",
        "        barplot_autolabel(rects[i], ax, xpos[i])\n",
        "\n",
        "    fig.tight_layout()\n",
        "\n",
        "    plt.show()"
      ]
    },
    {
      "cell_type": "markdown",
      "metadata": {
        "id": "b6eMJygatXds"
      },
      "source": [
        "lambda"
      ]
    },
    {
      "cell_type": "code",
      "execution_count": null,
      "metadata": {
        "id": "ryxBK4gegdPx"
      },
      "outputs": [],
      "source": [
        "recall=np.array([0.00103,0.00094,0.01721,0.03357,0.03396,0.03619])\n",
        "recall=np.round(recall,3)"
      ]
    },
    {
      "cell_type": "code",
      "execution_count": null,
      "metadata": {
        "id": "78gJWR4kgdDS"
      },
      "outputs": [],
      "source": [
        "precision=np.array([6e-05,5e-05,0.00141,0.00267,0.00273,0.00292])\n",
        "precision=np.round(precision,3)"
      ]
    },
    {
      "cell_type": "code",
      "execution_count": null,
      "metadata": {
        "id": "uP_-ByJ9gc1v"
      },
      "outputs": [],
      "source": [
        "NDCG=np.array([0.00032,0.00034,0.00702,0.01381,0.01431,0.01558])\n",
        "NDCG=np.round(NDCG,3)"
      ]
    },
    {
      "cell_type": "code",
      "execution_count": null,
      "metadata": {
        "colab": {
          "base_uri": "https://localhost:8080/",
          "height": 297
        },
        "id": "aP7-TQ3itXQn",
        "outputId": "d72d4f40-7be3-4b5c-b691-504aed4ef6c3"
      },
      "outputs": [
        {
          "data": {
            "image/png": "[encoded data removed]",
            "text/plain": [
              "<Figure size 432x288 with 1 Axes>"
            ]
          },
          "metadata": {},
          "output_type": "display_data"
        }
      ],
      "source": [
        "# import matplotlib.pyplot as plt\n",
        "import numpy as np\n",
        "\n",
        "if __name__ == \"__main__\":\n",
        "  #first is recall,precision and NDCG\n",
        "    means = [recall,NDCG,precision] # asian, american, african\n",
        "    # std = [[2, 3, 4, 1, 2], [3, 5, 2, 3, 3], [1, 3, 2, 1, 3]] # std (conf. inter.) of above; give None if not avail.\n",
        "    std = None\n",
        "    width = 0.2 # width of barplots\n",
        "    xticklabels = ['1e-2', '1e-3', '1e-4', '1e-5', '1e-6', '1e-7']\n",
        "    ylabel = 'Performance Metric'\n",
        "    legend = 'Recall@20', 'NDCG@20','Precision@20'\n",
        "    title = 'Hyperparameter tuning for Lambda (Loss regularization) (Lmbd)'\n",
        "    rects, fig, ax, plt = barplot(means, width, xticklabels, ylabel, legend, std, title)\n",
        "\n",
        "    # placing text above barplots (center, left - left of std line, right - right of std line)\n",
        "    xpos = ['center', 'center', 'center']\n",
        "    for i in range(len(legend)):\n",
        "        barplot_autolabel(rects[i], ax, xpos[i])\n",
        "\n",
        "    fig.tight_layout()\n",
        "\n",
        "    plt.show()"
      ]
    },
    {
      "cell_type": "markdown",
      "metadata": {
        "id": "fbsNb3IgscTv"
      },
      "source": [
        "Batch size"
      ]
    },
    {
      "cell_type": "code",
      "execution_count": null,
      "metadata": {
        "id": "4lDI0pWQsdmf"
      },
      "outputs": [],
      "source": [
        "recall=np.array([0.03582,0.03544,0.03635,0.03396,0.03341,0.03591])\n",
        "recall=np.round(recall,3)"
      ]
    },
    {
      "cell_type": "code",
      "execution_count": null,
      "metadata": {
        "id": "B19it1pksgGk"
      },
      "outputs": [],
      "source": [
        "precision=np.array([0.00288,0.00282,0.00289,0.00273,0.00276,0.00284])\n",
        "precision=np.round(precision,3)"
      ]
    },
    {
      "cell_type": "code",
      "execution_count": null,
      "metadata": {
        "id": "rqFfw0M3siLA"
      },
      "outputs": [],
      "source": [
        "NDCG=np.array([0.01506,0.01488,0.01554,0.01431,0.01427,0.01444])\n",
        "NDCG=np.round(NDCG,3)"
      ]
    },
    {
      "cell_type": "code",
      "execution_count": null,
      "metadata": {
        "colab": {
          "base_uri": "https://localhost:8080/",
          "height": 297
        },
        "id": "e-_7NFvbskWo",
        "outputId": "18abe50a-d0b3-479b-e4ed-79b4385d9498"
      },
      "outputs": [
        {
          "data": {
            "image/png": "[encoded data removed]",
            "text/plain": [
              "<Figure size 432x288 with 1 Axes>"
            ]
          },
          "metadata": {},
          "output_type": "display_data"
        }
      ],
      "source": [
        "# import matplotlib.pyplot as plt\n",
        "import numpy as np\n",
        "\n",
        "if __name__ == \"__main__\":\n",
        "  #first is recall,precision and NDCG\n",
        "    means = [recall,NDCG,precision] # asian, american, african\n",
        "    # std = [[2, 3, 4, 1, 2], [3, 5, 2, 3, 3], [1, 3, 2, 1, 3]] # std (conf. inter.) of above; give None if not avail.\n",
        "    std = None\n",
        "    width = 0.2 # width of barplots\n",
        "    xticklabels = ['BS=128', 'BS=256', 'BS=512', 'BS=1024', 'BS=2048', 'BS=4096']\n",
        "    ylabel = 'Performance Metric'\n",
        "    legend = 'Recall@20', 'Precision@20', 'NDCG@20'\n",
        "    title = 'Hyperparameter tuning for Batch Size(BS)'\n",
        "    rects, fig, ax, plt = barplot(means, width, xticklabels, ylabel, legend, std, title)\n",
        "\n",
        "    # placing text above barplots (center, left - left of std line, right - right of std line)\n",
        "    xpos = ['center', 'center', 'center']\n",
        "    for i in range(len(legend)):\n",
        "        barplot_autolabel(rects[i], ax, xpos[i])\n",
        "\n",
        "    fig.tight_layout()\n",
        "\n",
        "    plt.show()"
      ]
    },
    {
      "cell_type": "markdown",
      "metadata": {
        "id": "tTBcHb8os7It"
      },
      "source": [
        "Layers"
      ]
    },
    {
      "cell_type": "code",
      "execution_count": null,
      "metadata": {
        "id": "kEzmwDvPtJ3A"
      },
      "outputs": [],
      "source": [
        "recall=np.array([0.04659,0.04126,0.05765,0.0309,0.02263,0.02316])\n",
        "recall=np.round(recall,3)"
      ]
    },
    {
      "cell_type": "code",
      "execution_count": null,
      "metadata": {
        "id": "buktmf5etJrI"
      },
      "outputs": [],
      "source": [
        "precision=np.array([0.00365,0.00337,0.00445,0.00237,0.00172,0.00173])\n",
        "precision=np.round(precision,3)"
      ]
    },
    {
      "cell_type": "code",
      "execution_count": null,
      "metadata": {
        "id": "MUEO4aiTtJdF"
      },
      "outputs": [],
      "source": [
        "NDCG=np.array([0.02005,0.01813,0.02008,0.01372,0.00943,0.00902])\n",
        "NDCG=np.round(NDCG,3)"
      ]
    },
    {
      "cell_type": "code",
      "execution_count": null,
      "metadata": {
        "colab": {
          "base_uri": "https://localhost:8080/",
          "height": 297
        },
        "id": "sLUQ4K3Ts8EW",
        "outputId": "74e5312b-fbbb-48c2-9fa3-2c9ed4173897"
      },
      "outputs": [
        {
          "data": {
            "image/png": "[encoded data removed]",
            "text/plain": [
              "<Figure size 432x288 with 1 Axes>"
            ]
          },
          "metadata": {},
          "output_type": "display_data"
        }
      ],
      "source": [
        "# import matplotlib.pyplot as plt\n",
        "import numpy as np\n",
        "\n",
        "if __name__ == \"__main__\":\n",
        "  #first is recall,precision and NDCG\n",
        "    means = [recall,NDCG,precision] # asian, american, african\n",
        "    # std = [[2, 3, 4, 1, 2], [3, 5, 2, 3, 3], [1, 3, 2, 1, 3]] # std (conf. inter.) of above; give None if not avail.\n",
        "    std = None\n",
        "    width = 0.2 # width of barplots\n",
        "    xticklabels = ['L=1', 'L=2', 'L=3', 'L=4', 'L=5', 'L=6']\n",
        "    ylabel = 'Performance Metric'\n",
        "    legend = 'Recall@20', 'Precision@20', 'NDCG@20'\n",
        "    title = 'Hyperparameter tuning for Message passing layers (L)'\n",
        "    rects, fig, ax, plt = barplot(means, width, xticklabels, ylabel, legend, std, title)\n",
        "\n",
        "    # placing text above barplots (center, left - left of std line, right - right of std line)\n",
        "    xpos = ['center', 'center', 'center']\n",
        "    for i in range(len(legend)):\n",
        "        barplot_autolabel(rects[i], ax, xpos[i])\n",
        "\n",
        "    fig.tight_layout()\n",
        "\n",
        "    plt.show()"
      ]
    },
    {
      "cell_type": "markdown",
      "metadata": {
        "id": "z_C_ARi4Qtrh"
      },
      "source": [
        "# For final comparision graphs"
      ]
    },
    {
      "cell_type": "code",
      "execution_count": null,
      "metadata": {
        "id": "_Hl1fQB4QtB-"
      },
      "outputs": [],
      "source": [
        "recall=np.array([0.03404,0.01274,0.00125])\n",
        "recall=np.round(recall,3)"
      ]
    },
    {
      "cell_type": "code",
      "execution_count": null,
      "metadata": {
        "id": "GyW6tbSOQ0MV"
      },
      "outputs": [],
      "source": [
        "NDCG=np.array([0.01319,0.00664,0.00043])\n",
        "NDCG=np.round(NDCG,3)"
      ]
    },
    {
      "cell_type": "code",
      "execution_count": null,
      "metadata": {
        "id": "K9fVvVeORCqq"
      },
      "outputs": [],
      "source": [
        "Precision =np.array([0.00252,0.00083,9e-5])\n",
        "Precision=np.round(Precision,3)"
      ]
    },
    {
      "cell_type": "code",
      "execution_count": null,
      "metadata": {
        "colab": {
          "base_uri": "https://localhost:8080/",
          "height": 243
        },
        "id": "N2t3LytdRGD1",
        "outputId": "426041d3-4478-4b4c-a068-e7dea922c19a"
      },
      "outputs": [
        {
          "ename": "NameError",
          "evalue": "ignored",
          "output_type": "error",
          "traceback": [
            "\u001b[0;31m---------------------------------------------------------------------------\u001b[0m",
            "\u001b[0;31mNameError\u001b[0m                                 Traceback (most recent call last)",
            "\u001b[0;32m<ipython-input-58-e72d67679139>\u001b[0m in \u001b[0;36m<module>\u001b[0;34m\u001b[0m\n\u001b[1;32m     12\u001b[0m     \u001b[0mlegend\u001b[0m \u001b[0;34m=\u001b[0m \u001b[0;34m'LightGCN'\u001b[0m\u001b[0;34m,\u001b[0m \u001b[0;34m'Matrix Factorization'\u001b[0m\u001b[0;34m,\u001b[0m \u001b[0;34m'Random Baseline'\u001b[0m\u001b[0;34m\u001b[0m\u001b[0;34m\u001b[0m\u001b[0m\n\u001b[1;32m     13\u001b[0m     \u001b[0mtitle\u001b[0m \u001b[0;34m=\u001b[0m \u001b[0;34m'Comparision results for Yelp Reviews'\u001b[0m\u001b[0;34m\u001b[0m\u001b[0;34m\u001b[0m\u001b[0m\n\u001b[0;32m---> 14\u001b[0;31m     \u001b[0mrects\u001b[0m\u001b[0;34m,\u001b[0m \u001b[0mfig\u001b[0m\u001b[0;34m,\u001b[0m \u001b[0max\u001b[0m\u001b[0;34m,\u001b[0m \u001b[0mplt\u001b[0m \u001b[0;34m=\u001b[0m \u001b[0mbarplot\u001b[0m\u001b[0;34m(\u001b[0m\u001b[0mmeans\u001b[0m\u001b[0;34m,\u001b[0m \u001b[0mwidth\u001b[0m\u001b[0;34m,\u001b[0m \u001b[0mxticklabels\u001b[0m\u001b[0;34m,\u001b[0m \u001b[0mylabel\u001b[0m\u001b[0;34m,\u001b[0m \u001b[0mlegend\u001b[0m\u001b[0;34m,\u001b[0m \u001b[0mstd\u001b[0m\u001b[0;34m,\u001b[0m \u001b[0mtitle\u001b[0m\u001b[0;34m)\u001b[0m\u001b[0;34m\u001b[0m\u001b[0;34m\u001b[0m\u001b[0m\n\u001b[0m\u001b[1;32m     15\u001b[0m \u001b[0;34m\u001b[0m\u001b[0m\n\u001b[1;32m     16\u001b[0m     \u001b[0;31m# placing text above barplots (center, left - left of std line, right - right of std line)\u001b[0m\u001b[0;34m\u001b[0m\u001b[0;34m\u001b[0m\u001b[0;34m\u001b[0m\u001b[0m\n",
            "\u001b[0;31mNameError\u001b[0m: name 'barplot' is not defined"
          ]
        }
      ],
      "source": [
        "# import matplotlib.pyplot as plt\n",
        "import numpy as np\n",
        "\n",
        "if __name__ == \"__main__\":\n",
        "  #first is recall,precision and NDCG\n",
        "    means = [recall,NDCG,Precision] # asian, american, african\n",
        "    # std = [[2, 3, 4, 1, 2], [3, 5, 2, 3, 3], [1, 3, 2, 1, 3]] # std (conf. inter.) of above; give None if not avail.\n",
        "    std = None\n",
        "    width = 0.2 # width of barplots\n",
        "    xticklabels = ['Recall@20', 'NDCG@20','Precision@20']\n",
        "    ylabel = 'Performance Metric'\n",
        "    legend = 'LightGCN', 'Matrix Factorization', 'Random Baseline'\n",
        "    title = 'Comparision results for Yelp Reviews'\n",
        "    rects, fig, ax, plt = barplot(means, width, xticklabels, ylabel, legend, std, title)\n",
        "\n",
        "    # placing text above barplots (center, left - left of std line, right - right of std line)\n",
        "    xpos = ['center', 'center', 'center']\n",
        "    for i in range(len(legend)):\n",
        "        barplot_autolabel(rects[i], ax, xpos[i])\n",
        "\n",
        "    fig.tight_layout()\n",
        "\n",
        "    plt.show()"
      ]
    },
    {
      "cell_type": "markdown",
      "metadata": {
        "id": "-Yr6KLXzS_e4"
      },
      "source": [
        "For Indonesia dataset"
      ]
    },
    {
      "cell_type": "code",
      "execution_count": null,
      "metadata": {
        "id": "RQfSwxaXTB1X"
      },
      "outputs": [],
      "source": [
        "recall=np.array([0.09195,0.04195,0.02586])\n",
        "recall=np.round(recall,3)"
      ]
    },
    {
      "cell_type": "code",
      "execution_count": null,
      "metadata": {
        "id": "ooBl52IjTF7-"
      },
      "outputs": [],
      "source": [
        "NDCG=np.array([0.03492,0.0162,0.00963])\n",
        "NDCG=np.round(NDCG,3)"
      ]
    },
    {
      "cell_type": "code",
      "execution_count": null,
      "metadata": {
        "id": "BqP57dGDTIZk"
      },
      "outputs": [],
      "source": [
        "Precision =np.array([0.00655,0.00379,0.00207])\n",
        "Precision=np.round(Precision,3)"
      ]
    },
    {
      "cell_type": "code",
      "execution_count": null,
      "metadata": {
        "id": "ziHzV36bTJAG"
      },
      "outputs": [],
      "source": [
        "# import matplotlib.pyplot as plt\n",
        "import numpy as np\n",
        "\n",
        "if __name__ == \"__main__\":\n",
        "  #first is recall,precision and NDCG\n",
        "    means = [recall,NDCG,Precision] # asian, american, african\n",
        "    # std = [[2, 3, 4, 1, 2], [3, 5, 2, 3, 3], [1, 3, 2, 1, 3]] # std (conf. inter.) of above; give None if not avail.\n",
        "    std = None\n",
        "    width = 0.2 # width of barplots\n",
        "    xticklabels = ['Recall@20', 'NDCG@20','Precision@20']\n",
        "    ylabel = 'Performance Metric'\n",
        "    legend = 'LightGCN', 'Matrix Factorization', 'Random Baseline'\n",
        "    title = 'Comparision results for Indonesia Tourism destination'\n",
        "    rects, fig, ax, plt = barplot(means, width, xticklabels, ylabel, legend, std, title)\n",
        "\n",
        "    # placing text above barplots (center, left - left of std line, right - right of std line)\n",
        "    xpos = ['center', 'center', 'center']\n",
        "    for i in range(len(legend)):\n",
        "        barplot_autolabel(rects[i], ax, xpos[i])\n",
        "\n",
        "    fig.tight_layout()\n",
        "\n",
        "    plt.show()"
      ]
    },
    {
      "cell_type": "markdown",
      "metadata": {
        "id": "RIXX2OuanYJi"
      },
      "source": [
        "#**12. GIT Commands**"
      ]
    },
    {
      "cell_type": "markdown",
      "metadata": {
        "id": "QudWxYv1ST8W"
      },
      "source": [
        "**Change present working directory**"
      ]
    },
    {
      "cell_type": "code",
      "execution_count": null,
      "metadata": {
        "colab": {
          "base_uri": "https://localhost:8080/"
        },
        "id": "GfDMBC59SQMl",
        "outputId": "9663326d-a702-44a2-ff60-0faa45824e9b"
      },
      "outputs": [
        {
          "name": "stdout",
          "output_type": "stream",
          "text": [
            "[Errno 2] No such file or directory: '/content/drive/MyDrive/GCN_TripRecommendation/datasets'\n",
            "/content\n"
          ]
        }
      ],
      "source": [
        "%cd /content/drive/MyDrive/GCN_TripRecommendation/datasets"
      ]
    },
    {
      "cell_type": "code",
      "execution_count": null,
      "metadata": {
        "colab": {
          "base_uri": "https://localhost:8080/"
        },
        "id": "GuxbBMDpYWXx",
        "outputId": "c0cfeb38-51e7-4d17-cec9-9d987b1bd0e8"
      },
      "outputs": [
        {
          "name": "stdout",
          "output_type": "stream",
          "text": [
            "/content/drive/MyDrive/GCN_TripRecommendation/datasets\n"
          ]
        }
      ],
      "source": [
        "!pwd"
      ]
    },
    {
      "cell_type": "code",
      "execution_count": null,
      "metadata": {
        "colab": {
          "base_uri": "https://localhost:8080/"
        },
        "id": "zRE2qUXEmWsG",
        "outputId": "5117936c-0198-44c3-d9be-fc1cf62b706a"
      },
      "outputs": [
        {
          "name": "stdout",
          "output_type": "stream",
          "text": [
            "'yelp_training_set_review (1).csv'   yelp_user.csv\n"
          ]
        }
      ],
      "source": [
        "!ls"
      ]
    },
    {
      "cell_type": "code",
      "execution_count": null,
      "metadata": {
        "colab": {
          "base_uri": "https://localhost:8080/"
        },
        "id": "dyUjpC3eYYWw",
        "outputId": "357b9355-abdc-4125-c6d9-553a79b2ac09"
      },
      "outputs": [
        {
          "name": "stdout",
          "output_type": "stream",
          "text": [
            "Initialized empty Git repository in /content/drive/MyDrive/GCN_TripRecommendation/.git/\n"
          ]
        }
      ],
      "source": [
        "!git init"
      ]
    },
    {
      "cell_type": "code",
      "execution_count": null,
      "metadata": {
        "id": "b1Boh5iDakwg"
      },
      "outputs": [],
      "source": [
        "!git config --global user.email 'sprakki@horizon.csueastbay.edu'\n",
        "!git config --global user.name 'SravaniPrakki'"
      ]
    },
    {
      "cell_type": "code",
      "execution_count": null,
      "metadata": {
        "colab": {
          "base_uri": "https://localhost:8080/"
        },
        "id": "979B_SGqa8tR",
        "outputId": "90ee064e-5804-46b0-f1af-e8bc6c0cb083"
      },
      "outputs": [
        {
          "name": "stdout",
          "output_type": "stream",
          "text": [
            "On branch master\n",
            "\n",
            "Initial commit\n",
            "\n",
            "nothing to commit\n"
          ]
        }
      ],
      "source": [
        "!git add .\n",
        "!git commit -m 'First commit'"
      ]
    },
    {
      "cell_type": "code",
      "execution_count": null,
      "metadata": {
        "colab": {
          "base_uri": "https://localhost:8080/"
        },
        "id": "dqLR5KNVcBGF",
        "outputId": "18402382-305a-4983-86af-8f54dda73684"
      },
      "outputs": [
        {
          "name": "stdout",
          "output_type": "stream",
          "text": [
            "yelp_training_set_review.csv\n"
          ]
        }
      ],
      "source": [
        "!ls"
      ]
    },
    {
      "cell_type": "code",
      "execution_count": null,
      "metadata": {
        "id": "YDg3S9ixlzaB"
      },
      "outputs": [],
      "source": [
        "import pickle\n",
        "import numpy as np\n",
        "from matplotlib import rcParams\n",
        "from cycler import cycler\n",
        "from matplotlib import pyplot as plt\n",
        "import os, sys\n",
        "\n",
        "def format_y(y):\n",
        "    if isinstance(y, list) and len(y) != 0:\n",
        "        if isinstance(y[0], list):\n",
        "            lengths = [len(obj) for obj in y]\n",
        "            minlength = min(lengths)\n",
        "            y = [obj[:minlength] for obj in y]\n",
        "    return y\n",
        "\n",
        "def plot_figures(output_path, desc, y, xlabel, ylabel, x=None, yerr = None, legend=None, legendloc=None, legendncol=None, title=None, xlim=None, ylim=None, show_plot=False, gen_pkl=True, save_pdf=False, plt_only=False):\n",
        "\n",
        "    if not plt_only:\n",
        "        rcParams.update({'font.size': 20})\n",
        "        plt.ioff()\n",
        "        plt.rc('axes', prop_cycle=cycler('color',['black', 'red', 'blue', 'black', 'red', 'blue', 'black','red', 'blue', 'black', 'red', 'blue', 'black']) + cycler('marker', ['*', '+', 'x', 'o', '<', '>', 'v', '^', ',', \"_\", '.', '|', 'X']) + cycler('linestyle', ['-', '--', '-.', ':', '-', '--', '-.',':', '-', '--', '-.',':','-']))\n",
        "        # this ensures that type-3 fonts are not used when generating figures\n",
        "        plt.rc('text', usetex=True)\n",
        "        plt.rc('font', family='serif')\n",
        "        markersize=11\n",
        "        linewidth=3\n",
        "        capsize = 6 # not recognized in plt.rc\n",
        "        elinewidth = 3 # same\n",
        "        markeredgewidth = 1\n",
        "        plt.rc('lines', linewidth=linewidth, markersize=markersize, markeredgewidth=markeredgewidth)\n",
        "        # plt.gca().set_prop_cycle(cycler('color',['red', 'green', 'blue', 'red', 'green', 'blue','red']))\n",
        "        # markers = ['*', '+', 'x', 'o', '<', '>', ',']  # http://matplotlib.org/api/markers_api.html\n",
        "        # linestyles = ['-', '--', '-.', ':', '-', '--', '-.']  # http://matplotlib.org/api/lines_api.html\n",
        "        # fig = plt.figure(1, figsize=(11.25,7.5))  # width, height\n",
        "        fig = plt.figure(1, figsize=(7.5,7.5))  # width, height\n",
        "\n",
        "    y = format_y(y)\n",
        "    y = np.array(y)\n",
        "\n",
        "    if yerr is not None:\n",
        "        yerr = format_y(yerr)\n",
        "        yerr = np.array(yerr)\n",
        "        assert np.shape(y) == np.shape(yerr)\n",
        "\n",
        "    shape = y.shape\n",
        "    if len(shape) == 1:\n",
        "        ncols = shape[0]\n",
        "        nrows = 1\n",
        "    else:\n",
        "        nrows, ncols = shape\n",
        "    if x is None:\n",
        "        x = range(1,ncols+1)\n",
        "\n",
        "    if nrows == 1:\n",
        "        if yerr is None:\n",
        "            plt.plot(x, y)\n",
        "        else:\n",
        "            ax = plt.gca() # use this only if needed\n",
        "            ax.set_xscale('log')\n",
        "            # ax.set_yscale('log')\n",
        "            (_, caps, _) = plt.errorbar(x, y, yerr, capsize=capsize, elinewidth=elinewidth)\n",
        "            for cap in caps:\n",
        "                cap.set_markeredgewidth(3)\n",
        "\n",
        "    else:\n",
        "        if yerr is None:\n",
        "            for var_indx in range(nrows):\n",
        "                plt.plot(x, y[var_indx, :])\n",
        "        else:\n",
        "            ax = plt.gca() # use this only if needed\n",
        "            ax.set_xscale('log')\n",
        "            for var_indx in range(nrows):\n",
        "                (_, caps, _) = plt.errorbar(x, y[var_indx, :], yerr[var_indx, :], capsize=capsize, elinewidth=elinewidth)\n",
        "                for cap in caps:\n",
        "                    cap.set_markeredgewidth(3)\n",
        "\n",
        "    # plt.ylim(ymin=0)\n",
        "    plt.xlabel(xlabel)\n",
        "    plt.ylabel(ylabel)\n",
        "    if legend is not None:\n",
        "        # legendloc one of ['best', 'upper left', 'center left', 'center', 'lower center']\n",
        "        plt.legend(legend, loc=legendloc, ncol=legendncol)\n",
        "    if title is not None:\n",
        "        plt.title(title)\n",
        "    if xlim is not None:\n",
        "        plt.xlim(xlim)\n",
        "    if ylim is not None:\n",
        "        plt.ylim(ylim)\n",
        "    plt.grid(True, which='both')\n",
        "\n",
        "    os.makedirs(output_path, exist_ok=True)\n",
        "    if not plt_only:\n",
        "        fig.tight_layout()\n",
        "        filename = 'fig_' + desc\n",
        "        if save_pdf:\n",
        "            plt.savefig(os.path.join(output_path, filename + '.pdf'))\n",
        "        plt.savefig(os.path.join(output_path, filename + '.png'))\n",
        "        if gen_pkl:\n",
        "            save_object1(fig, os.path.join(output_path, 'pkl', filename + '.pkl'))\n",
        "        if show_plot:\n",
        "            plt.show()\n",
        "        plt.clf()\n",
        "        plt.close()\n",
        "\n",
        "def plot_figures_subplot(output_path, desc, y, xlabels, ylabels, x=None, legends=None, legendlocs=None, legendncols=None, show_plot=False, gen_pkl=True, save_pdf=False, save_eps=False):\n",
        "\n",
        "    rcParams.update({'font.size': 20})\n",
        "    plt.ioff()\n",
        "    plt.rc('axes', prop_cycle=cycler('color',['black', 'red', 'blue', 'black', 'red', 'blue', 'black','red', 'blue', 'black', 'red', 'blue', 'black']) + cycler('marker', ['*', '+', 'x', 'o', '<', '>', 'v', '^', ',', \"_\", '.', '|', 'X']) + cycler('linestyle', ['-', '--', '-.', ':', '-', '--', '-.',':', '-', '--', '-.',':','-']))\n",
        "    markersize=3\n",
        "    linewidth=3\n",
        "    plt.rc('lines', linewidth=linewidth, markersize=markersize)\n",
        "\n",
        "    # plt.gca().set_prop_cycle(cycler('color',['red', 'green', 'blue', 'red', 'green', 'blue','red']))\n",
        "    # markers = ['*', '+', 'x', 'o', '<', '>', ',']  # http://matplotlib.org/api/markers_api.html\n",
        "    # linestyles = ['-', '--', '-.', ':', '-', '--', '-.']  # http://matplotlib.org/api/lines_api.html\n",
        "    if isinstance(y, list) and len(y) != 0:\n",
        "        if isinstance(y[0], list):\n",
        "            lengths = [len(obj) for obj in y]\n",
        "            minlength = min(lengths)\n",
        "            y = [obj[:minlength] for obj in y]\n",
        "    y = np.array(y)\n",
        "    shape = y.shape\n",
        "    if len(shape) == 1:\n",
        "        ncols = shape[0]\n",
        "        nrows = 1\n",
        "    else:\n",
        "        nrows, ncols = shape\n",
        "    if x is None:\n",
        "        x = range(1,ncols+1)\n",
        "\n",
        "    fig,_ = plt.subplots(nrows, 1, figsize=(11.25,7.5))  # width, height\n",
        "\n",
        "    if legends is None:\n",
        "        legends = legendlocs = legendncols = [None]*nrows\n",
        "\n",
        "    for var_indx in range(nrows):\n",
        "        subplt_indx = (nrows*100) + (1*10) + (var_indx+1)\n",
        "        plt.subplot(subplt_indx)\n",
        "        plot_figures('','',y[var_indx,:], xlabels[var_indx],ylabels[var_indx],x,legends[var_indx],legendlocs[var_indx],legendncols[var_indx],plt_only=True)\n",
        "        # ax[var_indx].plot(x,y[var_indx,:])\n",
        "\n",
        "    fig.tight_layout()\n",
        "    filename = 'fig_' + desc\n",
        "    if save_pdf:\n",
        "        plt.savefig(output_path + filename + '.pdf')\n",
        "    if save_eps:\n",
        "        plt.savefig(output_path + filename + '.eps')\n",
        "    plt.savefig(output_path + filename + '.png')\n",
        "    if gen_pkl:\n",
        "        save_object1(fig, output_path + 'pkl/' + filename + '.pkl')\n",
        "    if show_plot:\n",
        "        plt.show()\n",
        "    plt.clf()\n",
        "    plt.close()\n",
        "\n",
        "def plot_figures_old(output_path, desc, y, xlabel, ylabel, x=None, legend=None, legendloc=None, legendncol=None, show_plot=False, gen_pkl=True, save_pdf=False, save_eps=False):\n",
        "\n",
        "    # rcParams.update({'font.size': 20})\n",
        "    # plt.ioff()\n",
        "    # plt.rc('axes', prop_cycle=cycler('color',['black', 'red', 'blue', 'black', 'red', 'blue', 'black','red', 'blue', 'black', 'red', 'blue', 'black']) + cycler('marker', ['*', '+', 'x', 'o', '<', '>', 'v', '^', ',', \"_\", '.', '|', 'X']) + cycler('linestyle', ['-', '--', '-.', ':', '-', '--', '-.',':', '-', '--', '-.',':','-']))\n",
        "    # markersize=10\n",
        "    # linewidth=3\n",
        "    # plt.rc('lines', linewidth=linewidth, markersize=markersize)\n",
        "    #\n",
        "    # # plt.gca().set_prop_cycle(cycler('color',['red', 'green', 'blue', 'red', 'green', 'blue','red']))\n",
        "    # # markers = ['*', '+', 'x', 'o', '<', '>', ',']  # http://matplotlib.org/api/markers_api.html\n",
        "    # # linestyles = ['-', '--', '-.', ':', '-', '--', '-.']  # http://matplotlib.org/api/lines_api.html\n",
        "    # fig = plt.figure(1, figsize=(15, 10))  # width, height\n",
        "    rcParams.update({'font.size': 20})\n",
        "    plt.ioff()\n",
        "    plt.rc('axes', prop_cycle=cycler('color',['black', 'red', 'blue', 'black', 'red', 'blue', 'black','red', 'blue', 'black', 'red', 'blue', 'black']) + cycler('marker', ['*', '+', 'x', 'o', '<', '>', 'v', '^', ',', \"_\", '.', '|', 'X']) + cycler('linestyle', ['-', '--', '-.', ':', '-', '--', '-.',':', '-', '--', '-.',':','-']))\n",
        "    markersize=11\n",
        "    linewidth=3\n",
        "    capsize = 6 # not recognized in plt.rc\n",
        "    elinewidth = 3 # same\n",
        "    markeredgewidth = 1\n",
        "    plt.rc('lines', linewidth=linewidth, markersize=markersize, markeredgewidth=markeredgewidth)\n",
        "    # plt.gca().set_prop_cycle(cycler('color',['red', 'green', 'blue', 'red', 'green', 'blue','red']))\n",
        "    # markers = ['*', '+', 'x', 'o', '<', '>', ',']  # http://matplotlib.org/api/markers_api.html\n",
        "    # linestyles = ['-', '--', '-.', ':', '-', '--', '-.']  # http://matplotlib.org/api/lines_api.html\n",
        "    # fig = plt.figure(1, figsize=(11.25,7.5))  # width, height\n",
        "    fig = plt.figure(1, figsize=(7.5,7.5))  # width, height\n",
        "\n",
        "    if isinstance(y, list) and len(y) != 0:\n",
        "        if isinstance(y[0], list):\n",
        "            lengths = [len(obj) for obj in y]\n",
        "            minlength = min(lengths)\n",
        "            y = [obj[:minlength] for obj in y]\n",
        "    y = np.array(y)\n",
        "    shape = y.shape\n",
        "    if len(shape) == 1:\n",
        "        ncols = shape[0]\n",
        "        nrows = 1\n",
        "    else:\n",
        "        nrows, ncols = shape\n",
        "    if x is None:\n",
        "        x = range(1,ncols+1)\n",
        "\n",
        "    if nrows == 1:\n",
        "        plt.plot(x, y)\n",
        "    else:\n",
        "        for var_indx in range(nrows):\n",
        "            plt.plot(x, y[var_indx, :])\n",
        "    plt.xlabel(xlabel)\n",
        "    plt.ylabel(ylabel)\n",
        "    if legend is not None:\n",
        "        plt.legend(legend, loc=legendloc, ncol=legendncol)\n",
        "    plt.grid()\n",
        "    fig.tight_layout()\n",
        "    filename = 'fig_' + desc\n",
        "    if save_pdf:\n",
        "        plt.savefig(output_path / (filename + '.pdf'))\n",
        "    if save_eps:\n",
        "        plt.savefig(output_path / (filename + '.eps'))\n",
        "    plt.savefig(output_path / (filename + '.png'))\n",
        "    if gen_pkl:\n",
        "        save_object1(fig, output_path / 'pkl/' / (filename + '.pkl'))\n",
        "    if show_plot:\n",
        "        plt.show()\n",
        "    plt.clf()\n",
        "    plt.close()\n",
        "\n",
        "def sort_pair_of_lists(list1, list2, reverse=False):\n",
        "    # sorting will be based on the values of list1 (not list2)\n",
        "    zipped_pair = zip(list1, list2)\n",
        "    sorted_zip = sorted(zipped_pair, reverse=reverse)\n",
        "    list1_sorted = [x for x, _ in sorted_zip]\n",
        "    list2_sorted = [x for _, x in sorted_zip]\n",
        "    return [list1_sorted, list2_sorted]\n",
        "\n",
        "def print_out(s, f=None, new_line=True):\n",
        "    \"\"\"Similar to print but with support to flush and output to a file.\"\"\"\n",
        "    s = str(s)\n",
        "    if f:\n",
        "        f.write(s)\n",
        "        if new_line:\n",
        "            f.write(\"\\n\")\n",
        "    # stdout\n",
        "    print(s, end=\"\", file=sys.stdout)\n",
        "\n",
        "    if new_line:\n",
        "        sys.stdout.write(\"\\n\")\n",
        "    sys.stdout.flush()\n",
        "\n",
        "def save_object1(obj1, filename):\n",
        "    os.makedirs(os.path.dirname(filename), exist_ok=True)\n",
        "    with open(filename, 'wb') as output:\n",
        "        pickle.dump(obj1, output, pickle.HIGHEST_PROTOCOL)\n",
        "\n",
        "def save_object2(obj1, obj2, filename):\n",
        "    os.makedirs(os.path.dirname(filename), exist_ok=True)\n",
        "    with open(filename, 'wb') as output:\n",
        "        pickle.dump(obj1, output, pickle.HIGHEST_PROTOCOL)\n",
        "        pickle.dump(obj2, output, pickle.HIGHEST_PROTOCOL)\n",
        "\n",
        "def read_object1(filename):\n",
        "    with open(filename, 'rb') as input:\n",
        "        return pickle.load(input)\n",
        "\n",
        "def read_object2(filename):\n",
        "    with open(filename, 'rb') as input:\n",
        "        first = pickle.load(input)\n",
        "        second = pickle.load(input)\n",
        "        return first, second\n",
        "\n",
        "# Function to get index of ceiling of x in arr[low..high]*/\n",
        "def ceilSearch(arr, low, high, x):\n",
        "    # If x is smaller than or equal to the first element,\n",
        "    # then return the first element */\n",
        "    if x <= arr[low]:\n",
        "        return low\n",
        "\n",
        "        # If x is greater than the last element, then return -1 */\n",
        "    if x > arr[high]:\n",
        "        return -1\n",
        "\n",
        "        # get the index of middle element of arr[low..high]*/\n",
        "    mid = int ((low + high) / 2)  # low + (high - low)/2 */\n",
        "\n",
        "    # If x is same as middle element, then return mid */\n",
        "    if arr[mid] == x:\n",
        "        return mid\n",
        "\n",
        "    # If x is greater than arr[mid], then either arr[mid + 1]\n",
        "    # is ceiling of x or ceiling lies in arr[mid+1...high] */\n",
        "    # elif arr[mid] < x:\n",
        "    #     if mid + 1 <= high and x <= arr[mid + 1]:\n",
        "    #         return mid + 1\n",
        "    #     else:\n",
        "    elif arr[mid] < x:\n",
        "        return ceilSearch(arr, mid + 1, high, x)\n",
        "\n",
        "    # If x is smaller than arr[mid], then either arr[mid]\n",
        "    # is ceiling of x or ceiling lies in arr[mid-1...high] */\n",
        "    else:\n",
        "        # if mid - 1 >= low and x > arr[mid - 1]:\n",
        "        #     return mid\n",
        "        # else:\n",
        "        return ceilSearch(arr, low, mid, x)\n",
        "\n",
        "# Binary search function to get index of floor of x in arr[low..high]*/\n",
        "def floorSearch(arr, low, high, x):\n",
        "    # If x is smaller than or equal to the first element,\n",
        "    # then return the first element */\n",
        "    if x >= arr[high]:\n",
        "        return high\n",
        "\n",
        "    # If x is greater than the last element, then return -1 */\n",
        "    if x < arr[low]:\n",
        "        return -1\n",
        "\n",
        "    # get the index of middle element of arr[low..high]*/\n",
        "    mid = int ((low + high) / 2)  # low + (high - low)/2 */\n",
        "\n",
        "    # If x is same as middle element, then return mid */\n",
        "    if arr[mid] == x:\n",
        "        return mid\n",
        "\n",
        "    # If x is greater than arr[mid], then floor of x lies in arr[mid...high] */\n",
        "    # elif arr[mid] < x:\n",
        "    #     if mid + 1 <= high and x <= arr[mid + 1]:\n",
        "    #         return mid + 1\n",
        "    #     else:\n",
        "    elif arr[mid] < x:\n",
        "        if x < arr[mid+1]: # this is done to avoid infinite recursion; consider [2,8] and floor(3)\n",
        "            return mid\n",
        "        return floorSearch(arr, mid, high, x)\n",
        "\n",
        "    # If x is smaller than arr[mid], then floor of x lies in arr[low...mid-1] */\n",
        "    else:\n",
        "        # if mid - 1 >= low and x > arr[mid - 1]:\n",
        "        #     return mid\n",
        "        # else:\n",
        "        return floorSearch(arr, low, mid-1, x)\n",
        "\n",
        "def barplot_autolabel(rects, ax, xpos='center'):\n",
        "    \"\"\"\n",
        "    Attach a text label above each bar in *rects*, displaying its height.\n",
        "\n",
        "    *xpos* indicates which side to place the text w.r.t. the center of\n",
        "    the bar. It can be one of the following {'center', 'right', 'left'}.\n",
        "    \"\"\"\n",
        "\n",
        "    ha = {'center': 'center', 'right': 'left', 'left': 'right'}\n",
        "    offset = {'center': 0, 'right': 1, 'left': -1}\n",
        "\n",
        "    for rect in rects:\n",
        "        height = rect.get_height()\n",
        "        ax.annotate('{}'.format(height),\n",
        "                    xy=(rect.get_x() + rect.get_width() / 2, height),\n",
        "                    xytext=(offset[xpos]*3, 3),  # use 3 points offset\n",
        "                    textcoords=\"offset points\",  # in both directions\n",
        "                    ha=ha[xpos], va='bottom')\n",
        "\n",
        "def barplot(means, width, xticklabels, ylabel, legend, std=None, title=''):\n",
        "    fig, ax = plt.subplots()\n",
        "    ind = np.arange(len(means[0]))\n",
        "    rects = []\n",
        "    for i in range(len(means)):\n",
        "        yerr = std[i] if std is not None else None\n",
        "        rect = ax.bar(ind + width * i, means[i], width, yerr=yerr, label=legend[i])\n",
        "        rects.append(rect)\n",
        "\n",
        "    # Add some text for labels, title and custom x-axis tick labels, etc.\n",
        "    ax.set_ylabel(ylabel)\n",
        "    ax.set_title(title)\n",
        "    ax.set_xticks(ind)\n",
        "    ax.set_xticklabels(xticklabels)\n",
        "    ax.legend()\n",
        "    return rects, fig, ax, plt\n",
        "\n",
        "\n",
        "\n",
        "\n",
        "\n"
      ]
    }
  ],
  "metadata": {
    "colab": {
      "toc_visible": true,
      "provenance": []
    },
    "gpuClass": "standard",
    "kernelspec": {
      "display_name": "Python 3",
      "name": "python3"
    },
    "language_info": {
      "name": "python"
    }
  },
  "nbformat": 4,
  "nbformat_minor": 0
}