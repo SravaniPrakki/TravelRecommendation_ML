{
  "nbformat": 4,
  "nbformat_minor": 0,
  "metadata": {
    "colab": {
      "provenance": []
    },
    "kernelspec": {
      "name": "python3",
      "display_name": "Python 3"
    },
    "language_info": {
      "name": "python"
    }
  },
  "cells": [
    {
      "cell_type": "code",
      "execution_count": null,
      "metadata": {
        "id": "vtaYaspyK5wv"
      },
      "outputs": [],
      "source": [
        "#library imports\n",
        "import numpy as np\n",
        "import pandas as pd\n",
        "from collections import Counter\n",
        "from sklearn.model_selection import train_test_split\n",
        "from scipy import sparse\n"
      ]
    },
    {
      "cell_type": "code",
      "source": [
        "# Jovian Commit Essentials\n",
        "# Please retain and execute this cell without modifying the contents for `jovian.commit` to work\n",
        "!pip install jovian --upgrade -q\n",
        "import jovian"
      ],
      "metadata": {
        "id": "S_NqVe0wLe0W",
        "colab": {
          "base_uri": "https://localhost:8080/"
        },
        "outputId": "226a2aa5-87a8-459d-c06d-b7e95c97ce4a"
      },
      "execution_count": null,
      "outputs": [
        {
          "output_type": "stream",
          "name": "stdout",
          "text": [
            "\u001b[?25l\r\u001b[K     |████▊                           | 10 kB 23.6 MB/s eta 0:00:01\r\u001b[K     |█████████▌                      | 20 kB 5.2 MB/s eta 0:00:01\r\u001b[K     |██████████████▎                 | 30 kB 7.3 MB/s eta 0:00:01\r\u001b[K     |███████████████████             | 40 kB 3.5 MB/s eta 0:00:01\r\u001b[K     |███████████████████████▉        | 51 kB 3.6 MB/s eta 0:00:01\r\u001b[K     |████████████████████████████▋   | 61 kB 4.2 MB/s eta 0:00:01\r\u001b[K     |████████████████████████████████| 68 kB 3.0 MB/s \n",
            "\u001b[?25h  Building wheel for uuid (setup.py) ... \u001b[?25l\u001b[?25hdone\n"
          ]
        }
      ]
    },
    {
      "cell_type": "markdown",
      "source": [
        "**Import google drive**"
      ],
      "metadata": {
        "id": "3Yz-37pLV4gH"
      }
    },
    {
      "cell_type": "code",
      "source": [
        "from google.colab import drive\n",
        "drive.mount('/content/drive')"
      ],
      "metadata": {
        "colab": {
          "base_uri": "https://localhost:8080/"
        },
        "id": "2ysIk8SnV8i_",
        "outputId": "e6f9c1fe-28ef-4728-a285-9dd6c840181d"
      },
      "execution_count": null,
      "outputs": [
        {
          "output_type": "stream",
          "name": "stdout",
          "text": [
            "Drive already mounted at /content/drive; to attempt to forcibly remount, call drive.mount(\"/content/drive\", force_remount=True).\n"
          ]
        }
      ]
    },
    {
      "cell_type": "markdown",
      "source": [
        "Dataset"
      ],
      "metadata": {
        "id": "QztJorpILn0r"
      }
    },
    {
      "cell_type": "code",
      "source": [
        "travel_ratings_df = pd.read_csv(\"/content/drive/MyDrive/GCN_TripRecommendation/datasets/yelp_training_set_review.csv\")\n",
        "travel_ratings_df.shape\n",
        "print(travel_ratings_df.head())"
      ],
      "metadata": {
        "colab": {
          "base_uri": "https://localhost:8080/"
        },
        "id": "FwglF8aOLqRt",
        "outputId": "e4dfd49a-a673-4d80-a960-9aa6584ccbbd"
      },
      "execution_count": null,
      "outputs": [
        {
          "output_type": "stream",
          "name": "stdout",
          "text": [
            "   Unnamed: 0  business_blank              business_categories business_city  \\\n",
            "0           0           False  Breakfast & Brunch; Restaurants       Phoenix   \n",
            "1           1           False      Italian; Pizza; Restaurants       Phoenix   \n",
            "2           2           False      Middle Eastern; Restaurants         Tempe   \n",
            "3           3           False    Active Life; Dog Parks; Parks    Scottsdale   \n",
            "4           4           False                Tires; Automotive          Mesa   \n",
            "\n",
            "                     business_full_address             business_id  \\\n",
            "0        6106 S 32nd St\\nPhoenix, AZ 85042  9yKzy9PApeiPPOUJEtnvkg   \n",
            "1  4848 E Chandler Blvd\\nPhoenix, AZ 85044  ZRJwVLyzEJq1VAihDhYiow   \n",
            "2     1513 E  Apache Blvd\\nTempe, AZ 85281  6oRAC4uyJCsJl1X0WZpVSA   \n",
            "3   5401 N Hayden Rd\\nScottsdale, AZ 85250  _1QQZuf4zZOyFCvXc0o6Vg   \n",
            "4        1357 S Power Road\\nMesa, AZ 85206  6ozycU1RpktNG2-1BroVtw   \n",
            "\n",
            "   business_latitude  business_longitude       business_name  \\\n",
            "0          33.390792         -112.012504  Morning Glory Cafe   \n",
            "1          33.305607         -111.978758  Spinato's Pizzeria   \n",
            "2          33.414345         -111.913031           Haji-Baba   \n",
            "3          33.522945         -111.907886  Chaparral Dog Park   \n",
            "4          33.391027         -111.684482       Discount Tire   \n",
            "\n",
            "   business_neighborhoods  ...  reviewer_funny  reviewer_name  \\\n",
            "0                     NaN  ...             331          Jason   \n",
            "1                     NaN  ...               2           Paul   \n",
            "2                     NaN  ...               0         Nicole   \n",
            "3                     NaN  ...              18        lindsey   \n",
            "4                     NaN  ...               3          Roger   \n",
            "\n",
            "   reviewer_review_count reviewer_type reviewer_useful  stars  \\\n",
            "0                    376          user            1034      5   \n",
            "1                      2          user               0      5   \n",
            "2                      3          user               3      4   \n",
            "3                     31          user              75      5   \n",
            "4                     28          user              32      5   \n",
            "\n",
            "                                                text    type useful  \\\n",
            "0  My wife took me here on my birthday for breakf...  review      5   \n",
            "1  I have no idea why some people give bad review...  review      0   \n",
            "2  love the gyro plate. Rice is so good and I als...  review      1   \n",
            "3  Rosie, Dakota, and I LOVE Chaparral Dog Park!!...  review      2   \n",
            "4  General Manager Scott Petello is a good egg!!!...  review      0   \n",
            "\n",
            "                  user_id  \n",
            "0  rLtl8ZkDX5vH5nAx9C3q5Q  \n",
            "1  0a2KyEL0d3Yb1V6aivbIuQ  \n",
            "2  0hT2KtfLiobPvh6cDC8JQg  \n",
            "3  uZetl9T0NcROGOyFfughhg  \n",
            "4  vYmM4KTsC8ZfQBg-j5MWkw  \n",
            "\n",
            "[5 rows x 32 columns]\n"
          ]
        }
      ]
    },
    {
      "cell_type": "markdown",
      "source": [
        "Getting rid of the ratings that are not present & make the datset to contain only the items that are rated >=4"
      ],
      "metadata": {
        "id": "Jodl0pkEMWDY"
      }
    },
    {
      "cell_type": "code",
      "source": [
        "travel_ratings = travel_ratings_df.loc[travel_ratings_df.stars >= 4].reset_index()[['user_id','business_id','stars']]\n",
        "print(travel_ratings.shape)\n",
        "travel_ratings.head()"
      ],
      "metadata": {
        "colab": {
          "base_uri": "https://localhost:8080/",
          "height": 224
        },
        "id": "maL6PxXNMVot",
        "outputId": "e685c49e-42ec-4ebb-f83a-812cbda3311a"
      },
      "execution_count": null,
      "outputs": [
        {
          "output_type": "stream",
          "name": "stdout",
          "text": [
            "(156071, 3)\n"
          ]
        },
        {
          "output_type": "execute_result",
          "data": {
            "text/plain": [
              "                  user_id             business_id  stars\n",
              "0  rLtl8ZkDX5vH5nAx9C3q5Q  9yKzy9PApeiPPOUJEtnvkg      5\n",
              "1  0a2KyEL0d3Yb1V6aivbIuQ  ZRJwVLyzEJq1VAihDhYiow      5\n",
              "2  0hT2KtfLiobPvh6cDC8JQg  6oRAC4uyJCsJl1X0WZpVSA      4\n",
              "3  uZetl9T0NcROGOyFfughhg  _1QQZuf4zZOyFCvXc0o6Vg      5\n",
              "4  vYmM4KTsC8ZfQBg-j5MWkw  6ozycU1RpktNG2-1BroVtw      5"
            ],
            "text/html": [
              "\n",
              "  <div id=\"df-6f4456b8-190c-44fa-b628-a737a42f1437\">\n",
              "    <div class=\"colab-df-container\">\n",
              "      <div>\n",
              "<style scoped>\n",
              "    .dataframe tbody tr th:only-of-type {\n",
              "        vertical-align: middle;\n",
              "    }\n",
              "\n",
              "    .dataframe tbody tr th {\n",
              "        vertical-align: top;\n",
              "    }\n",
              "\n",
              "    .dataframe thead th {\n",
              "        text-align: right;\n",
              "    }\n",
              "</style>\n",
              "<table border=\"1\" class=\"dataframe\">\n",
              "  <thead>\n",
              "    <tr style=\"text-align: right;\">\n",
              "      <th></th>\n",
              "      <th>user_id</th>\n",
              "      <th>business_id</th>\n",
              "      <th>stars</th>\n",
              "    </tr>\n",
              "  </thead>\n",
              "  <tbody>\n",
              "    <tr>\n",
              "      <th>0</th>\n",
              "      <td>rLtl8ZkDX5vH5nAx9C3q5Q</td>\n",
              "      <td>9yKzy9PApeiPPOUJEtnvkg</td>\n",
              "      <td>5</td>\n",
              "    </tr>\n",
              "    <tr>\n",
              "      <th>1</th>\n",
              "      <td>0a2KyEL0d3Yb1V6aivbIuQ</td>\n",
              "      <td>ZRJwVLyzEJq1VAihDhYiow</td>\n",
              "      <td>5</td>\n",
              "    </tr>\n",
              "    <tr>\n",
              "      <th>2</th>\n",
              "      <td>0hT2KtfLiobPvh6cDC8JQg</td>\n",
              "      <td>6oRAC4uyJCsJl1X0WZpVSA</td>\n",
              "      <td>4</td>\n",
              "    </tr>\n",
              "    <tr>\n",
              "      <th>3</th>\n",
              "      <td>uZetl9T0NcROGOyFfughhg</td>\n",
              "      <td>_1QQZuf4zZOyFCvXc0o6Vg</td>\n",
              "      <td>5</td>\n",
              "    </tr>\n",
              "    <tr>\n",
              "      <th>4</th>\n",
              "      <td>vYmM4KTsC8ZfQBg-j5MWkw</td>\n",
              "      <td>6ozycU1RpktNG2-1BroVtw</td>\n",
              "      <td>5</td>\n",
              "    </tr>\n",
              "  </tbody>\n",
              "</table>\n",
              "</div>\n",
              "      <button class=\"colab-df-convert\" onclick=\"convertToInteractive('df-6f4456b8-190c-44fa-b628-a737a42f1437')\"\n",
              "              title=\"Convert this dataframe to an interactive table.\"\n",
              "              style=\"display:none;\">\n",
              "        \n",
              "  <svg xmlns=\"http://www.w3.org/2000/svg\" height=\"24px\"viewBox=\"0 0 24 24\"\n",
              "       width=\"24px\">\n",
              "    <path d=\"M0 0h24v24H0V0z\" fill=\"none\"/>\n",
              "    <path d=\"M18.56 5.44l.94 2.06.94-2.06 2.06-.94-2.06-.94-.94-2.06-.94 2.06-2.06.94zm-11 1L8.5 8.5l.94-2.06 2.06-.94-2.06-.94L8.5 2.5l-.94 2.06-2.06.94zm10 10l.94 2.06.94-2.06 2.06-.94-2.06-.94-.94-2.06-.94 2.06-2.06.94z\"/><path d=\"M17.41 7.96l-1.37-1.37c-.4-.4-.92-.59-1.43-.59-.52 0-1.04.2-1.43.59L10.3 9.45l-7.72 7.72c-.78.78-.78 2.05 0 2.83L4 21.41c.39.39.9.59 1.41.59.51 0 1.02-.2 1.41-.59l7.78-7.78 2.81-2.81c.8-.78.8-2.07 0-2.86zM5.41 20L4 18.59l7.72-7.72 1.47 1.35L5.41 20z\"/>\n",
              "  </svg>\n",
              "      </button>\n",
              "      \n",
              "  <style>\n",
              "    .colab-df-container {\n",
              "      display:flex;\n",
              "      flex-wrap:wrap;\n",
              "      gap: 12px;\n",
              "    }\n",
              "\n",
              "    .colab-df-convert {\n",
              "      background-color: #E8F0FE;\n",
              "      border: none;\n",
              "      border-radius: 50%;\n",
              "      cursor: pointer;\n",
              "      display: none;\n",
              "      fill: #1967D2;\n",
              "      height: 32px;\n",
              "      padding: 0 0 0 0;\n",
              "      width: 32px;\n",
              "    }\n",
              "\n",
              "    .colab-df-convert:hover {\n",
              "      background-color: #E2EBFA;\n",
              "      box-shadow: 0px 1px 2px rgba(60, 64, 67, 0.3), 0px 1px 3px 1px rgba(60, 64, 67, 0.15);\n",
              "      fill: #174EA6;\n",
              "    }\n",
              "\n",
              "    [theme=dark] .colab-df-convert {\n",
              "      background-color: #3B4455;\n",
              "      fill: #D2E3FC;\n",
              "    }\n",
              "\n",
              "    [theme=dark] .colab-df-convert:hover {\n",
              "      background-color: #434B5C;\n",
              "      box-shadow: 0px 1px 3px 1px rgba(0, 0, 0, 0.15);\n",
              "      filter: drop-shadow(0px 1px 2px rgba(0, 0, 0, 0.3));\n",
              "      fill: #FFFFFF;\n",
              "    }\n",
              "  </style>\n",
              "\n",
              "      <script>\n",
              "        const buttonEl =\n",
              "          document.querySelector('#df-6f4456b8-190c-44fa-b628-a737a42f1437 button.colab-df-convert');\n",
              "        buttonEl.style.display =\n",
              "          google.colab.kernel.accessAllowed ? 'block' : 'none';\n",
              "\n",
              "        async function convertToInteractive(key) {\n",
              "          const element = document.querySelector('#df-6f4456b8-190c-44fa-b628-a737a42f1437');\n",
              "          const dataTable =\n",
              "            await google.colab.kernel.invokeFunction('convertToInteractive',\n",
              "                                                     [key], {});\n",
              "          if (!dataTable) return;\n",
              "\n",
              "          const docLinkHtml = 'Like what you see? Visit the ' +\n",
              "            '<a target=\"_blank\" href=https://colab.research.google.com/notebooks/data_table.ipynb>data table notebook</a>'\n",
              "            + ' to learn more about interactive tables.';\n",
              "          element.innerHTML = '';\n",
              "          dataTable['output_type'] = 'display_data';\n",
              "          await google.colab.output.renderOutput(dataTable, element);\n",
              "          const docLink = document.createElement('div');\n",
              "          docLink.innerHTML = docLinkHtml;\n",
              "          element.appendChild(docLink);\n",
              "        }\n",
              "      </script>\n",
              "    </div>\n",
              "  </div>\n",
              "  "
            ]
          },
          "metadata": {},
          "execution_count": 4
        }
      ]
    },
    {
      "cell_type": "markdown",
      "source": [
        "Create train set, validation set,test set"
      ],
      "metadata": {
        "id": "4paoYhPk_BbB"
      }
    },
    {
      "cell_type": "markdown",
      "source": [
        "Train-Valid Split"
      ],
      "metadata": {
        "id": "zGEraBYtMibL"
      }
    },
    {
      "cell_type": "code",
      "source": [
        "train_df, valid_df = train_test_split(travel_ratings, test_size=0.1)\n",
        "valid_df, test_df  = train_test_split(travel_ratings, test_size=0.5)\n",
        "\n"
      ],
      "metadata": {
        "id": "m__Vi05EMQPs"
      },
      "execution_count": null,
      "outputs": []
    },
    {
      "cell_type": "code",
      "source": [
        "#resetting indices to avoid indexing errors in the future\n",
        "train_df = train_df.reset_index()[['user_id', 'business_id', 'stars']]\n",
        "valid_df = valid_df.reset_index()[['user_id', 'business_id', 'stars']]\n",
        "test_df  = test_df.reset_index()[['user_id', 'business_id', 'stars']]"
      ],
      "metadata": {
        "id": "IUjlQmRrctZw"
      },
      "execution_count": null,
      "outputs": []
    },
    {
      "cell_type": "markdown",
      "source": [
        "Training"
      ],
      "metadata": {
        "id": "MktRr2_NMpp7"
      }
    },
    {
      "cell_type": "markdown",
      "source": [
        "**Encoding columns with continuous ids**\n",
        "\n",
        "Because we'll be using PyTorch's embedding layers to create our user and item embeddings, we need continuous IDs to be able to index into the embedding matrix and access each user/item embedding."
      ],
      "metadata": {
        "id": "r52PC_guMqcE"
      }
    },
    {
      "cell_type": "code",
      "source": [
        "def encode_column(column):\n",
        "    \"\"\" Encodes a pandas column with continous IDs\"\"\"\n",
        "    keys = column.unique()\n",
        "    key_to_id = {key:idx for idx,key in enumerate(keys)}\n",
        "    return key_to_id, np.array([key_to_id[x] for x in column]), len(keys)"
      ],
      "metadata": {
        "id": "iZ8i6uwKMpTy"
      },
      "execution_count": null,
      "outputs": []
    },
    {
      "cell_type": "code",
      "source": [
        "def encode_df(travel_df):\n",
        "    \"\"\"Encodes rating data with continuous user and business ids\"\"\"\n",
        "    \n",
        "    place_ids, travel_df['business_id'], num_places = encode_column(travel_df['business_id'])\n",
        "    user_ids, travel_df['user_id'], num_users = encode_column(travel_df['user_id'])\n",
        "    return travel_df, num_users, num_places, user_ids, place_ids"
      ],
      "metadata": {
        "id": "vvMDXoOzMnRs"
      },
      "execution_count": null,
      "outputs": []
    },
    {
      "cell_type": "code",
      "source": [
        "travel_df, num_users, num_places, user_ids, place_ids = encode_df(train_df)\n",
        "print(\"Number of users :\", num_users)\n",
        "print(\"Number of places :\", num_places)\n",
        "travel_df.head()"
      ],
      "metadata": {
        "colab": {
          "base_uri": "https://localhost:8080/",
          "height": 242
        },
        "id": "GG3a0Vs5Ny7c",
        "outputId": "2ed8d7fc-1865-46cf-ee2c-0f66bebaf538"
      },
      "execution_count": null,
      "outputs": [
        {
          "output_type": "stream",
          "name": "stdout",
          "text": [
            "Number of users : 35530\n",
            "Number of places : 10843\n"
          ]
        },
        {
          "output_type": "execute_result",
          "data": {
            "text/plain": [
              "   user_id  business_id  stars\n",
              "0        0            0      4\n",
              "1        1            1      4\n",
              "2        2            2      4\n",
              "3        3            3      5\n",
              "4        4            4      4"
            ],
            "text/html": [
              "\n",
              "  <div id=\"df-deb9ed14-43b6-4c4f-a6db-bfcb727a2b95\">\n",
              "    <div class=\"colab-df-container\">\n",
              "      <div>\n",
              "<style scoped>\n",
              "    .dataframe tbody tr th:only-of-type {\n",
              "        vertical-align: middle;\n",
              "    }\n",
              "\n",
              "    .dataframe tbody tr th {\n",
              "        vertical-align: top;\n",
              "    }\n",
              "\n",
              "    .dataframe thead th {\n",
              "        text-align: right;\n",
              "    }\n",
              "</style>\n",
              "<table border=\"1\" class=\"dataframe\">\n",
              "  <thead>\n",
              "    <tr style=\"text-align: right;\">\n",
              "      <th></th>\n",
              "      <th>user_id</th>\n",
              "      <th>business_id</th>\n",
              "      <th>stars</th>\n",
              "    </tr>\n",
              "  </thead>\n",
              "  <tbody>\n",
              "    <tr>\n",
              "      <th>0</th>\n",
              "      <td>0</td>\n",
              "      <td>0</td>\n",
              "      <td>4</td>\n",
              "    </tr>\n",
              "    <tr>\n",
              "      <th>1</th>\n",
              "      <td>1</td>\n",
              "      <td>1</td>\n",
              "      <td>4</td>\n",
              "    </tr>\n",
              "    <tr>\n",
              "      <th>2</th>\n",
              "      <td>2</td>\n",
              "      <td>2</td>\n",
              "      <td>4</td>\n",
              "    </tr>\n",
              "    <tr>\n",
              "      <th>3</th>\n",
              "      <td>3</td>\n",
              "      <td>3</td>\n",
              "      <td>5</td>\n",
              "    </tr>\n",
              "    <tr>\n",
              "      <th>4</th>\n",
              "      <td>4</td>\n",
              "      <td>4</td>\n",
              "      <td>4</td>\n",
              "    </tr>\n",
              "  </tbody>\n",
              "</table>\n",
              "</div>\n",
              "      <button class=\"colab-df-convert\" onclick=\"convertToInteractive('df-deb9ed14-43b6-4c4f-a6db-bfcb727a2b95')\"\n",
              "              title=\"Convert this dataframe to an interactive table.\"\n",
              "              style=\"display:none;\">\n",
              "        \n",
              "  <svg xmlns=\"http://www.w3.org/2000/svg\" height=\"24px\"viewBox=\"0 0 24 24\"\n",
              "       width=\"24px\">\n",
              "    <path d=\"M0 0h24v24H0V0z\" fill=\"none\"/>\n",
              "    <path d=\"M18.56 5.44l.94 2.06.94-2.06 2.06-.94-2.06-.94-.94-2.06-.94 2.06-2.06.94zm-11 1L8.5 8.5l.94-2.06 2.06-.94-2.06-.94L8.5 2.5l-.94 2.06-2.06.94zm10 10l.94 2.06.94-2.06 2.06-.94-2.06-.94-.94-2.06-.94 2.06-2.06.94z\"/><path d=\"M17.41 7.96l-1.37-1.37c-.4-.4-.92-.59-1.43-.59-.52 0-1.04.2-1.43.59L10.3 9.45l-7.72 7.72c-.78.78-.78 2.05 0 2.83L4 21.41c.39.39.9.59 1.41.59.51 0 1.02-.2 1.41-.59l7.78-7.78 2.81-2.81c.8-.78.8-2.07 0-2.86zM5.41 20L4 18.59l7.72-7.72 1.47 1.35L5.41 20z\"/>\n",
              "  </svg>\n",
              "      </button>\n",
              "      \n",
              "  <style>\n",
              "    .colab-df-container {\n",
              "      display:flex;\n",
              "      flex-wrap:wrap;\n",
              "      gap: 12px;\n",
              "    }\n",
              "\n",
              "    .colab-df-convert {\n",
              "      background-color: #E8F0FE;\n",
              "      border: none;\n",
              "      border-radius: 50%;\n",
              "      cursor: pointer;\n",
              "      display: none;\n",
              "      fill: #1967D2;\n",
              "      height: 32px;\n",
              "      padding: 0 0 0 0;\n",
              "      width: 32px;\n",
              "    }\n",
              "\n",
              "    .colab-df-convert:hover {\n",
              "      background-color: #E2EBFA;\n",
              "      box-shadow: 0px 1px 2px rgba(60, 64, 67, 0.3), 0px 1px 3px 1px rgba(60, 64, 67, 0.15);\n",
              "      fill: #174EA6;\n",
              "    }\n",
              "\n",
              "    [theme=dark] .colab-df-convert {\n",
              "      background-color: #3B4455;\n",
              "      fill: #D2E3FC;\n",
              "    }\n",
              "\n",
              "    [theme=dark] .colab-df-convert:hover {\n",
              "      background-color: #434B5C;\n",
              "      box-shadow: 0px 1px 3px 1px rgba(0, 0, 0, 0.15);\n",
              "      filter: drop-shadow(0px 1px 2px rgba(0, 0, 0, 0.3));\n",
              "      fill: #FFFFFF;\n",
              "    }\n",
              "  </style>\n",
              "\n",
              "      <script>\n",
              "        const buttonEl =\n",
              "          document.querySelector('#df-deb9ed14-43b6-4c4f-a6db-bfcb727a2b95 button.colab-df-convert');\n",
              "        buttonEl.style.display =\n",
              "          google.colab.kernel.accessAllowed ? 'block' : 'none';\n",
              "\n",
              "        async function convertToInteractive(key) {\n",
              "          const element = document.querySelector('#df-deb9ed14-43b6-4c4f-a6db-bfcb727a2b95');\n",
              "          const dataTable =\n",
              "            await google.colab.kernel.invokeFunction('convertToInteractive',\n",
              "                                                     [key], {});\n",
              "          if (!dataTable) return;\n",
              "\n",
              "          const docLinkHtml = 'Like what you see? Visit the ' +\n",
              "            '<a target=\"_blank\" href=https://colab.research.google.com/notebooks/data_table.ipynb>data table notebook</a>'\n",
              "            + ' to learn more about interactive tables.';\n",
              "          element.innerHTML = '';\n",
              "          dataTable['output_type'] = 'display_data';\n",
              "          await google.colab.output.renderOutput(dataTable, element);\n",
              "          const docLink = document.createElement('div');\n",
              "          docLink.innerHTML = docLinkHtml;\n",
              "          element.appendChild(docLink);\n",
              "        }\n",
              "      </script>\n",
              "    </div>\n",
              "  </div>\n",
              "  "
            ]
          },
          "metadata": {},
          "execution_count": 9
        }
      ]
    },
    {
      "cell_type": "code",
      "source": [
        "valid_df, num_users, num_places, user_ids, place_ids = encode_df(valid_df)\n",
        "print(\"Number of users :\", num_users)\n",
        "print(\"Number of places :\", num_places)\n",
        "valid_df.head()"
      ],
      "metadata": {
        "colab": {
          "base_uri": "https://localhost:8080/",
          "height": 242
        },
        "id": "XuwsjDY3FuFj",
        "outputId": "3044fd1d-4073-42c2-9b72-b3681337b55f"
      },
      "execution_count": null,
      "outputs": [
        {
          "output_type": "stream",
          "name": "stdout",
          "text": [
            "Number of users : 25593\n",
            "Number of places : 9632\n"
          ]
        },
        {
          "output_type": "execute_result",
          "data": {
            "text/plain": [
              "   user_id  business_id  stars\n",
              "0        0            0      4\n",
              "1        1            1      5\n",
              "2        2            2      5\n",
              "3        3            3      4\n",
              "4        4            4      4"
            ],
            "text/html": [
              "\n",
              "  <div id=\"df-8fcfa8e0-98bf-4a4a-b57d-c93424e9b991\">\n",
              "    <div class=\"colab-df-container\">\n",
              "      <div>\n",
              "<style scoped>\n",
              "    .dataframe tbody tr th:only-of-type {\n",
              "        vertical-align: middle;\n",
              "    }\n",
              "\n",
              "    .dataframe tbody tr th {\n",
              "        vertical-align: top;\n",
              "    }\n",
              "\n",
              "    .dataframe thead th {\n",
              "        text-align: right;\n",
              "    }\n",
              "</style>\n",
              "<table border=\"1\" class=\"dataframe\">\n",
              "  <thead>\n",
              "    <tr style=\"text-align: right;\">\n",
              "      <th></th>\n",
              "      <th>user_id</th>\n",
              "      <th>business_id</th>\n",
              "      <th>stars</th>\n",
              "    </tr>\n",
              "  </thead>\n",
              "  <tbody>\n",
              "    <tr>\n",
              "      <th>0</th>\n",
              "      <td>0</td>\n",
              "      <td>0</td>\n",
              "      <td>4</td>\n",
              "    </tr>\n",
              "    <tr>\n",
              "      <th>1</th>\n",
              "      <td>1</td>\n",
              "      <td>1</td>\n",
              "      <td>5</td>\n",
              "    </tr>\n",
              "    <tr>\n",
              "      <th>2</th>\n",
              "      <td>2</td>\n",
              "      <td>2</td>\n",
              "      <td>5</td>\n",
              "    </tr>\n",
              "    <tr>\n",
              "      <th>3</th>\n",
              "      <td>3</td>\n",
              "      <td>3</td>\n",
              "      <td>4</td>\n",
              "    </tr>\n",
              "    <tr>\n",
              "      <th>4</th>\n",
              "      <td>4</td>\n",
              "      <td>4</td>\n",
              "      <td>4</td>\n",
              "    </tr>\n",
              "  </tbody>\n",
              "</table>\n",
              "</div>\n",
              "      <button class=\"colab-df-convert\" onclick=\"convertToInteractive('df-8fcfa8e0-98bf-4a4a-b57d-c93424e9b991')\"\n",
              "              title=\"Convert this dataframe to an interactive table.\"\n",
              "              style=\"display:none;\">\n",
              "        \n",
              "  <svg xmlns=\"http://www.w3.org/2000/svg\" height=\"24px\"viewBox=\"0 0 24 24\"\n",
              "       width=\"24px\">\n",
              "    <path d=\"M0 0h24v24H0V0z\" fill=\"none\"/>\n",
              "    <path d=\"M18.56 5.44l.94 2.06.94-2.06 2.06-.94-2.06-.94-.94-2.06-.94 2.06-2.06.94zm-11 1L8.5 8.5l.94-2.06 2.06-.94-2.06-.94L8.5 2.5l-.94 2.06-2.06.94zm10 10l.94 2.06.94-2.06 2.06-.94-2.06-.94-.94-2.06-.94 2.06-2.06.94z\"/><path d=\"M17.41 7.96l-1.37-1.37c-.4-.4-.92-.59-1.43-.59-.52 0-1.04.2-1.43.59L10.3 9.45l-7.72 7.72c-.78.78-.78 2.05 0 2.83L4 21.41c.39.39.9.59 1.41.59.51 0 1.02-.2 1.41-.59l7.78-7.78 2.81-2.81c.8-.78.8-2.07 0-2.86zM5.41 20L4 18.59l7.72-7.72 1.47 1.35L5.41 20z\"/>\n",
              "  </svg>\n",
              "      </button>\n",
              "      \n",
              "  <style>\n",
              "    .colab-df-container {\n",
              "      display:flex;\n",
              "      flex-wrap:wrap;\n",
              "      gap: 12px;\n",
              "    }\n",
              "\n",
              "    .colab-df-convert {\n",
              "      background-color: #E8F0FE;\n",
              "      border: none;\n",
              "      border-radius: 50%;\n",
              "      cursor: pointer;\n",
              "      display: none;\n",
              "      fill: #1967D2;\n",
              "      height: 32px;\n",
              "      padding: 0 0 0 0;\n",
              "      width: 32px;\n",
              "    }\n",
              "\n",
              "    .colab-df-convert:hover {\n",
              "      background-color: #E2EBFA;\n",
              "      box-shadow: 0px 1px 2px rgba(60, 64, 67, 0.3), 0px 1px 3px 1px rgba(60, 64, 67, 0.15);\n",
              "      fill: #174EA6;\n",
              "    }\n",
              "\n",
              "    [theme=dark] .colab-df-convert {\n",
              "      background-color: #3B4455;\n",
              "      fill: #D2E3FC;\n",
              "    }\n",
              "\n",
              "    [theme=dark] .colab-df-convert:hover {\n",
              "      background-color: #434B5C;\n",
              "      box-shadow: 0px 1px 3px 1px rgba(0, 0, 0, 0.15);\n",
              "      filter: drop-shadow(0px 1px 2px rgba(0, 0, 0, 0.3));\n",
              "      fill: #FFFFFF;\n",
              "    }\n",
              "  </style>\n",
              "\n",
              "      <script>\n",
              "        const buttonEl =\n",
              "          document.querySelector('#df-8fcfa8e0-98bf-4a4a-b57d-c93424e9b991 button.colab-df-convert');\n",
              "        buttonEl.style.display =\n",
              "          google.colab.kernel.accessAllowed ? 'block' : 'none';\n",
              "\n",
              "        async function convertToInteractive(key) {\n",
              "          const element = document.querySelector('#df-8fcfa8e0-98bf-4a4a-b57d-c93424e9b991');\n",
              "          const dataTable =\n",
              "            await google.colab.kernel.invokeFunction('convertToInteractive',\n",
              "                                                     [key], {});\n",
              "          if (!dataTable) return;\n",
              "\n",
              "          const docLinkHtml = 'Like what you see? Visit the ' +\n",
              "            '<a target=\"_blank\" href=https://colab.research.google.com/notebooks/data_table.ipynb>data table notebook</a>'\n",
              "            + ' to learn more about interactive tables.';\n",
              "          element.innerHTML = '';\n",
              "          dataTable['output_type'] = 'display_data';\n",
              "          await google.colab.output.renderOutput(dataTable, element);\n",
              "          const docLink = document.createElement('div');\n",
              "          docLink.innerHTML = docLinkHtml;\n",
              "          element.appendChild(docLink);\n",
              "        }\n",
              "      </script>\n",
              "    </div>\n",
              "  </div>\n",
              "  "
            ]
          },
          "metadata": {},
          "execution_count": 10
        }
      ]
    },
    {
      "cell_type": "code",
      "source": [
        "test_df, num_users, num_places, user_ids, place_ids = encode_df(test_df)\n",
        "print(\"Number of users :\", num_users)\n",
        "print(\"Number of places :\", num_places)\n",
        "test_df.head()"
      ],
      "metadata": {
        "colab": {
          "base_uri": "https://localhost:8080/",
          "height": 242
        },
        "id": "-buJQiFWF1LO",
        "outputId": "0a5f0a29-06a8-4325-a99d-3a1b9d82e7f9"
      },
      "execution_count": null,
      "outputs": [
        {
          "output_type": "stream",
          "name": "stdout",
          "text": [
            "Number of users : 25888\n",
            "Number of places : 9665\n"
          ]
        },
        {
          "output_type": "execute_result",
          "data": {
            "text/plain": [
              "   user_id  business_id  stars\n",
              "0        0            0      5\n",
              "1        1            1      4\n",
              "2        2            2      4\n",
              "3        3            3      4\n",
              "4        4            4      5"
            ],
            "text/html": [
              "\n",
              "  <div id=\"df-3c968102-688a-445c-bc22-33bc169da916\">\n",
              "    <div class=\"colab-df-container\">\n",
              "      <div>\n",
              "<style scoped>\n",
              "    .dataframe tbody tr th:only-of-type {\n",
              "        vertical-align: middle;\n",
              "    }\n",
              "\n",
              "    .dataframe tbody tr th {\n",
              "        vertical-align: top;\n",
              "    }\n",
              "\n",
              "    .dataframe thead th {\n",
              "        text-align: right;\n",
              "    }\n",
              "</style>\n",
              "<table border=\"1\" class=\"dataframe\">\n",
              "  <thead>\n",
              "    <tr style=\"text-align: right;\">\n",
              "      <th></th>\n",
              "      <th>user_id</th>\n",
              "      <th>business_id</th>\n",
              "      <th>stars</th>\n",
              "    </tr>\n",
              "  </thead>\n",
              "  <tbody>\n",
              "    <tr>\n",
              "      <th>0</th>\n",
              "      <td>0</td>\n",
              "      <td>0</td>\n",
              "      <td>5</td>\n",
              "    </tr>\n",
              "    <tr>\n",
              "      <th>1</th>\n",
              "      <td>1</td>\n",
              "      <td>1</td>\n",
              "      <td>4</td>\n",
              "    </tr>\n",
              "    <tr>\n",
              "      <th>2</th>\n",
              "      <td>2</td>\n",
              "      <td>2</td>\n",
              "      <td>4</td>\n",
              "    </tr>\n",
              "    <tr>\n",
              "      <th>3</th>\n",
              "      <td>3</td>\n",
              "      <td>3</td>\n",
              "      <td>4</td>\n",
              "    </tr>\n",
              "    <tr>\n",
              "      <th>4</th>\n",
              "      <td>4</td>\n",
              "      <td>4</td>\n",
              "      <td>5</td>\n",
              "    </tr>\n",
              "  </tbody>\n",
              "</table>\n",
              "</div>\n",
              "      <button class=\"colab-df-convert\" onclick=\"convertToInteractive('df-3c968102-688a-445c-bc22-33bc169da916')\"\n",
              "              title=\"Convert this dataframe to an interactive table.\"\n",
              "              style=\"display:none;\">\n",
              "        \n",
              "  <svg xmlns=\"http://www.w3.org/2000/svg\" height=\"24px\"viewBox=\"0 0 24 24\"\n",
              "       width=\"24px\">\n",
              "    <path d=\"M0 0h24v24H0V0z\" fill=\"none\"/>\n",
              "    <path d=\"M18.56 5.44l.94 2.06.94-2.06 2.06-.94-2.06-.94-.94-2.06-.94 2.06-2.06.94zm-11 1L8.5 8.5l.94-2.06 2.06-.94-2.06-.94L8.5 2.5l-.94 2.06-2.06.94zm10 10l.94 2.06.94-2.06 2.06-.94-2.06-.94-.94-2.06-.94 2.06-2.06.94z\"/><path d=\"M17.41 7.96l-1.37-1.37c-.4-.4-.92-.59-1.43-.59-.52 0-1.04.2-1.43.59L10.3 9.45l-7.72 7.72c-.78.78-.78 2.05 0 2.83L4 21.41c.39.39.9.59 1.41.59.51 0 1.02-.2 1.41-.59l7.78-7.78 2.81-2.81c.8-.78.8-2.07 0-2.86zM5.41 20L4 18.59l7.72-7.72 1.47 1.35L5.41 20z\"/>\n",
              "  </svg>\n",
              "      </button>\n",
              "      \n",
              "  <style>\n",
              "    .colab-df-container {\n",
              "      display:flex;\n",
              "      flex-wrap:wrap;\n",
              "      gap: 12px;\n",
              "    }\n",
              "\n",
              "    .colab-df-convert {\n",
              "      background-color: #E8F0FE;\n",
              "      border: none;\n",
              "      border-radius: 50%;\n",
              "      cursor: pointer;\n",
              "      display: none;\n",
              "      fill: #1967D2;\n",
              "      height: 32px;\n",
              "      padding: 0 0 0 0;\n",
              "      width: 32px;\n",
              "    }\n",
              "\n",
              "    .colab-df-convert:hover {\n",
              "      background-color: #E2EBFA;\n",
              "      box-shadow: 0px 1px 2px rgba(60, 64, 67, 0.3), 0px 1px 3px 1px rgba(60, 64, 67, 0.15);\n",
              "      fill: #174EA6;\n",
              "    }\n",
              "\n",
              "    [theme=dark] .colab-df-convert {\n",
              "      background-color: #3B4455;\n",
              "      fill: #D2E3FC;\n",
              "    }\n",
              "\n",
              "    [theme=dark] .colab-df-convert:hover {\n",
              "      background-color: #434B5C;\n",
              "      box-shadow: 0px 1px 3px 1px rgba(0, 0, 0, 0.15);\n",
              "      filter: drop-shadow(0px 1px 2px rgba(0, 0, 0, 0.3));\n",
              "      fill: #FFFFFF;\n",
              "    }\n",
              "  </style>\n",
              "\n",
              "      <script>\n",
              "        const buttonEl =\n",
              "          document.querySelector('#df-3c968102-688a-445c-bc22-33bc169da916 button.colab-df-convert');\n",
              "        buttonEl.style.display =\n",
              "          google.colab.kernel.accessAllowed ? 'block' : 'none';\n",
              "\n",
              "        async function convertToInteractive(key) {\n",
              "          const element = document.querySelector('#df-3c968102-688a-445c-bc22-33bc169da916');\n",
              "          const dataTable =\n",
              "            await google.colab.kernel.invokeFunction('convertToInteractive',\n",
              "                                                     [key], {});\n",
              "          if (!dataTable) return;\n",
              "\n",
              "          const docLinkHtml = 'Like what you see? Visit the ' +\n",
              "            '<a target=\"_blank\" href=https://colab.research.google.com/notebooks/data_table.ipynb>data table notebook</a>'\n",
              "            + ' to learn more about interactive tables.';\n",
              "          element.innerHTML = '';\n",
              "          dataTable['output_type'] = 'display_data';\n",
              "          await google.colab.output.renderOutput(dataTable, element);\n",
              "          const docLink = document.createElement('div');\n",
              "          docLink.innerHTML = docLinkHtml;\n",
              "          element.appendChild(docLink);\n",
              "        }\n",
              "      </script>\n",
              "    </div>\n",
              "  </div>\n",
              "  "
            ]
          },
          "metadata": {},
          "execution_count": 11
        }
      ]
    },
    {
      "cell_type": "markdown",
      "source": [
        "### Initializing user and item embeddings"
      ],
      "metadata": {
        "id": "vMvqaWN-N6Lb"
      }
    },
    {
      "cell_type": "code",
      "source": [
        "def create_embeddings(n, K):\n",
        "    \"\"\"\n",
        "    Creates a random numpy matrix of shape n, K with uniform values in (0, 5/K)\n",
        "    n: number of items/users\n",
        "    K: number of factors in the embedding \n",
        "    \"\"\"\n",
        "    return 5*np.random.random((n, K)) / K"
      ],
      "metadata": {
        "id": "DRJiE_mHN7QS"
      },
      "execution_count": null,
      "outputs": []
    },
    {
      "cell_type": "code",
      "source": [
        "5*np.random.random((5, 3)) "
      ],
      "metadata": {
        "colab": {
          "base_uri": "https://localhost:8080/"
        },
        "id": "ZkFDbcsqgiTj",
        "outputId": "42cb12a6-6fbd-4c0d-8f25-218edc1c7c68"
      },
      "execution_count": null,
      "outputs": [
        {
          "output_type": "execute_result",
          "data": {
            "text/plain": [
              "array([[0.23135609, 3.20432752, 2.94379329],\n",
              "       [4.8681229 , 4.59151085, 2.51373164],\n",
              "       [2.0197417 , 4.37350756, 3.42413086],\n",
              "       [1.27267088, 4.94157008, 0.56131774],\n",
              "       [2.64262649, 2.72453191, 0.09757005]])"
            ]
          },
          "metadata": {},
          "execution_count": 13
        }
      ]
    },
    {
      "cell_type": "markdown",
      "source": [
        "Creating Sparse utility matrix"
      ],
      "metadata": {
        "id": "akFRCJJBRVn1"
      }
    },
    {
      "cell_type": "code",
      "source": [
        "def create_sparse_matrix(df, rows, cols, column_name=\"stars\"):\n",
        "    \"\"\" Returns a sparse utility matrix\"\"\" \n",
        "    return sparse.csc_matrix((df[column_name].values,(df['user_id'].values, df['business_id'].values)),shape=(rows, cols))"
      ],
      "metadata": {
        "id": "cj64p_yeRThV"
      },
      "execution_count": null,
      "outputs": []
    },
    {
      "cell_type": "code",
      "source": [
        "travel_df, num_users, num_places, user_ids, place_ids = encode_df(train_df)\n",
        "Y = create_sparse_matrix(travel_df, num_users, num_places)"
      ],
      "metadata": {
        "id": "OvT4dHpJRbBp"
      },
      "execution_count": null,
      "outputs": []
    },
    {
      "cell_type": "code",
      "source": [
        "# to view matrix\n",
        "Y.todense()"
      ],
      "metadata": {
        "colab": {
          "base_uri": "https://localhost:8080/"
        },
        "id": "sjXK8me2ReiT",
        "outputId": "248d057d-5c92-4176-a400-b8af8dc8e663"
      },
      "execution_count": null,
      "outputs": [
        {
          "output_type": "execute_result",
          "data": {
            "text/plain": [
              "matrix([[4, 0, 0, ..., 0, 0, 0],\n",
              "        [0, 4, 0, ..., 0, 0, 0],\n",
              "        [0, 0, 4, ..., 0, 0, 0],\n",
              "        ...,\n",
              "        [0, 0, 0, ..., 0, 0, 0],\n",
              "        [0, 0, 0, ..., 0, 0, 0],\n",
              "        [0, 0, 0, ..., 0, 0, 0]])"
            ]
          },
          "metadata": {},
          "execution_count": 16
        }
      ]
    },
    {
      "cell_type": "markdown",
      "source": [
        "### Making predictions"
      ],
      "metadata": {
        "id": "wTUJubanRhnG"
      }
    },
    {
      "cell_type": "code",
      "source": [
        "# Generates predicted values but dot product of user and item embeddings\n",
        "def predict(df, emb_user, emb_places):\n",
        "    \"\"\" This function computes df[\"prediction\"] without doing (U*V^T).\n",
        "    \n",
        "    Computes df[\"prediction\"] by using elementwise multiplication of the corresponding embeddings and then \n",
        "    sum to get the prediction u_i*v_j. This avoids creating the dense matrix U*V^T.\n",
        "    \"\"\"\n",
        "    df['prediction'] = np.sum(np.multiply(emb_places[df['business_id']],emb_user[df['user_id']]), axis=1)\n",
        "    return df"
      ],
      "metadata": {
        "id": "MW9wQiFrRgBM"
      },
      "execution_count": null,
      "outputs": []
    },
    {
      "cell_type": "markdown",
      "source": [
        "Cost"
      ],
      "metadata": {
        "id": "LZteRggzRm25"
      }
    },
    {
      "cell_type": "code",
      "source": [
        "lmbda = 0.0002"
      ],
      "metadata": {
        "id": "WNpUJQLmRnhc"
      },
      "execution_count": null,
      "outputs": []
    },
    {
      "cell_type": "code",
      "source": [
        "# computes the loss here, subtracting the predicted vs actual values\n",
        "def cost(df, emb_user, emb_places):\n",
        "    \"\"\" Computes mean square error\"\"\"\n",
        "    Y = create_sparse_matrix(df, emb_user.shape[0], emb_places.shape[0])\n",
        "    predicted = create_sparse_matrix(predict(df, emb_user, emb_places), emb_user.shape[0], emb_places.shape[0], 'prediction')\n",
        "    return np.sum((Y-predicted).power(2))/df.shape[0] "
      ],
      "metadata": {
        "id": "ogdfj0zSRpnJ"
      },
      "execution_count": null,
      "outputs": []
    },
    {
      "cell_type": "markdown",
      "source": [
        "### Gradient Descent"
      ],
      "metadata": {
        "id": "kFpFzoKDRswK"
      }
    },
    {
      "cell_type": "code",
      "source": [
        "def gradient(df, emb_user, emb_places):\n",
        "    \"\"\" Computes the gradient for user and place embeddings\"\"\"\n",
        "    Y = create_sparse_matrix(df, emb_user.shape[0], emb_places.shape[0])\n",
        "    predicted = create_sparse_matrix(predict(df, emb_user, emb_places), emb_user.shape[0], emb_places.shape[0], 'prediction')\n",
        "    delta =(Y-predicted)\n",
        "    grad_user = (-2/df.shape[0])*(delta*emb_places) + 2*lmbda*emb_user\n",
        "    grad_places = (-2/df.shape[0])*(delta.T*emb_user) + 2*lmbda*emb_places\n",
        "    return grad_user, grad_places"
      ],
      "metadata": {
        "id": "t8SxSeydRt-s"
      },
      "execution_count": null,
      "outputs": []
    },
    {
      "cell_type": "code",
      "source": [
        "import matplotlib.pyplot as plt"
      ],
      "metadata": {
        "id": "zLwzquKgH9RB"
      },
      "execution_count": null,
      "outputs": []
    },
    {
      "cell_type": "code",
      "source": [
        "# for optimzation we use the gradient descent.\n",
        "def gradient_descent(df, emb_user, emb_places, iterations=2000, learning_rate=0.01, df_val=None):\n",
        "    \"\"\" \n",
        "    Computes gradient descent with momentum (0.9) for given number of iterations.\n",
        "    emb_user: the trained user embedding\n",
        "    emb_places: the trained places embedding\n",
        "    \"\"\"\n",
        "    Y = create_sparse_matrix(df, emb_user.shape[0], emb_places.shape[0])\n",
        "    beta = 0.9\n",
        "    grad_user, grad_places = gradient(df, emb_user, emb_places)\n",
        "    v_user = grad_user\n",
        "    v_places = grad_places\n",
        "    for i in range(iterations):\n",
        "        grad_user, grad_places = gradient(df, emb_user, emb_places)\n",
        "        v_user = beta*v_user + (1-beta)*grad_user\n",
        "        v_places = beta*v_places + (1-beta)*grad_places\n",
        "        emb_user = emb_user - learning_rate*v_user\n",
        "        emb_places = emb_places - learning_rate*v_places\n",
        "        if(not (i+1)%50):\n",
        "            print(\"\\niteration\", i+1, \":\")\n",
        "            print(\"train mse:\",  cost(df, emb_user, emb_places))\n",
        "            if df_val is not None:\n",
        "                print(\"validation mse:\",  cost(df_val, emb_user, emb_places))\n",
        "\n",
        "    return emb_user, emb_places"
      ],
      "metadata": {
        "id": "EMJm0QImR4zQ"
      },
      "execution_count": null,
      "outputs": []
    },
    {
      "cell_type": "code",
      "source": [
        "# calls the gradient descent prints the appropriate loss for each iteration\n",
        "emb_user = create_embeddings(num_users, 3)\n",
        "emb_places = create_embeddings(num_places, 3)\n",
        "emb_user, emb_places = gradient_descent(travel_df, emb_user, emb_places, iterations=800, learning_rate=1)"
      ],
      "metadata": {
        "colab": {
          "base_uri": "https://localhost:8080/"
        },
        "id": "MiHzSsomR7nS",
        "outputId": "4140f7c5-c944-4d61-c07b-6d7b8b1bb898"
      },
      "execution_count": null,
      "outputs": [
        {
          "output_type": "stream",
          "name": "stdout",
          "text": [
            "\n",
            "iteration 50 :\n",
            "train mse: 6.0918765304644555\n",
            "\n",
            "iteration 100 :\n",
            "train mse: 5.442022831949239\n",
            "\n",
            "iteration 150 :\n",
            "train mse: 5.030427297909383\n",
            "\n",
            "iteration 200 :\n",
            "train mse: 4.75279488521228\n",
            "\n",
            "iteration 250 :\n",
            "train mse: 4.5589889419659615\n",
            "\n",
            "iteration 300 :\n",
            "train mse: 4.421243255852848\n",
            "\n",
            "iteration 350 :\n",
            "train mse: 4.322884891484207\n",
            "\n",
            "iteration 400 :\n",
            "train mse: 4.25330267457884\n",
            "\n",
            "iteration 450 :\n",
            "train mse: 4.205408426683128\n",
            "\n",
            "iteration 500 :\n",
            "train mse: 4.174268375194656\n",
            "\n",
            "iteration 550 :\n",
            "train mse: 4.156327785754057\n",
            "\n",
            "iteration 600 :\n",
            "train mse: 4.148950975191657\n",
            "\n",
            "iteration 650 :\n",
            "train mse: 4.1501363498021115\n",
            "\n",
            "iteration 700 :\n",
            "train mse: 4.158332836700726\n",
            "\n",
            "iteration 750 :\n",
            "train mse: 4.1723175289136964\n",
            "\n",
            "iteration 800 :\n",
            "train mse: 4.191111707034548\n"
          ]
        }
      ]
    },
    {
      "cell_type": "code",
      "source": [
        "# from matplotlib import pyplot as plt  "
      ],
      "metadata": {
        "id": "Jq0rCR2u-Ed6"
      },
      "execution_count": null,
      "outputs": []
    },
    {
      "cell_type": "code",
      "source": [
        "# plt.plot(iterations, train_mse, label='train')\n",
        "# plt.plot(iters, val_losses, label='validation')\n",
        "# plt.xlabel('Precision')\n",
        "# plt.ylabel('Recall')\n",
        "# plt.title('Precision versus Recall')\n",
        "# plt.show()"
      ],
      "metadata": {
        "id": "JGnEOSoNIU_s"
      },
      "execution_count": null,
      "outputs": []
    },
    {
      "cell_type": "code",
      "source": [
        "train_mse = cost(train_df, emb_user, emb_places)\n",
        "test_mse = cost(test_df, emb_user, emb_places)\n",
        "val_mse=cost(valid_df, emb_user, emb_places)\n",
        "print(train_mse, val_mse,test_mse)"
      ],
      "metadata": {
        "colab": {
          "base_uri": "https://localhost:8080/"
        },
        "id": "ICtk65HHZ0Up",
        "outputId": "205246c1-5e46-4138-c63e-291dc086f991"
      },
      "execution_count": null,
      "outputs": [
        {
          "output_type": "stream",
          "name": "stdout",
          "text": [
            "4.191111707034548 7.2416487694618885 7.2056799402598966\n"
          ]
        }
      ]
    }
  ]
}