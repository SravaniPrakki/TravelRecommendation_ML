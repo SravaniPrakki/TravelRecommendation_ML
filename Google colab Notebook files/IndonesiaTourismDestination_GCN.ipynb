{
  "nbformat": 4,
  "nbformat_minor": 0,
  "metadata": {
    "colab": {
      "provenance": [],
      "toc_visible": true
    },
    "kernelspec": {
      "name": "python3",
      "display_name": "Python 3"
    },
    "language_info": {
      "name": "python"
    }
  },
  "cells": [
    {
      "cell_type": "markdown",
      "source": [
        "1. Mount the google drive"
      ],
      "metadata": {
        "id": "8iKeJNAJFARE"
      }
    },
    {
      "cell_type": "code",
      "execution_count": null,
      "metadata": {
        "colab": {
          "base_uri": "https://localhost:8080/"
        },
        "id": "m_6WUdY8E4Xl",
        "outputId": "c45c8cc4-16bf-48d0-d11c-26e5e632b173"
      },
      "outputs": [
        {
          "output_type": "stream",
          "name": "stdout",
          "text": [
            "Drive already mounted at /content/drive; to attempt to forcibly remount, call drive.mount(\"/content/drive\", force_remount=True).\n"
          ]
        }
      ],
      "source": [
        "from google.colab import drive\n",
        "drive.mount('/content/drive')"
      ]
    },
    {
      "cell_type": "markdown",
      "source": [
        "2. To implement Graph structure importing necessary packages"
      ],
      "metadata": {
        "id": "lTYf2HQyFeXK"
      }
    },
    {
      "cell_type": "code",
      "source": [
        "# Install required packages.\n",
        "import os\n",
        "import torch\n",
        "os.environ['TORCH'] = torch.__version__\n",
        "print(torch.__version__)"
      ],
      "metadata": {
        "colab": {
          "base_uri": "https://localhost:8080/"
        },
        "id": "mqP4O2PvFclL",
        "outputId": "738fe2b7-0258-4c42-f552-41c672c50574"
      },
      "execution_count": null,
      "outputs": [
        {
          "output_type": "stream",
          "name": "stdout",
          "text": [
            "1.12.1+cu113\n"
          ]
        }
      ]
    },
    {
      "cell_type": "code",
      "source": [
        "!pip install -q torch-scatter -f https://data.pyg.org/whl/torch-${TORCH}.html \n",
        "!pip install -q torch-sparse -f https://data.pyg.org/whl/torch-${TORCH}.html\n",
        "!pip install -q git+https://github.com/pyg-team/pytorch_geometric.git"
      ],
      "metadata": {
        "id": "y70updZbFFDg"
      },
      "execution_count": null,
      "outputs": []
    },
    {
      "cell_type": "code",
      "source": [
        "!pip install -U -q PyDrive\n",
        "!pip install -q git+https://github.com/snap-stanford/deepsnap.git"
      ],
      "metadata": {
        "id": "FT7Sj6w8Fx5T"
      },
      "execution_count": null,
      "outputs": []
    },
    {
      "cell_type": "markdown",
      "source": [
        "# **1. Datasets**"
      ],
      "metadata": {
        "id": "te98A9EqGAD9"
      }
    },
    {
      "cell_type": "code",
      "source": [
        "import pandas as pd"
      ],
      "metadata": {
        "id": "iUdOeHTYF0jp"
      },
      "execution_count": null,
      "outputs": []
    },
    {
      "cell_type": "code",
      "source": [
        "user_path='/content/drive/MyDrive/project/data/user.csv'\n",
        "rating_path = '/content/drive/MyDrive/project/data/tourism_rating.csv'\n",
        "place_path = '/content/drive/MyDrive/project/data/tourism_with_id.csv'\n",
        "\n",
        "# merged1 = pd.merge(df_ratings, df_places, on='Place_Id', how='left')\n",
        "# df_user=pd.read_csv('/content/drive/MyDrive/project/data/user.csv')\n",
        "# review_path=pd.merge(merged1, df_user, on='User_Id', how='left')"
      ],
      "metadata": {
        "id": "p1PbRbVeGPMK"
      },
      "execution_count": null,
      "outputs": []
    },
    {
      "cell_type": "markdown",
      "source": [
        "IMport modules"
      ],
      "metadata": {
        "id": "uBIzybVeMC4k"
      }
    },
    {
      "cell_type": "code",
      "source": [
        "import random\n",
        "from tqdm import tqdm\n",
        "import pandas as pd\n",
        "import numpy as np\n",
        "import matplotlib.pyplot as plt\n",
        "from sklearn.model_selection import train_test_split"
      ],
      "metadata": {
        "id": "0V6QWMHuMEPB"
      },
      "execution_count": null,
      "outputs": []
    },
    {
      "cell_type": "code",
      "source": [
        "import torch\n",
        "from torch import nn, optim, Tensor"
      ],
      "metadata": {
        "id": "h59BiwVHMGcs"
      },
      "execution_count": null,
      "outputs": []
    },
    {
      "cell_type": "code",
      "source": [
        "import torch_geometric"
      ],
      "metadata": {
        "id": "T8kLJVfLMHKt"
      },
      "execution_count": null,
      "outputs": []
    },
    {
      "cell_type": "code",
      "source": [
        "from torch_sparse import SparseTensor, matmul"
      ],
      "metadata": {
        "id": "4_3klVzSMJBz"
      },
      "execution_count": null,
      "outputs": []
    },
    {
      "cell_type": "code",
      "source": [
        "# packages for importing the GCN model\n",
        "\n",
        "from torch_geometric.utils import structured_negative_sampling\n",
        "from torch_geometric.data import download_url, extract_zip\n",
        "from torch_geometric.nn.conv.gcn_conv import gcn_norm\n",
        "from torch_geometric.nn.conv import MessagePassing\n",
        "from torch_geometric.typing import Adj"
      ],
      "metadata": {
        "id": "_iafA60uMK3Q"
      },
      "execution_count": null,
      "outputs": []
    },
    {
      "cell_type": "markdown",
      "source": [
        "5. Load the dataset"
      ],
      "metadata": {
        "id": "R8P3M1eXGuhT"
      }
    },
    {
      "cell_type": "code",
      "source": [
        "# load user and review nodes\n",
        "def load_node_csv(path, index_col):\n",
        "    \"\"\"Loads csv containing node information\n",
        "\n",
        "    Args:\n",
        "        path (str): path to csv file\n",
        "        index_col (str): column name of index column\n",
        "\n",
        "    Returns:\n",
        "        dict: mapping of csv row to node id\n",
        "    \"\"\"\n",
        "    df = pd.read_csv(path, index_col=index_col)\n",
        "    mapping = {index: i for i, index in enumerate(df.index.unique())}\n",
        "    return mapping\n",
        "\n",
        "# This method basically creates a dictionary containing index for unique user or business id."
      ],
      "metadata": {
        "id": "Sq5FjfcAGigS"
      },
      "execution_count": null,
      "outputs": []
    },
    {
      "cell_type": "code",
      "source": [
        "user_mapping = load_node_csv(user_path, index_col='User_Id')\n",
        "place_mapping = load_node_csv(place_path, index_col='Place_Id')\n"
      ],
      "metadata": {
        "id": "MEtIJsjrG2xX"
      },
      "execution_count": null,
      "outputs": []
    },
    {
      "cell_type": "code",
      "source": [
        "# Homogenous graph with no disticntion between users and business\n",
        "# load edges between users and business\n",
        "def load_edge_csv(path, src_index_col, src_mapping, dst_index_col,dst_mapping, link_index_col,rating_threshold):\n",
        "    \"\"\"Loads csv containing edges between users and items\n",
        "\n",
        "    Args:\n",
        "        path (str): path to csv file\n",
        "        src_index_col (str): column name of users\n",
        "        src_mapping (dict): mapping between row number and user id\n",
        "        dst_index_col (str): column name of items\n",
        "        dst_mapping (dict): mapping between row number and item id\n",
        "        link_index_col (str): column name of user item interaction\n",
        "        rating_threshold (int, optional): Threshold to determine positivity of edge. Defaults to 4.\n",
        "\n",
        "    Returns:\n",
        "        torch.Tensor: 2 by N matrix containing the node ids of N user-item edges\n",
        "    \"\"\"\n",
        "    df = pd.read_csv(path)\n",
        "    edge_index = None\n",
        "    src = [src_mapping[index] for index in df[src_index_col]]\n",
        "    # list comprehension\n",
        "    # creates src list for users, dst list for items with index values\n",
        "    dst = [dst_mapping[index] for index in df[dst_index_col]]\n",
        "    \n",
        "    edge_attr = torch.from_numpy(df[link_index_col].values).view(-1, 1).to(torch.long) >= rating_threshold\n",
        "  # Assigns edge between the user and the item if the user has rated the place/business with rating >=4\n",
        "    edge_index = [[],[]]\n",
        "    for i in range(edge_attr.shape[0]):\n",
        "        if edge_attr[i]:\n",
        "            edge_index[0].append(src[i])\n",
        "            edge_index[1].append(dst[i])\n",
        "            \n",
        "    # returns a tensor object of the indices which are yet to be converted to embeddings to be given to a model\n",
        "    return torch.tensor(edge_index)"
      ],
      "metadata": {
        "id": "tzrcMLJJJ3j1"
      },
      "execution_count": null,
      "outputs": []
    },
    {
      "cell_type": "code",
      "source": [
        "edge_index = load_edge_csv(\n",
        "    rating_path,\n",
        "    src_index_col='User_Id',\n",
        "    src_mapping=user_mapping,\n",
        "    dst_index_col='Place_Id',\n",
        "    dst_mapping=place_mapping,\n",
        "    link_index_col='Place_Ratings',\n",
        "    rating_threshold=4,\n",
        "    # To preprocess the data to include ratings >=4 as we would like to recommend these businsess/places to users\n",
        ")"
      ],
      "metadata": {
        "id": "ZN2BThtdMVZE"
      },
      "execution_count": null,
      "outputs": []
    },
    {
      "cell_type": "code",
      "source": [
        "edge_index.shape"
      ],
      "metadata": {
        "colab": {
          "base_uri": "https://localhost:8080/"
        },
        "id": "mhF7ihl2JV6Y",
        "outputId": "1fba9ab1-b0a0-4595-b9a7-e4b26f12d3f5"
      },
      "execution_count": null,
      "outputs": [
        {
          "output_type": "execute_result",
          "data": {
            "text/plain": [
              "torch.Size([2, 10000])"
            ]
          },
          "metadata": {},
          "execution_count": 137
        }
      ]
    },
    {
      "cell_type": "markdown",
      "source": [
        "7. Train/validation/test split"
      ],
      "metadata": {
        "id": "NpFF9JrKNuGv"
      }
    },
    {
      "cell_type": "code",
      "source": [
        "# Representing the adjacency matrix as sparsetensor as the matrix has most values as zero\n",
        "# This representation reduces memory head\n",
        "\n",
        "num_users, num_places = len(user_mapping), len(place_mapping)\n",
        "\n",
        "#shape of the edge_index ie., link between user and places nodes is flattened\n",
        "num_interactions = edge_index.shape[1]"
      ],
      "metadata": {
        "id": "pMPtEbzxNfaf"
      },
      "execution_count": null,
      "outputs": []
    },
    {
      "cell_type": "code",
      "source": [
        "print(num_users)\n",
        "print(num_places)\n",
        "print(num_interactions) # total no of edges"
      ],
      "metadata": {
        "colab": {
          "base_uri": "https://localhost:8080/"
        },
        "id": "RVJttylvNy-l",
        "outputId": "df429c52-a255-4c9b-a631-a2fae7408719"
      },
      "execution_count": null,
      "outputs": [
        {
          "output_type": "stream",
          "name": "stdout",
          "text": [
            "300\n",
            "437\n",
            "2021\n"
          ]
        }
      ]
    },
    {
      "cell_type": "code",
      "source": [
        "print(num_users)\n",
        "print(num_places)\n",
        "print(num_interactions) # total no of edges"
      ],
      "metadata": {
        "colab": {
          "base_uri": "https://localhost:8080/"
        },
        "id": "-Srhrb5tN808",
        "outputId": "245e4534-d7ef-4bf3-8732-064fb74f9899"
      },
      "execution_count": null,
      "outputs": [
        {
          "output_type": "stream",
          "name": "stdout",
          "text": [
            "300\n",
            "437\n",
            "10000\n"
          ]
        }
      ]
    },
    {
      "cell_type": "code",
      "source": [
        "#all_indicides hold all the index values for the graph_index in an array format \n",
        "all_indices = [i for i in range(num_interactions)]\n",
        "\n",
        "# uses sklearn.model_selection.train_test_split package to split the 3 sets train, validation and test,\n",
        "# but the underlying input graph remains the same\n",
        "\n",
        "# of all the indices it splits the 20% to test_indices and its (complement) 80% to train_indicies\n",
        "train_indices, test_indices = train_test_split(all_indices, test_size=0.1, random_state=1)\n",
        "\n",
        "# of the test_indicies, it splits 10% to test_indicies and its (complement) 10% to val_indices\n",
        "val_indices, test_indices = train_test_split(test_indices, test_size=0.5, random_state=1)"
      ],
      "metadata": {
        "id": "pva-imyeOVhP"
      },
      "execution_count": null,
      "outputs": []
    },
    {
      "cell_type": "code",
      "source": [
        "# As we are doing link/edge prediction we are splitting this edge information to 3 sets train, validation and test\n",
        "# proportion of edges are as follows 80% --> train; 10% --> test; 10% --> validation\n",
        "\n",
        "# The [:, :] stands for everything from the beginning to the end just like for lists\n",
        "\n",
        "# The below statement assigns the interaction edges which were generated for the homogenous graph to the appropriate proportion\n",
        "# to that particular\n",
        "\n",
        "# we take the edges (tuples between user and places ie., the link information) and split to test and train datasets\n",
        "\n",
        "train_edge_index = edge_index[:, train_indices]\n",
        "val_edge_index = edge_index[:, val_indices]\n",
        "test_edge_index = edge_index[:, test_indices]"
      ],
      "metadata": {
        "id": "VC9DVNW3OZwq"
      },
      "execution_count": null,
      "outputs": []
    },
    {
      "cell_type": "code",
      "source": [
        "# convert edge indices into Sparse Tensors: https://pytorch-geometric.readthedocs.io/en/latest/notes/sparse_tensor.html\n",
        "# Here the edge_index format (interaction graph) is converted to sparsetensor (mainly used for matrices with more zero values)\n",
        "# used for GNN models, this format is given as input to the models beneath.\n",
        "\n",
        "# train_sparse_edge_index = SparseTensor(row=train_edge_index[0], col=train_edge_index[1], sparse_sizes=(\n",
        "#     num_users + num_places, num_users + num_places))\n",
        "# val_sparse_edge_index = SparseTensor(row=val_edge_index[0], col=val_edge_index[1], sparse_sizes=(\n",
        "#     num_users + num_places, num_users + num_places))\n",
        "# test_sparse_edge_index = SparseTensor(row=test_edge_index[0], col=test_edge_index[1], sparse_sizes=(\n",
        "#     num_users + num_places, num_users + num_places))"
      ],
      "metadata": {
        "id": "DP4UoN8rOcIW"
      },
      "execution_count": null,
      "outputs": []
    },
    {
      "cell_type": "code",
      "source": [
        "train_rowinput = torch.cat([train_edge_index[0], num_users + train_edge_index[1]])\n",
        "train_colinput = torch.cat([num_users + train_edge_index[1], train_edge_index[1]])\n",
        "\n",
        "val_rowinput = torch.cat([val_edge_index[0], num_users + val_edge_index[1]])\n",
        "val_colinput = torch.cat([num_users + val_edge_index[1], val_edge_index[1]])\n",
        "\n",
        "test_rowinput = torch.cat([test_edge_index[0], num_users + test_edge_index[1]])\n",
        "test_colinput = torch.cat([num_users + test_edge_index[1], test_edge_index[1]])\n",
        "\n",
        "train_sparse_edge_index = SparseTensor(row=train_rowinput, col=train_colinput, sparse_sizes=(\n",
        "    num_users + num_places, num_users + num_places))\n",
        "val_sparse_edge_index = SparseTensor(row=val_rowinput, col=val_colinput, sparse_sizes=(\n",
        "    num_users + num_places, num_users + num_places))\n",
        "test_sparse_edge_index = SparseTensor(row=test_rowinput, col=test_colinput, sparse_sizes=(\n",
        "    num_users + num_places, num_users + num_places))"
      ],
      "metadata": {
        "id": "HurFTwKBw8p7"
      },
      "execution_count": null,
      "outputs": []
    },
    {
      "cell_type": "markdown",
      "source": [
        "9. Mini Batch for postive, negative samples"
      ],
      "metadata": {
        "id": "uZ2DcvszOg99"
      }
    },
    {
      "cell_type": "code",
      "source": [
        "# function which random samples a mini-batch of positive and negative samples\n",
        "def sample_mini_batch(batch_size, edge_index):\n",
        "    \"\"\"Randomly samples indices of a minibatch given an adjacency matrix\n",
        "\n",
        "    Args:\n",
        "        batch_size (int): minibatch size\n",
        "        edge_index (torch.Tensor): 2 by N list of edges\n",
        "\n",
        "    Returns:\n",
        "        tuple: user indices, positive item indices, negative item indices\n",
        "    \"\"\"\n",
        "    edges = structured_negative_sampling(edge_index)\n",
        "    edges = torch.stack(edges, dim=0)\n",
        "    indices = random.choices(\n",
        "        [i for i in range(edges[0].shape[0])], k=batch_size)\n",
        "    batch = edges[:, indices]\n",
        "    user_indices, pos_item_indices, neg_item_indices = batch[0], batch[1], batch[2]\n",
        "    return user_indices, pos_item_indices, neg_item_indices"
      ],
      "metadata": {
        "id": "-a2bEahNOidp"
      },
      "execution_count": null,
      "outputs": []
    },
    {
      "cell_type": "markdown",
      "source": [
        "8. Implementing LightGCN"
      ],
      "metadata": {
        "id": "M0y4_wWuOmpv"
      }
    },
    {
      "cell_type": "code",
      "source": [
        "# defines LightGCN model\n",
        "\n",
        "# The below model uses torch_geometric.nn package for defining the LightGCN model\n",
        "# The model is from https://pytorch-geometric.readthedocs.io/en/latest/notes/create_gnn.html\n",
        "\n",
        "# packages used torch_geometric.nn.conv.gcn_conv for normalization, torch_geometric.nn.conv for MessagePassing\n",
        "\n",
        "class LightGCN(MessagePassing):\n",
        "    \"\"\"LightGCN Model as proposed in https://arxiv.org/abs/2002.02126\n",
        "    \"\"\"\n",
        "    \n",
        "    # This _init_method lets the class initialize the objects (constructor)\n",
        "    #Initializes the Light GCN model\n",
        "\n",
        "    def __init__(self, num_users, num_places, embedding_dim=64, K=3, add_self_loops=False):\n",
        "        \"\"\"Initializes LightGCN Model\n",
        "\n",
        "        Args:\n",
        "            num_users (int): Number of users\n",
        "            num_places (int): Number of places/business\n",
        "            embedding_dim (int, optional): Dimensionality of embeddings. Defaults to 8.\n",
        "            K (int, optional): Number of message passing layers. Defaults to 3.\n",
        "            add_self_loops (bool, optional): Whether to add self loops for message passing. Defaults to False.\n",
        "        \"\"\"\n",
        "\n",
        "        super().__init__()\n",
        "        # refers to the parent class objects that were created above\n",
        "\n",
        "        # The PyTorch module, nn.Embedding as seen below will assign each node an embedding vector \n",
        "        # such that we have an embedding matrix Z where each row is the d-dimensional embedding vector for a node in our graph\n",
        "\n",
        "        self.num_users, self.num_places = num_users, num_places\n",
        "        # assigns the users and places/business similar to the existing original paper code\n",
        "\n",
        "        self.embedding_dim, self.K = embedding_dim, K\n",
        "        # the embedding dimesion values and no of message passing layers are defined in the init method.\n",
        "\n",
        "        self.add_self_loops = add_self_loops\n",
        "        # Here there are no self loops as it is a bipartite graph.\n",
        "        \n",
        "        # calculating the base 64 embedding vectors for the user and places(items) (upto 8)\n",
        "        # This \n",
        "        self.users_emb = nn.Embedding(\n",
        "            num_embeddings=self.num_users, embedding_dim=self.embedding_dim) # e_u^0\n",
        "\n",
        "        self.items_emb = nn.Embedding(\n",
        "            num_embeddings=self.num_places, embedding_dim=self.embedding_dim) # e_i^0\n",
        "\n",
        "        # parameter initilzation of the initial weights \n",
        "        # initalization of weights for the embedding matrix for user, place(business)\n",
        "\n",
        "\n",
        "        # torch.nn.init.normal_(tensor, mean=0.0, std=1.0) -->Fills the input Tensor with values drawn from the normal distribution \n",
        "        # setting standard deviation = 0.1 instead of 1 (overriding the normal distribution which is 1 by setting standard deviation parameters)\n",
        "        nn.init.normal_(self.users_emb.weight, std=0.1)\n",
        "        # gaussian distribution(general distribution) mean =0, variance =1 (normal distribution)\n",
        "        # setting parametes for neural network\n",
        "        nn.init.normal_(self.items_emb.weight, std=0.1)\n",
        "\n",
        "# Message passing and aggregation functions are mentioned below\n",
        "\n",
        "    def forward(self, edge_index: SparseTensor):\n",
        "        \"\"\"Forward propagation of LightGCN Model.\n",
        "\n",
        "        Args:\n",
        "            edge_index (SparseTensor): adjacency matrix\n",
        "\n",
        "        Returns:\n",
        "            tuple (Tensor): e_u_k, e_u_0, e_i_k, e_i_0\n",
        "        \"\"\"\n",
        "        # e_u_k(embeddings of the user at kth layer), e_u_0, e_i_k, e_i_0\n",
        "        # compute \\tilde{A}: symmetrically normalized adjacency matrix\n",
        "        \n",
        "        # The goal of normalization is to transform features to be on a similar scale. \n",
        "        # This improves the performance and training stability of the model\n",
        "        edge_index_norm = gcn_norm(\n",
        "            edge_index, add_self_loops=self.add_self_loops)\n",
        "        \n",
        "        # print(\"edge_index_norm is\",edge_index_norm)\n",
        "\n",
        "        # Concatenates the given sequence of seq tensors in the given dimension.\n",
        "        # concatenates the weights  \n",
        "        # [num_users*embedding_dim] size = self.users_emb.weight size\n",
        "\n",
        "        #Combining for the final embedding\n",
        "        emb_0 = torch.cat([self.users_emb.weight, self.items_emb.weight]) # E^0\n",
        "        # print(\"emb_0:\",emb_0)\n",
        "        # ipdb.set_trace()\n",
        "        # converting the item to python list, to increase the dimensions; to create a fake 1 dimension\n",
        "        embs = [emb_0]\n",
        "        # print(\"embs\",embs)\n",
        "        # (a model takes batch_size as 1st dimension, 1* dimension of item within the list --> size  )\n",
        "        emb_k = emb_0\n",
        "        # print(\"emb_k\",emb_k)\n",
        "        # to get the diffusion matrix \n",
        "        # multi-scale diffusion\n",
        "        for i in range(self.K):\n",
        "            \n",
        "            # self.propagate is for propagating the messages\n",
        "            # updating the node\n",
        "            # edge_index_norm=torch.transpose(edge_index_norm)\n",
        "            emb_k = self.propagate(edge_index_norm, x=emb_k)\n",
        "            embs.append(emb_k)\n",
        "\n",
        "        embs = torch.stack(embs, dim=1)\n",
        "        emb_final = torch.mean(embs, dim=1) # E^K\n",
        "\n",
        "        users_emb_final, items_emb_final = torch.split(\n",
        "            emb_final, [self.num_users, self.num_places]) # splits into e_u^K and e_i^K\n",
        "\n",
        "        # returns e_u^K, e_u^0, e_i^K, e_i^0\n",
        "        return users_emb_final, self.users_emb.weight, items_emb_final, self.items_emb.weight\n",
        "\n",
        "    def message(self, x_j: Tensor) -> Tensor:\n",
        "        return x_j\n",
        "\n",
        "    def message_and_aggregate(self, adj_t: SparseTensor, x: Tensor) -> Tensor:\n",
        "        # computes \\tilde{A} @ x\n",
        "        # does the matrix multiplication like in the matrix factorization\n",
        "        return matmul(adj_t, x)\n",
        "\n",
        "model = LightGCN(num_users, num_places)"
      ],
      "metadata": {
        "id": "7QAs1OB-Ok-7"
      },
      "execution_count": null,
      "outputs": []
    },
    {
      "cell_type": "code",
      "source": [
        "# Below code is for Loss function for adjusting the weights\n",
        "\n",
        "# To train the LightGCN model, we need an objective function that aligns with our goal for movie recommendation.\n",
        "# We use the Bayesian Personalized Ranking (BPR) loss,\n",
        "# which encourages observed user-item predictions to have increasingly higher values than unobserved ones\n",
        "\n",
        "def bpr_loss(users_emb_final, users_emb_0, pos_items_emb_final, pos_items_emb_0, neg_items_emb_final, neg_items_emb_0, lambda_val):\n",
        "    \"\"\"Bayesian Personalized Ranking Loss as described in https://arxiv.org/abs/1205.2618\n",
        "\n",
        "    Args:\n",
        "        users_emb_final (torch.Tensor): e_u_k\n",
        "        users_emb_0 (torch.Tensor): e_u_0\n",
        "        pos_items_emb_final (torch.Tensor): positive e_i_k\n",
        "        pos_items_emb_0 (torch.Tensor): positive e_i_0\n",
        "        neg_items_emb_final (torch.Tensor): negative e_i_k\n",
        "        neg_items_emb_0 (torch.Tensor): negative e_i_0\n",
        "        lambda_val (float): lambda value for regularization loss term\n",
        "\n",
        "    Returns:\n",
        "        torch.Tensor: scalar bpr loss value\n",
        "    \"\"\"\n",
        "    reg_loss = lambda_val * (users_emb_0.norm(2).pow(2) +\n",
        "                             pos_items_emb_0.norm(2).pow(2) +\n",
        "                             neg_items_emb_0.norm(2).pow(2)) # L2 loss\n",
        "\n",
        "    pos_scores = torch.mul(users_emb_final, pos_items_emb_final)\n",
        "    pos_scores = torch.sum(pos_scores, dim=-1) # predicted scores of positive samples\n",
        "    neg_scores = torch.mul(users_emb_final, neg_items_emb_final)\n",
        "    neg_scores = torch.sum(neg_scores, dim=-1) # predicted scores of negative samples\n",
        "\n",
        "    loss = -torch.mean(torch.nn.functional.softplus(pos_scores - neg_scores)) + reg_loss\n",
        "\n",
        "    return loss"
      ],
      "metadata": {
        "id": "vlFl9ErHOrf2"
      },
      "execution_count": null,
      "outputs": []
    },
    {
      "cell_type": "code",
      "source": [
        "# helper function to get N_u\n",
        "def get_user_positive_items(edge_index):\n",
        "    \"\"\"Generates dictionary of positive items for each user\n",
        "\n",
        "    Args:\n",
        "        edge_index (torch.Tensor): 2 by N list of edges\n",
        "\n",
        "    Returns:\n",
        "        dict: dictionary of positive items for each user\n",
        "    \"\"\"\n",
        "    user_pos_items = {}\n",
        "    for i in range(edge_index.shape[1]):\n",
        "        user = edge_index[0][i].item()\n",
        "        item = edge_index[1][i].item()\n",
        "        if user not in user_pos_items:\n",
        "            user_pos_items[user] = []\n",
        "        user_pos_items[user].append(item)\n",
        "    return user_pos_items"
      ],
      "metadata": {
        "id": "cAKnRfT1OvTF"
      },
      "execution_count": null,
      "outputs": []
    },
    {
      "cell_type": "code",
      "source": [
        "# computes recall@K and precision@K\n",
        "def RecallPrecision_ATk(groundTruth, r, k):\n",
        "    \"\"\"Computers recall @ k and precision @ k\n",
        "\n",
        "    Args:\n",
        "        groundTruth (list): list of lists containing highly rated items of each user\n",
        "        r (list): list of lists indicating whether each top k item recommended to each user\n",
        "            is a top k ground truth item or not\n",
        "        k (intg): determines the top k items to compute precision and recall on\n",
        "\n",
        "    Returns:\n",
        "        tuple: recall @ k, precision @ k\n",
        "    \"\"\"\n",
        "    num_correct_pred = torch.sum(r, dim=-1)  # number of correctly predicted items per user\n",
        "    # number of items liked by each user in the test set\n",
        "    user_num_liked = torch.Tensor([len(groundTruth[i])\n",
        "                                  for i in range(len(groundTruth))])\n",
        "    recall = torch.mean(num_correct_pred / user_num_liked)\n",
        "    precision = torch.mean(num_correct_pred / k)\n",
        "    return recall.item(), precision.item()"
      ],
      "metadata": {
        "id": "FpSmypPMOzlj"
      },
      "execution_count": null,
      "outputs": []
    },
    {
      "cell_type": "code",
      "source": [
        "# computes NDCG@K\n",
        "def NDCGatK_r(groundTruth, r, k):\n",
        "    \"\"\"Computes Normalized Discounted Cumulative Gain (NDCG) @ k\n",
        "\n",
        "    Args:\n",
        "        groundTruth (list): list of lists containing highly rated items of each user\n",
        "        r (list): list of lists indicating whether each top k item recommended to each user\n",
        "            is a top k ground truth item or not\n",
        "        k (int): determines the top k items to compute ndcg on\n",
        "\n",
        "    Returns:\n",
        "        float: ndcg @ k\n",
        "    \"\"\"\n",
        "    assert len(r) == len(groundTruth)\n",
        "\n",
        "    test_matrix = torch.zeros((len(r), k))\n",
        "\n",
        "    for i, items in enumerate(groundTruth):\n",
        "        length = min(len(items), k)\n",
        "        test_matrix[i, :length] = 1\n",
        "    max_r = test_matrix\n",
        "    idcg = torch.sum(max_r * 1. / torch.log2(torch.arange(2, k + 2)), axis=1)\n",
        "    dcg = r * (1. / torch.log2(torch.arange(2, k + 2)))\n",
        "    dcg = torch.sum(dcg, axis=1)\n",
        "    idcg[idcg == 0.] = 1.\n",
        "    ndcg = dcg / idcg\n",
        "    ndcg[torch.isnan(ndcg)] = 0.\n",
        "    return torch.mean(ndcg).item()"
      ],
      "metadata": {
        "id": "0M0xNV65O2qQ"
      },
      "execution_count": null,
      "outputs": []
    },
    {
      "cell_type": "code",
      "source": [
        "# wrapper function to get evaluation metrics\n",
        "def get_metrics(model, edge_index, exclude_edge_indices, k):\n",
        "    \"\"\"Computes the evaluation metrics: recall, precision, and ndcg @ k\n",
        "\n",
        "    Args:\n",
        "        model (LighGCN): lightgcn model\n",
        "        edge_index (torch.Tensor): 2 by N list of edges for split to evaluate\n",
        "        exclude_edge_indices ([type]): 2 by N list of edges for split to discount from evaluation\n",
        "        k (int): determines the top k items to compute metrics on\n",
        "\n",
        "    Returns:\n",
        "        tuple: recall @ k, precision @ k, ndcg @ k\n",
        "    \"\"\"\n",
        "    user_embedding = model.users_emb.weight\n",
        "    item_embedding = model.items_emb.weight\n",
        "\n",
        "    # get ratings between every user and item - shape is num users x num movies\n",
        "    rating = torch.matmul(user_embedding, item_embedding.T)\n",
        "\n",
        "    for exclude_edge_index in exclude_edge_indices:\n",
        "        # gets all the positive items for each user from the edge index\n",
        "        user_pos_items = get_user_positive_items(exclude_edge_index)\n",
        "        # get coordinates of all edges to exclude\n",
        "        exclude_users = []\n",
        "        exclude_items = []\n",
        "        for user, items in user_pos_items.items():\n",
        "            exclude_users.extend([user] * len(items))\n",
        "            exclude_items.extend(items)\n",
        "\n",
        "        # set ratings of excluded edges to large negative value\n",
        "        rating[exclude_users, exclude_items] = -(1 << 10)\n",
        "\n",
        "    # get the top k recommended items for each user\n",
        "    _, top_K_items = torch.topk(rating, k=k)\n",
        "\n",
        "    # get all unique users in evaluated split\n",
        "    users = edge_index[0].unique()\n",
        "\n",
        "    test_user_pos_items = get_user_positive_items(edge_index)\n",
        "\n",
        "    # convert test user pos items dictionary into a list\n",
        "    test_user_pos_items_list = [\n",
        "        test_user_pos_items[user.item()] for user in users]\n",
        "\n",
        "    # determine the correctness of topk predictions\n",
        "    r = []\n",
        "    for user in users:\n",
        "        ground_truth_items = test_user_pos_items[user.item()]\n",
        "        label = list(map(lambda x: x in ground_truth_items, top_K_items[user]))\n",
        "        r.append(label)\n",
        "    r = torch.Tensor(np.array(r).astype('float'))\n",
        "\n",
        "    recall, precision = RecallPrecision_ATk(test_user_pos_items_list, r, k)\n",
        "    ndcg = NDCGatK_r(test_user_pos_items_list, r, k)\n",
        "\n",
        "    return recall, precision, ndcg"
      ],
      "metadata": {
        "id": "BT-vxpARO3rS"
      },
      "execution_count": null,
      "outputs": []
    },
    {
      "cell_type": "code",
      "source": [
        "# wrapper function to evaluate model\n",
        "def evaluation(model, edge_index, sparse_edge_index, exclude_edge_indices, k, lambda_val):\n",
        "    \"\"\"Evaluates model loss and metrics including recall, precision, ndcg @ k\n",
        "\n",
        "    Args:\n",
        "        model (LighGCN): lightgcn model\n",
        "        edge_index (torch.Tensor): 2 by N list of edges for split to evaluate\n",
        "        sparse_edge_index (sparseTensor): sparse adjacency matrix for split to evaluate\n",
        "        exclude_edge_indices ([type]): 2 by N list of edges for split to discount from evaluation\n",
        "        k (int): determines the top k items to compute metrics on\n",
        "        lambda_val (float): determines lambda for bpr loss\n",
        "\n",
        "    Returns:\n",
        "        tuple: bpr loss, recall @ k, precision @ k, ndcg @ k\n",
        "    \"\"\"\n",
        "    # get embeddings\n",
        "    users_emb_final, users_emb_0, items_emb_final, items_emb_0 = model.forward(\n",
        "        sparse_edge_index)\n",
        "    edges = structured_negative_sampling(\n",
        "        edge_index)\n",
        "    user_indices, pos_item_indices, neg_item_indices = edges[0], edges[1], edges[2]\n",
        "    users_emb_final, users_emb_0 = users_emb_final[user_indices], users_emb_0[user_indices]\n",
        "    pos_items_emb_final, pos_items_emb_0 = items_emb_final[\n",
        "        pos_item_indices], items_emb_0[pos_item_indices]\n",
        "    neg_items_emb_final, neg_items_emb_0 = items_emb_final[\n",
        "        neg_item_indices], items_emb_0[neg_item_indices]\n",
        "\n",
        "    loss = bpr_loss(users_emb_final, users_emb_0, pos_items_emb_final, pos_items_emb_0,\n",
        "                    neg_items_emb_final, neg_items_emb_0, lambda_val).item()\n",
        "\n",
        "    recall, precision, ndcg = get_metrics(\n",
        "        model, edge_index, exclude_edge_indices, k)\n",
        "\n",
        "    return loss, recall, precision, ndcg"
      ],
      "metadata": {
        "id": "DX1RkfE2O62Z"
      },
      "execution_count": null,
      "outputs": []
    },
    {
      "cell_type": "code",
      "source": [],
      "metadata": {
        "id": "r5Cw8cUBovCW"
      },
      "execution_count": null,
      "outputs": []
    },
    {
      "cell_type": "markdown",
      "source": [
        "Training:\n"
      ],
      "metadata": {
        "id": "ruPJ5QyYPANy"
      }
    },
    {
      "cell_type": "code",
      "source": [
        "# define contants\n",
        "ITERATIONS = 20000\n",
        "BATCH_SIZE = 1024\n",
        "LR = 1e-3\n",
        "ITERS_PER_EVAL = 200\n",
        "ITERS_PER_LR_DECAY = 200\n",
        "K = 20\n",
        "LAMBDA = 1e-6"
      ],
      "metadata": {
        "id": "82DxfBi4PBNY"
      },
      "execution_count": null,
      "outputs": []
    },
    {
      "cell_type": "code",
      "source": [
        "# setup\n",
        "device = torch.device('cuda' if torch.cuda.is_available() else 'cpu')\n",
        "print(f\"Using device {device}.\")\n",
        "\n",
        "# moves model to gpu device\n",
        "model = model.to(device)\n",
        "\n",
        "# keeps model in training model; other model is eval mode\n",
        "model.train()\n",
        "\n",
        "optimizer = optim.Adam(model.parameters(), lr=LR)\n",
        "scheduler = optim.lr_scheduler.ExponentialLR(optimizer, gamma=0.95)\n",
        "\n",
        "edge_index = edge_index.to(device)\n",
        "train_edge_index = train_edge_index.to(device)\n",
        "train_sparse_edge_index = train_sparse_edge_index.to(device)\n",
        "\n",
        "val_edge_index = val_edge_index.to(device)\n",
        "val_sparse_edge_index = val_sparse_edge_index.to(device)"
      ],
      "metadata": {
        "colab": {
          "base_uri": "https://localhost:8080/"
        },
        "id": "U96TQ8HwPET1",
        "outputId": "b575331d-7aae-4929-c480-db51c57cba7c"
      },
      "execution_count": null,
      "outputs": [
        {
          "output_type": "stream",
          "name": "stdout",
          "text": [
            "Using device cpu.\n"
          ]
        }
      ]
    },
    {
      "cell_type": "code",
      "source": [
        "train_losses = []\n",
        "val_losses = []\n",
        " \n",
        "for iter in range(ITERATIONS):\n",
        "    # forward propagation\n",
        "    users_emb_final, users_emb_0, items_emb_final, items_emb_0 = model.forward(\n",
        "        train_sparse_edge_index)\n",
        "\n",
        "    # mini batching\n",
        "    user_indices, pos_item_indices, neg_item_indices = sample_mini_batch(\n",
        "        BATCH_SIZE, train_edge_index)\n",
        "    user_indices, pos_item_indices, neg_item_indices = user_indices.to(\n",
        "        device), pos_item_indices.to(device), neg_item_indices.to(device)\n",
        "    users_emb_final, users_emb_0 = users_emb_final[user_indices], users_emb_0[user_indices]\n",
        "    pos_items_emb_final, pos_items_emb_0 = items_emb_final[\n",
        "        pos_item_indices], items_emb_0[pos_item_indices]\n",
        "    neg_items_emb_final, neg_items_emb_0 = items_emb_final[\n",
        "        neg_item_indices], items_emb_0[neg_item_indices]\n",
        "\n",
        "    # loss computation\n",
        "    train_loss = bpr_loss(users_emb_final, users_emb_0, pos_items_emb_final,\n",
        "                          pos_items_emb_0, neg_items_emb_final, neg_items_emb_0, LAMBDA)\n",
        "\n",
        "    optimizer.zero_grad()\n",
        "    # doing backpropogation\n",
        "    train_loss.backward()\n",
        "    optimizer.step()\n",
        "\n",
        "# How many training iterations need to be run before doing evaluation -->iters_per_eval\n",
        "# Just a counter value\n",
        "    if iter % ITERS_PER_EVAL == 0:\n",
        "        model.eval()\n",
        "        val_loss, recall, precision, ndcg = evaluation(\n",
        "            model, val_edge_index, val_sparse_edge_index, [train_edge_index], K, LAMBDA)\n",
        "        print(f\"[Iteration {iter}/{ITERATIONS}] train_loss: {round(train_loss.item(), 5)}, val_loss: {round(val_loss, 5)}, val_recall@{K}: {round(recall, 5)}, val_precision@{K}: {round(precision, 5)}, val_ndcg@{K}: {round(ndcg, 5)}\")\n",
        "        train_losses.append(train_loss.item())\n",
        "        val_losses.append(val_loss)\n",
        "        model.train()\n",
        "# after ITERS_PER_LR_DECAY of no of iterations the learning rate is reduced., every iters_per_lr_decay steps.\n",
        "    if iter % ITERS_PER_LR_DECAY == 0 and iter != 0:\n",
        "        scheduler.step()\n",
        "\n",
        "iters = [iter * ITERS_PER_EVAL for iter in range(len(train_losses))]\n",
        "plt.plot(iters, train_losses, label='train')\n",
        "plt.plot(iters, val_losses, label='validation')\n",
        "plt.xlabel('iteration')\n",
        "plt.ylabel('loss')\n",
        "plt.title('training and validation loss curves')\n",
        "plt.legend()\n",
        "plt.show()\n",
        "\n"
      ],
      "metadata": {
        "id": "Yu-N7oljPGu_",
        "colab": {
          "base_uri": "https://localhost:8080/",
          "height": 1000
        },
        "outputId": "1a58dc8d-b957-431a-e8f8-2d24b2d1b822"
      },
      "execution_count": null,
      "outputs": [
        {
          "output_type": "stream",
          "name": "stdout",
          "text": [
            "[Iteration 0/20000] train_loss: -0.69548, val_loss: -0.72307, val_recall@20: 0.03196, val_precision@20: 0.00274, val_ndcg@20: 0.01386\n",
            "[Iteration 200/20000] train_loss: -0.79282, val_loss: -0.8323, val_recall@20: 0.03596, val_precision@20: 0.00342, val_ndcg@20: 0.01816\n",
            "[Iteration 400/20000] train_loss: -1.47072, val_loss: -1.45543, val_recall@20: 0.04737, val_precision@20: 0.00377, val_ndcg@20: 0.0178\n",
            "[Iteration 600/20000] train_loss: -3.18685, val_loss: -2.95781, val_recall@20: 0.03881, val_precision@20: 0.00308, val_ndcg@20: 0.01675\n",
            "[Iteration 800/20000] train_loss: -5.56333, val_loss: -4.84911, val_recall@20: 0.03995, val_precision@20: 0.00274, val_ndcg@20: 0.01581\n",
            "[Iteration 1000/20000] train_loss: -9.01491, val_loss: -7.49096, val_recall@20: 0.03311, val_precision@20: 0.0024, val_ndcg@20: 0.01403\n",
            "[Iteration 1200/20000] train_loss: -12.43876, val_loss: -10.36137, val_recall@20: 0.03995, val_precision@20: 0.00274, val_ndcg@20: 0.01543\n",
            "[Iteration 1400/20000] train_loss: -15.97956, val_loss: -12.89009, val_recall@20: 0.03995, val_precision@20: 0.00274, val_ndcg@20: 0.01529\n",
            "[Iteration 1600/20000] train_loss: -18.48646, val_loss: -15.64707, val_recall@20: 0.03995, val_precision@20: 0.00274, val_ndcg@20: 0.01574\n",
            "[Iteration 1800/20000] train_loss: -24.80182, val_loss: -18.93214, val_recall@20: 0.0468, val_precision@20: 0.00308, val_ndcg@20: 0.0174\n",
            "[Iteration 2000/20000] train_loss: -27.77424, val_loss: -21.88703, val_recall@20: 0.0468, val_precision@20: 0.00308, val_ndcg@20: 0.01742\n",
            "[Iteration 2200/20000] train_loss: -31.55758, val_loss: -24.91867, val_recall@20: 0.05365, val_precision@20: 0.00342, val_ndcg@20: 0.01889\n",
            "[Iteration 2400/20000] train_loss: -35.1992, val_loss: -28.62426, val_recall@20: 0.05365, val_precision@20: 0.00342, val_ndcg@20: 0.01889\n",
            "[Iteration 2600/20000] train_loss: -40.19154, val_loss: -31.13171, val_recall@20: 0.05365, val_precision@20: 0.00342, val_ndcg@20: 0.01875\n",
            "[Iteration 2800/20000] train_loss: -43.75972, val_loss: -36.1063, val_recall@20: 0.05708, val_precision@20: 0.00377, val_ndcg@20: 0.01919\n",
            "[Iteration 3000/20000] train_loss: -44.98373, val_loss: -35.94528, val_recall@20: 0.05708, val_precision@20: 0.00377, val_ndcg@20: 0.01919\n",
            "[Iteration 3200/20000] train_loss: -50.45055, val_loss: -39.48917, val_recall@20: 0.05708, val_precision@20: 0.00377, val_ndcg@20: 0.01922\n",
            "[Iteration 3400/20000] train_loss: -56.87245, val_loss: -44.34646, val_recall@20: 0.05708, val_precision@20: 0.00377, val_ndcg@20: 0.01924\n",
            "[Iteration 3600/20000] train_loss: -59.35813, val_loss: -43.54106, val_recall@20: 0.05708, val_precision@20: 0.00377, val_ndcg@20: 0.01927\n",
            "[Iteration 3800/20000] train_loss: -64.11539, val_loss: -50.04686, val_recall@20: 0.05708, val_precision@20: 0.00377, val_ndcg@20: 0.01925\n",
            "[Iteration 4000/20000] train_loss: -64.27161, val_loss: -50.57865, val_recall@20: 0.05708, val_precision@20: 0.00377, val_ndcg@20: 0.01926\n",
            "[Iteration 4200/20000] train_loss: -73.81464, val_loss: -52.57011, val_recall@20: 0.05708, val_precision@20: 0.00377, val_ndcg@20: 0.01915\n",
            "[Iteration 4400/20000] train_loss: -74.70192, val_loss: -55.72134, val_recall@20: 0.05708, val_precision@20: 0.00377, val_ndcg@20: 0.01908\n",
            "[Iteration 4600/20000] train_loss: -75.07863, val_loss: -59.80536, val_recall@20: 0.06393, val_precision@20: 0.00411, val_ndcg@20: 0.02064\n",
            "[Iteration 4800/20000] train_loss: -80.3698, val_loss: -59.94144, val_recall@20: 0.06393, val_precision@20: 0.00411, val_ndcg@20: 0.02064\n",
            "[Iteration 5000/20000] train_loss: -81.33279, val_loss: -63.09967, val_recall@20: 0.06393, val_precision@20: 0.00411, val_ndcg@20: 0.02067\n",
            "[Iteration 5200/20000] train_loss: -77.44875, val_loss: -65.52402, val_recall@20: 0.06393, val_precision@20: 0.00411, val_ndcg@20: 0.02037\n",
            "[Iteration 5400/20000] train_loss: -95.6909, val_loss: -66.57986, val_recall@20: 0.06393, val_precision@20: 0.00411, val_ndcg@20: 0.02037\n",
            "[Iteration 5600/20000] train_loss: -83.75277, val_loss: -66.29143, val_recall@20: 0.06393, val_precision@20: 0.00411, val_ndcg@20: 0.02037\n",
            "[Iteration 5800/20000] train_loss: -94.27832, val_loss: -70.21259, val_recall@20: 0.06393, val_precision@20: 0.00411, val_ndcg@20: 0.02037\n",
            "[Iteration 6000/20000] train_loss: -102.20303, val_loss: -71.21397, val_recall@20: 0.06393, val_precision@20: 0.00411, val_ndcg@20: 0.02041\n",
            "[Iteration 6200/20000] train_loss: -99.19537, val_loss: -70.32927, val_recall@20: 0.06393, val_precision@20: 0.00411, val_ndcg@20: 0.02071\n",
            "[Iteration 6400/20000] train_loss: -102.09827, val_loss: -75.81074, val_recall@20: 0.06393, val_precision@20: 0.00411, val_ndcg@20: 0.02074\n",
            "[Iteration 6600/20000] train_loss: -97.10306, val_loss: -74.0712, val_recall@20: 0.06393, val_precision@20: 0.00411, val_ndcg@20: 0.02071\n",
            "[Iteration 6800/20000] train_loss: -103.84699, val_loss: -76.26915, val_recall@20: 0.06393, val_precision@20: 0.00411, val_ndcg@20: 0.02074\n",
            "[Iteration 7000/20000] train_loss: -108.02099, val_loss: -77.45387, val_recall@20: 0.06393, val_precision@20: 0.00411, val_ndcg@20: 0.02074\n",
            "[Iteration 7200/20000] train_loss: -107.06765, val_loss: -74.26112, val_recall@20: 0.06393, val_precision@20: 0.00411, val_ndcg@20: 0.02073\n",
            "[Iteration 7400/20000] train_loss: -109.97871, val_loss: -77.56094, val_recall@20: 0.06393, val_precision@20: 0.00411, val_ndcg@20: 0.02073\n",
            "[Iteration 7600/20000] train_loss: -110.06039, val_loss: -85.9474, val_recall@20: 0.06393, val_precision@20: 0.00411, val_ndcg@20: 0.02073\n",
            "[Iteration 7800/20000] train_loss: -112.81412, val_loss: -88.33182, val_recall@20: 0.06393, val_precision@20: 0.00411, val_ndcg@20: 0.02076\n",
            "[Iteration 8000/20000] train_loss: -111.08003, val_loss: -88.69343, val_recall@20: 0.06393, val_precision@20: 0.00411, val_ndcg@20: 0.02076\n",
            "[Iteration 8200/20000] train_loss: -118.52875, val_loss: -91.84557, val_recall@20: 0.06393, val_precision@20: 0.00411, val_ndcg@20: 0.02077\n",
            "[Iteration 8400/20000] train_loss: -118.20567, val_loss: -87.96378, val_recall@20: 0.06393, val_precision@20: 0.00411, val_ndcg@20: 0.02077\n",
            "[Iteration 8600/20000] train_loss: -117.29381, val_loss: -86.83258, val_recall@20: 0.06393, val_precision@20: 0.00411, val_ndcg@20: 0.02077\n",
            "[Iteration 8800/20000] train_loss: -117.75113, val_loss: -97.29037, val_recall@20: 0.06393, val_precision@20: 0.00411, val_ndcg@20: 0.02077\n",
            "[Iteration 9000/20000] train_loss: -113.93521, val_loss: -96.72764, val_recall@20: 0.06393, val_precision@20: 0.00411, val_ndcg@20: 0.02077\n",
            "[Iteration 9200/20000] train_loss: -114.17448, val_loss: -91.01875, val_recall@20: 0.06393, val_precision@20: 0.00411, val_ndcg@20: 0.02079\n",
            "[Iteration 9400/20000] train_loss: -121.03098, val_loss: -90.46823, val_recall@20: 0.06393, val_precision@20: 0.00411, val_ndcg@20: 0.02079\n",
            "[Iteration 9600/20000] train_loss: -133.93068, val_loss: -91.89821, val_recall@20: 0.06393, val_precision@20: 0.00411, val_ndcg@20: 0.02079\n",
            "[Iteration 9800/20000] train_loss: -125.74074, val_loss: -87.01353, val_recall@20: 0.06393, val_precision@20: 0.00411, val_ndcg@20: 0.02079\n",
            "[Iteration 10000/20000] train_loss: -132.7227, val_loss: -94.20181, val_recall@20: 0.06393, val_precision@20: 0.00411, val_ndcg@20: 0.02083\n",
            "[Iteration 10200/20000] train_loss: -117.64599, val_loss: -94.31918, val_recall@20: 0.06393, val_precision@20: 0.00411, val_ndcg@20: 0.02083\n",
            "[Iteration 10400/20000] train_loss: -124.08498, val_loss: -97.88918, val_recall@20: 0.06393, val_precision@20: 0.00411, val_ndcg@20: 0.0209\n",
            "[Iteration 10600/20000] train_loss: -136.84579, val_loss: -97.0475, val_recall@20: 0.06393, val_precision@20: 0.00411, val_ndcg@20: 0.0209\n",
            "[Iteration 10800/20000] train_loss: -132.92331, val_loss: -97.48735, val_recall@20: 0.06393, val_precision@20: 0.00411, val_ndcg@20: 0.0209\n",
            "[Iteration 11000/20000] train_loss: -136.51392, val_loss: -98.09645, val_recall@20: 0.06393, val_precision@20: 0.00411, val_ndcg@20: 0.0209\n",
            "[Iteration 11200/20000] train_loss: -128.88542, val_loss: -97.26978, val_recall@20: 0.06393, val_precision@20: 0.00411, val_ndcg@20: 0.0209\n",
            "[Iteration 11400/20000] train_loss: -141.91933, val_loss: -98.12178, val_recall@20: 0.06393, val_precision@20: 0.00411, val_ndcg@20: 0.02087\n",
            "[Iteration 11600/20000] train_loss: -123.46712, val_loss: -102.20744, val_recall@20: 0.06393, val_precision@20: 0.00411, val_ndcg@20: 0.02087\n",
            "[Iteration 11800/20000] train_loss: -134.64586, val_loss: -105.08398, val_recall@20: 0.06393, val_precision@20: 0.00411, val_ndcg@20: 0.02087\n",
            "[Iteration 12000/20000] train_loss: -131.10233, val_loss: -101.81357, val_recall@20: 0.06393, val_precision@20: 0.00411, val_ndcg@20: 0.02087\n",
            "[Iteration 12200/20000] train_loss: -126.66966, val_loss: -99.06628, val_recall@20: 0.06393, val_precision@20: 0.00411, val_ndcg@20: 0.02087\n",
            "[Iteration 12400/20000] train_loss: -127.21038, val_loss: -99.03182, val_recall@20: 0.06393, val_precision@20: 0.00411, val_ndcg@20: 0.02087\n",
            "[Iteration 12600/20000] train_loss: -128.85666, val_loss: -104.84077, val_recall@20: 0.06393, val_precision@20: 0.00411, val_ndcg@20: 0.02087\n",
            "[Iteration 12800/20000] train_loss: -134.47171, val_loss: -94.24908, val_recall@20: 0.06393, val_precision@20: 0.00411, val_ndcg@20: 0.02087\n",
            "[Iteration 13000/20000] train_loss: -127.46878, val_loss: -100.81183, val_recall@20: 0.06393, val_precision@20: 0.00411, val_ndcg@20: 0.02087\n",
            "[Iteration 13200/20000] train_loss: -137.59485, val_loss: -104.65887, val_recall@20: 0.06393, val_precision@20: 0.00411, val_ndcg@20: 0.02087\n",
            "[Iteration 13400/20000] train_loss: -139.55093, val_loss: -110.47276, val_recall@20: 0.06393, val_precision@20: 0.00411, val_ndcg@20: 0.02087\n",
            "[Iteration 13600/20000] train_loss: -123.10828, val_loss: -106.21074, val_recall@20: 0.06393, val_precision@20: 0.00411, val_ndcg@20: 0.02087\n",
            "[Iteration 13800/20000] train_loss: -129.74454, val_loss: -102.59285, val_recall@20: 0.06393, val_precision@20: 0.00411, val_ndcg@20: 0.02087\n",
            "[Iteration 14000/20000] train_loss: -134.3557, val_loss: -108.14747, val_recall@20: 0.06393, val_precision@20: 0.00411, val_ndcg@20: 0.02089\n",
            "[Iteration 14200/20000] train_loss: -134.20253, val_loss: -107.75359, val_recall@20: 0.06393, val_precision@20: 0.00411, val_ndcg@20: 0.02089\n",
            "[Iteration 14400/20000] train_loss: -135.01985, val_loss: -101.58422, val_recall@20: 0.06393, val_precision@20: 0.00411, val_ndcg@20: 0.02089\n",
            "[Iteration 14600/20000] train_loss: -131.6001, val_loss: -102.92683, val_recall@20: 0.06393, val_precision@20: 0.00411, val_ndcg@20: 0.02089\n",
            "[Iteration 14800/20000] train_loss: -134.74461, val_loss: -104.54601, val_recall@20: 0.06393, val_precision@20: 0.00411, val_ndcg@20: 0.02089\n",
            "[Iteration 15000/20000] train_loss: -141.05449, val_loss: -105.63431, val_recall@20: 0.06393, val_precision@20: 0.00411, val_ndcg@20: 0.02089\n",
            "[Iteration 15200/20000] train_loss: -136.67619, val_loss: -105.92673, val_recall@20: 0.06393, val_precision@20: 0.00411, val_ndcg@20: 0.02089\n",
            "[Iteration 15400/20000] train_loss: -131.20139, val_loss: -105.62042, val_recall@20: 0.06393, val_precision@20: 0.00411, val_ndcg@20: 0.02089\n",
            "[Iteration 15600/20000] train_loss: -142.18617, val_loss: -99.6194, val_recall@20: 0.06393, val_precision@20: 0.00411, val_ndcg@20: 0.02089\n",
            "[Iteration 15800/20000] train_loss: -137.34233, val_loss: -103.8865, val_recall@20: 0.06393, val_precision@20: 0.00411, val_ndcg@20: 0.02089\n",
            "[Iteration 16000/20000] train_loss: -134.53827, val_loss: -108.86211, val_recall@20: 0.06393, val_precision@20: 0.00411, val_ndcg@20: 0.02089\n",
            "[Iteration 16200/20000] train_loss: -145.45396, val_loss: -106.97704, val_recall@20: 0.06393, val_precision@20: 0.00411, val_ndcg@20: 0.02089\n",
            "[Iteration 16400/20000] train_loss: -141.10909, val_loss: -105.67072, val_recall@20: 0.06393, val_precision@20: 0.00411, val_ndcg@20: 0.02089\n",
            "[Iteration 16600/20000] train_loss: -134.98033, val_loss: -105.15025, val_recall@20: 0.06393, val_precision@20: 0.00411, val_ndcg@20: 0.02089\n",
            "[Iteration 16800/20000] train_loss: -140.17902, val_loss: -97.55906, val_recall@20: 0.06393, val_precision@20: 0.00411, val_ndcg@20: 0.02089\n",
            "[Iteration 17000/20000] train_loss: -137.40199, val_loss: -100.25227, val_recall@20: 0.06393, val_precision@20: 0.00411, val_ndcg@20: 0.02089\n",
            "[Iteration 17200/20000] train_loss: -133.45944, val_loss: -108.51633, val_recall@20: 0.06393, val_precision@20: 0.00411, val_ndcg@20: 0.02089\n",
            "[Iteration 17400/20000] train_loss: -144.8878, val_loss: -110.73355, val_recall@20: 0.06393, val_precision@20: 0.00411, val_ndcg@20: 0.02089\n",
            "[Iteration 17600/20000] train_loss: -146.63788, val_loss: -107.61399, val_recall@20: 0.06393, val_precision@20: 0.00411, val_ndcg@20: 0.02089\n",
            "[Iteration 17800/20000] train_loss: -130.61526, val_loss: -107.79604, val_recall@20: 0.06393, val_precision@20: 0.00411, val_ndcg@20: 0.02089\n",
            "[Iteration 18000/20000] train_loss: -136.90329, val_loss: -100.08704, val_recall@20: 0.06393, val_precision@20: 0.00411, val_ndcg@20: 0.02089\n",
            "[Iteration 18200/20000] train_loss: -138.39888, val_loss: -107.19849, val_recall@20: 0.06393, val_precision@20: 0.00411, val_ndcg@20: 0.02089\n",
            "[Iteration 18400/20000] train_loss: -146.28893, val_loss: -102.4893, val_recall@20: 0.06393, val_precision@20: 0.00411, val_ndcg@20: 0.02089\n",
            "[Iteration 18600/20000] train_loss: -143.90254, val_loss: -103.57034, val_recall@20: 0.06393, val_precision@20: 0.00411, val_ndcg@20: 0.02089\n",
            "[Iteration 18800/20000] train_loss: -142.84363, val_loss: -111.65565, val_recall@20: 0.06393, val_precision@20: 0.00411, val_ndcg@20: 0.02089\n",
            "[Iteration 19000/20000] train_loss: -145.80348, val_loss: -107.1494, val_recall@20: 0.06393, val_precision@20: 0.00411, val_ndcg@20: 0.02089\n",
            "[Iteration 19200/20000] train_loss: -143.33542, val_loss: -106.36045, val_recall@20: 0.06393, val_precision@20: 0.00411, val_ndcg@20: 0.02089\n",
            "[Iteration 19400/20000] train_loss: -139.65131, val_loss: -96.52329, val_recall@20: 0.06393, val_precision@20: 0.00411, val_ndcg@20: 0.02089\n",
            "[Iteration 19600/20000] train_loss: -136.05386, val_loss: -111.24574, val_recall@20: 0.06393, val_precision@20: 0.00411, val_ndcg@20: 0.02089\n",
            "[Iteration 19800/20000] train_loss: -144.99889, val_loss: -106.2056, val_recall@20: 0.06393, val_precision@20: 0.00411, val_ndcg@20: 0.02089\n"
          ]
        },
        {
          "output_type": "display_data",
          "data": {
            "text/plain": [
              "<Figure size 432x288 with 1 Axes>"
            ],
            "image/png": "[encoded data removed]"
          },
          "metadata": {
            "needs_background": "light"
          }
        }
      ]
    },
    {
      "cell_type": "code",
      "source": [
        "model.eval()\n"
      ],
      "metadata": {
        "colab": {
          "base_uri": "https://localhost:8080/"
        },
        "id": "DFN0OWVhOdFu",
        "outputId": "c9df70e6-963a-40a4-84c3-6158af3a189c"
      },
      "execution_count": null,
      "outputs": [
        {
          "output_type": "execute_result",
          "data": {
            "text/plain": [
              "LightGCN()"
            ]
          },
          "metadata": {},
          "execution_count": 114
        }
      ]
    },
    {
      "cell_type": "code",
      "source": [
        "user_embedding = model.users_emb.weight\n",
        "item_embedding = model.items_emb.weight"
      ],
      "metadata": {
        "id": "aSZQt7PNPzkk"
      },
      "execution_count": null,
      "outputs": []
    },
    {
      "cell_type": "code",
      "source": [
        "rating = torch.matmul(user_embedding, item_embedding.T)"
      ],
      "metadata": {
        "id": "4LZCYMbDPhlA"
      },
      "execution_count": null,
      "outputs": []
    },
    {
      "cell_type": "code",
      "source": [
        "rating.detach().numpy()"
      ],
      "metadata": {
        "colab": {
          "base_uri": "https://localhost:8080/"
        },
        "id": "t1XIeOc4P5Wx",
        "outputId": "3d158ebe-1e01-434e-be4e-c7fc7a970e4d"
      },
      "execution_count": null,
      "outputs": [
        {
          "output_type": "execute_result",
          "data": {
            "text/plain": [
              "array([[-9.66247360e+08, -7.65189440e+08, -9.66581248e+08, ...,\n",
              "        -1.10752602e+09, -2.64044288e+08,  1.20009907e+09],\n",
              "       [-9.80696512e+08, -7.76631744e+08, -9.81034816e+08, ...,\n",
              "        -1.12408730e+09, -2.67992704e+08,  1.21804442e+09],\n",
              "       [-9.68957696e+08, -7.67336256e+08, -9.69292416e+08, ...,\n",
              "        -1.11063245e+09, -2.64784944e+08,  1.20346496e+09],\n",
              "       ...,\n",
              "       [-1.02448595e+09, -8.11310016e+08, -1.02484019e+09, ...,\n",
              "        -1.17427994e+09, -2.79959232e+08,  1.27243264e+09],\n",
              "       [-9.31388288e+08, -7.37584064e+08, -9.31710208e+08, ...,\n",
              "        -1.06756992e+09, -2.54518976e+08,  1.15680371e+09],\n",
              "       [-1.00109402e+09, -7.92785408e+08, -1.00144006e+09, ...,\n",
              "        -1.14746752e+09, -2.73566912e+08,  1.24337907e+09]], dtype=float32)"
            ]
          },
          "metadata": {},
          "execution_count": 117
        }
      ]
    },
    {
      "cell_type": "code",
      "source": [],
      "metadata": {
        "id": "TkpBZwZ4QSaf"
      },
      "execution_count": null,
      "outputs": []
    },
    {
      "cell_type": "code",
      "source": [
        "K=test_edge_index.shape[1]"
      ],
      "metadata": {
        "id": "9SzwRHTW3RvT"
      },
      "execution_count": null,
      "outputs": []
    },
    {
      "cell_type": "code",
      "source": [
        "# evaluate on test set\n",
        "model.eval()\n",
        "# basically evaluates the model\n",
        "test_edge_index = test_edge_index.to(device)\n",
        "test_sparse_edge_index = test_sparse_edge_index.to(device)\n",
        "\n",
        "test_loss, test_recall, test_precision, test_ndcg = evaluation(\n",
        "            model, test_edge_index, test_sparse_edge_index, [train_edge_index], K, LAMBDA)\n",
        "\n",
        "print(f\"[test_loss: {round(test_loss, 5)}, test_recall@{K}: {round(test_recall, 5)}, test_precision@{K}: {round(test_precision, 5)}, test_ndcg@{K}: {round(test_ndcg, 5)}\")\n",
        "\n",
        "# evaluate on train set\n",
        "# model.eval()\n",
        "train_edge_index = train_edge_index.to(device)\n",
        "train_sparse_edge_index = train_sparse_edge_index.to(device)\n",
        "\n",
        "train_loss, train_recall, train_precision, train_ndcg = evaluation(\n",
        "            model, train_edge_index, train_sparse_edge_index, [test_edge_index, val_edge_index], K, LAMBDA)\n",
        "\n",
        "print(f\"[train_loss: {round(train_loss, 5)}, train_recall@{K}: {round(train_recall, 5)}, train_precision@{K}: {round(train_precision, 5)}, train_ndcg@{K}: {round(train_ndcg, 5)}\")\n",
        "\n",
        "# evaluate on validation set\n",
        "# model.eval()\n",
        "val_edge_index = val_edge_index.to(device)\n",
        "val_sparse_edge_index = val_sparse_edge_index.to(device)\n",
        "\n",
        "val_loss, val_recall, val_precision, val_ndcg = evaluation(\n",
        "            model, val_edge_index, val_sparse_edge_index, [train_edge_index], K, LAMBDA)\n",
        "\n",
        "print(f\"[val_loss: {round(val_loss, 5)}, val_recall@{K}: {round(val_recall, 5)}, val_precision@{K}: {round(val_precision, 5)}, val_ndcg@{K}: {round(val_ndcg, 5)}\")"
      ],
      "metadata": {
        "id": "YgnKol1h1zul",
        "colab": {
          "base_uri": "https://localhost:8080/"
        },
        "outputId": "4336755d-da2a-4fad-8545-2830ebb6810a"
      },
      "execution_count": null,
      "outputs": [
        {
          "output_type": "stream",
          "name": "stdout",
          "text": [
            "[test_loss: -100.72652, test_recall@20: 0.02471, test_precision@20: 0.00172, test_ndcg@20: 0.01243\n",
            "[train_loss: -140.66916, train_recall@20: 0.21182, train_precision@20: 0.13033, train_ndcg@20: 0.20539\n",
            "[val_loss: -104.12764, val_recall@20: 0.06393, val_precision@20: 0.00411, val_ndcg@20: 0.02089\n"
          ]
        }
      ]
    },
    {
      "cell_type": "code",
      "source": [
        "# def evaluation1(model, edge_index, sparse_edge_index, k):\n",
        "#     \"\"\"Evaluates model loss and metrics including recall, precision, ndcg @ k\n",
        "\n",
        "#     Args:\n",
        "#         model (LighGCN): lightgcn model\n",
        "#         edge_index (torch.Tensor): 2 by N list of edges for split to evaluate\n",
        "#         sparse_edge_index (sparseTensor): sparse adjacency matrix for split to evaluate\n",
        "#         exclude_edge_indices ([type]): 2 by N list of edges for split to discount from evaluation\n",
        "#         k (int): determines the top k items to compute metrics on\n",
        "#         lambda_val (float): determines lambda for bpr loss\n",
        "\n",
        "#     Returns:\n",
        "#         tuple: bpr loss, recall @ k, precision @ k, ndcg @ k\n",
        "#     \"\"\"\n",
        "#     # get embeddings\n",
        "#     users_emb_final, users_emb_0, items_emb_final, items_emb_0 = model.forward(\n",
        "#         sparse_edge_index)\n",
        "#     # changed edge_index to sparse_edge_index for edges of negative sampling\n",
        "\n",
        "\n",
        "#     recall, precision, ndcg = get_metrics1(\n",
        "#         model, edge_index, k)\n",
        "\n",
        "#     return recall, precision, ndcg\n",
        "\n",
        "# def get_metrics1(model, edge_index, k):\n",
        "#     \"\"\"Computes the evaluation metrics: recall, precision, and ndcg @ k\n",
        "\n",
        "#     Args:\n",
        "#         model (LighGCN): lightgcn model\n",
        "#         edge_index (torch.Tensor): 2 by N list of edges for split to evaluate\n",
        "#         exclude_edge_indices ([type]): 2 by N list of edges for split to discount from evaluation\n",
        "#         k (int): determines the top k items to compute metrics on\n",
        "\n",
        "#     Returns:\n",
        "#         tuple: recall @ k, precision @ k, ndcg @ k\n",
        "#     \"\"\"\n",
        "#     user_embedding = model.users_emb.weight\n",
        "#     item_embedding = model.items_emb.weight\n",
        "\n",
        "#     # get ratings between every user and item - shape is num users x num movies\n",
        "#     rating = torch.matmul(user_embedding, item_embedding.T)\n",
        "\n",
        "\n",
        "\n",
        "#     # get the top k recommended items for each user\n",
        "#     _, top_K_items = torch.topk(rating, k=k)\n",
        "\n",
        "#     # get all unique users in evaluated split\n",
        "#     users = edge_index[0].unique()\n",
        "\n",
        "#     test_user_pos_items = get_user_positive_items1(edge_index)\n",
        "#     # test_user_pos_items is a list of user with positive items\n",
        "#     # convert test user pos items dictionary into a list\n",
        "#     test_user_pos_items_list = [\n",
        "#         test_user_pos_items[user.item()] for user in users]\n",
        "\n",
        "#     # determine the correctness of topk predictions\n",
        "#     r = []\n",
        "#     for user in users:\n",
        "#         ground_truth_items = test_user_pos_items[user.item()]\n",
        "#         #ground_truth has all the items that are positive for the user in all the users\n",
        "#         label = list(map(lambda x: x in ground_truth_items, top_K_items[user]))\n",
        "#         r.append(label)\n",
        "#     r = torch.Tensor(np.array(r).astype('float'))\n",
        "#     # r has only the users for the top_k items that also present in the positives items for all users.\n",
        "#     recall, precision = RecallPrecision_ATk(test_user_pos_items_list, r, k)\n",
        "#     ndcg = NDCGatK_r(test_user_pos_items_list, r, k)\n",
        "\n",
        "#     return recall, precision, ndcg\n",
        "\n",
        "# def get_user_positive_items1(edge_index):\n",
        "#     \"\"\"Generates dictionary of positive items for each user\n",
        "\n",
        "#     Args:\n",
        "#         edge_index (torch.Tensor): 2 by N list of edges\n",
        "\n",
        "#     Returns:\n",
        "#         dict: dictionary of positive items for each user\n",
        "#     \"\"\"\n",
        "#     # basically returing all the items for that user which are present in the edge index (postive items)\n",
        "#     # if the items are not present in the edge index for that user --> considered negative item\n",
        "#     user_pos_items = {}\n",
        "#     for i in range(edge_index.shape[1]):\n",
        "#         user = edge_index[0][i].item()\n",
        "#         item = edge_index[1][i].item()\n",
        "#         # if user not in user_pos_items:\n",
        "#         user_pos_items[user] = []\n",
        "#         user_pos_items[user].append(item)\n",
        "#         # so user_pos_items is list of the user with the respective positive items\n",
        "#     return user_pos_items\n"
      ],
      "metadata": {
        "id": "sqjySenc3cy0"
      },
      "execution_count": null,
      "outputs": []
    },
    {
      "cell_type": "code",
      "source": [
        "# # evaluate on test set\n",
        "# model.eval()\n",
        "# # basically evaluates the model\n",
        "# test_edge_index = test_edge_index.to(device)\n",
        "# test_sparse_edge_index = test_sparse_edge_index.to(device)\n",
        "\n",
        "# test_recall, test_precision, test_ndcg = evaluation1(\n",
        "#             model, test_edge_index, test_sparse_edge_index,K)\n",
        "# #[train_edge_index, val_edge_index]\n",
        "# print(f\" test_recall@{K}: {round(test_recall, 5)}, test_precision@{K}: {round(test_precision, 5)}, test_ndcg@{K}: {round(test_ndcg, 5)}\")\n",
        "\n",
        "\n",
        "\n"
      ],
      "metadata": {
        "id": "98WRwYMw3ZRN"
      },
      "execution_count": null,
      "outputs": []
    },
    {
      "cell_type": "code",
      "source": [
        "# model.eval()\n",
        "# # basically evaluates the model\n",
        "# test_edge_index = test_edge_index.to(device)\n",
        "# test_sparse_edge_index = test_sparse_edge_index.to(device)\n",
        "\n",
        "# test_recall, test_precision, test_ndcg = evaluation1(\n",
        "#             model, test_edge_index, test_sparse_edge_index,K)\n",
        "# #[train_edge_index, val_edge_index]\n",
        "# print(f\" test_recall@{K}: {round(test_recall, 5)}, test_precision@{K}: {round(test_precision, 5)}, test_ndcg@{K}: {round(test_ndcg, 5)}\")"
      ],
      "metadata": {
        "id": "1YtL7ZdT4IZD"
      },
      "execution_count": null,
      "outputs": []
    },
    {
      "cell_type": "code",
      "source": [
        "# model.eval()\n",
        "# val_edge_index = val_edge_index.to(device)\n",
        "# val_sparse_edge_index = val_sparse_edge_index.to(device)\n",
        "\n",
        "# val_recall, val_precision, val_ndcg = evaluation1(\n",
        "#             model, val_edge_index, val_sparse_edge_index, K)\n",
        "# print(f\" val_recall@{K}: {round(val_recall, 5)}, val_precision@{K}: {round(val_precision, 5)}, val_ndcg@{K}: {round(val_ndcg, 5)}\")\n"
      ],
      "metadata": {
        "id": "OAQwgiJj4SOh"
      },
      "execution_count": null,
      "outputs": []
    },
    {
      "cell_type": "code",
      "source": [
        "\"\"\"# Make New Recommendatios for a Given User\"\"\"\n",
        "\n",
        "model.eval()\n",
        "df = pd.read_csv(place_path)\n",
        "Place_Name = pd.Series(df.Place_Name.values,index=df.Place_Id).to_dict()\n",
        "# business_categories = pd.Series(df.business_categories.values,index=df.business_id).to_dict()\n",
        "\n",
        "user_pos_items = get_user_positive_items(edge_index)\n",
        "\n",
        "def make_predictions(user_id,num_recs):\n",
        "    user = user_mapping[user_id]\n",
        "    e_u = model.users_emb.weight[user]\n",
        "    scores = model.items_emb.weight @ e_u\n",
        "\n",
        "    values, indices = torch.topk(scores, k=len(user_pos_items[user])+num_recs)\n",
        "    print(\"indic\",indices)\n",
        "    print(\"k\",len(user_pos_items[user]))\n",
        "\n",
        "    places = [index.cpu().item() for index in indices if index in user_pos_items[user]][:num_recs]\n",
        "    \n",
        "    print(places)\n",
        "    place_ids = [list(place_mapping.keys())[list(place_mapping.values()).index(place)] for place in places]\n",
        "    print(\"length is\",len(place_ids))\n",
        "    \n",
        "    place_name = [Place_Name[id] for id in place_ids]\n",
        "    print(place_name)\n",
        "    # categories = [business_categories[id] for id in review_ids]\n",
        "\n",
        "    print(f\"Here are some places that user {user_id} rated highly\")\n",
        "    \n",
        "    for i in range(len(places)):\n",
        "        # print(f\"city: {city[i]}, categories: {categories[i]} \")\n",
        "        print(f\"place: {place_name[i]}\")\n",
        "    print()\n",
        "\n",
        "    places = [index.cpu().item() for index in indices if index not in user_pos_items[user]][:num_recs]\n",
        "    place_ids = [list(place_mapping.keys())[list(place_mapping.values()).index(place)] for place in places]\n",
        "    place_name = [Place_Name[id] for id in place_ids]\n",
        "    # categories = [business_categories[id] for id in review_ids]\n",
        "\n",
        "    print(f\"Here are some suggested places for user {user_id}\")\n",
        "    for i in range(num_recs):\n",
        "        # print(f\"title: {city[i]}, genres: {categories[i]} \")\n",
        "        print(f\"place: {place_name[i]}\")\n",
        "USER_ID = 2\n",
        "NUM_RECS = 5\n",
        "\n",
        "make_predictions(USER_ID,NUM_RECS)"
      ],
      "metadata": {
        "id": "iWfBz03HPWwQ"
      },
      "execution_count": null,
      "outputs": []
    },
    {
      "cell_type": "code",
      "source": [],
      "metadata": {
        "id": "9ktT1ZQcL67L"
      },
      "execution_count": null,
      "outputs": []
    }
  ]
}